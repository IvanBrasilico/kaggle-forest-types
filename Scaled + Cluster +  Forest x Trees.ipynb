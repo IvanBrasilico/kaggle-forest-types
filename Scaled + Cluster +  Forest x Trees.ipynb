{
 "cells": [
  {
   "cell_type": "code",
   "execution_count": 1,
   "metadata": {
    "ExecuteTime": {
     "end_time": "2019-09-08T14:37:46.143280Z",
     "start_time": "2019-09-08T14:37:46.140621Z"
    }
   },
   "outputs": [],
   "source": [
    "DATA_DIR = '/kaggle/input/learn-together'\n",
    "DATA_DIR = 'data'"
   ]
  },
  {
   "cell_type": "markdown",
   "metadata": {},
   "source": [
    "# Import libs and data"
   ]
  },
  {
   "cell_type": "code",
   "execution_count": 2,
   "metadata": {
    "ExecuteTime": {
     "end_time": "2019-09-08T14:37:48.261992Z",
     "start_time": "2019-09-08T14:37:47.156732Z"
    }
   },
   "outputs": [],
   "source": [
    "import pandas as pd\n",
    "import numpy as np\n",
    "import os\n",
    "from sklearn.pipeline import Pipeline\n",
    "from sklearn.preprocessing import RobustScaler, StandardScaler\n",
    "from sklearn.ensemble import ExtraTreesClassifier\n",
    "from sklearn.metrics import accuracy_score, classification_report, confusion_matrix\n",
    "from sklearn.ensemble import RandomForestClassifier\n",
    "from sklearn.cluster import MiniBatchKMeans\n",
    "from sklearn.model_selection import train_test_split\n"
   ]
  },
  {
   "cell_type": "code",
   "execution_count": 22,
   "metadata": {
    "ExecuteTime": {
     "end_time": "2019-09-08T14:47:37.195913Z",
     "start_time": "2019-09-08T14:47:33.353763Z"
    }
   },
   "outputs": [],
   "source": [
    "train_df = pd.read_csv(os.path.join(DATA_DIR, 'train.csv'))\n",
    "test_df = pd.read_csv(os.path.join(DATA_DIR, 'test.csv'))\n",
    "\n",
    "train_df = train_df.set_index('Id')\n",
    "X = train_df.drop(['Cover_Type'], axis=1)\n",
    "y = train_df['Cover_Type']\n",
    "\n",
    "X_test = test_df.set_index('Id')\n",
    "y_ids = test_df['Id']"
   ]
  },
  {
   "cell_type": "code",
   "execution_count": 23,
   "metadata": {
    "ExecuteTime": {
     "end_time": "2019-09-08T14:47:37.199988Z",
     "start_time": "2019-09-08T14:47:37.197202Z"
    }
   },
   "outputs": [
    {
     "name": "stdout",
     "output_type": "stream",
     "text": [
      "(15120, 54)\n",
      "(565892, 54)\n"
     ]
    }
   ],
   "source": [
    "print(X.shape)\n",
    "print(X_test.shape)"
   ]
  },
  {
   "cell_type": "code",
   "execution_count": 24,
   "metadata": {
    "ExecuteTime": {
     "end_time": "2019-09-08T14:47:37.233759Z",
     "start_time": "2019-09-08T14:47:37.201924Z"
    }
   },
   "outputs": [],
   "source": [
    "def report(y_true, y_pred):\n",
    "    print('Accuracy: %s' % accuracy_score(y_true, y_pred))\n",
    "    print(classification_report(y_true, y_pred))\n",
    "    print(confusion_matrix(y_true, y_pred))"
   ]
  },
  {
   "cell_type": "markdown",
   "metadata": {},
   "source": [
    "# Apply Scaler and KMeans Cluster"
   ]
  },
  {
   "cell_type": "code",
   "execution_count": 25,
   "metadata": {
    "ExecuteTime": {
     "end_time": "2019-09-08T14:47:42.007259Z",
     "start_time": "2019-09-08T14:47:37.241950Z"
    }
   },
   "outputs": [],
   "source": [
    "X_all = np.vstack([X, X_test])"
   ]
  },
  {
   "cell_type": "code",
   "execution_count": 26,
   "metadata": {
    "ExecuteTime": {
     "end_time": "2019-09-08T14:47:49.722716Z",
     "start_time": "2019-09-08T14:47:42.008594Z"
    }
   },
   "outputs": [],
   "source": [
    "ss = StandardScaler()\n",
    "X_scaled = ss.fit_transform(X_all)"
   ]
  },
  {
   "cell_type": "code",
   "execution_count": 27,
   "metadata": {
    "ExecuteTime": {
     "end_time": "2019-09-08T14:47:51.461742Z",
     "start_time": "2019-09-08T14:47:49.723965Z"
    }
   },
   "outputs": [
    {
     "data": {
      "text/plain": [
       "MiniBatchKMeans(batch_size=100, compute_labels=True, init='k-means++',\n",
       "                init_size=None, max_iter=100, max_no_improvement=10,\n",
       "                n_clusters=7, n_init=3, random_state=None,\n",
       "                reassignment_ratio=0.01, tol=0.0, verbose=0)"
      ]
     },
     "execution_count": 27,
     "metadata": {},
     "output_type": "execute_result"
    }
   ],
   "source": [
    "kms = MiniBatchKMeans(n_clusters=7)\n",
    "kms.fit(X_scaled)"
   ]
  },
  {
   "cell_type": "code",
   "execution_count": 29,
   "metadata": {
    "ExecuteTime": {
     "end_time": "2019-09-08T14:48:06.161975Z",
     "start_time": "2019-09-08T14:48:05.969981Z"
    }
   },
   "outputs": [],
   "source": [
    "X_scaled = np.hstack((X_scaled, np.expand_dims(kms.labels_, axis=1)))\n",
    "X_cluster_labels = np.hstack((X_all, np.expand_dims(kms.labels_, axis=1)))"
   ]
  },
  {
   "cell_type": "code",
   "execution_count": 30,
   "metadata": {
    "ExecuteTime": {
     "end_time": "2019-09-08T14:48:07.682658Z",
     "start_time": "2019-09-08T14:48:07.671229Z"
    }
   },
   "outputs": [
    {
     "name": "stdout",
     "output_type": "stream",
     "text": [
      "(15120, 55)\n",
      "(565892, 55)\n"
     ]
    }
   ],
   "source": [
    "X_cluster = X_cluster_labels[:15120]\n",
    "X_cluster_test = X_cluster_labels[15120:]\n",
    "X_cluster_scaled = X_scaled[:15120]\n",
    "X_cluster_test_scaled = X_scaled[15120:]\n",
    "\n",
    "print(X_cluster.shape)\n",
    "print(X_cluster_test.shape)"
   ]
  },
  {
   "cell_type": "markdown",
   "metadata": {
    "ExecuteTime": {
     "end_time": "2019-09-08T13:27:39.568421Z",
     "start_time": "2019-09-08T13:27:39.553561Z"
    }
   },
   "source": [
    "# Simple trees test"
   ]
  },
  {
   "cell_type": "markdown",
   "metadata": {},
   "source": [
    "## Original data"
   ]
  },
  {
   "cell_type": "code",
   "execution_count": 32,
   "metadata": {
    "ExecuteTime": {
     "end_time": "2019-09-08T14:48:19.634170Z",
     "start_time": "2019-09-08T14:48:12.592130Z"
    }
   },
   "outputs": [
    {
     "data": {
      "text/plain": [
       "0.8755952380952381"
      ]
     },
     "execution_count": 32,
     "metadata": {},
     "output_type": "execute_result"
    }
   ],
   "source": [
    "rf = RandomForestClassifier(n_estimators=640\n",
    "                            ,n_jobs = -1,max_features=0.5,oob_score=True)\n",
    "rf.fit(X, y)\n",
    "rf.oob_score_"
   ]
  },
  {
   "cell_type": "code",
   "execution_count": 33,
   "metadata": {
    "ExecuteTime": {
     "end_time": "2019-09-08T14:48:22.976306Z",
     "start_time": "2019-09-08T14:48:19.635657Z"
    }
   },
   "outputs": [
    {
     "data": {
      "text/plain": [
       "0.8770502645502646"
      ]
     },
     "execution_count": 33,
     "metadata": {},
     "output_type": "execute_result"
    }
   ],
   "source": [
    "xrf = ExtraTreesClassifier(n_estimators=640,n_jobs=-1,max_features=0.5,oob_score=True,bootstrap = True)\n",
    "xrf.fit(X, y)\n",
    "xrf.oob_score_"
   ]
  },
  {
   "cell_type": "markdown",
   "metadata": {},
   "source": [
    "## With cluster label"
   ]
  },
  {
   "cell_type": "code",
   "execution_count": 35,
   "metadata": {
    "ExecuteTime": {
     "end_time": "2019-09-08T14:48:30.063704Z",
     "start_time": "2019-09-08T14:48:22.993204Z"
    }
   },
   "outputs": [
    {
     "data": {
      "text/plain": [
       "0.8739417989417989"
      ]
     },
     "execution_count": 35,
     "metadata": {},
     "output_type": "execute_result"
    }
   ],
   "source": [
    "rfc = RandomForestClassifier(n_estimators=640\n",
    "                            ,n_jobs = -1,max_features=0.5,oob_score=True)\n",
    "rfc.fit(X_cluster, y)\n",
    "rfc.oob_score_"
   ]
  },
  {
   "cell_type": "code",
   "execution_count": 40,
   "metadata": {
    "ExecuteTime": {
     "end_time": "2019-09-08T14:50:54.375629Z",
     "start_time": "2019-09-08T14:50:51.049284Z"
    }
   },
   "outputs": [
    {
     "data": {
      "text/plain": [
       "0.8788359788359789"
      ]
     },
     "execution_count": 40,
     "metadata": {},
     "output_type": "execute_result"
    }
   ],
   "source": [
    "xrfc = ExtraTreesClassifier(n_estimators=640,n_jobs=-1,max_features=0.5,oob_score=True,bootstrap = True)\n",
    "xrfc.fit(X_cluster, y)\n",
    "xrfc.oob_score_"
   ]
  },
  {
   "cell_type": "markdown",
   "metadata": {},
   "source": [
    "## Scaled with cluster label"
   ]
  },
  {
   "cell_type": "code",
   "execution_count": 38,
   "metadata": {
    "ExecuteTime": {
     "end_time": "2019-09-08T14:49:31.702609Z",
     "start_time": "2019-09-08T14:49:24.512722Z"
    }
   },
   "outputs": [
    {
     "data": {
      "text/plain": [
       "0.874537037037037"
      ]
     },
     "execution_count": 38,
     "metadata": {},
     "output_type": "execute_result"
    }
   ],
   "source": [
    "rfs = RandomForestClassifier(n_estimators=640\n",
    "                            ,n_jobs = -1,max_features=0.5,oob_score=True)\n",
    "rfs.fit(X_cluster_scaled, y)\n",
    "rfs.oob_score_"
   ]
  },
  {
   "cell_type": "code",
   "execution_count": 39,
   "metadata": {
    "ExecuteTime": {
     "end_time": "2019-09-08T14:49:35.310261Z",
     "start_time": "2019-09-08T14:49:31.704480Z"
    }
   },
   "outputs": [
    {
     "data": {
      "text/plain": [
       "0.8780423280423281"
      ]
     },
     "execution_count": 39,
     "metadata": {},
     "output_type": "execute_result"
    }
   ],
   "source": [
    "xrfs = ExtraTreesClassifier(n_estimators=640,n_jobs=-1,max_features=0.5,oob_score=True,bootstrap = True)\n",
    "xrfs.fit(X_cluster_scaled, y)\n",
    "xrfs.oob_score_"
   ]
  },
  {
   "cell_type": "markdown",
   "metadata": {},
   "source": [
    "# Final evaluation and submission"
   ]
  },
  {
   "cell_type": "code",
   "execution_count": 42,
   "metadata": {
    "ExecuteTime": {
     "end_time": "2019-09-08T14:52:17.869196Z",
     "start_time": "2019-09-08T14:52:17.165950Z"
    }
   },
   "outputs": [
    {
     "name": "stdout",
     "output_type": "stream",
     "text": [
      "Accuracy: 1.0\n",
      "              precision    recall  f1-score   support\n",
      "\n",
      "           1       1.00      1.00      1.00      2160\n",
      "           2       1.00      1.00      1.00      2160\n",
      "           3       1.00      1.00      1.00      2160\n",
      "           4       1.00      1.00      1.00      2160\n",
      "           5       1.00      1.00      1.00      2160\n",
      "           6       1.00      1.00      1.00      2160\n",
      "           7       1.00      1.00      1.00      2160\n",
      "\n",
      "    accuracy                           1.00     15120\n",
      "   macro avg       1.00      1.00      1.00     15120\n",
      "weighted avg       1.00      1.00      1.00     15120\n",
      "\n",
      "[[2160    0    0    0    0    0    0]\n",
      " [   0 2160    0    0    0    0    0]\n",
      " [   0    0 2160    0    0    0    0]\n",
      " [   0    0    0 2160    0    0    0]\n",
      " [   0    0    0    0 2160    0    0]\n",
      " [   0    0    0    0    0 2160    0]\n",
      " [   0    0    0    0    0    0 2160]]\n"
     ]
    }
   ],
   "source": [
    "y_pred = xrfc.predict(X_cluster)\n",
    "report(y, y_pred)"
   ]
  },
  {
   "cell_type": "markdown",
   "metadata": {
    "ExecuteTime": {
     "end_time": "2019-09-05T20:54:39.241982Z",
     "start_time": "2019-09-05T20:54:39.229851Z"
    }
   },
   "source": [
    "# Run on test"
   ]
  },
  {
   "cell_type": "code",
   "execution_count": 43,
   "metadata": {
    "ExecuteTime": {
     "end_time": "2019-09-08T14:54:55.689754Z",
     "start_time": "2019-09-08T14:52:57.113988Z"
    }
   },
   "outputs": [],
   "source": [
    "test_pred = xrfc.predict(X_cluster_test)"
   ]
  },
  {
   "cell_type": "code",
   "execution_count": 44,
   "metadata": {
    "ExecuteTime": {
     "end_time": "2019-09-08T14:54:58.028738Z",
     "start_time": "2019-09-08T14:54:55.719821Z"
    }
   },
   "outputs": [],
   "source": [
    "# Save test predictions to file\n",
    "output = pd.DataFrame({'ID': test_df['Id'],\n",
    "                       'Cover_Type': test_pred})\n",
    "output.to_csv('submission.csv', index=False)"
   ]
  },
  {
   "cell_type": "code",
   "execution_count": null,
   "metadata": {},
   "outputs": [],
   "source": []
  }
 ],
 "metadata": {
  "kernelspec": {
   "display_name": "forestypes-venv",
   "language": "python",
   "name": "forestypes-venv"
  },
  "language_info": {
   "codemirror_mode": {
    "name": "ipython",
    "version": 3
   },
   "file_extension": ".py",
   "mimetype": "text/x-python",
   "name": "python",
   "nbconvert_exporter": "python",
   "pygments_lexer": "ipython3",
   "version": "3.5.2"
  }
 },
 "nbformat": 4,
 "nbformat_minor": 2
}
