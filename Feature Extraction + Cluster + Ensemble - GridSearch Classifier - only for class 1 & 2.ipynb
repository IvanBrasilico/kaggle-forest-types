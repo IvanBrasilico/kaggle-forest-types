{
 "cells": [
  {
   "cell_type": "markdown",
   "metadata": {},
   "source": [
    "## Import Packages"
   ]
  },
  {
   "cell_type": "code",
   "execution_count": 14,
   "metadata": {
    "ExecuteTime": {
     "end_time": "2019-09-12T12:13:04.376856Z",
     "start_time": "2019-09-12T12:13:04.374797Z"
    }
   },
   "outputs": [],
   "source": [
    "DATA_DIR = '/kaggle/input/learn-together'\n",
    "DATA_DIR = 'data'"
   ]
  },
  {
   "cell_type": "code",
   "execution_count": 15,
   "metadata": {
    "ExecuteTime": {
     "end_time": "2019-09-12T12:13:04.800973Z",
     "start_time": "2019-09-12T12:13:04.782275Z"
    },
    "_cell_guid": "b1076dfc-b9ad-4769-8c92-a6c4dae69d19",
    "_uuid": "8f2839f25d086af736a60e9eeb907d3b93b6e0e5"
   },
   "outputs": [
    {
     "name": "stdout",
     "output_type": "stream",
     "text": [
      "data/train.csv\n",
      "data/test.csv\n",
      "data/sample_submission.csv\n",
      "data/sample_submission.csv.zip\n",
      "data/input\n",
      "data/test.csv.zip\n",
      "data/train.csv.zip\n"
     ]
    }
   ],
   "source": [
    "import numpy as np # linear algebra\n",
    "import pandas as pd # data processing, CSV file I/O (e.g. pd.read_csv)\n",
    "import matplotlib.pyplot as plt\n",
    "import os\n",
    "import seaborn as sns\n",
    "%matplotlib inline\n",
    "\n",
    "from sklearn.model_selection import train_test_split\n",
    "from sklearn.ensemble import ExtraTreesClassifier, RandomForestClassifier\n",
    "from sklearn.pipeline import Pipeline\n",
    "from sklearn.preprocessing import StandardScaler\n",
    "from sklearn.neighbors import KNeighborsClassifier\n",
    "from sklearn.decomposition import PCA\n",
    "from sklearn.metrics import accuracy_score, classification_report, confusion_matrix\n",
    "\n",
    "from sklearn.mixture import GaussianMixture\n",
    "from sklearn.cluster import KMeans\n",
    "from sklearn.metrics import completeness_score, calinski_harabasz_score, silhouette_score\n",
    "\n",
    "\n",
    "\n",
    "import warnings\n",
    "warnings.filterwarnings('ignore')\n",
    "\n",
    "import os\n",
    "for dirname, _, filenames in os.walk(DATA_DIR):\n",
    "    for filename in filenames:\n",
    "        print(os.path.join(dirname, filename))"
   ]
  },
  {
   "cell_type": "markdown",
   "metadata": {},
   "source": [
    "## Load Dataset"
   ]
  },
  {
   "cell_type": "code",
   "execution_count": 16,
   "metadata": {
    "ExecuteTime": {
     "end_time": "2019-09-12T12:13:06.795338Z",
     "start_time": "2019-09-12T12:13:05.624500Z"
    },
    "_cell_guid": "79c7e3d0-c299-4dcb-8224-4455121ee9b0",
    "_uuid": "d629ff2d2480ee46fbb7e2d37f6b5fab8052498a"
   },
   "outputs": [],
   "source": [
    "train_df=pd.read_csv(os.path.join(DATA_DIR, 'train.csv'))\n",
    "\n",
    "test_df=pd.read_csv(os.path.join(DATA_DIR, 'test.csv'))"
   ]
  },
  {
   "cell_type": "markdown",
   "metadata": {},
   "source": [
    "## Delete Ids\n",
    "**Let's delete the Id column in the training set but store it for the test set before deleting**"
   ]
  },
  {
   "cell_type": "code",
   "execution_count": 17,
   "metadata": {
    "ExecuteTime": {
     "end_time": "2019-09-12T12:13:06.874978Z",
     "start_time": "2019-09-12T12:13:06.796601Z"
    }
   },
   "outputs": [],
   "source": [
    "train_df = train_df.drop([\"Id\"], axis = 1)\n",
    "\n",
    "test_ids = test_df[\"Id\"]\n",
    "test_df = test_df.drop([\"Id\"], axis = 1)"
   ]
  },
  {
   "cell_type": "code",
   "execution_count": 18,
   "metadata": {
    "ExecuteTime": {
     "end_time": "2019-09-12T12:13:07.996944Z",
     "start_time": "2019-09-12T12:13:06.877288Z"
    }
   },
   "outputs": [],
   "source": [
    "y = train_df['Cover_Type']\n",
    "X = train_df.drop(['Cover_Type'], axis=1)"
   ]
  },
  {
   "cell_type": "markdown",
   "metadata": {},
   "source": [
    "# Feature engineering"
   ]
  },
  {
   "cell_type": "code",
   "execution_count": 19,
   "metadata": {
    "ExecuteTime": {
     "end_time": "2019-09-12T12:13:08.147117Z",
     "start_time": "2019-09-12T12:13:07.998312Z"
    }
   },
   "outputs": [
    {
     "data": {
      "text/plain": [
       "Index(['Elevation', 'Aspect', 'Slope', 'Horizontal_Distance_To_Hydrology',\n",
       "       'Vertical_Distance_To_Hydrology', 'Horizontal_Distance_To_Roadways',\n",
       "       'Hillshade_9am', 'Hillshade_Noon', 'Hillshade_3pm',\n",
       "       'Horizontal_Distance_To_Fire_Points', 'Wilderness_Area1',\n",
       "       'Wilderness_Area2', 'Wilderness_Area3', 'Wilderness_Area4',\n",
       "       'Soil_Type1', 'Soil_Type2', 'Soil_Type3', 'Soil_Type4', 'Soil_Type5',\n",
       "       'Soil_Type6', 'Soil_Type7', 'Soil_Type8', 'Soil_Type9', 'Soil_Type10',\n",
       "       'Soil_Type11', 'Soil_Type12', 'Soil_Type13', 'Soil_Type14',\n",
       "       'Soil_Type15', 'Soil_Type16', 'Soil_Type17', 'Soil_Type18',\n",
       "       'Soil_Type19', 'Soil_Type20', 'Soil_Type21', 'Soil_Type22',\n",
       "       'Soil_Type23', 'Soil_Type24', 'Soil_Type25', 'Soil_Type26',\n",
       "       'Soil_Type27', 'Soil_Type28', 'Soil_Type29', 'Soil_Type30',\n",
       "       'Soil_Type31', 'Soil_Type32', 'Soil_Type33', 'Soil_Type34',\n",
       "       'Soil_Type35', 'Soil_Type36', 'Soil_Type37', 'Soil_Type38',\n",
       "       'Soil_Type39', 'Soil_Type40', 'Cover_Type'],\n",
       "      dtype='object')"
      ]
     },
     "execution_count": 19,
     "metadata": {},
     "output_type": "execute_result"
    }
   ],
   "source": [
    "train_df.columns"
   ]
  },
  {
   "cell_type": "code",
   "execution_count": 20,
   "metadata": {
    "ExecuteTime": {
     "end_time": "2019-09-12T12:13:08.402663Z",
     "start_time": "2019-09-12T12:13:08.152450Z"
    }
   },
   "outputs": [
    {
     "data": {
      "text/html": [
       "<div>\n",
       "<style scoped>\n",
       "    .dataframe tbody tr th:only-of-type {\n",
       "        vertical-align: middle;\n",
       "    }\n",
       "\n",
       "    .dataframe tbody tr th {\n",
       "        vertical-align: top;\n",
       "    }\n",
       "\n",
       "    .dataframe thead th {\n",
       "        text-align: right;\n",
       "    }\n",
       "</style>\n",
       "<table border=\"1\" class=\"dataframe\">\n",
       "  <thead>\n",
       "    <tr style=\"text-align: right;\">\n",
       "      <th></th>\n",
       "      <th>Wilderness_Area1</th>\n",
       "      <th>Wilderness_Area2</th>\n",
       "      <th>Wilderness_Area3</th>\n",
       "      <th>Wilderness_Area4</th>\n",
       "    </tr>\n",
       "  </thead>\n",
       "  <tbody>\n",
       "    <tr>\n",
       "      <th>count</th>\n",
       "      <td>15120.000000</td>\n",
       "      <td>15120.000000</td>\n",
       "      <td>15120.000000</td>\n",
       "      <td>15120.000000</td>\n",
       "    </tr>\n",
       "    <tr>\n",
       "      <th>mean</th>\n",
       "      <td>0.237897</td>\n",
       "      <td>0.033003</td>\n",
       "      <td>0.419907</td>\n",
       "      <td>0.309193</td>\n",
       "    </tr>\n",
       "    <tr>\n",
       "      <th>std</th>\n",
       "      <td>0.425810</td>\n",
       "      <td>0.178649</td>\n",
       "      <td>0.493560</td>\n",
       "      <td>0.462176</td>\n",
       "    </tr>\n",
       "    <tr>\n",
       "      <th>min</th>\n",
       "      <td>0.000000</td>\n",
       "      <td>0.000000</td>\n",
       "      <td>0.000000</td>\n",
       "      <td>0.000000</td>\n",
       "    </tr>\n",
       "    <tr>\n",
       "      <th>25%</th>\n",
       "      <td>0.000000</td>\n",
       "      <td>0.000000</td>\n",
       "      <td>0.000000</td>\n",
       "      <td>0.000000</td>\n",
       "    </tr>\n",
       "    <tr>\n",
       "      <th>50%</th>\n",
       "      <td>0.000000</td>\n",
       "      <td>0.000000</td>\n",
       "      <td>0.000000</td>\n",
       "      <td>0.000000</td>\n",
       "    </tr>\n",
       "    <tr>\n",
       "      <th>75%</th>\n",
       "      <td>0.000000</td>\n",
       "      <td>0.000000</td>\n",
       "      <td>1.000000</td>\n",
       "      <td>1.000000</td>\n",
       "    </tr>\n",
       "    <tr>\n",
       "      <th>max</th>\n",
       "      <td>1.000000</td>\n",
       "      <td>1.000000</td>\n",
       "      <td>1.000000</td>\n",
       "      <td>1.000000</td>\n",
       "    </tr>\n",
       "  </tbody>\n",
       "</table>\n",
       "</div>"
      ],
      "text/plain": [
       "       Wilderness_Area1  Wilderness_Area2  Wilderness_Area3  Wilderness_Area4\n",
       "count      15120.000000      15120.000000      15120.000000      15120.000000\n",
       "mean           0.237897          0.033003          0.419907          0.309193\n",
       "std            0.425810          0.178649          0.493560          0.462176\n",
       "min            0.000000          0.000000          0.000000          0.000000\n",
       "25%            0.000000          0.000000          0.000000          0.000000\n",
       "50%            0.000000          0.000000          0.000000          0.000000\n",
       "75%            0.000000          0.000000          1.000000          1.000000\n",
       "max            1.000000          1.000000          1.000000          1.000000"
      ]
     },
     "execution_count": 20,
     "metadata": {},
     "output_type": "execute_result"
    }
   ],
   "source": [
    "X[['Wilderness_Area1', 'Wilderness_Area2', 'Wilderness_Area3', 'Wilderness_Area4']].describe()"
   ]
  },
  {
   "cell_type": "code",
   "execution_count": 21,
   "metadata": {
    "ExecuteTime": {
     "end_time": "2019-09-12T12:13:08.866949Z",
     "start_time": "2019-09-12T12:13:08.404443Z"
    }
   },
   "outputs": [
    {
     "data": {
      "text/html": [
       "<div>\n",
       "<style scoped>\n",
       "    .dataframe tbody tr th:only-of-type {\n",
       "        vertical-align: middle;\n",
       "    }\n",
       "\n",
       "    .dataframe tbody tr th {\n",
       "        vertical-align: top;\n",
       "    }\n",
       "\n",
       "    .dataframe thead th {\n",
       "        text-align: right;\n",
       "    }\n",
       "</style>\n",
       "<table border=\"1\" class=\"dataframe\">\n",
       "  <thead>\n",
       "    <tr style=\"text-align: right;\">\n",
       "      <th></th>\n",
       "      <th>Wilderness_Area1</th>\n",
       "      <th>Wilderness_Area2</th>\n",
       "      <th>Wilderness_Area3</th>\n",
       "      <th>Wilderness_Area4</th>\n",
       "    </tr>\n",
       "  </thead>\n",
       "  <tbody>\n",
       "    <tr>\n",
       "      <th>count</th>\n",
       "      <td>565892.000000</td>\n",
       "      <td>565892.000000</td>\n",
       "      <td>565892.000000</td>\n",
       "      <td>565892.000000</td>\n",
       "    </tr>\n",
       "    <tr>\n",
       "      <th>mean</th>\n",
       "      <td>0.454502</td>\n",
       "      <td>0.051927</td>\n",
       "      <td>0.436506</td>\n",
       "      <td>0.057066</td>\n",
       "    </tr>\n",
       "    <tr>\n",
       "      <th>std</th>\n",
       "      <td>0.497926</td>\n",
       "      <td>0.221880</td>\n",
       "      <td>0.495953</td>\n",
       "      <td>0.231968</td>\n",
       "    </tr>\n",
       "    <tr>\n",
       "      <th>min</th>\n",
       "      <td>0.000000</td>\n",
       "      <td>0.000000</td>\n",
       "      <td>0.000000</td>\n",
       "      <td>0.000000</td>\n",
       "    </tr>\n",
       "    <tr>\n",
       "      <th>25%</th>\n",
       "      <td>0.000000</td>\n",
       "      <td>0.000000</td>\n",
       "      <td>0.000000</td>\n",
       "      <td>0.000000</td>\n",
       "    </tr>\n",
       "    <tr>\n",
       "      <th>50%</th>\n",
       "      <td>0.000000</td>\n",
       "      <td>0.000000</td>\n",
       "      <td>0.000000</td>\n",
       "      <td>0.000000</td>\n",
       "    </tr>\n",
       "    <tr>\n",
       "      <th>75%</th>\n",
       "      <td>1.000000</td>\n",
       "      <td>0.000000</td>\n",
       "      <td>1.000000</td>\n",
       "      <td>0.000000</td>\n",
       "    </tr>\n",
       "    <tr>\n",
       "      <th>max</th>\n",
       "      <td>1.000000</td>\n",
       "      <td>1.000000</td>\n",
       "      <td>1.000000</td>\n",
       "      <td>1.000000</td>\n",
       "    </tr>\n",
       "  </tbody>\n",
       "</table>\n",
       "</div>"
      ],
      "text/plain": [
       "       Wilderness_Area1  Wilderness_Area2  Wilderness_Area3  Wilderness_Area4\n",
       "count     565892.000000     565892.000000     565892.000000     565892.000000\n",
       "mean           0.454502          0.051927          0.436506          0.057066\n",
       "std            0.497926          0.221880          0.495953          0.231968\n",
       "min            0.000000          0.000000          0.000000          0.000000\n",
       "25%            0.000000          0.000000          0.000000          0.000000\n",
       "50%            0.000000          0.000000          0.000000          0.000000\n",
       "75%            1.000000          0.000000          1.000000          0.000000\n",
       "max            1.000000          1.000000          1.000000          1.000000"
      ]
     },
     "execution_count": 21,
     "metadata": {},
     "output_type": "execute_result"
    }
   ],
   "source": [
    "test_df[['Wilderness_Area1', 'Wilderness_Area2', 'Wilderness_Area3', 'Wilderness_Area4']].describe()"
   ]
  },
  {
   "cell_type": "code",
   "execution_count": 22,
   "metadata": {
    "ExecuteTime": {
     "end_time": "2019-09-12T12:13:09.084691Z",
     "start_time": "2019-09-12T12:13:08.869018Z"
    }
   },
   "outputs": [],
   "source": [
    "\n",
    "def new_features(df):\n",
    "    df = df.copy()\n",
    "    df['Hydro_Elevation_diff'] = df[['Elevation',\n",
    "                                   'Vertical_Distance_To_Hydrology']\n",
    "                                  ].diff(axis='columns').iloc[:, [1]]\n",
    "\n",
    "    df['Hydro_Euclidean'] = np.sqrt(df['Horizontal_Distance_To_Hydrology']**2 +\n",
    "                                   df['Vertical_Distance_To_Hydrology']**2)\n",
    "\n",
    "    df['Hydro_Fire_sum'] = df[['Horizontal_Distance_To_Hydrology',\n",
    "                             'Horizontal_Distance_To_Fire_Points']\n",
    "                            ].sum(axis='columns')\n",
    "\n",
    "    df['Hydro_Fire_diff'] = df[['Horizontal_Distance_To_Hydrology',\n",
    "                              'Horizontal_Distance_To_Fire_Points']\n",
    "                             ].diff(axis='columns').iloc[:, [1]].abs()\n",
    "\n",
    "    df['Hydro_Road_sum'] = df[['Horizontal_Distance_To_Hydrology',\n",
    "                             'Horizontal_Distance_To_Roadways']\n",
    "                            ].sum(axis='columns')\n",
    "\n",
    "    df['Hydro_Road_diff'] = df[['Horizontal_Distance_To_Hydrology',\n",
    "                              'Horizontal_Distance_To_Roadways']\n",
    "                             ].diff(axis='columns').iloc[:, [1]].abs()\n",
    "\n",
    "    df['Road_Fire_sum'] = df[['Horizontal_Distance_To_Roadways',\n",
    "                            'Horizontal_Distance_To_Fire_Points']\n",
    "                           ].sum(axis='columns')\n",
    "\n",
    "    df['Road_Fire_diff'] = df[['Horizontal_Distance_To_Roadways',\n",
    "                             'Horizontal_Distance_To_Fire_Points']\n",
    "                            ].diff(axis='columns').iloc[:, [1]].abs()\n",
    "    df['Stoneyness'] = sum(i * df['Soil_Type{}'.format(i)] for i in range(1, 41))\n",
    "\n",
    "    # For all 40 Soil_Types, 1=rubbly, 2=stony, 3=very stony, 4=extremely stony, 0=?\n",
    "    stoneyness = [4, 3, 1, 1, 1, 2, 0, 0, 3, 1, \n",
    "                  1, 2, 1, 0, 0, 0, 0, 3, 0, 0, \n",
    "                  0, 4, 0, 4, 4, 3, 4, 4, 4, 4, \n",
    "                  4, 4, 4, 4, 1, 4, 4, 4, 4, 4]\n",
    "\n",
    "    # Replace Soil_Type number with \"stoneyness\" value\n",
    "    df['Stoneyness'] = df['Stoneyness'].replace(range(1, 41), stoneyness)\n",
    "    return df\n",
    "    \n",
    "def drop_features(df):\n",
    "    df = df.copy()\n",
    "    columns_to_drop = []\n",
    "    size = len(df)\n",
    "    for column in df.columns:\n",
    "        frequency = df[column].sum() / size\n",
    "        if 'Soil' in column and frequency < 0.04:\n",
    "            columns_to_drop.append(column)\n",
    "        columns_to_drop.append('Wilderness_Area4')  # Frequency between test and train too diferent\n",
    "    df = df.drop(columns_to_drop, axis='columns')\n",
    "    return df\n",
    "    "
   ]
  },
  {
   "cell_type": "code",
   "execution_count": 23,
   "metadata": {
    "ExecuteTime": {
     "end_time": "2019-09-12T12:13:10.477170Z",
     "start_time": "2019-09-12T12:13:09.588447Z"
    }
   },
   "outputs": [],
   "source": [
    "X = new_features(X)\n",
    "X = drop_features(X)\n",
    "X_test = new_features(test_df)\n",
    "X_test = X_test[X.columns]"
   ]
  },
  {
   "cell_type": "code",
   "execution_count": 24,
   "metadata": {
    "ExecuteTime": {
     "end_time": "2019-09-12T12:13:11.731974Z",
     "start_time": "2019-09-12T12:13:11.721345Z"
    }
   },
   "outputs": [
    {
     "data": {
      "text/plain": [
       "Index(['Elevation', 'Aspect', 'Slope', 'Horizontal_Distance_To_Hydrology',\n",
       "       'Vertical_Distance_To_Hydrology', 'Horizontal_Distance_To_Roadways',\n",
       "       'Hillshade_9am', 'Hillshade_Noon', 'Hillshade_3pm',\n",
       "       'Horizontal_Distance_To_Fire_Points', 'Wilderness_Area1',\n",
       "       'Wilderness_Area2', 'Wilderness_Area3', 'Soil_Type2', 'Soil_Type3',\n",
       "       'Soil_Type4', 'Soil_Type6', 'Soil_Type10', 'Soil_Type17', 'Soil_Type23',\n",
       "       'Soil_Type29', 'Soil_Type30', 'Soil_Type32', 'Soil_Type33',\n",
       "       'Soil_Type38', 'Soil_Type39', 'Hydro_Elevation_diff', 'Hydro_Euclidean',\n",
       "       'Hydro_Fire_sum', 'Hydro_Fire_diff', 'Hydro_Road_sum',\n",
       "       'Hydro_Road_diff', 'Road_Fire_sum', 'Road_Fire_diff', 'Stoneyness'],\n",
       "      dtype='object')"
      ]
     },
     "execution_count": 24,
     "metadata": {},
     "output_type": "execute_result"
    }
   ],
   "source": [
    "X.columns"
   ]
  },
  {
   "cell_type": "code",
   "execution_count": 25,
   "metadata": {
    "ExecuteTime": {
     "end_time": "2019-09-12T12:13:13.307971Z",
     "start_time": "2019-09-12T12:13:13.267228Z"
    }
   },
   "outputs": [
    {
     "data": {
      "text/html": [
       "<div>\n",
       "<style scoped>\n",
       "    .dataframe tbody tr th:only-of-type {\n",
       "        vertical-align: middle;\n",
       "    }\n",
       "\n",
       "    .dataframe tbody tr th {\n",
       "        vertical-align: top;\n",
       "    }\n",
       "\n",
       "    .dataframe thead th {\n",
       "        text-align: right;\n",
       "    }\n",
       "</style>\n",
       "<table border=\"1\" class=\"dataframe\">\n",
       "  <thead>\n",
       "    <tr style=\"text-align: right;\">\n",
       "      <th></th>\n",
       "      <th>Elevation</th>\n",
       "      <th>Aspect</th>\n",
       "      <th>Slope</th>\n",
       "      <th>Horizontal_Distance_To_Hydrology</th>\n",
       "      <th>Vertical_Distance_To_Hydrology</th>\n",
       "      <th>Horizontal_Distance_To_Roadways</th>\n",
       "      <th>Hillshade_9am</th>\n",
       "      <th>Hillshade_Noon</th>\n",
       "      <th>Hillshade_3pm</th>\n",
       "      <th>Horizontal_Distance_To_Fire_Points</th>\n",
       "    </tr>\n",
       "  </thead>\n",
       "  <tbody>\n",
       "    <tr>\n",
       "      <th>count</th>\n",
       "      <td>15120.000000</td>\n",
       "      <td>15120.000000</td>\n",
       "      <td>15120.000000</td>\n",
       "      <td>15120.000000</td>\n",
       "      <td>15120.000000</td>\n",
       "      <td>15120.000000</td>\n",
       "      <td>15120.000000</td>\n",
       "      <td>15120.000000</td>\n",
       "      <td>15120.000000</td>\n",
       "      <td>15120.000000</td>\n",
       "    </tr>\n",
       "    <tr>\n",
       "      <th>mean</th>\n",
       "      <td>2749.322553</td>\n",
       "      <td>156.676653</td>\n",
       "      <td>16.501587</td>\n",
       "      <td>227.195701</td>\n",
       "      <td>51.076521</td>\n",
       "      <td>1714.023214</td>\n",
       "      <td>212.704299</td>\n",
       "      <td>218.965608</td>\n",
       "      <td>135.091997</td>\n",
       "      <td>1511.147288</td>\n",
       "    </tr>\n",
       "    <tr>\n",
       "      <th>std</th>\n",
       "      <td>417.678187</td>\n",
       "      <td>110.085801</td>\n",
       "      <td>8.453927</td>\n",
       "      <td>210.075296</td>\n",
       "      <td>61.239406</td>\n",
       "      <td>1325.066358</td>\n",
       "      <td>30.561287</td>\n",
       "      <td>22.801966</td>\n",
       "      <td>45.895189</td>\n",
       "      <td>1099.936493</td>\n",
       "    </tr>\n",
       "    <tr>\n",
       "      <th>min</th>\n",
       "      <td>1863.000000</td>\n",
       "      <td>0.000000</td>\n",
       "      <td>0.000000</td>\n",
       "      <td>0.000000</td>\n",
       "      <td>-146.000000</td>\n",
       "      <td>0.000000</td>\n",
       "      <td>0.000000</td>\n",
       "      <td>99.000000</td>\n",
       "      <td>0.000000</td>\n",
       "      <td>0.000000</td>\n",
       "    </tr>\n",
       "    <tr>\n",
       "      <th>25%</th>\n",
       "      <td>2376.000000</td>\n",
       "      <td>65.000000</td>\n",
       "      <td>10.000000</td>\n",
       "      <td>67.000000</td>\n",
       "      <td>5.000000</td>\n",
       "      <td>764.000000</td>\n",
       "      <td>196.000000</td>\n",
       "      <td>207.000000</td>\n",
       "      <td>106.000000</td>\n",
       "      <td>730.000000</td>\n",
       "    </tr>\n",
       "    <tr>\n",
       "      <th>50%</th>\n",
       "      <td>2752.000000</td>\n",
       "      <td>126.000000</td>\n",
       "      <td>15.000000</td>\n",
       "      <td>180.000000</td>\n",
       "      <td>32.000000</td>\n",
       "      <td>1316.000000</td>\n",
       "      <td>220.000000</td>\n",
       "      <td>223.000000</td>\n",
       "      <td>138.000000</td>\n",
       "      <td>1256.000000</td>\n",
       "    </tr>\n",
       "    <tr>\n",
       "      <th>75%</th>\n",
       "      <td>3104.000000</td>\n",
       "      <td>261.000000</td>\n",
       "      <td>22.000000</td>\n",
       "      <td>330.000000</td>\n",
       "      <td>79.000000</td>\n",
       "      <td>2270.000000</td>\n",
       "      <td>235.000000</td>\n",
       "      <td>235.000000</td>\n",
       "      <td>167.000000</td>\n",
       "      <td>1988.250000</td>\n",
       "    </tr>\n",
       "    <tr>\n",
       "      <th>max</th>\n",
       "      <td>3849.000000</td>\n",
       "      <td>360.000000</td>\n",
       "      <td>52.000000</td>\n",
       "      <td>1343.000000</td>\n",
       "      <td>554.000000</td>\n",
       "      <td>6890.000000</td>\n",
       "      <td>254.000000</td>\n",
       "      <td>254.000000</td>\n",
       "      <td>248.000000</td>\n",
       "      <td>6993.000000</td>\n",
       "    </tr>\n",
       "  </tbody>\n",
       "</table>\n",
       "</div>"
      ],
      "text/plain": [
       "          Elevation        Aspect         Slope  \\\n",
       "count  15120.000000  15120.000000  15120.000000   \n",
       "mean    2749.322553    156.676653     16.501587   \n",
       "std      417.678187    110.085801      8.453927   \n",
       "min     1863.000000      0.000000      0.000000   \n",
       "25%     2376.000000     65.000000     10.000000   \n",
       "50%     2752.000000    126.000000     15.000000   \n",
       "75%     3104.000000    261.000000     22.000000   \n",
       "max     3849.000000    360.000000     52.000000   \n",
       "\n",
       "       Horizontal_Distance_To_Hydrology  Vertical_Distance_To_Hydrology  \\\n",
       "count                      15120.000000                    15120.000000   \n",
       "mean                         227.195701                       51.076521   \n",
       "std                          210.075296                       61.239406   \n",
       "min                            0.000000                     -146.000000   \n",
       "25%                           67.000000                        5.000000   \n",
       "50%                          180.000000                       32.000000   \n",
       "75%                          330.000000                       79.000000   \n",
       "max                         1343.000000                      554.000000   \n",
       "\n",
       "       Horizontal_Distance_To_Roadways  Hillshade_9am  Hillshade_Noon  \\\n",
       "count                     15120.000000   15120.000000    15120.000000   \n",
       "mean                       1714.023214     212.704299      218.965608   \n",
       "std                        1325.066358      30.561287       22.801966   \n",
       "min                           0.000000       0.000000       99.000000   \n",
       "25%                         764.000000     196.000000      207.000000   \n",
       "50%                        1316.000000     220.000000      223.000000   \n",
       "75%                        2270.000000     235.000000      235.000000   \n",
       "max                        6890.000000     254.000000      254.000000   \n",
       "\n",
       "       Hillshade_3pm  Horizontal_Distance_To_Fire_Points  \n",
       "count   15120.000000                        15120.000000  \n",
       "mean      135.091997                         1511.147288  \n",
       "std        45.895189                         1099.936493  \n",
       "min         0.000000                            0.000000  \n",
       "25%       106.000000                          730.000000  \n",
       "50%       138.000000                         1256.000000  \n",
       "75%       167.000000                         1988.250000  \n",
       "max       248.000000                         6993.000000  "
      ]
     },
     "execution_count": 25,
     "metadata": {},
     "output_type": "execute_result"
    }
   ],
   "source": [
    "X[['Elevation', 'Aspect', 'Slope', 'Horizontal_Distance_To_Hydrology',\n",
    "       'Vertical_Distance_To_Hydrology', 'Horizontal_Distance_To_Roadways',\n",
    "       'Hillshade_9am', 'Hillshade_Noon', 'Hillshade_3pm',\n",
    "       'Horizontal_Distance_To_Fire_Points']].describe()"
   ]
  },
  {
   "cell_type": "code",
   "execution_count": 26,
   "metadata": {
    "ExecuteTime": {
     "end_time": "2019-09-12T12:13:14.146301Z",
     "start_time": "2019-09-12T12:13:14.111248Z"
    }
   },
   "outputs": [
    {
     "data": {
      "text/html": [
       "<div>\n",
       "<style scoped>\n",
       "    .dataframe tbody tr th:only-of-type {\n",
       "        vertical-align: middle;\n",
       "    }\n",
       "\n",
       "    .dataframe tbody tr th {\n",
       "        vertical-align: top;\n",
       "    }\n",
       "\n",
       "    .dataframe thead th {\n",
       "        text-align: right;\n",
       "    }\n",
       "</style>\n",
       "<table border=\"1\" class=\"dataframe\">\n",
       "  <thead>\n",
       "    <tr style=\"text-align: right;\">\n",
       "      <th></th>\n",
       "      <th>Hydro_Elevation_diff</th>\n",
       "      <th>Hydro_Euclidean</th>\n",
       "      <th>Hydro_Fire_sum</th>\n",
       "      <th>Hydro_Fire_diff</th>\n",
       "      <th>Hydro_Road_sum</th>\n",
       "      <th>Hydro_Road_diff</th>\n",
       "      <th>Road_Fire_sum</th>\n",
       "      <th>Road_Fire_diff</th>\n",
       "      <th>Stoneyness</th>\n",
       "    </tr>\n",
       "  </thead>\n",
       "  <tbody>\n",
       "    <tr>\n",
       "      <th>count</th>\n",
       "      <td>15120.000000</td>\n",
       "      <td>15120.000000</td>\n",
       "      <td>15120.000000</td>\n",
       "      <td>15120.000000</td>\n",
       "      <td>15120.000000</td>\n",
       "      <td>15120.000000</td>\n",
       "      <td>15120.000000</td>\n",
       "      <td>15120.000000</td>\n",
       "      <td>15120.000000</td>\n",
       "    </tr>\n",
       "    <tr>\n",
       "      <th>mean</th>\n",
       "      <td>-2698.246032</td>\n",
       "      <td>235.948778</td>\n",
       "      <td>1738.342989</td>\n",
       "      <td>1291.834788</td>\n",
       "      <td>1941.218915</td>\n",
       "      <td>1492.094577</td>\n",
       "      <td>3225.170503</td>\n",
       "      <td>897.908333</td>\n",
       "      <td>2.333003</td>\n",
       "    </tr>\n",
       "    <tr>\n",
       "      <th>std</th>\n",
       "      <td>414.680029</td>\n",
       "      <td>215.491695</td>\n",
       "      <td>1152.123001</td>\n",
       "      <td>1077.167415</td>\n",
       "      <td>1383.173588</td>\n",
       "      <td>1292.673425</td>\n",
       "      <td>2093.672478</td>\n",
       "      <td>884.718318</td>\n",
       "      <td>1.580487</td>\n",
       "    </tr>\n",
       "    <tr>\n",
       "      <th>min</th>\n",
       "      <td>-3776.000000</td>\n",
       "      <td>0.000000</td>\n",
       "      <td>30.000000</td>\n",
       "      <td>0.000000</td>\n",
       "      <td>30.000000</td>\n",
       "      <td>0.000000</td>\n",
       "      <td>95.000000</td>\n",
       "      <td>0.000000</td>\n",
       "      <td>0.000000</td>\n",
       "    </tr>\n",
       "    <tr>\n",
       "      <th>25%</th>\n",
       "      <td>-3068.000000</td>\n",
       "      <td>67.186308</td>\n",
       "      <td>903.000000</td>\n",
       "      <td>532.000000</td>\n",
       "      <td>967.000000</td>\n",
       "      <td>534.000000</td>\n",
       "      <td>1806.000000</td>\n",
       "      <td>291.000000</td>\n",
       "      <td>1.000000</td>\n",
       "    </tr>\n",
       "    <tr>\n",
       "      <th>50%</th>\n",
       "      <td>-2696.000000</td>\n",
       "      <td>188.480768</td>\n",
       "      <td>1462.000000</td>\n",
       "      <td>1023.500000</td>\n",
       "      <td>1501.000000</td>\n",
       "      <td>1148.000000</td>\n",
       "      <td>2520.500000</td>\n",
       "      <td>632.000000</td>\n",
       "      <td>2.000000</td>\n",
       "    </tr>\n",
       "    <tr>\n",
       "      <th>75%</th>\n",
       "      <td>-2323.000000</td>\n",
       "      <td>342.069071</td>\n",
       "      <td>2302.000000</td>\n",
       "      <td>1726.000000</td>\n",
       "      <td>2554.000000</td>\n",
       "      <td>2042.000000</td>\n",
       "      <td>4232.250000</td>\n",
       "      <td>1220.000000</td>\n",
       "      <td>4.000000</td>\n",
       "    </tr>\n",
       "    <tr>\n",
       "      <th>max</th>\n",
       "      <td>-1842.000000</td>\n",
       "      <td>1356.939571</td>\n",
       "      <td>7167.000000</td>\n",
       "      <td>6898.000000</td>\n",
       "      <td>7306.000000</td>\n",
       "      <td>6860.000000</td>\n",
       "      <td>12504.000000</td>\n",
       "      <td>6012.000000</td>\n",
       "      <td>4.000000</td>\n",
       "    </tr>\n",
       "  </tbody>\n",
       "</table>\n",
       "</div>"
      ],
      "text/plain": [
       "       Hydro_Elevation_diff  Hydro_Euclidean  Hydro_Fire_sum  Hydro_Fire_diff  \\\n",
       "count          15120.000000     15120.000000    15120.000000     15120.000000   \n",
       "mean           -2698.246032       235.948778     1738.342989      1291.834788   \n",
       "std              414.680029       215.491695     1152.123001      1077.167415   \n",
       "min            -3776.000000         0.000000       30.000000         0.000000   \n",
       "25%            -3068.000000        67.186308      903.000000       532.000000   \n",
       "50%            -2696.000000       188.480768     1462.000000      1023.500000   \n",
       "75%            -2323.000000       342.069071     2302.000000      1726.000000   \n",
       "max            -1842.000000      1356.939571     7167.000000      6898.000000   \n",
       "\n",
       "       Hydro_Road_sum  Hydro_Road_diff  Road_Fire_sum  Road_Fire_diff  \\\n",
       "count    15120.000000     15120.000000   15120.000000    15120.000000   \n",
       "mean      1941.218915      1492.094577    3225.170503      897.908333   \n",
       "std       1383.173588      1292.673425    2093.672478      884.718318   \n",
       "min         30.000000         0.000000      95.000000        0.000000   \n",
       "25%        967.000000       534.000000    1806.000000      291.000000   \n",
       "50%       1501.000000      1148.000000    2520.500000      632.000000   \n",
       "75%       2554.000000      2042.000000    4232.250000     1220.000000   \n",
       "max       7306.000000      6860.000000   12504.000000     6012.000000   \n",
       "\n",
       "         Stoneyness  \n",
       "count  15120.000000  \n",
       "mean       2.333003  \n",
       "std        1.580487  \n",
       "min        0.000000  \n",
       "25%        1.000000  \n",
       "50%        2.000000  \n",
       "75%        4.000000  \n",
       "max        4.000000  "
      ]
     },
     "execution_count": 26,
     "metadata": {},
     "output_type": "execute_result"
    }
   ],
   "source": [
    "X[['Hydro_Elevation_diff', 'Hydro_Euclidean', 'Hydro_Fire_sum',\n",
    "       'Hydro_Fire_diff', 'Hydro_Road_sum', 'Hydro_Road_diff', 'Road_Fire_sum',\n",
    "       'Road_Fire_diff', 'Stoneyness']].describe()"
   ]
  },
  {
   "cell_type": "code",
   "execution_count": 27,
   "metadata": {
    "ExecuteTime": {
     "end_time": "2019-09-12T12:13:15.446171Z",
     "start_time": "2019-09-12T12:13:15.396636Z"
    }
   },
   "outputs": [
    {
     "data": {
      "text/html": [
       "<div>\n",
       "<style scoped>\n",
       "    .dataframe tbody tr th:only-of-type {\n",
       "        vertical-align: middle;\n",
       "    }\n",
       "\n",
       "    .dataframe tbody tr th {\n",
       "        vertical-align: top;\n",
       "    }\n",
       "\n",
       "    .dataframe thead th {\n",
       "        text-align: right;\n",
       "    }\n",
       "</style>\n",
       "<table border=\"1\" class=\"dataframe\">\n",
       "  <thead>\n",
       "    <tr style=\"text-align: right;\">\n",
       "      <th></th>\n",
       "      <th>Soil_Type2</th>\n",
       "      <th>Soil_Type3</th>\n",
       "      <th>Soil_Type4</th>\n",
       "      <th>Soil_Type6</th>\n",
       "      <th>Soil_Type10</th>\n",
       "      <th>Soil_Type17</th>\n",
       "      <th>Soil_Type23</th>\n",
       "      <th>Soil_Type29</th>\n",
       "      <th>Soil_Type30</th>\n",
       "      <th>Soil_Type32</th>\n",
       "      <th>Soil_Type33</th>\n",
       "      <th>Soil_Type38</th>\n",
       "      <th>Soil_Type39</th>\n",
       "    </tr>\n",
       "  </thead>\n",
       "  <tbody>\n",
       "    <tr>\n",
       "      <th>count</th>\n",
       "      <td>15120.000000</td>\n",
       "      <td>15120.000000</td>\n",
       "      <td>15120.000000</td>\n",
       "      <td>15120.000000</td>\n",
       "      <td>15120.000000</td>\n",
       "      <td>15120.000000</td>\n",
       "      <td>15120.000000</td>\n",
       "      <td>15120.000000</td>\n",
       "      <td>15120.000000</td>\n",
       "      <td>15120.000000</td>\n",
       "      <td>15120.000000</td>\n",
       "      <td>15120.000000</td>\n",
       "      <td>15120.000000</td>\n",
       "    </tr>\n",
       "    <tr>\n",
       "      <th>mean</th>\n",
       "      <td>0.041204</td>\n",
       "      <td>0.063624</td>\n",
       "      <td>0.055754</td>\n",
       "      <td>0.042989</td>\n",
       "      <td>0.141667</td>\n",
       "      <td>0.040476</td>\n",
       "      <td>0.050066</td>\n",
       "      <td>0.085384</td>\n",
       "      <td>0.047950</td>\n",
       "      <td>0.045635</td>\n",
       "      <td>0.040741</td>\n",
       "      <td>0.048148</td>\n",
       "      <td>0.043452</td>\n",
       "    </tr>\n",
       "    <tr>\n",
       "      <th>std</th>\n",
       "      <td>0.198768</td>\n",
       "      <td>0.244091</td>\n",
       "      <td>0.229454</td>\n",
       "      <td>0.202840</td>\n",
       "      <td>0.348719</td>\n",
       "      <td>0.197080</td>\n",
       "      <td>0.218089</td>\n",
       "      <td>0.279461</td>\n",
       "      <td>0.213667</td>\n",
       "      <td>0.208699</td>\n",
       "      <td>0.197696</td>\n",
       "      <td>0.214086</td>\n",
       "      <td>0.203880</td>\n",
       "    </tr>\n",
       "    <tr>\n",
       "      <th>min</th>\n",
       "      <td>0.000000</td>\n",
       "      <td>0.000000</td>\n",
       "      <td>0.000000</td>\n",
       "      <td>0.000000</td>\n",
       "      <td>0.000000</td>\n",
       "      <td>0.000000</td>\n",
       "      <td>0.000000</td>\n",
       "      <td>0.000000</td>\n",
       "      <td>0.000000</td>\n",
       "      <td>0.000000</td>\n",
       "      <td>0.000000</td>\n",
       "      <td>0.000000</td>\n",
       "      <td>0.000000</td>\n",
       "    </tr>\n",
       "    <tr>\n",
       "      <th>25%</th>\n",
       "      <td>0.000000</td>\n",
       "      <td>0.000000</td>\n",
       "      <td>0.000000</td>\n",
       "      <td>0.000000</td>\n",
       "      <td>0.000000</td>\n",
       "      <td>0.000000</td>\n",
       "      <td>0.000000</td>\n",
       "      <td>0.000000</td>\n",
       "      <td>0.000000</td>\n",
       "      <td>0.000000</td>\n",
       "      <td>0.000000</td>\n",
       "      <td>0.000000</td>\n",
       "      <td>0.000000</td>\n",
       "    </tr>\n",
       "    <tr>\n",
       "      <th>50%</th>\n",
       "      <td>0.000000</td>\n",
       "      <td>0.000000</td>\n",
       "      <td>0.000000</td>\n",
       "      <td>0.000000</td>\n",
       "      <td>0.000000</td>\n",
       "      <td>0.000000</td>\n",
       "      <td>0.000000</td>\n",
       "      <td>0.000000</td>\n",
       "      <td>0.000000</td>\n",
       "      <td>0.000000</td>\n",
       "      <td>0.000000</td>\n",
       "      <td>0.000000</td>\n",
       "      <td>0.000000</td>\n",
       "    </tr>\n",
       "    <tr>\n",
       "      <th>75%</th>\n",
       "      <td>0.000000</td>\n",
       "      <td>0.000000</td>\n",
       "      <td>0.000000</td>\n",
       "      <td>0.000000</td>\n",
       "      <td>0.000000</td>\n",
       "      <td>0.000000</td>\n",
       "      <td>0.000000</td>\n",
       "      <td>0.000000</td>\n",
       "      <td>0.000000</td>\n",
       "      <td>0.000000</td>\n",
       "      <td>0.000000</td>\n",
       "      <td>0.000000</td>\n",
       "      <td>0.000000</td>\n",
       "    </tr>\n",
       "    <tr>\n",
       "      <th>max</th>\n",
       "      <td>1.000000</td>\n",
       "      <td>1.000000</td>\n",
       "      <td>1.000000</td>\n",
       "      <td>1.000000</td>\n",
       "      <td>1.000000</td>\n",
       "      <td>1.000000</td>\n",
       "      <td>1.000000</td>\n",
       "      <td>1.000000</td>\n",
       "      <td>1.000000</td>\n",
       "      <td>1.000000</td>\n",
       "      <td>1.000000</td>\n",
       "      <td>1.000000</td>\n",
       "      <td>1.000000</td>\n",
       "    </tr>\n",
       "  </tbody>\n",
       "</table>\n",
       "</div>"
      ],
      "text/plain": [
       "         Soil_Type2    Soil_Type3    Soil_Type4    Soil_Type6   Soil_Type10  \\\n",
       "count  15120.000000  15120.000000  15120.000000  15120.000000  15120.000000   \n",
       "mean       0.041204      0.063624      0.055754      0.042989      0.141667   \n",
       "std        0.198768      0.244091      0.229454      0.202840      0.348719   \n",
       "min        0.000000      0.000000      0.000000      0.000000      0.000000   \n",
       "25%        0.000000      0.000000      0.000000      0.000000      0.000000   \n",
       "50%        0.000000      0.000000      0.000000      0.000000      0.000000   \n",
       "75%        0.000000      0.000000      0.000000      0.000000      0.000000   \n",
       "max        1.000000      1.000000      1.000000      1.000000      1.000000   \n",
       "\n",
       "        Soil_Type17   Soil_Type23   Soil_Type29   Soil_Type30   Soil_Type32  \\\n",
       "count  15120.000000  15120.000000  15120.000000  15120.000000  15120.000000   \n",
       "mean       0.040476      0.050066      0.085384      0.047950      0.045635   \n",
       "std        0.197080      0.218089      0.279461      0.213667      0.208699   \n",
       "min        0.000000      0.000000      0.000000      0.000000      0.000000   \n",
       "25%        0.000000      0.000000      0.000000      0.000000      0.000000   \n",
       "50%        0.000000      0.000000      0.000000      0.000000      0.000000   \n",
       "75%        0.000000      0.000000      0.000000      0.000000      0.000000   \n",
       "max        1.000000      1.000000      1.000000      1.000000      1.000000   \n",
       "\n",
       "        Soil_Type33   Soil_Type38   Soil_Type39  \n",
       "count  15120.000000  15120.000000  15120.000000  \n",
       "mean       0.040741      0.048148      0.043452  \n",
       "std        0.197696      0.214086      0.203880  \n",
       "min        0.000000      0.000000      0.000000  \n",
       "25%        0.000000      0.000000      0.000000  \n",
       "50%        0.000000      0.000000      0.000000  \n",
       "75%        0.000000      0.000000      0.000000  \n",
       "max        1.000000      1.000000      1.000000  "
      ]
     },
     "execution_count": 27,
     "metadata": {},
     "output_type": "execute_result"
    }
   ],
   "source": [
    "X[['Soil_Type2', 'Soil_Type3', 'Soil_Type4', 'Soil_Type6', 'Soil_Type10',\n",
    "       'Soil_Type17', 'Soil_Type23', 'Soil_Type29', 'Soil_Type30',\n",
    "       'Soil_Type32', 'Soil_Type33', 'Soil_Type38', 'Soil_Type39']].describe()"
   ]
  },
  {
   "cell_type": "code",
   "execution_count": 28,
   "metadata": {
    "ExecuteTime": {
     "end_time": "2019-09-12T12:13:17.413256Z",
     "start_time": "2019-09-12T12:13:17.407781Z"
    }
   },
   "outputs": [
    {
     "data": {
      "text/plain": [
       "4    6546\n",
       "1    5096\n",
       "0    1854\n",
       "2     877\n",
       "3     747\n",
       "Name: Stoneyness, dtype: int64"
      ]
     },
     "execution_count": 28,
     "metadata": {},
     "output_type": "execute_result"
    }
   ],
   "source": [
    "X['Stoneyness'].value_counts()"
   ]
  },
  {
   "cell_type": "markdown",
   "metadata": {},
   "source": [
    "# Cluster features"
   ]
  },
  {
   "cell_type": "code",
   "execution_count": 29,
   "metadata": {
    "ExecuteTime": {
     "end_time": "2019-09-12T12:13:22.564705Z",
     "start_time": "2019-09-12T12:13:22.194896Z"
    }
   },
   "outputs": [
    {
     "data": {
      "text/plain": [
       "StandardScaler(copy=True, with_mean=True, with_std=True)"
      ]
     },
     "execution_count": 29,
     "metadata": {},
     "output_type": "execute_result"
    }
   ],
   "source": [
    "ss = StandardScaler()\n",
    "X_all = np.vstack([X, X_test])\n",
    "ss.fit(X_all)"
   ]
  },
  {
   "cell_type": "code",
   "execution_count": 30,
   "metadata": {
    "ExecuteTime": {
     "end_time": "2019-09-12T12:13:37.645030Z",
     "start_time": "2019-09-12T12:13:37.470291Z"
    }
   },
   "outputs": [],
   "source": [
    "cluster_data = ss.transform(X)\n",
    "cluster_data_test = ss.transform(X_test)\n",
    "cluster_data_all = np.vstack([cluster_data, cluster_data_test])"
   ]
  },
  {
   "cell_type": "code",
   "execution_count": 62,
   "metadata": {
    "ExecuteTime": {
     "end_time": "2019-09-11T16:44:34.155923Z",
     "start_time": "2019-09-11T16:44:10.631404Z"
    }
   },
   "outputs": [],
   "source": [
    "n_components = [r for r in range(5, 16)]\n",
    "models = [GaussianMixture(n, covariance_type='full', random_state=0).fit(cluster_data)\n",
    "          for n in n_components]"
   ]
  },
  {
   "cell_type": "code",
   "execution_count": null,
   "metadata": {
    "ExecuteTime": {
     "end_time": "2019-09-11T18:03:20.436567Z",
     "start_time": "2019-09-11T18:02:49.505Z"
    }
   },
   "outputs": [],
   "source": [
    "import matplotlib.pyplot as plt\n",
    "%matplotlib inline\n",
    "\n",
    "plt.plot(n_components, [m.bic(X) for m in models], label='BIC')\n",
    "plt.plot(n_components, [m.aic(X) for m in models], label='AIC')\n",
    "plt.plot(n_components, [silhouette_score(m.predict(X)) for m in models], label='Silhouette')\n",
    "plt.legend(loc='best')\n",
    "plt.xlabel('n_components')"
   ]
  },
  {
   "cell_type": "code",
   "execution_count": null,
   "metadata": {},
   "outputs": [],
   "source": [
    "from collections import OrderedDict\n",
    "\n",
    "# TODO: Apply your clustering algorithm of choice to the reduced data\n",
    "def make_cluster(clusterer, X):\n",
    "    # clusterer.fit(reduced_data)\n",
    "    preds = clusterer.fit_predict(X)\n",
    "    score = silhouette_score(X, preds)\n",
    "    return clusterer, score"
   ]
  },
  {
   "cell_type": "code",
   "execution_count": 74,
   "metadata": {
    "ExecuteTime": {
     "end_time": "2019-09-11T18:03:19.644987Z",
     "start_time": "2019-09-11T18:02:36.601991Z"
    }
   },
   "outputs": [],
   "source": [
    "kclusters = []\n",
    "kscores = {}\n",
    "for n in range(5, 16):\n",
    "    kmeans = KMeans(n_clusters=n, random_state=13)\n",
    "    kmeans.fit(cluster_data)\n",
    "    kscores[n] = (silhouette_score(cluster_data, kmeans.labels_),\n",
    "                  completeness_score(y, kmeans.labels_))\n"
   ]
  },
  {
   "cell_type": "code",
   "execution_count": null,
   "metadata": {
    "ExecuteTime": {
     "end_time": "2019-09-11T18:00:51.914998Z",
     "start_time": "2019-09-11T18:00:07.211232Z"
    }
   },
   "outputs": [],
   "source": [
    "gscores = {}\n",
    "for n, gmm in enumerate(models, 5):\n",
    "    labels = gmm.predict(cluster_data)\n",
    "    gscores[n] = (silhouette_score(cluster_data, labels),\n",
    "                  completeness_score(y, labels))"
   ]
  },
  {
   "cell_type": "code",
   "execution_count": 80,
   "metadata": {
    "ExecuteTime": {
     "end_time": "2019-09-11T18:25:51.519208Z",
     "start_time": "2019-09-11T18:25:51.512161Z"
    }
   },
   "outputs": [],
   "source": [
    "ksil = [score[0] for score in kscores.values()]\n",
    "gsil = [score[0] for score in gscores.values()]\n",
    "kcom = [score[1] for score in kscores.values()]\n",
    "gcom = [score[1] for score in gscores.values()]"
   ]
  },
  {
   "cell_type": "code",
   "execution_count": 81,
   "metadata": {
    "ExecuteTime": {
     "end_time": "2019-09-11T18:25:53.234542Z",
     "start_time": "2019-09-11T18:25:52.788269Z"
    }
   },
   "outputs": [
    {
     "data": {
      "text/plain": [
       "Text(0.5, 0, 'scores')"
      ]
     },
     "execution_count": 81,
     "metadata": {},
     "output_type": "execute_result"
    },
    {
     "data": {
      "image/png": "[encoded data removed]",
      "text/plain": [
       "<Figure size 1080x576 with 1 Axes>"
      ]
     },
     "metadata": {
      "needs_background": "light"
     },
     "output_type": "display_data"
    }
   ],
   "source": [
    "plt.figure(figsize=(15, 8))\n",
    "plt.title('Silhouete scores')\n",
    "plt.plot(kscores.keys(), ksil, label='kmeans')\n",
    "plt.plot(gscores.keys(), gsil, label='gaussian')\n",
    "plt.legend()\n",
    "plt.xlabel('number of clusters')\n",
    "plt.xlabel('scores')"
   ]
  },
  {
   "cell_type": "code",
   "execution_count": 82,
   "metadata": {
    "ExecuteTime": {
     "end_time": "2019-09-11T18:26:07.044798Z",
     "start_time": "2019-09-11T18:26:06.600702Z"
    }
   },
   "outputs": [
    {
     "data": {
      "text/plain": [
       "Text(0.5, 0, 'scores')"
      ]
     },
     "execution_count": 82,
     "metadata": {},
     "output_type": "execute_result"
    },
    {
     "data": {
      "image/png": "[encoded data removed]",
      "text/plain": [
       "<Figure size 1080x576 with 1 Axes>"
      ]
     },
     "metadata": {
      "needs_background": "light"
     },
     "output_type": "display_data"
    }
   ],
   "source": [
    "plt.figure(figsize=(15, 8))\n",
    "plt.title('Completeness scores')\n",
    "plt.plot(kscores.keys(), kcom, label='kmeans')\n",
    "plt.plot(gscores.keys(), gcom, label='gaussian')\n",
    "plt.legend()\n",
    "plt.xlabel('number of clusters')\n",
    "plt.xlabel('scores')"
   ]
  },
  {
   "cell_type": "code",
   "execution_count": 31,
   "metadata": {
    "ExecuteTime": {
     "end_time": "2019-09-12T12:14:24.095643Z",
     "start_time": "2019-09-12T12:14:22.842162Z"
    }
   },
   "outputs": [
    {
     "data": {
      "text/plain": [
       "KMeans(algorithm='auto', copy_x=True, init='k-means++', max_iter=300,\n",
       "       n_clusters=10, n_init=10, n_jobs=None, precompute_distances='auto',\n",
       "       random_state=None, tol=0.0001, verbose=0)"
      ]
     },
     "execution_count": 31,
     "metadata": {},
     "output_type": "execute_result"
    }
   ],
   "source": [
    "km = KMeans(10)\n",
    "km.fit(cluster_data)"
   ]
  },
  {
   "cell_type": "code",
   "execution_count": 32,
   "metadata": {
    "ExecuteTime": {
     "end_time": "2019-09-12T12:14:29.481968Z",
     "start_time": "2019-09-12T12:14:26.650044Z"
    }
   },
   "outputs": [
    {
     "name": "stdout",
     "output_type": "stream",
     "text": [
      "0.3435769760465903\n",
      "0.3170923866073176\n",
      "3420.9547836846236\n"
     ]
    }
   ],
   "source": [
    "print(completeness_score(y, km.labels_))\n",
    "print(silhouette_score(cluster_data, km.labels_))\n",
    "print(calinski_harabasz_score(cluster_data, km.labels_))"
   ]
  },
  {
   "cell_type": "code",
   "execution_count": 33,
   "metadata": {
    "ExecuteTime": {
     "end_time": "2019-09-12T12:14:30.343021Z",
     "start_time": "2019-09-12T12:14:30.065268Z"
    }
   },
   "outputs": [],
   "source": [
    "X['cluster'] = km.predict(cluster_data)\n",
    "X_test['cluster'] = km.predict(cluster_data_test)"
   ]
  },
  {
   "cell_type": "code",
   "execution_count": 34,
   "metadata": {
    "ExecuteTime": {
     "end_time": "2019-09-12T12:15:06.517457Z",
     "start_time": "2019-09-12T12:15:03.584727Z"
    }
   },
   "outputs": [
    {
     "data": {
      "text/plain": [
       "GaussianMixture(covariance_type='full', init_params='kmeans', max_iter=100,\n",
       "                means_init=None, n_components=11, n_init=1,\n",
       "                precisions_init=None, random_state=None, reg_covar=1e-06,\n",
       "                tol=0.001, verbose=0, verbose_interval=10, warm_start=False,\n",
       "                weights_init=None)"
      ]
     },
     "execution_count": 34,
     "metadata": {},
     "output_type": "execute_result"
    }
   ],
   "source": [
    "gmm = GaussianMixture(11)\n",
    "gmm.fit(cluster_data)"
   ]
  },
  {
   "cell_type": "code",
   "execution_count": 36,
   "metadata": {
    "ExecuteTime": {
     "end_time": "2019-09-12T12:16:23.785925Z",
     "start_time": "2019-09-12T12:16:21.210826Z"
    }
   },
   "outputs": [
    {
     "name": "stdout",
     "output_type": "stream",
     "text": [
      "0.3222624924003905\n",
      "0.2890408341359559\n",
      "2952.0624164611727\n"
     ]
    }
   ],
   "source": [
    "labels = gmm.predict(cluster_data)\n",
    "print(completeness_score(y, labels))\n",
    "print(silhouette_score(cluster_data, labels))\n",
    "print(calinski_harabasz_score(cluster_data, labels))"
   ]
  },
  {
   "cell_type": "code",
   "execution_count": 37,
   "metadata": {
    "ExecuteTime": {
     "end_time": "2019-09-12T12:16:45.451591Z",
     "start_time": "2019-09-12T12:16:43.226352Z"
    }
   },
   "outputs": [],
   "source": [
    "X['cluster2'] = labels\n",
    "X_test['cluster2'] = gmm.predict(cluster_data_test)"
   ]
  },
  {
   "cell_type": "markdown",
   "metadata": {
    "heading_collapsed": true
   },
   "source": [
    "## Brute Force parameter searchs"
   ]
  },
  {
   "cell_type": "code",
   "execution_count": 22,
   "metadata": {
    "ExecuteTime": {
     "end_time": "2019-09-12T11:22:55.106017Z",
     "start_time": "2019-09-12T11:22:55.100565Z"
    },
    "hidden": true
   },
   "outputs": [],
   "source": [
    "X_filtered = X[y < 3]\n",
    "y_filtered = y[y < 3]"
   ]
  },
  {
   "cell_type": "code",
   "execution_count": 23,
   "metadata": {
    "ExecuteTime": {
     "end_time": "2019-09-12T11:23:11.776365Z",
     "start_time": "2019-09-12T11:23:05.934835Z"
    },
    "hidden": true
   },
   "outputs": [
    {
     "data": {
      "text/plain": [
       "0.85"
      ]
     },
     "execution_count": 23,
     "metadata": {},
     "output_type": "execute_result"
    }
   ],
   "source": [
    "# A simple first test to validate features of actual df\n",
    "etc = ExtraTreesClassifier(\n",
    "    bootstrap=True, oob_score=True,\n",
    "    **{'max_depth': 30, 'n_estimators': 1000, 'max_features': 0.7}\n",
    "    )\n",
    "etc.fit(X_filtered, y_filtered)\n",
    "etc.oob_score_"
   ]
  },
  {
   "cell_type": "code",
   "execution_count": null,
   "metadata": {
    "hidden": true
   },
   "outputs": [],
   "source": []
  },
  {
   "cell_type": "code",
   "execution_count": null,
   "metadata": {
    "ExecuteTime": {
     "end_time": "2019-09-11T14:45:19.282020Z",
     "start_time": "2019-09-11T14:43:41.142578Z"
    },
    "hidden": true
   },
   "outputs": [],
   "source": [
    "from sklearn.svm import SVC\n",
    "from sklearn.model_selection import validation_curve\n",
    "\n",
    "param_range = [200, 400, 600, 800, 1000, 1200, 1400]\n",
    "train_scores, test_scores = validation_curve(\n",
    "    ExtraTreesClassifier(),\n",
    "    X_filtered, y_filtered,\n",
    "    param_name=\"n_estimators\",\n",
    "    param_range=param_range,\n",
    "    cv=5, scoring=\"accuracy\")\n",
    "train_scores_mean = np.mean(train_scores, axis=1)\n",
    "train_scores_std = np.std(train_scores, axis=1)\n",
    "test_scores_mean = np.mean(test_scores, axis=1)\n",
    "test_scores_std = np.std(test_scores, axis=1)"
   ]
  },
  {
   "cell_type": "code",
   "execution_count": 38,
   "metadata": {
    "ExecuteTime": {
     "end_time": "2019-09-11T14:49:12.024149Z",
     "start_time": "2019-09-11T14:49:11.756266Z"
    },
    "hidden": true
   },
   "outputs": [
    {
     "data": {
      "image/png": "[encoded data removed]",
      "text/plain": [
       "<Figure size 432x288 with 1 Axes>"
      ]
     },
     "metadata": {
      "needs_background": "light"
     },
     "output_type": "display_data"
    }
   ],
   "source": [
    "plt.title(\"Validation Curve with Extreme Random Trees\")\n",
    "plt.xlabel(r\"$\\gamma$\")\n",
    "plt.ylabel(\"Score\")\n",
    "plt.ylim(0.72, 1.01)\n",
    "lw = 2\n",
    "plt.semilogx(param_range, train_scores_mean, label=\"Training score\",\n",
    "             color=\"darkorange\", lw=lw)\n",
    "plt.fill_between(param_range, train_scores_mean - train_scores_std,\n",
    "                 train_scores_mean + train_scores_std, alpha=0.2,\n",
    "                 color=\"darkorange\", lw=lw)\n",
    "plt.semilogx(param_range, test_scores_mean, label=\"Cross-validation score\",\n",
    "             color=\"navy\", lw=lw)\n",
    "plt.fill_between(param_range, test_scores_mean - test_scores_std,\n",
    "                 test_scores_mean + test_scores_std, alpha=0.2,\n",
    "                 color=\"navy\", lw=lw)\n",
    "plt.legend(loc=\"best\")\n",
    "plt.show()"
   ]
  },
  {
   "cell_type": "code",
   "execution_count": 35,
   "metadata": {
    "ExecuteTime": {
     "end_time": "2019-09-11T14:46:15.404856Z",
     "start_time": "2019-09-11T14:46:15.402440Z"
    },
    "hidden": true
   },
   "outputs": [],
   "source": [
    "from time import time\n",
    "from sklearn.model_selection import RandomizedSearchCV\n",
    "\n"
   ]
  },
  {
   "cell_type": "code",
   "execution_count": 118,
   "metadata": {
    "ExecuteTime": {
     "end_time": "2019-09-11T18:53:40.252034Z",
     "start_time": "2019-09-11T18:52:32.368712Z"
    },
    "hidden": true
   },
   "outputs": [
    {
     "name": "stdout",
     "output_type": "stream",
     "text": [
      "RandomizedSearchCV took 67.85 seconds for 10 candidates parameter settings.\n",
      "Model with rank: 1\n",
      "Mean validation score: 0.749 (std: 0.041)\n",
      "Parameters: {'n_estimators': 900, 'max_depth': 20, 'max_features': 0.4}\n",
      "\n",
      "Model with rank: 2\n",
      "Mean validation score: 0.748 (std: 0.042)\n",
      "Parameters: {'n_estimators': 200, 'max_depth': 50, 'max_features': 0.4}\n",
      "\n",
      "Model with rank: 2\n",
      "Mean validation score: 0.748 (std: 0.042)\n",
      "Parameters: {'n_estimators': 200, 'max_depth': 32, 'max_features': 0.6}\n",
      "\n",
      "Model with rank: 4\n",
      "Mean validation score: 0.748 (std: 0.041)\n",
      "Parameters: {'n_estimators': 200, 'max_depth': 20, 'max_features': 0.7}\n",
      "\n",
      "Model with rank: 5\n",
      "Mean validation score: 0.747 (std: 0.042)\n",
      "Parameters: {'n_estimators': 600, 'max_depth': None, 'max_features': 0.9}\n",
      "\n",
      "Model with rank: 6\n",
      "Mean validation score: 0.745 (std: 0.041)\n",
      "Parameters: {'n_estimators': 900, 'max_depth': 10, 'max_features': 0.8}\n",
      "\n",
      "Model with rank: 7\n",
      "Mean validation score: 0.743 (std: 0.040)\n",
      "Parameters: {'n_estimators': 100, 'max_depth': 50, 'max_features': 0.4}\n",
      "\n",
      "Model with rank: 7\n",
      "Mean validation score: 0.743 (std: 0.040)\n",
      "Parameters: {'n_estimators': 100, 'max_depth': None, 'max_features': 0.8}\n",
      "\n",
      "Model with rank: 9\n",
      "Mean validation score: 0.737 (std: 0.040)\n",
      "Parameters: {'n_estimators': 50, 'max_depth': 10, 'max_features': 0.7}\n",
      "\n",
      "Model with rank: 10\n",
      "Mean validation score: 0.736 (std: 0.039)\n",
      "Parameters: {'n_estimators': 50, 'max_depth': 32, 'max_features': 0.8}\n",
      "\n"
     ]
    }
   ],
   "source": [
    "param_dist = {\"max_depth\": [10, 20, 32, 50, None],\n",
    "              'max_features': [0.4, 0.6, 0.7, 0.8, 0.9],\n",
    "              'n_estimators': [50, 100, 200, 600, 900, 1200]\n",
    "             }\n",
    "\n",
    "\n",
    "def report(results, n_top=10):\n",
    "    for i in range(1, n_top + 1):\n",
    "        candidates = np.flatnonzero(results['rank_test_score'] == i)\n",
    "        for candidate in candidates:\n",
    "            print(\"Model with rank: {0}\".format(i))\n",
    "            print(\"Mean validation score: {0:.3f} (std: {1:.3f})\".format(\n",
    "                  results['mean_test_score'][candidate],\n",
    "                  results['std_test_score'][candidate]))\n",
    "            print(\"Parameters: {0}\".format(results['params'][candidate]))\n",
    "            print(\"\")\n",
    "            \n",
    "n_iter_search = 10\n",
    "random_search = RandomizedSearchCV(LGBMClassifier(bootstrap=False),\n",
    "                                   param_distributions=param_dist,\n",
    "                                   n_iter=n_iter_search, cv=5, iid=False)\n",
    "\n",
    "start = time()\n",
    "random_search.fit(X_filtered, y_filtered)\n",
    "print(\"RandomizedSearchCV took %.2f seconds for %d candidates\"\n",
    "      \" parameter settings.\" % ((time() - start), n_iter_search))\n",
    "report(random_search.cv_results_)"
   ]
  },
  {
   "cell_type": "code",
   "execution_count": 92,
   "metadata": {
    "ExecuteTime": {
     "end_time": "2019-09-11T18:35:15.531688Z",
     "start_time": "2019-09-11T18:35:15.517747Z"
    },
    "hidden": true
   },
   "outputs": [],
   "source": [
    "X_train, X_val, y_train, y_val = train_test_split(X_filtered, y_filtered, test_size=0.2)"
   ]
  },
  {
   "cell_type": "code",
   "execution_count": 66,
   "metadata": {
    "ExecuteTime": {
     "end_time": "2019-09-11T17:56:12.647981Z",
     "start_time": "2019-09-11T16:56:10.166925Z"
    },
    "hidden": true
   },
   "outputs": [
    {
     "name": "stdout",
     "output_type": "stream",
     "text": [
      "[WARNING] [2019-09-11 13:56:11,519:EnsembleBuilder(1):ea054111732bd027f6a1d05493b599c0] No models better than random - using Dummy Score!\n",
      "[WARNING] [2019-09-11 13:56:11,524:EnsembleBuilder(1):ea054111732bd027f6a1d05493b599c0] No models better than random - using Dummy Score!\n",
      "[WARNING] [2019-09-11 13:56:43,018:smac.intensification.intensification.Intensifier] Challenger was the same as the current incumbent; Skipping challenger\n",
      "[WARNING] [2019-09-11 13:56:43,018:smac.intensification.intensification.Intensifier] Challenger was the same as the current incumbent; Skipping challenger\n",
      "1\n",
      "['/tmp/autosklearn_tmp_11054_6865/.auto-sklearn/ensembles/1.0000000000.ensemble', '/tmp/autosklearn_tmp_11054_6865/.auto-sklearn/ensembles/1.0000000001.ensemble', '/tmp/autosklearn_tmp_11054_6865/.auto-sklearn/ensembles/1.0000000002.ensemble', '/tmp/autosklearn_tmp_11054_6865/.auto-sklearn/ensembles/1.0000000003.ensemble', '/tmp/autosklearn_tmp_11054_6865/.auto-sklearn/ensembles/1.0000000004.ensemble', '/tmp/autosklearn_tmp_11054_6865/.auto-sklearn/ensembles/1.0000000005.ensemble', '/tmp/autosklearn_tmp_11054_6865/.auto-sklearn/ensembles/1.0000000006.ensemble', '/tmp/autosklearn_tmp_11054_6865/.auto-sklearn/ensembles/1.0000000007.ensemble', '/tmp/autosklearn_tmp_11054_6865/.auto-sklearn/ensembles/1.0000000008.ensemble', '/tmp/autosklearn_tmp_11054_6865/.auto-sklearn/ensembles/1.0000000009.ensemble', '/tmp/autosklearn_tmp_11054_6865/.auto-sklearn/ensembles/1.0000000010.ensemble', '/tmp/autosklearn_tmp_11054_6865/.auto-sklearn/ensembles/1.0000000011.ensemble', '/tmp/autosklearn_tmp_11054_6865/.auto-sklearn/ensembles/1.0000000012.ensemble', '/tmp/autosklearn_tmp_11054_6865/.auto-sklearn/ensembles/1.0000000013.ensemble', '/tmp/autosklearn_tmp_11054_6865/.auto-sklearn/ensembles/1.0000000014.ensemble', '/tmp/autosklearn_tmp_11054_6865/.auto-sklearn/ensembles/1.0000000015.ensemble', '/tmp/autosklearn_tmp_11054_6865/.auto-sklearn/ensembles/1.0000000016.ensemble', '/tmp/autosklearn_tmp_11054_6865/.auto-sklearn/ensembles/1.0000000017.ensemble', '/tmp/autosklearn_tmp_11054_6865/.auto-sklearn/ensembles/1.0000000018.ensemble', '/tmp/autosklearn_tmp_11054_6865/.auto-sklearn/ensembles/1.0000000019.ensemble', '/tmp/autosklearn_tmp_11054_6865/.auto-sklearn/ensembles/1.0000000020.ensemble', '/tmp/autosklearn_tmp_11054_6865/.auto-sklearn/ensembles/1.0000000021.ensemble', '/tmp/autosklearn_tmp_11054_6865/.auto-sklearn/ensembles/1.0000000022.ensemble', '/tmp/autosklearn_tmp_11054_6865/.auto-sklearn/ensembles/1.0000000023.ensemble', '/tmp/autosklearn_tmp_11054_6865/.auto-sklearn/ensembles/1.0000000024.ensemble', '/tmp/autosklearn_tmp_11054_6865/.auto-sklearn/ensembles/1.0000000025.ensemble', '/tmp/autosklearn_tmp_11054_6865/.auto-sklearn/ensembles/1.0000000026.ensemble', '/tmp/autosklearn_tmp_11054_6865/.auto-sklearn/ensembles/1.0000000027.ensemble', '/tmp/autosklearn_tmp_11054_6865/.auto-sklearn/ensembles/1.0000000028.ensemble', '/tmp/autosklearn_tmp_11054_6865/.auto-sklearn/ensembles/1.0000000029.ensemble', '/tmp/autosklearn_tmp_11054_6865/.auto-sklearn/ensembles/1.0000000030.ensemble', '/tmp/autosklearn_tmp_11054_6865/.auto-sklearn/ensembles/1.0000000031.ensemble', '/tmp/autosklearn_tmp_11054_6865/.auto-sklearn/ensembles/1.0000000032.ensemble', '/tmp/autosklearn_tmp_11054_6865/.auto-sklearn/ensembles/1.0000000033.ensemble', '/tmp/autosklearn_tmp_11054_6865/.auto-sklearn/ensembles/1.0000000034.ensemble', '/tmp/autosklearn_tmp_11054_6865/.auto-sklearn/ensembles/1.0000000035.ensemble', '/tmp/autosklearn_tmp_11054_6865/.auto-sklearn/ensembles/1.0000000036.ensemble', '/tmp/autosklearn_tmp_11054_6865/.auto-sklearn/ensembles/1.0000000037.ensemble', '/tmp/autosklearn_tmp_11054_6865/.auto-sklearn/ensembles/1.0000000038.ensemble', '/tmp/autosklearn_tmp_11054_6865/.auto-sklearn/ensembles/1.0000000039.ensemble', '/tmp/autosklearn_tmp_11054_6865/.auto-sklearn/ensembles/1.0000000040.ensemble', '/tmp/autosklearn_tmp_11054_6865/.auto-sklearn/ensembles/1.0000000041.ensemble', '/tmp/autosklearn_tmp_11054_6865/.auto-sklearn/ensembles/1.0000000042.ensemble', '/tmp/autosklearn_tmp_11054_6865/.auto-sklearn/ensembles/1.0000000043.ensemble', '/tmp/autosklearn_tmp_11054_6865/.auto-sklearn/ensembles/1.0000000044.ensemble', '/tmp/autosklearn_tmp_11054_6865/.auto-sklearn/ensembles/1.0000000045.ensemble', '/tmp/autosklearn_tmp_11054_6865/.auto-sklearn/ensembles/1.0000000046.ensemble', '/tmp/autosklearn_tmp_11054_6865/.auto-sklearn/ensembles/1.0000000047.ensemble', '/tmp/autosklearn_tmp_11054_6865/.auto-sklearn/ensembles/1.0000000048.ensemble', '/tmp/autosklearn_tmp_11054_6865/.auto-sklearn/ensembles/1.0000000049.ensemble', '/tmp/autosklearn_tmp_11054_6865/.auto-sklearn/ensembles/1.0000000050.ensemble', '/tmp/autosklearn_tmp_11054_6865/.auto-sklearn/ensembles/1.0000000051.ensemble', '/tmp/autosklearn_tmp_11054_6865/.auto-sklearn/ensembles/1.0000000052.ensemble', '/tmp/autosklearn_tmp_11054_6865/.auto-sklearn/ensembles/1.0000000053.ensemble', '/tmp/autosklearn_tmp_11054_6865/.auto-sklearn/ensembles/1.0000000054.ensemble', '/tmp/autosklearn_tmp_11054_6865/.auto-sklearn/ensembles/1.0000000055.ensemble', '/tmp/autosklearn_tmp_11054_6865/.auto-sklearn/ensembles/1.0000000056.ensemble', '/tmp/autosklearn_tmp_11054_6865/.auto-sklearn/ensembles/1.0000000057.ensemble', '/tmp/autosklearn_tmp_11054_6865/.auto-sklearn/ensembles/1.0000000058.ensemble', '/tmp/autosklearn_tmp_11054_6865/.auto-sklearn/ensembles/1.0000000059.ensemble', '/tmp/autosklearn_tmp_11054_6865/.auto-sklearn/ensembles/1.0000000060.ensemble', '/tmp/autosklearn_tmp_11054_6865/.auto-sklearn/ensembles/1.0000000061.ensemble', '/tmp/autosklearn_tmp_11054_6865/.auto-sklearn/ensembles/1.0000000062.ensemble', '/tmp/autosklearn_tmp_11054_6865/.auto-sklearn/ensembles/1.0000000063.ensemble', '/tmp/autosklearn_tmp_11054_6865/.auto-sklearn/ensembles/1.0000000064.ensemble', '/tmp/autosklearn_tmp_11054_6865/.auto-sklearn/ensembles/1.0000000065.ensemble', '/tmp/autosklearn_tmp_11054_6865/.auto-sklearn/ensembles/1.0000000066.ensemble', '/tmp/autosklearn_tmp_11054_6865/.auto-sklearn/ensembles/1.0000000067.ensemble', '/tmp/autosklearn_tmp_11054_6865/.auto-sklearn/ensembles/1.0000000068.ensemble', '/tmp/autosklearn_tmp_11054_6865/.auto-sklearn/ensembles/1.0000000069.ensemble', '/tmp/autosklearn_tmp_11054_6865/.auto-sklearn/ensembles/1.0000000070.ensemble', '/tmp/autosklearn_tmp_11054_6865/.auto-sklearn/ensembles/1.0000000071.ensemble']\n"
     ]
    },
    {
     "data": {
      "text/plain": [
       "0.8020833333333334"
      ]
     },
     "execution_count": 66,
     "metadata": {},
     "output_type": "execute_result"
    }
   ],
   "source": [
    "import autosklearn.classification\n",
    "cls = autosklearn.classification.AutoSklearnClassifier()\n",
    "cls.fit(X_train, y_train)\n",
    "predictions = cls.predict(X_val)\n",
    "accuracy_score(y_val, predictions)"
   ]
  },
  {
   "cell_type": "code",
   "execution_count": 116,
   "metadata": {
    "ExecuteTime": {
     "end_time": "2019-09-11T18:51:44.301910Z",
     "start_time": "2019-09-11T18:51:42.401855Z"
    },
    "hidden": true
   },
   "outputs": [
    {
     "data": {
      "text/plain": [
       "ExtraTreesClassifier(bootstrap=False, class_weight=None, criterion='gini',\n",
       "                     max_depth=None, max_features=0.8, max_leaf_nodes=None,\n",
       "                     min_impurity_decrease=0.0, min_impurity_split=None,\n",
       "                     min_samples_leaf=1, min_samples_split=2,\n",
       "                     min_weight_fraction_leaf=0.0, n_estimators=200,\n",
       "                     n_jobs=None, oob_score=False, random_state=None, verbose=0,\n",
       "                     warm_start=False)"
      ]
     },
     "execution_count": 116,
     "metadata": {},
     "output_type": "execute_result"
    }
   ],
   "source": [
    "etc = ExtraTreesClassifier(\n",
    "    **{'max_depth': None, 'n_estimators': 200, 'max_features': 0.8}\n",
    "    )\n",
    "etc.fit(X_train, y_train)"
   ]
  },
  {
   "cell_type": "code",
   "execution_count": 117,
   "metadata": {
    "ExecuteTime": {
     "end_time": "2019-09-11T18:51:46.739110Z",
     "start_time": "2019-09-11T18:51:46.654426Z"
    },
    "hidden": true
   },
   "outputs": [
    {
     "name": "stdout",
     "output_type": "stream",
     "text": [
      "0.8229166666666666\n",
      "              precision    recall  f1-score   support\n",
      "\n",
      "           1       0.83      0.81      0.82       437\n",
      "           2       0.81      0.84      0.82       427\n",
      "\n",
      "    accuracy                           0.82       864\n",
      "   macro avg       0.82      0.82      0.82       864\n",
      "weighted avg       0.82      0.82      0.82       864\n",
      "\n",
      "[[354  83]\n",
      " [ 70 357]]\n"
     ]
    }
   ],
   "source": [
    "y_pred = etc.predict(X_val)\n",
    "print(accuracy_score(y_val, y_pred))\n",
    "print(classification_report(y_val, y_pred))\n",
    "print(confusion_matrix(y_val, y_pred))"
   ]
  },
  {
   "cell_type": "code",
   "execution_count": 103,
   "metadata": {
    "ExecuteTime": {
     "end_time": "2019-09-11T18:47:47.440575Z",
     "start_time": "2019-09-11T18:47:34.096093Z"
    },
    "hidden": true
   },
   "outputs": [
    {
     "data": {
      "text/plain": [
       "RandomForestClassifier(bootstrap=True, class_weight=None, criterion='gini',\n",
       "                       max_depth=None, max_features=0.8, max_leaf_nodes=None,\n",
       "                       min_impurity_decrease=0.0, min_impurity_split=None,\n",
       "                       min_samples_leaf=1, min_samples_split=2,\n",
       "                       min_weight_fraction_leaf=0.0, n_estimators=200,\n",
       "                       n_jobs=None, oob_score=False, random_state=None,\n",
       "                       verbose=0, warm_start=False)"
      ]
     },
     "execution_count": 103,
     "metadata": {},
     "output_type": "execute_result"
    }
   ],
   "source": [
    "from sklearn.ensemble import RandomForestClassifier\n",
    "rf = RandomForestClassifier(\n",
    "    **{'max_depth': None, 'n_estimators': 200, 'max_features': 0.8}\n",
    "    )\n",
    "rf.fit(X_train, y_train)"
   ]
  },
  {
   "cell_type": "code",
   "execution_count": 104,
   "metadata": {
    "ExecuteTime": {
     "end_time": "2019-09-11T18:47:47.527296Z",
     "start_time": "2019-09-11T18:47:47.443194Z"
    },
    "hidden": true
   },
   "outputs": [
    {
     "name": "stdout",
     "output_type": "stream",
     "text": [
      "0.8240740740740741\n",
      "              precision    recall  f1-score   support\n",
      "\n",
      "           1       0.85      0.80      0.82       437\n",
      "           2       0.80      0.85      0.83       427\n",
      "\n",
      "    accuracy                           0.82       864\n",
      "   macro avg       0.82      0.82      0.82       864\n",
      "weighted avg       0.83      0.82      0.82       864\n",
      "\n",
      "[[349  88]\n",
      " [ 64 363]]\n"
     ]
    }
   ],
   "source": [
    "y_pred = etc.predict(X_val)\n",
    "print(accuracy_score(y_val, y_pred))\n",
    "print(classification_report(y_val, y_pred))\n",
    "print(confusion_matrix(y_val, y_pred))"
   ]
  },
  {
   "cell_type": "code",
   "execution_count": 166,
   "metadata": {
    "ExecuteTime": {
     "end_time": "2019-09-11T19:06:41.392497Z",
     "start_time": "2019-09-11T19:06:37.023672Z"
    },
    "hidden": true
   },
   "outputs": [
    {
     "data": {
      "text/plain": [
       "LGBMClassifier(boosting_type='gbdt', bootstrap=False, class_weight=None,\n",
       "               colsample_bytree=1.0, learning_rate=0.1, max_depth=20,\n",
       "               max_features=0.4, min_child_samples=20, min_child_weight=0.001,\n",
       "               min_split_gain=0.0, n_estimators=900, n_jobs=-1, num_leaves=31,\n",
       "               objective=None, random_state=None, reg_alpha=0.0, reg_lambda=0.0,\n",
       "               silent=True, subsample=1.0, subsample_for_bin=200000,\n",
       "               subsample_freq=1)"
      ]
     },
     "execution_count": 166,
     "metadata": {},
     "output_type": "execute_result"
    }
   ],
   "source": [
    "from lightgbm import LGBMClassifier\n",
    "lgb = LGBMClassifier(bootstrap=False,\n",
    "    **{'n_estimators': 900, 'max_depth': 20, 'max_features': 0.4}\n",
    "\n",
    "    )\n",
    "lgb.fit(X_train, y_train)"
   ]
  },
  {
   "cell_type": "code",
   "execution_count": 167,
   "metadata": {
    "ExecuteTime": {
     "end_time": "2019-09-11T19:06:42.066446Z",
     "start_time": "2019-09-11T19:06:41.398764Z"
    },
    "hidden": true
   },
   "outputs": [
    {
     "name": "stdout",
     "output_type": "stream",
     "text": [
      "1.0\n",
      "0.8333333333333334\n",
      "              precision    recall  f1-score   support\n",
      "\n",
      "           1       0.84      0.83      0.83       437\n",
      "           2       0.83      0.84      0.83       427\n",
      "\n",
      "    accuracy                           0.83       864\n",
      "   macro avg       0.83      0.83      0.83       864\n",
      "weighted avg       0.83      0.83      0.83       864\n",
      "\n",
      "[[363  74]\n",
      " [ 70 357]]\n"
     ]
    }
   ],
   "source": [
    "y_pred_train = lgb.predict(X_train)\n",
    "print(accuracy_score(y_train, y_pred_train))\n",
    "\n",
    "y_pred = lgb.predict(X_val)\n",
    "print(accuracy_score(y_val, y_pred))\n",
    "print(classification_report(y_val, y_pred))\n",
    "print(confusion_matrix(y_val, y_pred))"
   ]
  },
  {
   "cell_type": "code",
   "execution_count": 142,
   "metadata": {
    "ExecuteTime": {
     "end_time": "2019-09-11T19:01:48.052520Z",
     "start_time": "2019-09-11T19:01:48.024994Z"
    },
    "hidden": true
   },
   "outputs": [
    {
     "data": {
      "text/plain": [
       "KNeighborsClassifier(algorithm='auto', leaf_size=30, metric='minkowski',\n",
       "                     metric_params=None, n_jobs=None, n_neighbors=5, p=2,\n",
       "                     weights='uniform')"
      ]
     },
     "execution_count": 142,
     "metadata": {},
     "output_type": "execute_result"
    }
   ],
   "source": [
    "from sklearn.neighbors import KNeighborsClassifier\n",
    "knn = KNeighborsClassifier()\n",
    "knn.fit(X_train, y_train)"
   ]
  },
  {
   "cell_type": "code",
   "execution_count": 143,
   "metadata": {
    "ExecuteTime": {
     "end_time": "2019-09-11T19:01:50.001066Z",
     "start_time": "2019-09-11T19:01:49.734962Z"
    },
    "hidden": true
   },
   "outputs": [
    {
     "name": "stdout",
     "output_type": "stream",
     "text": [
      "0.8388310185185185\n",
      "0.7326388888888888\n",
      "              precision    recall  f1-score   support\n",
      "\n",
      "           1       0.73      0.74      0.74       437\n",
      "           2       0.73      0.72      0.73       427\n",
      "\n",
      "    accuracy                           0.73       864\n",
      "   macro avg       0.73      0.73      0.73       864\n",
      "weighted avg       0.73      0.73      0.73       864\n",
      "\n",
      "[[325 112]\n",
      " [119 308]]\n"
     ]
    }
   ],
   "source": [
    "y_pred_train = knn.predict(X_train)\n",
    "print(accuracy_score(y_train, y_pred_train))\n",
    "\n",
    "y_pred = knn.predict(X_val)\n",
    "print(accuracy_score(y_val, y_pred))\n",
    "print(classification_report(y_val, y_pred))\n",
    "print(confusion_matrix(y_val, y_pred))"
   ]
  },
  {
   "cell_type": "code",
   "execution_count": null,
   "metadata": {
    "hidden": true
   },
   "outputs": [],
   "source": []
  },
  {
   "cell_type": "code",
   "execution_count": 114,
   "metadata": {
    "ExecuteTime": {
     "end_time": "2019-09-11T18:50:27.235876Z",
     "start_time": "2019-09-11T18:50:26.710296Z"
    },
    "hidden": true
   },
   "outputs": [
    {
     "data": {
      "text/plain": [
       "XGBClassifier(base_score=0.5, booster='gbtree', colsample_bylevel=1,\n",
       "              colsample_bynode=1, colsample_bytree=1, gamma=0,\n",
       "              learning_rate=0.1, max_delta_step=0, max_depth=3,\n",
       "              min_child_weight=1, missing=None, n_estimators=100, n_jobs=1,\n",
       "              nthread=None, objective='binary:logistic', random_state=0,\n",
       "              reg_alpha=0, reg_lambda=1, scale_pos_weight=1, seed=None,\n",
       "              silent=None, subsample=1, verbosity=1)"
      ]
     },
     "execution_count": 114,
     "metadata": {},
     "output_type": "execute_result"
    }
   ],
   "source": [
    "from xgboost import XGBClassifier\n",
    "xgb = XGBClassifier(\n",
    "    \n",
    "    )\n",
    "xgb.fit(X_train, y_train)\n"
   ]
  },
  {
   "cell_type": "code",
   "execution_count": 115,
   "metadata": {
    "ExecuteTime": {
     "end_time": "2019-09-11T18:50:43.987488Z",
     "start_time": "2019-09-11T18:50:43.927381Z"
    },
    "hidden": true
   },
   "outputs": [
    {
     "name": "stdout",
     "output_type": "stream",
     "text": [
      "0.7662037037037037\n",
      "              precision    recall  f1-score   support\n",
      "\n",
      "           1       0.77      0.77      0.77       437\n",
      "           2       0.76      0.76      0.76       427\n",
      "\n",
      "    accuracy                           0.77       864\n",
      "   macro avg       0.77      0.77      0.77       864\n",
      "weighted avg       0.77      0.77      0.77       864\n",
      "\n",
      "[[337 100]\n",
      " [102 325]]\n"
     ]
    }
   ],
   "source": [
    "y_pred = xgb.predict(X_val)\n",
    "print(accuracy_score(y_val, y_pred))\n",
    "print(classification_report(y_val, y_pred))\n",
    "print(confusion_matrix(y_val, y_pred))"
   ]
  },
  {
   "cell_type": "markdown",
   "metadata": {},
   "source": [
    "## TRAIN FINAL MODEL"
   ]
  },
  {
   "cell_type": "code",
   "execution_count": 27,
   "metadata": {
    "ExecuteTime": {
     "end_time": "2019-09-12T11:24:48.614983Z",
     "start_time": "2019-09-12T11:24:48.591242Z"
    }
   },
   "outputs": [],
   "source": [
    "X_, X_val, y_, y_val = train_test_split(X, y, test_size=0.1)\n",
    "X_filtered = X_[y < 3]\n",
    "y_filtered = y_[y < 3]"
   ]
  },
  {
   "cell_type": "code",
   "execution_count": 41,
   "metadata": {
    "ExecuteTime": {
     "end_time": "2019-09-12T12:17:53.808254Z",
     "start_time": "2019-09-12T12:17:53.083640Z"
    }
   },
   "outputs": [],
   "source": [
    "## Model for classs 1 x class 2\n",
    "from lightgbm import LGBMClassifier\n",
    "lgb = LGBMClassifier(bootstrap=False,\n",
    "    **{'n_estimators': 900, 'max_depth': 20, 'max_features': 0.4}\n",
    "\n",
    "    )"
   ]
  },
  {
   "cell_type": "code",
   "execution_count": 92,
   "metadata": {
    "ExecuteTime": {
     "end_time": "2019-09-12T11:45:21.057571Z",
     "start_time": "2019-09-12T11:45:20.180781Z"
    }
   },
   "outputs": [
    {
     "data": {
      "text/plain": [
       "LGBMClassifier(boosting_type='gbdt', bootstrap=False, class_weight=None,\n",
       "               colsample_bytree=1.0, importance_type='split', learning_rate=0.1,\n",
       "               max_depth=20, max_features=0.4, min_child_samples=20,\n",
       "               min_child_weight=0.001, min_split_gain=0.0, n_estimators=900,\n",
       "               n_jobs=-1, num_leaves=31, objective=None, random_state=None,\n",
       "               reg_alpha=0.0, reg_lambda=0.0, silent=True, subsample=1.0,\n",
       "               subsample_for_bin=200000, subsample_freq=0)"
      ]
     },
     "execution_count": 92,
     "metadata": {},
     "output_type": "execute_result"
    }
   ],
   "source": [
    "lgb.fit(X_filtered, y_filtered)"
   ]
  },
  {
   "cell_type": "code",
   "execution_count": 29,
   "metadata": {
    "ExecuteTime": {
     "end_time": "2019-09-12T11:24:53.760305Z",
     "start_time": "2019-09-12T11:24:53.704548Z"
    }
   },
   "outputs": [
    {
     "name": "stdout",
     "output_type": "stream",
     "text": [
      "0.23875661375661375\n",
      "              precision    recall  f1-score   support\n",
      "\n",
      "           1       0.41      0.83      0.55       212\n",
      "           2       0.17      0.86      0.29       216\n",
      "           3       0.00      0.00      0.00       203\n",
      "           4       0.00      0.00      0.00       235\n",
      "           5       0.00      0.00      0.00       214\n",
      "           6       0.00      0.00      0.00       223\n",
      "           7       0.00      0.00      0.00       209\n",
      "\n",
      "    accuracy                           0.24      1512\n",
      "   macro avg       0.08      0.24      0.12      1512\n",
      "weighted avg       0.08      0.24      0.12      1512\n",
      "\n",
      "[[175  37   0   0   0   0   0]\n",
      " [ 30 186   0   0   0   0   0]\n",
      " [  0 203   0   0   0   0   0]\n",
      " [  0 235   0   0   0   0   0]\n",
      " [ 12 202   0   0   0   0   0]\n",
      " [  2 221   0   0   0   0   0]\n",
      " [206   3   0   0   0   0   0]]\n"
     ]
    }
   ],
   "source": [
    "y_pred = lgb.predict(X_val)\n",
    "print(accuracy_score(y_val, y_pred))\n",
    "print(classification_report(y_val, y_pred))\n",
    "print(confusion_matrix(y_val, y_pred))"
   ]
  },
  {
   "cell_type": "code",
   "execution_count": 30,
   "metadata": {
    "ExecuteTime": {
     "end_time": "2019-09-12T11:26:05.737872Z",
     "start_time": "2019-09-12T11:26:05.640288Z"
    }
   },
   "outputs": [
    {
     "name": "stdout",
     "output_type": "stream",
     "text": [
      "1.0\n",
      "              precision    recall  f1-score   support\n",
      "\n",
      "           1       1.00      1.00      1.00      1948\n",
      "           2       1.00      1.00      1.00      1944\n",
      "\n",
      "    accuracy                           1.00      3892\n",
      "   macro avg       1.00      1.00      1.00      3892\n",
      "weighted avg       1.00      1.00      1.00      3892\n",
      "\n",
      "[[1948    0]\n",
      " [   0 1944]]\n"
     ]
    }
   ],
   "source": [
    "y_pred = lgb.predict(X_filtered)\n",
    "print(accuracy_score(y_filtered, y_pred))\n",
    "print(classification_report(y_filtered, y_pred))\n",
    "print(confusion_matrix(y_filtered, y_pred))"
   ]
  },
  {
   "cell_type": "markdown",
   "metadata": {},
   "source": [
    "# Mount the ensemble"
   ]
  },
  {
   "cell_type": "code",
   "execution_count": 31,
   "metadata": {
    "ExecuteTime": {
     "end_time": "2019-09-12T11:26:22.049464Z",
     "start_time": "2019-09-12T11:26:22.042426Z"
    }
   },
   "outputs": [],
   "source": [
    "X_, X_val, y_, y_val = train_test_split(X, y, test_size=0.2)"
   ]
  },
  {
   "cell_type": "markdown",
   "metadata": {},
   "source": [
    "### Trees Classifiers and ensemble"
   ]
  },
  {
   "cell_type": "code",
   "execution_count": 42,
   "metadata": {
    "ExecuteTime": {
     "end_time": "2019-09-12T12:18:01.004769Z",
     "start_time": "2019-09-12T12:18:01.002645Z"
    }
   },
   "outputs": [],
   "source": [
    "rf = RandomForestClassifier(n_estimators=200,\n",
    "                            bootstrap=False)\n",
    "# rf.fit(X_, y_)"
   ]
  },
  {
   "cell_type": "code",
   "execution_count": 43,
   "metadata": {
    "ExecuteTime": {
     "end_time": "2019-09-12T12:18:01.364124Z",
     "start_time": "2019-09-12T12:18:01.360869Z"
    }
   },
   "outputs": [],
   "source": [
    "etc = ExtraTreesClassifier(\n",
    "    bootstrap=False,\n",
    "    **{'max_depth': 32, 'n_estimators': 500, 'max_features': 0.4}\n",
    "    )\n",
    "# etc.fit(X_, y_)"
   ]
  },
  {
   "cell_type": "code",
   "execution_count": 44,
   "metadata": {
    "ExecuteTime": {
     "end_time": "2019-09-12T12:18:02.404781Z",
     "start_time": "2019-09-12T12:18:02.402551Z"
    }
   },
   "outputs": [],
   "source": [
    "lgb2 = LGBMClassifier(n_estimators=400,\n",
    "                      num_leaves=100)\n",
    "# lgb2.fit(X_, y_)"
   ]
  },
  {
   "cell_type": "code",
   "execution_count": 45,
   "metadata": {
    "ExecuteTime": {
     "end_time": "2019-09-12T12:18:04.724482Z",
     "start_time": "2019-09-12T12:18:03.715619Z"
    }
   },
   "outputs": [],
   "source": [
    "from mlxtend.classifier import StackingCVClassifier\n",
    "\n",
    "ensemble = [('etc', etc),\n",
    "            ('rf', rf),\n",
    "            ('lgb', lgb2)]\n",
    "\n",
    "stack = StackingCVClassifier(classifiers=[clf for label, clf in ensemble],\n",
    "                             meta_classifier=etc,\n",
    "                             cv=5,\n",
    "                             use_probas=True,\n",
    "                             use_features_in_secondary=True,\n",
    "                             verbose=1,\n",
    "                             random_state=0)"
   ]
  },
  {
   "cell_type": "code",
   "execution_count": 35,
   "metadata": {
    "ExecuteTime": {
     "end_time": "2019-09-12T11:29:17.843918Z",
     "start_time": "2019-09-12T11:26:57.193556Z"
    }
   },
   "outputs": [
    {
     "name": "stdout",
     "output_type": "stream",
     "text": [
      "Fitting 3 classifiers...\n",
      "Fitting classifier1: extratreesclassifier (1/3)\n"
     ]
    },
    {
     "name": "stderr",
     "output_type": "stream",
     "text": [
      "[Parallel(n_jobs=1)]: Using backend SequentialBackend with 1 concurrent workers.\n",
      "[Parallel(n_jobs=1)]: Done   5 out of   5 | elapsed:   29.2s finished\n",
      "[Parallel(n_jobs=1)]: Using backend SequentialBackend with 1 concurrent workers.\n"
     ]
    },
    {
     "name": "stdout",
     "output_type": "stream",
     "text": [
      "Fitting classifier2: randomforestclassifier (2/3)\n"
     ]
    },
    {
     "name": "stderr",
     "output_type": "stream",
     "text": [
      "[Parallel(n_jobs=1)]: Done   5 out of   5 | elapsed:   29.4s finished\n",
      "[Parallel(n_jobs=1)]: Using backend SequentialBackend with 1 concurrent workers.\n"
     ]
    },
    {
     "name": "stdout",
     "output_type": "stream",
     "text": [
      "Fitting classifier3: lgbmclassifier (3/3)\n"
     ]
    },
    {
     "name": "stderr",
     "output_type": "stream",
     "text": [
      "[Parallel(n_jobs=1)]: Done   5 out of   5 | elapsed:   49.0s finished\n"
     ]
    },
    {
     "data": {
      "text/plain": [
       "StackingCVClassifier(classifiers=[ExtraTreesClassifier(bootstrap=False,\n",
       "                                                       class_weight=None,\n",
       "                                                       criterion='gini',\n",
       "                                                       max_depth=32,\n",
       "                                                       max_features=0.4,\n",
       "                                                       max_leaf_nodes=None,\n",
       "                                                       min_impurity_decrease=0.0,\n",
       "                                                       min_impurity_split=None,\n",
       "                                                       min_samples_leaf=1,\n",
       "                                                       min_samples_split=2,\n",
       "                                                       min_weight_fraction_leaf=0.0,\n",
       "                                                       n_estimators=500,\n",
       "                                                       n_jobs=None,\n",
       "                                                       oob_score=False,\n",
       "                                                       random_state=None,\n",
       "                                                       verbose=0,\n",
       "                                                       war...\n",
       "                                                          min_impurity_split=None,\n",
       "                                                          min_samples_leaf=1,\n",
       "                                                          min_samples_split=2,\n",
       "                                                          min_weight_fraction_leaf=0.0,\n",
       "                                                          n_estimators=500,\n",
       "                                                          n_jobs=None,\n",
       "                                                          oob_score=False,\n",
       "                                                          random_state=None,\n",
       "                                                          verbose=0,\n",
       "                                                          warm_start=False),\n",
       "                     n_jobs=None, pre_dispatch='2*n_jobs', random_state=0,\n",
       "                     shuffle=True, store_train_meta_features=False,\n",
       "                     stratify=True, use_clones=True,\n",
       "                     use_features_in_secondary=True, use_probas=True,\n",
       "                     verbose=1)"
      ]
     },
     "execution_count": 35,
     "metadata": {},
     "output_type": "execute_result"
    }
   ],
   "source": [
    "stack.fit(X_, y_)"
   ]
  },
  {
   "cell_type": "code",
   "execution_count": 36,
   "metadata": {
    "ExecuteTime": {
     "end_time": "2019-09-12T11:29:21.093735Z",
     "start_time": "2019-09-12T11:29:17.845318Z"
    }
   },
   "outputs": [
    {
     "name": "stdout",
     "output_type": "stream",
     "text": [
      "0.9995039682539683\n",
      "0.8984788359788359\n"
     ]
    }
   ],
   "source": [
    "print(stack.score(X_, y_))\n",
    "print(stack.score(X_val, y_val))"
   ]
  },
  {
   "cell_type": "code",
   "execution_count": 37,
   "metadata": {
    "ExecuteTime": {
     "end_time": "2019-09-12T11:29:21.999202Z",
     "start_time": "2019-09-12T11:29:21.096021Z"
    }
   },
   "outputs": [
    {
     "name": "stdout",
     "output_type": "stream",
     "text": [
      "[[360  61   0   0   3   0  11]\n",
      " [ 61 347  10   0  16   7   1]\n",
      " [  0   6 401  17   1  35   0]\n",
      " [  0   0   7 395   0   5   0]\n",
      " [  0  10   2   0 400   3   0]\n",
      " [  0   0  31   5   2 384   0]\n",
      " [ 11   2   0   0   0   0 430]]\n",
      "              precision    recall  f1-score   support\n",
      "\n",
      "           1       0.83      0.83      0.83       435\n",
      "           2       0.81      0.79      0.80       442\n",
      "           3       0.89      0.87      0.88       460\n",
      "           4       0.95      0.97      0.96       407\n",
      "           5       0.95      0.96      0.96       415\n",
      "           6       0.88      0.91      0.90       422\n",
      "           7       0.97      0.97      0.97       443\n",
      "\n",
      "    accuracy                           0.90      3024\n",
      "   macro avg       0.90      0.90      0.90      3024\n",
      "weighted avg       0.90      0.90      0.90      3024\n",
      "\n"
     ]
    }
   ],
   "source": [
    "y_pred = stack.predict(X_val)\n",
    "print(confusion_matrix(y_val, y_pred))\n",
    "print(classification_report(y_val, y_pred))"
   ]
  },
  {
   "cell_type": "markdown",
   "metadata": {
    "ExecuteTime": {
     "end_time": "2019-09-11T20:05:11.964752Z",
     "start_time": "2019-09-11T20:05:11.960457Z"
    }
   },
   "source": [
    "### Combinar com classificador da classe 1 x 2"
   ]
  },
  {
   "cell_type": "code",
   "execution_count": 38,
   "metadata": {
    "ExecuteTime": {
     "end_time": "2019-09-12T11:32:50.892874Z",
     "start_time": "2019-09-12T11:32:50.829066Z"
    }
   },
   "outputs": [],
   "source": [
    "y_pred_proba_1x2 = lgb.predict_proba(X_val)"
   ]
  },
  {
   "cell_type": "code",
   "execution_count": 39,
   "metadata": {
    "ExecuteTime": {
     "end_time": "2019-09-12T11:32:52.415653Z",
     "start_time": "2019-09-12T11:32:51.676264Z"
    }
   },
   "outputs": [],
   "source": [
    "y_pred_proba = stack.predict_proba(X_val)"
   ]
  },
  {
   "cell_type": "code",
   "execution_count": 55,
   "metadata": {
    "ExecuteTime": {
     "end_time": "2019-09-12T12:28:13.722499Z",
     "start_time": "2019-09-12T12:28:13.719195Z"
    }
   },
   "outputs": [],
   "source": [
    "def combine_predictions(pred_proba_12, pred_proba):\n",
    "    pred_proba_ensembled = pred_proba.copy()\n",
    "    pred_proba_ensembled[:, :2] = np.clip(pred_proba[:, :2] * (1 + 1.9 * np.log(pred_proba_12 + 0.85)), 0., 1.)\n",
    "    return np.argmax(pred_proba_ensembled, axis = 1) + 1\n",
    "    "
   ]
  },
  {
   "cell_type": "code",
   "execution_count": 83,
   "metadata": {
    "ExecuteTime": {
     "end_time": "2019-09-12T11:38:53.226678Z",
     "start_time": "2019-09-12T11:38:53.218678Z"
    }
   },
   "outputs": [],
   "source": [
    "y_pred_ensembled = combine_predictions(y_pred_proba_1x2, y_pred_proba)"
   ]
  },
  {
   "cell_type": "code",
   "execution_count": 84,
   "metadata": {
    "ExecuteTime": {
     "end_time": "2019-09-12T11:38:53.665558Z",
     "start_time": "2019-09-12T11:38:53.659010Z"
    }
   },
   "outputs": [
    {
     "data": {
      "text/plain": [
       "0.041666666666666664"
      ]
     },
     "execution_count": 84,
     "metadata": {},
     "output_type": "execute_result"
    }
   ],
   "source": [
    "(y_pred_ensembled != y_pred).sum() / len(y_pred)"
   ]
  },
  {
   "cell_type": "code",
   "execution_count": 85,
   "metadata": {
    "ExecuteTime": {
     "end_time": "2019-09-12T11:38:55.579237Z",
     "start_time": "2019-09-12T11:38:55.566308Z"
    }
   },
   "outputs": [
    {
     "name": "stdout",
     "output_type": "stream",
     "text": [
      "0.9265873015873016\n",
      "              precision    recall  f1-score   support\n",
      "\n",
      "           1       0.94      0.93      0.94       435\n",
      "           2       0.90      0.91      0.90       442\n",
      "           3       0.89      0.86      0.88       460\n",
      "           4       0.95      0.97      0.96       407\n",
      "           5       0.95      0.95      0.95       415\n",
      "           6       0.88      0.91      0.89       422\n",
      "           7       0.98      0.96      0.97       443\n",
      "\n",
      "    accuracy                           0.93      3024\n",
      "   macro avg       0.93      0.93      0.93      3024\n",
      "weighted avg       0.93      0.93      0.93      3024\n",
      "\n",
      "[[406  16   0   0   5   0   8]\n",
      " [ 12 401   8   0  12   7   2]\n",
      " [  0  11 396  17   1  35   0]\n",
      " [  0   0   7 395   0   5   0]\n",
      " [  0  15   2   0 395   3   0]\n",
      " [  0   3  31   5   1 382   0]\n",
      " [ 15   1   0   0   0   0 427]]\n"
     ]
    }
   ],
   "source": [
    "print(accuracy_score(y_val, y_pred_ensembled))\n",
    "print(classification_report(y_val, y_pred_ensembled))\n",
    "print(confusion_matrix(y_val, y_pred_ensembled))\n"
   ]
  },
  {
   "cell_type": "markdown",
   "metadata": {
    "ExecuteTime": {
     "end_time": "2019-09-11T20:12:04.643484Z",
     "start_time": "2019-09-11T20:09:03.302352Z"
    }
   },
   "source": [
    "### Fit with all data"
   ]
  },
  {
   "cell_type": "code",
   "execution_count": 46,
   "metadata": {
    "ExecuteTime": {
     "end_time": "2019-09-12T12:18:14.344356Z",
     "start_time": "2019-09-12T12:18:13.245829Z"
    }
   },
   "outputs": [
    {
     "data": {
      "text/plain": [
       "LGBMClassifier(boosting_type='gbdt', bootstrap=False, class_weight=None,\n",
       "               colsample_bytree=1.0, importance_type='split', learning_rate=0.1,\n",
       "               max_depth=20, max_features=0.4, min_child_samples=20,\n",
       "               min_child_weight=0.001, min_split_gain=0.0, n_estimators=900,\n",
       "               n_jobs=-1, num_leaves=31, objective=None, random_state=None,\n",
       "               reg_alpha=0.0, reg_lambda=0.0, silent=True, subsample=1.0,\n",
       "               subsample_for_bin=200000, subsample_freq=0)"
      ]
     },
     "execution_count": 46,
     "metadata": {},
     "output_type": "execute_result"
    }
   ],
   "source": [
    "X_filtered2 = X[y < 3]\n",
    "y_filtered2 = y[y < 3]\n",
    "lgb.fit(X_filtered2, y_filtered2)"
   ]
  },
  {
   "cell_type": "code",
   "execution_count": 47,
   "metadata": {
    "ExecuteTime": {
     "end_time": "2019-09-12T12:20:59.123117Z",
     "start_time": "2019-09-12T12:18:15.233859Z"
    }
   },
   "outputs": [
    {
     "name": "stdout",
     "output_type": "stream",
     "text": [
      "Fitting 3 classifiers...\n",
      "Fitting classifier1: extratreesclassifier (1/3)\n"
     ]
    },
    {
     "name": "stderr",
     "output_type": "stream",
     "text": [
      "[Parallel(n_jobs=1)]: Using backend SequentialBackend with 1 concurrent workers.\n",
      "[Parallel(n_jobs=1)]: Done   5 out of   5 | elapsed:   37.5s finished\n",
      "[Parallel(n_jobs=1)]: Using backend SequentialBackend with 1 concurrent workers.\n"
     ]
    },
    {
     "name": "stdout",
     "output_type": "stream",
     "text": [
      "Fitting classifier2: randomforestclassifier (2/3)\n"
     ]
    },
    {
     "name": "stderr",
     "output_type": "stream",
     "text": [
      "[Parallel(n_jobs=1)]: Done   5 out of   5 | elapsed:   32.6s finished\n",
      "[Parallel(n_jobs=1)]: Using backend SequentialBackend with 1 concurrent workers.\n"
     ]
    },
    {
     "name": "stdout",
     "output_type": "stream",
     "text": [
      "Fitting classifier3: lgbmclassifier (3/3)\n"
     ]
    },
    {
     "name": "stderr",
     "output_type": "stream",
     "text": [
      "[Parallel(n_jobs=1)]: Done   5 out of   5 | elapsed:   52.9s finished\n"
     ]
    },
    {
     "data": {
      "text/plain": [
       "StackingCVClassifier(classifiers=[ExtraTreesClassifier(bootstrap=False,\n",
       "                                                       class_weight=None,\n",
       "                                                       criterion='gini',\n",
       "                                                       max_depth=32,\n",
       "                                                       max_features=0.4,\n",
       "                                                       max_leaf_nodes=None,\n",
       "                                                       min_impurity_decrease=0.0,\n",
       "                                                       min_impurity_split=None,\n",
       "                                                       min_samples_leaf=1,\n",
       "                                                       min_samples_split=2,\n",
       "                                                       min_weight_fraction_leaf=0.0,\n",
       "                                                       n_estimators=500,\n",
       "                                                       n_jobs=None,\n",
       "                                                       oob_score=False,\n",
       "                                                       random_state=None,\n",
       "                                                       verbose=0,\n",
       "                                                       war...\n",
       "                                                          min_impurity_split=None,\n",
       "                                                          min_samples_leaf=1,\n",
       "                                                          min_samples_split=2,\n",
       "                                                          min_weight_fraction_leaf=0.0,\n",
       "                                                          n_estimators=500,\n",
       "                                                          n_jobs=None,\n",
       "                                                          oob_score=False,\n",
       "                                                          random_state=None,\n",
       "                                                          verbose=0,\n",
       "                                                          warm_start=False),\n",
       "                     n_jobs=None, pre_dispatch='2*n_jobs', random_state=0,\n",
       "                     shuffle=True, store_train_meta_features=False,\n",
       "                     stratify=True, use_clones=True,\n",
       "                     use_features_in_secondary=True, use_probas=True,\n",
       "                     verbose=1)"
      ]
     },
     "execution_count": 47,
     "metadata": {},
     "output_type": "execute_result"
    }
   ],
   "source": [
    "stack.fit(X, y)"
   ]
  },
  {
   "cell_type": "code",
   "execution_count": 94,
   "metadata": {
    "ExecuteTime": {
     "end_time": "2019-09-12T11:46:25.867817Z",
     "start_time": "2019-09-12T11:46:25.078454Z"
    }
   },
   "outputs": [
    {
     "name": "stdout",
     "output_type": "stream",
     "text": [
      "[[435   0   0   0   0   0   0]\n",
      " [  5 437   0   0   0   0   0]\n",
      " [  0   0 460   0   0   0   0]\n",
      " [  0   0   0 407   0   0   0]\n",
      " [  0   0   0   0 415   0   0]\n",
      " [  0   0   0   0   0 422   0]\n",
      " [  0   0   0   0   0   0 443]]\n",
      "              precision    recall  f1-score   support\n",
      "\n",
      "           1       0.99      1.00      0.99       435\n",
      "           2       1.00      0.99      0.99       442\n",
      "           3       1.00      1.00      1.00       460\n",
      "           4       1.00      1.00      1.00       407\n",
      "           5       1.00      1.00      1.00       415\n",
      "           6       1.00      1.00      1.00       422\n",
      "           7       1.00      1.00      1.00       443\n",
      "\n",
      "    accuracy                           1.00      3024\n",
      "   macro avg       1.00      1.00      1.00      3024\n",
      "weighted avg       1.00      1.00      1.00      3024\n",
      "\n"
     ]
    }
   ],
   "source": [
    "y_pred_proba = stack.predict_proba(X_val)\n",
    "y_pred_proba_12 = lgb.predict_proba(X_val)\n",
    "y_ensembled = combine_predictions(y_pred_proba_12, y_pred_proba)\n",
    "print(confusion_matrix(y_val, y_ensembled))\n",
    "print(classification_report(y_val, y_ensembled))"
   ]
  },
  {
   "cell_type": "markdown",
   "metadata": {},
   "source": [
    "## Predictions"
   ]
  },
  {
   "cell_type": "code",
   "execution_count": 96,
   "metadata": {
    "ExecuteTime": {
     "end_time": "2019-09-12T11:46:55.401276Z",
     "start_time": "2019-09-12T11:46:55.398313Z"
    }
   },
   "outputs": [
    {
     "name": "stdout",
     "output_type": "stream",
     "text": [
      "(565892, 36)\n"
     ]
    }
   ],
   "source": [
    "print(X_test.shape)"
   ]
  },
  {
   "cell_type": "code",
   "execution_count": 48,
   "metadata": {
    "ExecuteTime": {
     "end_time": "2019-09-12T12:21:06.096447Z",
     "start_time": "2019-09-12T12:20:59.124921Z"
    }
   },
   "outputs": [],
   "source": [
    "test_pred_proba_12 = lgb.predict_proba(X_test)"
   ]
  },
  {
   "cell_type": "code",
   "execution_count": 49,
   "metadata": {
    "ExecuteTime": {
     "end_time": "2019-09-12T12:22:51.351404Z",
     "start_time": "2019-09-12T12:21:06.097927Z"
    }
   },
   "outputs": [],
   "source": [
    "test_pred_proba = stack.predict_proba(X_test)"
   ]
  },
  {
   "cell_type": "code",
   "execution_count": 56,
   "metadata": {
    "ExecuteTime": {
     "end_time": "2019-09-12T12:29:43.655213Z",
     "start_time": "2019-09-12T12:29:43.594968Z"
    }
   },
   "outputs": [],
   "source": [
    "test_pred = combine_predictions(test_pred_proba_12, test_pred_proba)"
   ]
  },
  {
   "cell_type": "code",
   "execution_count": 57,
   "metadata": {
    "ExecuteTime": {
     "end_time": "2019-09-12T12:29:47.841357Z",
     "start_time": "2019-09-12T12:29:46.708004Z"
    }
   },
   "outputs": [],
   "source": [
    "# Save test predictions to file\n",
    "output = pd.DataFrame({'ID': test_ids,\n",
    "                       'Cover_Type': test_pred})\n",
    "output.to_csv('submission.csv', index=False)"
   ]
  },
  {
   "cell_type": "code",
   "execution_count": 54,
   "metadata": {
    "ExecuteTime": {
     "end_time": "2019-09-12T12:25:27.791429Z",
     "start_time": "2019-09-12T12:23:37.421905Z"
    }
   },
   "outputs": [],
   "source": [
    "# Submit only stack\n",
    "test_pred_stack = stack.predict(X_test)\n",
    "# Save test predictions to file\n",
    "output = pd.DataFrame({'ID': test_ids,\n",
    "                       'Cover_Type': test_pred_stack})\n",
    "output.to_csv('submission_stack.csv', index=False)"
   ]
  },
  {
   "cell_type": "code",
   "execution_count": null,
   "metadata": {},
   "outputs": [],
   "source": []
  }
 ],
 "metadata": {
  "kernelspec": {
   "display_name": "forestypes-venv",
   "language": "python",
   "name": "forestypes-venv"
  },
  "language_info": {
   "codemirror_mode": {
    "name": "ipython",
    "version": 3
   },
   "file_extension": ".py",
   "mimetype": "text/x-python",
   "name": "python",
   "nbconvert_exporter": "python",
   "pygments_lexer": "ipython3",
   "version": "3.5.2"
  }
 },
 "nbformat": 4,
 "nbformat_minor": 1
}
