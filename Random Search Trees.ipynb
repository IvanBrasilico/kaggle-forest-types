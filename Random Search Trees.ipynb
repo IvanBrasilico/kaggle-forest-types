{
 "cells": [
  {
   "cell_type": "markdown",
   "metadata": {},
   "source": [
    "## On EDA, it was demonstrated that the variables are strong predictors, but only Tree-like models where succesful in separating boundaries. Also, there is a strong tendency on overfitting. So, I will try to tune decision trees, random forests or boosting methods"
   ]
  },
  {
   "cell_type": "code",
   "execution_count": 1,
   "metadata": {
    "ExecuteTime": {
     "end_time": "2019-09-05T00:16:55.574274Z",
     "start_time": "2019-09-05T00:16:55.571815Z"
    }
   },
   "outputs": [],
   "source": [
    "DATA_DIR = '/kaggle/input/learn-together'\n",
    "DATA_DIR = 'data'"
   ]
  },
  {
   "cell_type": "code",
   "execution_count": 2,
   "metadata": {
    "ExecuteTime": {
     "end_time": "2019-09-05T00:16:58.046729Z",
     "start_time": "2019-09-05T00:16:55.919555Z"
    }
   },
   "outputs": [],
   "source": [
    "from sklearn.ensemble import RandomForestClassifier\n",
    "from sklearn.tree import DecisionTreeClassifier\n",
    "from sklearn.model_selection import train_test_split\n",
    "import pandas as pd\n",
    "import matplotlib.pyplot as plt\n",
    "import os\n",
    "import seaborn as sns\n",
    "%matplotlib inline\n",
    "\n"
   ]
  },
  {
   "cell_type": "code",
   "execution_count": 3,
   "metadata": {
    "ExecuteTime": {
     "end_time": "2019-09-05T00:17:05.308693Z",
     "start_time": "2019-09-05T00:16:58.048130Z"
    }
   },
   "outputs": [],
   "source": [
    "train_df=pd.read_csv(os.path.join(DATA_DIR, 'train.csv'))\n",
    "test_df=pd.read_csv(os.path.join(DATA_DIR, 'test.csv'))"
   ]
  },
  {
   "cell_type": "code",
   "execution_count": 4,
   "metadata": {
    "ExecuteTime": {
     "end_time": "2019-09-05T00:17:06.761995Z",
     "start_time": "2019-09-05T00:17:05.317621Z"
    }
   },
   "outputs": [],
   "source": [
    "train_df = train_df.drop([\"Id\"], axis = 1)\n",
    "test_ids = test_df[\"Id\"]\n",
    "test_df = test_df.drop([\"Id\"], axis = 1)"
   ]
  },
  {
   "cell_type": "code",
   "execution_count": 5,
   "metadata": {
    "ExecuteTime": {
     "end_time": "2019-09-05T00:17:07.938761Z",
     "start_time": "2019-09-05T00:17:06.768929Z"
    }
   },
   "outputs": [],
   "source": [
    "tree = DecisionTreeClassifier(max_depth=10,\n",
    "    min_samples_split=3,\n",
    "    min_samples_leaf=2)"
   ]
  },
  {
   "cell_type": "code",
   "execution_count": 6,
   "metadata": {
    "ExecuteTime": {
     "end_time": "2019-09-05T00:17:08.539432Z",
     "start_time": "2019-09-05T00:17:07.943475Z"
    }
   },
   "outputs": [],
   "source": [
    "X_train, X_val, y_train, y_val = train_test_split(\n",
    "    train_df.drop(['Cover_Type'], axis=1), \n",
    "    train_df['Cover_Type'], test_size=0.2)"
   ]
  },
  {
   "cell_type": "code",
   "execution_count": 7,
   "metadata": {
    "ExecuteTime": {
     "end_time": "2019-09-05T00:17:09.036019Z",
     "start_time": "2019-09-05T00:17:08.543631Z"
    }
   },
   "outputs": [
    {
     "name": "stdout",
     "output_type": "stream",
     "text": [
      "0.8220899470899471\n",
      "0.7609126984126984\n"
     ]
    }
   ],
   "source": [
    "tree.fit(X_train, y_train)\n",
    "print(tree.score(X_train, y_train))\n",
    "print(tree.score(X_val, y_val))\n"
   ]
  },
  {
   "cell_type": "code",
   "execution_count": 8,
   "metadata": {
    "ExecuteTime": {
     "end_time": "2019-09-05T00:20:12.153606Z",
     "start_time": "2019-09-05T00:17:09.046165Z"
    }
   },
   "outputs": [
    {
     "name": "stdout",
     "output_type": "stream",
     "text": [
      "RandomizedSearchCV took 183.04 seconds for 50 candidates parameter settings.\n",
      "Model with rank: 1\n",
      "Mean validation score: 0.785 (std: 0.039)\n",
      "Parameters: {'n_estimators': 200, 'max_depth': 30, 'min_samples_split': 2, 'min_samples_leaf': 1}\n",
      "\n",
      "Model with rank: 2\n",
      "Mean validation score: 0.784 (std: 0.040)\n",
      "Parameters: {'n_estimators': 200, 'max_depth': 25, 'min_samples_split': 2, 'min_samples_leaf': 1}\n",
      "\n",
      "Model with rank: 3\n",
      "Mean validation score: 0.779 (std: 0.040)\n",
      "Parameters: {'n_estimators': 50, 'max_depth': 30, 'min_samples_split': 2, 'min_samples_leaf': 1}\n",
      "\n"
     ]
    }
   ],
   "source": [
    "from sklearn.model_selection import RandomizedSearchCV\n",
    "from scipy.stats import randint as sp_randint\n",
    "from time import time\n",
    "import numpy as np\n",
    "\n",
    "\n",
    "def report(results, n_top=3):\n",
    "    for i in range(1, n_top + 1):\n",
    "        candidates = np.flatnonzero(results['rank_test_score'] == i)\n",
    "        for candidate in candidates:\n",
    "            print(\"Model with rank: {0}\".format(i))\n",
    "            print(\"Mean validation score: {0:.3f} (std: {1:.3f})\".format(\n",
    "                  results['mean_test_score'][candidate],\n",
    "                  results['std_test_score'][candidate]))\n",
    "            print(\"Parameters: {0}\".format(results['params'][candidate]))\n",
    "            print(\"\")\n",
    "            \n",
    "param_dist = {\"max_depth\": [5, 10, 15, 25, 30],\n",
    "              \"min_samples_split\": [2, 4, 5, 10, 20],\n",
    "              \"min_samples_leaf\": [1, 2, 8, 12],\n",
    "              'n_estimators': [20, 50, 100, 200, 600, 800]\n",
    "             }\n",
    "n_iter_search = 50\n",
    "random_search = RandomizedSearchCV(RandomForestClassifier(), param_distributions=param_dist,\n",
    "                                   n_iter=n_iter_search, cv=5, iid=False, n_jobs=-1)\n",
    "\n",
    "start = time()\n",
    "X = train_df.drop(['Cover_Type'], axis=1)\n",
    "y = train_df['Cover_Type']\n",
    "random_search.fit(X, y)\n",
    "print(\"RandomizedSearchCV took %.2f seconds for %d candidates\"\n",
    "      \" parameter settings.\" % ((time() - start), n_iter_search))\n",
    "report(random_search.cv_results_)\n"
   ]
  },
  {
   "cell_type": "code",
   "execution_count": 9,
   "metadata": {
    "ExecuteTime": {
     "end_time": "2019-09-05T00:20:12.172059Z",
     "start_time": "2019-09-05T00:20:12.155556Z"
    }
   },
   "outputs": [
    {
     "data": {
      "text/plain": [
       "{'mean_fit_time': array([ 1.18533459, 33.58849812, 10.88979273,  5.26937127,  2.6921257 ,\n",
       "         1.50752525,  6.56830783,  1.30274925,  1.94394288, 11.5065176 ,\n",
       "         1.85571275,  1.60289407, 12.71372609,  0.19909635,  7.43920059,\n",
       "         5.58980207,  2.14702444,  5.21998568,  0.31689425, 13.34811411,\n",
       "         2.2984489 ,  3.68835821,  0.3142498 ,  5.79304585,  1.79579253,\n",
       "         0.79636264,  1.02063723,  8.773948  ,  0.7035584 ,  0.85085769,\n",
       "         0.86640158,  0.90798936,  1.31530461, 11.48803506,  1.41058469,\n",
       "         0.45129771,  4.37738585,  0.45260181,  0.75193539,  3.0165204 ,\n",
       "         1.69929485,  3.40667858,  0.86844754,  3.64628572,  3.51938667,\n",
       "        14.08520508,  3.42876348,  3.1802618 ,  1.88650255,  1.50515556]),\n",
       " 'mean_score_time': array([0.01157031, 0.410429  , 1.11904416, 0.19562593, 0.09109006,\n",
       "        0.0500042 , 0.31445675, 0.04397974, 0.08248296, 0.35467329,\n",
       "        0.07533908, 0.05282669, 0.38071566, 0.01024451, 0.30679455,\n",
       "        0.2282784 , 0.06568584, 0.17993355, 0.01277552, 0.38965011,\n",
       "        0.06936312, 0.11229696, 0.01336169, 0.22695446, 0.05611229,\n",
       "        0.02864094, 0.03198032, 0.29997287, 0.02478008, 0.02826862,\n",
       "        0.02989545, 0.03769174, 0.04551878, 0.35742688, 0.04694304,\n",
       "        0.01632538, 0.1339045 , 0.02031565, 0.02577291, 0.09560494,\n",
       "        0.05392752, 0.10673509, 0.02885909, 0.10991721, 0.11066575,\n",
       "        0.45091448, 0.10829897, 0.11346745, 0.07050433, 0.03410645]),\n",
       " 'mean_test_score': array([0.70687831, 0.75191799, 0.78445767, 0.72294974, 0.73505291,\n",
       "        0.72943122, 0.65059524, 0.70839947, 0.65873016, 0.73822751,\n",
       "        0.65185185, 0.72380952, 0.7603836 , 0.65039683, 0.64887566,\n",
       "        0.64940476, 0.75992063, 0.78452381, 0.70767196, 0.76296296,\n",
       "        0.76362434, 0.7327381 , 0.70291005, 0.65092593, 0.72466931,\n",
       "        0.71653439, 0.75582011, 0.71256614, 0.70489418, 0.72149471,\n",
       "        0.72169312, 0.64755291, 0.77890212, 0.70972222, 0.70945767,\n",
       "        0.76011905, 0.76891534, 0.64689153, 0.71818783, 0.72791005,\n",
       "        0.72400794, 0.72453704, 0.72572751, 0.73994709, 0.73088624,\n",
       "        0.72513228, 0.72453704, 0.71064815, 0.65383598, 0.72910053]),\n",
       " 'param_max_depth': masked_array(data=[10, 30, 25, 10, 30, 15, 5, 10, 5, 30, 5, 10, 15, 5, 5,\n",
       "                    5, 15, 30, 10, 15, 30, 15, 10, 5, 30, 10, 15, 10, 10,\n",
       "                    25, 15, 5, 30, 10, 10, 30, 30, 5, 10, 10, 25, 30, 15,\n",
       "                    15, 15, 25, 30, 10, 5, 15],\n",
       "              mask=[False, False, False, False, False, False, False, False,\n",
       "                    False, False, False, False, False, False, False, False,\n",
       "                    False, False, False, False, False, False, False, False,\n",
       "                    False, False, False, False, False, False, False, False,\n",
       "                    False, False, False, False, False, False, False, False,\n",
       "                    False, False, False, False, False, False, False, False,\n",
       "                    False, False],\n",
       "        fill_value='?',\n",
       "             dtype=object),\n",
       " 'param_min_samples_leaf': masked_array(data=[2, 2, 1, 2, 8, 8, 12, 8, 8, 8, 12, 2, 1, 1, 12, 1, 1,\n",
       "                    1, 1, 1, 2, 8, 8, 2, 12, 2, 1, 8, 8, 12, 8, 1, 1, 8, 8,\n",
       "                    2, 1, 2, 2, 1, 12, 12, 8, 2, 8, 12, 12, 8, 1, 8],\n",
       "              mask=[False, False, False, False, False, False, False, False,\n",
       "                    False, False, False, False, False, False, False, False,\n",
       "                    False, False, False, False, False, False, False, False,\n",
       "                    False, False, False, False, False, False, False, False,\n",
       "                    False, False, False, False, False, False, False, False,\n",
       "                    False, False, False, False, False, False, False, False,\n",
       "                    False, False],\n",
       "        fill_value='?',\n",
       "             dtype=object),\n",
       " 'param_min_samples_split': masked_array(data=[5, 20, 2, 10, 10, 2, 4, 20, 10, 10, 4, 4, 5, 2, 5, 5,\n",
       "                    5, 2, 20, 2, 10, 2, 5, 10, 10, 10, 2, 10, 10, 10, 20,\n",
       "                    4, 2, 20, 10, 2, 10, 4, 5, 2, 4, 20, 5, 20, 4, 20, 2,\n",
       "                    20, 2, 20],\n",
       "              mask=[False, False, False, False, False, False, False, False,\n",
       "                    False, False, False, False, False, False, False, False,\n",
       "                    False, False, False, False, False, False, False, False,\n",
       "                    False, False, False, False, False, False, False, False,\n",
       "                    False, False, False, False, False, False, False, False,\n",
       "                    False, False, False, False, False, False, False, False,\n",
       "                    False, False],\n",
       "        fill_value='?',\n",
       "             dtype=object),\n",
       " 'param_n_estimators': masked_array(data=[20, 800, 200, 600, 200, 100, 800, 100, 200, 600, 200,\n",
       "                    100, 600, 20, 800, 600, 100, 200, 20, 600, 100, 200,\n",
       "                    20, 600, 100, 50, 50, 600, 50, 50, 50, 100, 50, 800,\n",
       "                    100, 20, 200, 50, 50, 200, 100, 200, 50, 200, 200, 800,\n",
       "                    200, 200, 200, 100],\n",
       "              mask=[False, False, False, False, False, False, False, False,\n",
       "                    False, False, False, False, False, False, False, False,\n",
       "                    False, False, False, False, False, False, False, False,\n",
       "                    False, False, False, False, False, False, False, False,\n",
       "                    False, False, False, False, False, False, False, False,\n",
       "                    False, False, False, False, False, False, False, False,\n",
       "                    False, False],\n",
       "        fill_value='?',\n",
       "             dtype=object),\n",
       " 'params': [{'max_depth': 10,\n",
       "   'min_samples_leaf': 2,\n",
       "   'min_samples_split': 5,\n",
       "   'n_estimators': 20},\n",
       "  {'max_depth': 30,\n",
       "   'min_samples_leaf': 2,\n",
       "   'min_samples_split': 20,\n",
       "   'n_estimators': 800},\n",
       "  {'max_depth': 25,\n",
       "   'min_samples_leaf': 1,\n",
       "   'min_samples_split': 2,\n",
       "   'n_estimators': 200},\n",
       "  {'max_depth': 10,\n",
       "   'min_samples_leaf': 2,\n",
       "   'min_samples_split': 10,\n",
       "   'n_estimators': 600},\n",
       "  {'max_depth': 30,\n",
       "   'min_samples_leaf': 8,\n",
       "   'min_samples_split': 10,\n",
       "   'n_estimators': 200},\n",
       "  {'max_depth': 15,\n",
       "   'min_samples_leaf': 8,\n",
       "   'min_samples_split': 2,\n",
       "   'n_estimators': 100},\n",
       "  {'max_depth': 5,\n",
       "   'min_samples_leaf': 12,\n",
       "   'min_samples_split': 4,\n",
       "   'n_estimators': 800},\n",
       "  {'max_depth': 10,\n",
       "   'min_samples_leaf': 8,\n",
       "   'min_samples_split': 20,\n",
       "   'n_estimators': 100},\n",
       "  {'max_depth': 5,\n",
       "   'min_samples_leaf': 8,\n",
       "   'min_samples_split': 10,\n",
       "   'n_estimators': 200},\n",
       "  {'max_depth': 30,\n",
       "   'min_samples_leaf': 8,\n",
       "   'min_samples_split': 10,\n",
       "   'n_estimators': 600},\n",
       "  {'max_depth': 5,\n",
       "   'min_samples_leaf': 12,\n",
       "   'min_samples_split': 4,\n",
       "   'n_estimators': 200},\n",
       "  {'max_depth': 10,\n",
       "   'min_samples_leaf': 2,\n",
       "   'min_samples_split': 4,\n",
       "   'n_estimators': 100},\n",
       "  {'max_depth': 15,\n",
       "   'min_samples_leaf': 1,\n",
       "   'min_samples_split': 5,\n",
       "   'n_estimators': 600},\n",
       "  {'max_depth': 5,\n",
       "   'min_samples_leaf': 1,\n",
       "   'min_samples_split': 2,\n",
       "   'n_estimators': 20},\n",
       "  {'max_depth': 5,\n",
       "   'min_samples_leaf': 12,\n",
       "   'min_samples_split': 5,\n",
       "   'n_estimators': 800},\n",
       "  {'max_depth': 5,\n",
       "   'min_samples_leaf': 1,\n",
       "   'min_samples_split': 5,\n",
       "   'n_estimators': 600},\n",
       "  {'max_depth': 15,\n",
       "   'min_samples_leaf': 1,\n",
       "   'min_samples_split': 5,\n",
       "   'n_estimators': 100},\n",
       "  {'max_depth': 30,\n",
       "   'min_samples_leaf': 1,\n",
       "   'min_samples_split': 2,\n",
       "   'n_estimators': 200},\n",
       "  {'max_depth': 10,\n",
       "   'min_samples_leaf': 1,\n",
       "   'min_samples_split': 20,\n",
       "   'n_estimators': 20},\n",
       "  {'max_depth': 15,\n",
       "   'min_samples_leaf': 1,\n",
       "   'min_samples_split': 2,\n",
       "   'n_estimators': 600},\n",
       "  {'max_depth': 30,\n",
       "   'min_samples_leaf': 2,\n",
       "   'min_samples_split': 10,\n",
       "   'n_estimators': 100},\n",
       "  {'max_depth': 15,\n",
       "   'min_samples_leaf': 8,\n",
       "   'min_samples_split': 2,\n",
       "   'n_estimators': 200},\n",
       "  {'max_depth': 10,\n",
       "   'min_samples_leaf': 8,\n",
       "   'min_samples_split': 5,\n",
       "   'n_estimators': 20},\n",
       "  {'max_depth': 5,\n",
       "   'min_samples_leaf': 2,\n",
       "   'min_samples_split': 10,\n",
       "   'n_estimators': 600},\n",
       "  {'max_depth': 30,\n",
       "   'min_samples_leaf': 12,\n",
       "   'min_samples_split': 10,\n",
       "   'n_estimators': 100},\n",
       "  {'max_depth': 10,\n",
       "   'min_samples_leaf': 2,\n",
       "   'min_samples_split': 10,\n",
       "   'n_estimators': 50},\n",
       "  {'max_depth': 15,\n",
       "   'min_samples_leaf': 1,\n",
       "   'min_samples_split': 2,\n",
       "   'n_estimators': 50},\n",
       "  {'max_depth': 10,\n",
       "   'min_samples_leaf': 8,\n",
       "   'min_samples_split': 10,\n",
       "   'n_estimators': 600},\n",
       "  {'max_depth': 10,\n",
       "   'min_samples_leaf': 8,\n",
       "   'min_samples_split': 10,\n",
       "   'n_estimators': 50},\n",
       "  {'max_depth': 25,\n",
       "   'min_samples_leaf': 12,\n",
       "   'min_samples_split': 10,\n",
       "   'n_estimators': 50},\n",
       "  {'max_depth': 15,\n",
       "   'min_samples_leaf': 8,\n",
       "   'min_samples_split': 20,\n",
       "   'n_estimators': 50},\n",
       "  {'max_depth': 5,\n",
       "   'min_samples_leaf': 1,\n",
       "   'min_samples_split': 4,\n",
       "   'n_estimators': 100},\n",
       "  {'max_depth': 30,\n",
       "   'min_samples_leaf': 1,\n",
       "   'min_samples_split': 2,\n",
       "   'n_estimators': 50},\n",
       "  {'max_depth': 10,\n",
       "   'min_samples_leaf': 8,\n",
       "   'min_samples_split': 20,\n",
       "   'n_estimators': 800},\n",
       "  {'max_depth': 10,\n",
       "   'min_samples_leaf': 8,\n",
       "   'min_samples_split': 10,\n",
       "   'n_estimators': 100},\n",
       "  {'max_depth': 30,\n",
       "   'min_samples_leaf': 2,\n",
       "   'min_samples_split': 2,\n",
       "   'n_estimators': 20},\n",
       "  {'max_depth': 30,\n",
       "   'min_samples_leaf': 1,\n",
       "   'min_samples_split': 10,\n",
       "   'n_estimators': 200},\n",
       "  {'max_depth': 5,\n",
       "   'min_samples_leaf': 2,\n",
       "   'min_samples_split': 4,\n",
       "   'n_estimators': 50},\n",
       "  {'max_depth': 10,\n",
       "   'min_samples_leaf': 2,\n",
       "   'min_samples_split': 5,\n",
       "   'n_estimators': 50},\n",
       "  {'max_depth': 10,\n",
       "   'min_samples_leaf': 1,\n",
       "   'min_samples_split': 2,\n",
       "   'n_estimators': 200},\n",
       "  {'max_depth': 25,\n",
       "   'min_samples_leaf': 12,\n",
       "   'min_samples_split': 4,\n",
       "   'n_estimators': 100},\n",
       "  {'max_depth': 30,\n",
       "   'min_samples_leaf': 12,\n",
       "   'min_samples_split': 20,\n",
       "   'n_estimators': 200},\n",
       "  {'max_depth': 15,\n",
       "   'min_samples_leaf': 8,\n",
       "   'min_samples_split': 5,\n",
       "   'n_estimators': 50},\n",
       "  {'max_depth': 15,\n",
       "   'min_samples_leaf': 2,\n",
       "   'min_samples_split': 20,\n",
       "   'n_estimators': 200},\n",
       "  {'max_depth': 15,\n",
       "   'min_samples_leaf': 8,\n",
       "   'min_samples_split': 4,\n",
       "   'n_estimators': 200},\n",
       "  {'max_depth': 25,\n",
       "   'min_samples_leaf': 12,\n",
       "   'min_samples_split': 20,\n",
       "   'n_estimators': 800},\n",
       "  {'max_depth': 30,\n",
       "   'min_samples_leaf': 12,\n",
       "   'min_samples_split': 2,\n",
       "   'n_estimators': 200},\n",
       "  {'max_depth': 10,\n",
       "   'min_samples_leaf': 8,\n",
       "   'min_samples_split': 20,\n",
       "   'n_estimators': 200},\n",
       "  {'max_depth': 5,\n",
       "   'min_samples_leaf': 1,\n",
       "   'min_samples_split': 2,\n",
       "   'n_estimators': 200},\n",
       "  {'max_depth': 15,\n",
       "   'min_samples_leaf': 8,\n",
       "   'min_samples_split': 20,\n",
       "   'n_estimators': 100}],\n",
       " 'rank_test_score': array([38, 11,  2, 27, 14, 17, 45, 36, 41, 13, 43, 26,  7, 46, 48, 47,  9,\n",
       "         1, 37,  6,  5, 15, 40, 44, 22, 31, 10, 32, 39, 29, 28, 49,  3, 34,\n",
       "        35,  8,  4, 50, 30, 19, 25, 23, 20, 12, 16, 21, 23, 33, 42, 18],\n",
       "       dtype=int32),\n",
       " 'split0_test_score': array([0.64087302, 0.70403439, 0.75462963, 0.67460317, 0.67890212,\n",
       "        0.67162698, 0.57705026, 0.64880952, 0.58267196, 0.68386243,\n",
       "        0.58101852, 0.67030423, 0.71759259, 0.60813492, 0.57539683,\n",
       "        0.58002646, 0.72056878, 0.75297619, 0.63723545, 0.71858466,\n",
       "        0.72089947, 0.68121693, 0.65608466, 0.57539683, 0.66269841,\n",
       "        0.65343915, 0.70271164, 0.6547619 , 0.64616402, 0.66137566,\n",
       "        0.65939153, 0.58002646, 0.74371693, 0.64847884, 0.6547619 ,\n",
       "        0.71230159, 0.72486772, 0.57539683, 0.66269841, 0.67328042,\n",
       "        0.66435185, 0.66633598, 0.67030423, 0.69609788, 0.67460317,\n",
       "        0.66534392, 0.66798942, 0.65410053, 0.57572751, 0.67890212]),\n",
       " 'split1_test_score': array([0.68650794, 0.70734127, 0.73941799, 0.69345238, 0.69378307,\n",
       "        0.68584656, 0.63723545, 0.69047619, 0.65509259, 0.69444444,\n",
       "        0.64880952, 0.69775132, 0.72089947, 0.64054233, 0.63690476,\n",
       "        0.63227513, 0.72585979, 0.7473545 , 0.67857143, 0.72619048,\n",
       "        0.72255291, 0.69444444, 0.67989418, 0.64252646, 0.68650794,\n",
       "        0.70006614, 0.72387566, 0.68783069, 0.67625661, 0.68650794,\n",
       "        0.68650794, 0.63062169, 0.73809524, 0.6875    , 0.68253968,\n",
       "        0.71825397, 0.73048942, 0.63723545, 0.69510582, 0.70205026,\n",
       "        0.68650794, 0.68783069, 0.68948413, 0.70072751, 0.69675926,\n",
       "        0.6901455 , 0.68783069, 0.6848545 , 0.63888889, 0.69179894]),\n",
       " 'split2_test_score': array([0.68121693, 0.74570106, 0.7718254 , 0.70998677, 0.72652116,\n",
       "        0.72222222, 0.64153439, 0.68650794, 0.65906085, 0.73346561,\n",
       "        0.63458995, 0.70734127, 0.74933862, 0.63690476, 0.6359127 ,\n",
       "        0.63822751, 0.74537037, 0.76455026, 0.70469577, 0.74933862,\n",
       "        0.75429894, 0.72453704, 0.68551587, 0.64318783, 0.72354497,\n",
       "        0.69675926, 0.74239418, 0.7010582 , 0.70205026, 0.71527778,\n",
       "        0.7172619 , 0.64847884, 0.76587302, 0.6984127 , 0.69378307,\n",
       "        0.75099206, 0.76058201, 0.62962963, 0.69940476, 0.70866402,\n",
       "        0.71693122, 0.71792328, 0.71990741, 0.7255291 , 0.7172619 ,\n",
       "        0.71395503, 0.71825397, 0.7010582 , 0.65839947, 0.71494709]),\n",
       " 'split3_test_score': array([0.74768519, 0.77744709, 0.80588624, 0.75529101, 0.76587302,\n",
       "        0.76488095, 0.68617725, 0.74437831, 0.68948413, 0.76884921,\n",
       "        0.68518519, 0.75330688, 0.78505291, 0.67294974, 0.6848545 ,\n",
       "        0.68915344, 0.78604497, 0.80687831, 0.74768519, 0.79166667,\n",
       "        0.78670635, 0.76388889, 0.72420635, 0.68452381, 0.75628307,\n",
       "        0.74702381, 0.78174603, 0.74437831, 0.73511905, 0.7526455 ,\n",
       "        0.74933862, 0.67427249, 0.79993386, 0.74371693, 0.74305556,\n",
       "        0.78604497, 0.79100529, 0.68253968, 0.74867725, 0.76157407,\n",
       "        0.75892857, 0.75694444, 0.75694444, 0.76752646, 0.76752646,\n",
       "        0.76025132, 0.75793651, 0.74140212, 0.68584656, 0.75661376]),\n",
       " 'split4_test_score': array([0.77810847, 0.82506614, 0.8505291 , 0.78141534, 0.81018519,\n",
       "        0.80257937, 0.71097884, 0.7718254 , 0.70734127, 0.81051587,\n",
       "        0.70965608, 0.79034392, 0.82903439, 0.69345238, 0.71130952,\n",
       "        0.70734127, 0.82175926, 0.85085979, 0.77017196, 0.82903439,\n",
       "        0.83366402, 0.79960317, 0.76884921, 0.70899471, 0.79431217,\n",
       "        0.7853836 , 0.82837302, 0.77480159, 0.76488095, 0.79166667,\n",
       "        0.79596561, 0.70436508, 0.84689153, 0.77050265, 0.77314815,\n",
       "        0.83300265, 0.83763228, 0.70965608, 0.78505291, 0.79398148,\n",
       "        0.79332011, 0.79365079, 0.79199735, 0.8098545 , 0.79828042,\n",
       "        0.79596561, 0.7906746 , 0.7718254 , 0.71031746, 0.80324074]),\n",
       " 'std_fit_time': array([1.22291357e-04, 7.49926056e+00, 8.08475654e+00, 3.20108014e-01,\n",
       "        4.78045226e-01, 4.96637784e-02, 1.45230206e-01, 4.10063271e-02,\n",
       "        4.18338868e-02, 1.56505614e-01, 3.02715294e-02, 5.73196635e-02,\n",
       "        1.64334696e-01, 4.03204115e-03, 1.06978409e-01, 3.15803121e-02,\n",
       "        6.49661906e-02, 8.40327242e-02, 6.83507644e-03, 1.54784980e-01,\n",
       "        7.53495867e-02, 6.34237684e-02, 7.55309588e-03, 1.64737460e-01,\n",
       "        1.06045809e-02, 4.99210331e-02, 2.78872781e-02, 1.20417345e-01,\n",
       "        8.76774168e-03, 1.14912681e-02, 1.80557540e-02, 1.17216160e-02,\n",
       "        4.74106359e-02, 2.03912670e-01, 7.37887129e-03, 1.09729366e-02,\n",
       "        3.33755985e-02, 3.52453523e-03, 6.10369807e-03, 8.20898015e-02,\n",
       "        3.36831260e-02, 7.39619634e-02, 1.50877808e-02, 1.38237813e-02,\n",
       "        1.04273764e-01, 3.70042015e-01, 8.91690915e-02, 1.00195468e-01,\n",
       "        2.09857965e-02, 1.30578985e-01]),\n",
       " 'std_score_time': array([9.62248170e-05, 6.29681760e-02, 2.06659449e+00, 3.89210813e-02,\n",
       "        1.87337350e-02, 2.29246366e-03, 3.15136206e-03, 5.55227311e-03,\n",
       "        5.09644795e-03, 1.03252243e-02, 1.48851505e-03, 1.35091038e-03,\n",
       "        1.64163765e-02, 2.14808741e-04, 1.13686368e-02, 1.44974571e-02,\n",
       "        2.62197342e-03, 3.19764046e-02, 4.95403117e-04, 1.27473635e-02,\n",
       "        4.33711021e-03, 4.07142022e-03, 1.00425038e-03, 1.02802334e-02,\n",
       "        2.26398072e-03, 3.90338601e-03, 1.46698661e-03, 2.05057197e-02,\n",
       "        5.46570761e-04, 1.26776170e-03, 3.08961869e-03, 1.04918135e-03,\n",
       "        5.31242954e-03, 8.85840640e-03, 1.10048832e-03, 6.83649827e-04,\n",
       "        6.74824496e-03, 1.45742396e-03, 1.15899787e-03, 2.54497957e-03,\n",
       "        2.03556084e-03, 5.97176074e-03, 1.08386528e-03, 3.73129440e-03,\n",
       "        9.09846618e-03, 7.10923194e-02, 7.23485068e-03, 2.82681307e-02,\n",
       "        8.08452401e-04, 9.17545461e-04]),\n",
       " 'std_test_score': array([0.04933375, 0.04543338, 0.03975544, 0.03959724, 0.04800758,\n",
       "        0.04878577, 0.04600371, 0.04397447, 0.04267795, 0.04702869,\n",
       "        0.04421997, 0.04268482, 0.04203228, 0.02975779, 0.04669678,\n",
       "        0.04509612, 0.03854067, 0.03918147, 0.04759056, 0.04170518,\n",
       "        0.04251488, 0.04388485, 0.03956364, 0.0454662 , 0.04721759,\n",
       "        0.04541605, 0.04462576, 0.04235769, 0.04192704, 0.04641444,\n",
       "        0.04779079, 0.0419259 , 0.04034316, 0.04294737, 0.04277194,\n",
       "        0.04495925, 0.04170413, 0.04628798, 0.04327864, 0.04363997,\n",
       "        0.04698682, 0.04605521, 0.04423886, 0.0431659 , 0.04561258,\n",
       "        0.04727444, 0.0448869 , 0.04157734, 0.04595652, 0.045531  ])}"
      ]
     },
     "execution_count": 9,
     "metadata": {},
     "output_type": "execute_result"
    }
   ],
   "source": [
    "random_search.cv_results_"
   ]
  },
  {
   "cell_type": "code",
   "execution_count": 11,
   "metadata": {
    "ExecuteTime": {
     "end_time": "2019-09-05T00:21:47.272538Z",
     "start_time": "2019-09-05T00:21:44.268273Z"
    }
   },
   "outputs": [
    {
     "name": "stdout",
     "output_type": "stream",
     "text": [
      "1.0\n",
      "0.8756613756613757\n"
     ]
    }
   ],
   "source": [
    "clf = RandomForestClassifier(\n",
    "    **{'n_estimators': 200, 'max_depth': 30, 'min_samples_split': 2, 'min_samples_leaf': 1}\n",
    ")\n",
    "clf.fit(X_train, y_train)\n",
    "print(clf.score(X_train, y_train))\n",
    "print(clf.score(X_val, y_val))"
   ]
  },
  {
   "cell_type": "code",
   "execution_count": 18,
   "metadata": {
    "ExecuteTime": {
     "end_time": "2019-09-03T19:24:21.616939Z",
     "start_time": "2019-09-03T19:24:19.180613Z"
    }
   },
   "outputs": [
    {
     "name": "stdout",
     "output_type": "stream",
     "text": [
      "0.9446097883597884\n",
      "0.8369708994708994\n"
     ]
    }
   ],
   "source": [
    "clf2 = RandomForestClassifier( \n",
    "    **{'min_samples_leaf': 1, 'n_estimators': 200,\n",
    "       'max_depth': 15, 'min_samples_split': 5}\n",
    ")\n",
    "clf2.fit(X_train, y_train)\n",
    "print(clf2.score(X_train, y_train))\n",
    "print(clf2.score(X_val, y_val))"
   ]
  },
  {
   "cell_type": "code",
   "execution_count": 19,
   "metadata": {
    "ExecuteTime": {
     "end_time": "2019-09-03T19:24:24.119384Z",
     "start_time": "2019-09-03T19:24:23.411761Z"
    }
   },
   "outputs": [
    {
     "name": "stdout",
     "output_type": "stream",
     "text": [
      "0.986276455026455\n",
      "0.8521825396825397\n"
     ]
    }
   ],
   "source": [
    "clf3 = RandomForestClassifier( \n",
    "    **{'min_samples_leaf': 1, 'n_estimators': 50,\n",
    "       'max_depth': 20, 'min_samples_split': 4}\n",
    ")\n",
    "clf3.fit(X_train, y_train)\n",
    "print(clf3.score(X_train, y_train))\n",
    "print(clf3.score(X_val, y_val))"
   ]
  },
  {
   "cell_type": "code",
   "execution_count": 12,
   "metadata": {
    "ExecuteTime": {
     "end_time": "2019-09-05T00:21:59.628741Z",
     "start_time": "2019-09-05T00:21:59.602651Z"
    }
   },
   "outputs": [
    {
     "data": {
      "text/plain": [
       "[('Elevation', 0.2208982858180783),\n",
       " ('Horizontal_Distance_To_Roadways', 0.09123035651336923),\n",
       " ('Horizontal_Distance_To_Fire_Points', 0.07261279603037486),\n",
       " ('Horizontal_Distance_To_Hydrology', 0.06227608596753147),\n",
       " ('Vertical_Distance_To_Hydrology', 0.0549933731184667),\n",
       " ('Hillshade_9am', 0.05332026663814828),\n",
       " ('Aspect', 0.05000827528091991),\n",
       " ('Hillshade_3pm', 0.046886696828998195),\n",
       " ('Hillshade_Noon', 0.04594084169198874),\n",
       " ('Wilderness_Area4', 0.04436854477936237),\n",
       " ('Slope', 0.03721242617018737),\n",
       " ('Soil_Type10', 0.022708289018002474),\n",
       " ('Soil_Type38', 0.02067407012542399),\n",
       " ('Soil_Type39', 0.01877014107499059),\n",
       " ('Wilderness_Area3', 0.017532243227467843)]"
      ]
     },
     "execution_count": 12,
     "metadata": {},
     "output_type": "execute_result"
    }
   ],
   "source": [
    "sorted([ (X_train.columns[i], importance) for i, importance in enumerate(clf.feature_importances_)],\n",
    "       key=lambda x: x[1], reverse=True)[:15]"
   ]
  },
  {
   "cell_type": "code",
   "execution_count": 14,
   "metadata": {
    "ExecuteTime": {
     "end_time": "2019-09-03T19:21:48.670446Z",
     "start_time": "2019-09-03T19:21:48.646378Z"
    }
   },
   "outputs": [
    {
     "data": {
      "text/plain": [
       "[('Elevation', 0.2519943672972272),\n",
       " ('Horizontal_Distance_To_Roadways', 0.08979504313208746),\n",
       " ('Horizontal_Distance_To_Fire_Points', 0.05821370440938506),\n",
       " ('Horizontal_Distance_To_Hydrology', 0.056034059683657454),\n",
       " ('Wilderness_Area4', 0.0543076761858151),\n",
       " ('Vertical_Distance_To_Hydrology', 0.044928966883990985),\n",
       " ('Hillshade_9am', 0.04481570616286216),\n",
       " ('Aspect', 0.038264038488216655),\n",
       " ('Hillshade_3pm', 0.03524069999133791),\n",
       " ('Hillshade_Noon', 0.0342725303795335),\n",
       " ('Soil_Type10', 0.029273998670529225),\n",
       " ('Slope', 0.02644249186019339),\n",
       " ('Soil_Type39', 0.026402940311175935),\n",
       " ('Wilderness_Area3', 0.024301981047279122),\n",
       " ('Soil_Type38', 0.023743785560694834)]"
      ]
     },
     "execution_count": 14,
     "metadata": {},
     "output_type": "execute_result"
    }
   ],
   "source": [
    "sorted([ (X_train.columns[i], importance) for i, importance in enumerate(clf2.feature_importances_)],\n",
    "       key=lambda x: x[1], reverse=True)[:15]"
   ]
  },
  {
   "cell_type": "markdown",
   "metadata": {},
   "source": []
  },
  {
   "cell_type": "code",
   "execution_count": 13,
   "metadata": {
    "ExecuteTime": {
     "end_time": "2019-09-05T00:22:22.256301Z",
     "start_time": "2019-09-05T00:22:08.913306Z"
    }
   },
   "outputs": [],
   "source": [
    "test_pred = clf.predict(test_df)"
   ]
  },
  {
   "cell_type": "code",
   "execution_count": 14,
   "metadata": {
    "ExecuteTime": {
     "end_time": "2019-09-05T00:22:23.951778Z",
     "start_time": "2019-09-05T00:22:22.257603Z"
    }
   },
   "outputs": [],
   "source": [
    "# Save test predictions to file\n",
    "output = pd.DataFrame({'ID': test_ids,\n",
    "                       'Cover_Type': test_pred})\n",
    "output.to_csv('submission.csv', index=False)"
   ]
  },
  {
   "cell_type": "code",
   "execution_count": null,
   "metadata": {},
   "outputs": [],
   "source": []
  }
 ],
 "metadata": {
  "kernelspec": {
   "display_name": "forestypes-venv",
   "language": "python",
   "name": "forestypes-venv"
  },
  "language_info": {
   "codemirror_mode": {
    "name": "ipython",
    "version": 3
   },
   "file_extension": ".py",
   "mimetype": "text/x-python",
   "name": "python",
   "nbconvert_exporter": "python",
   "pygments_lexer": "ipython3",
   "version": "3.5.2"
  }
 },
 "nbformat": 4,
 "nbformat_minor": 2
}
