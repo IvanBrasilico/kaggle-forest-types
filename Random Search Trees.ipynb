{
 "cells": [
  {
   "cell_type": "markdown",
   "metadata": {},
   "source": [
    "## On EDA, it was demonstrated that the variables are strong predictors, but only Tree-like models where succesful in separating boundaries. Also, there is a strong tendency on overfitting. So, I will try to tune decision trees, random forests or boosting methods"
   ]
  },
  {
   "cell_type": "code",
   "execution_count": 1,
   "metadata": {
    "ExecuteTime": {
     "end_time": "2019-09-03T19:20:49.120342Z",
     "start_time": "2019-09-03T19:20:49.116343Z"
    }
   },
   "outputs": [],
   "source": [
    "DATA_DIR = '/kaggle/input/learn-together'\n",
    "DATA_DIR = 'data'"
   ]
  },
  {
   "cell_type": "code",
   "execution_count": 2,
   "metadata": {
    "ExecuteTime": {
     "end_time": "2019-09-03T19:20:51.670351Z",
     "start_time": "2019-09-03T19:20:49.126158Z"
    }
   },
   "outputs": [],
   "source": [
    "from sklearn.ensemble import RandomForestClassifier\n",
    "from sklearn.tree import DecisionTreeClassifier\n",
    "from sklearn.model_selection import train_test_split\n",
    "import pandas as pd\n",
    "import matplotlib.pyplot as plt\n",
    "import os\n",
    "import seaborn as sns\n",
    "%matplotlib inline\n",
    "\n"
   ]
  },
  {
   "cell_type": "code",
   "execution_count": 3,
   "metadata": {
    "ExecuteTime": {
     "end_time": "2019-09-03T19:20:53.358793Z",
     "start_time": "2019-09-03T19:20:51.672868Z"
    }
   },
   "outputs": [],
   "source": [
    "train_df=pd.read_csv(os.path.join(DATA_DIR, 'train.csv'))\n",
    "test_df=pd.read_csv(os.path.join(DATA_DIR, 'test.csv'))"
   ]
  },
  {
   "cell_type": "code",
   "execution_count": 4,
   "metadata": {
    "ExecuteTime": {
     "end_time": "2019-09-03T19:20:53.438814Z",
     "start_time": "2019-09-03T19:20:53.360407Z"
    }
   },
   "outputs": [],
   "source": [
    "train_df = train_df.drop([\"Id\"], axis = 1)\n",
    "\n",
    "test_ids = test_df[\"Id\"]\n",
    "test_df = test_df.drop([\"Id\"], axis = 1)"
   ]
  },
  {
   "cell_type": "code",
   "execution_count": 5,
   "metadata": {
    "ExecuteTime": {
     "end_time": "2019-09-03T19:20:53.463034Z",
     "start_time": "2019-09-03T19:20:53.440713Z"
    }
   },
   "outputs": [],
   "source": [
    "tree = DecisionTreeClassifier(max_depth=10,\n",
    "    min_samples_split=3,\n",
    "    min_samples_leaf=2)"
   ]
  },
  {
   "cell_type": "code",
   "execution_count": 6,
   "metadata": {
    "ExecuteTime": {
     "end_time": "2019-09-03T19:20:53.496393Z",
     "start_time": "2019-09-03T19:20:53.464317Z"
    }
   },
   "outputs": [],
   "source": [
    "X_train, X_val, y_train, y_val = train_test_split(\n",
    "    train_df.drop(['Cover_Type'], axis=1), \n",
    "    train_df['Cover_Type'], test_size=0.2)"
   ]
  },
  {
   "cell_type": "code",
   "execution_count": 7,
   "metadata": {
    "ExecuteTime": {
     "end_time": "2019-09-03T19:20:53.590878Z",
     "start_time": "2019-09-03T19:20:53.500651Z"
    }
   },
   "outputs": [
    {
     "name": "stdout",
     "output_type": "stream",
     "text": [
      "0.8209325396825397\n",
      "0.7622354497354498\n"
     ]
    }
   ],
   "source": [
    "tree.fit(X_train, y_train)\n",
    "print(tree.score(X_train, y_train))\n",
    "print(tree.score(X_val, y_val))\n"
   ]
  },
  {
   "cell_type": "code",
   "execution_count": 8,
   "metadata": {
    "ExecuteTime": {
     "end_time": "2019-09-03T19:21:44.815158Z",
     "start_time": "2019-09-03T19:20:53.592089Z"
    }
   },
   "outputs": [
    {
     "name": "stdout",
     "output_type": "stream",
     "text": [
      "RandomizedSearchCV took 49.68 seconds for 50 candidates parameter settings.\n",
      "Model with rank: 1\n",
      "Mean validation score: 0.759 (std: 0.042)\n",
      "Parameters: {'n_estimators': 100, 'min_samples_split': 4, 'max_depth': 15, 'min_samples_leaf': 1}\n",
      "\n",
      "Model with rank: 2\n",
      "Mean validation score: 0.756 (std: 0.042)\n",
      "Parameters: {'n_estimators': 200, 'min_samples_split': 5, 'max_depth': 15, 'min_samples_leaf': 2}\n",
      "\n",
      "Model with rank: 3\n",
      "Mean validation score: 0.753 (std: 0.044)\n",
      "Parameters: {'n_estimators': 100, 'min_samples_split': 4, 'max_depth': 15, 'min_samples_leaf': 2}\n",
      "\n"
     ]
    }
   ],
   "source": [
    "from sklearn.model_selection import RandomizedSearchCV\n",
    "from scipy.stats import randint as sp_randint\n",
    "from time import time\n",
    "import numpy as np\n",
    "\n",
    "\n",
    "def report(results, n_top=3):\n",
    "    for i in range(1, n_top + 1):\n",
    "        candidates = np.flatnonzero(results['rank_test_score'] == i)\n",
    "        for candidate in candidates:\n",
    "            print(\"Model with rank: {0}\".format(i))\n",
    "            print(\"Mean validation score: {0:.3f} (std: {1:.3f})\".format(\n",
    "                  results['mean_test_score'][candidate],\n",
    "                  results['std_test_score'][candidate]))\n",
    "            print(\"Parameters: {0}\".format(results['params'][candidate]))\n",
    "            print(\"\")\n",
    "            \n",
    "param_dist = {\"max_depth\": [5, 10, 15],\n",
    "              \"min_samples_split\": [2, 4, 5, 10, 20],\n",
    "              \"min_samples_leaf\": [1, 2, 8, 12],\n",
    "              'n_estimators': [20, 50, 100, 200]\n",
    "             }\n",
    "n_iter_search = 50\n",
    "random_search = RandomizedSearchCV(RandomForestClassifier(), param_distributions=param_dist,\n",
    "                                   n_iter=n_iter_search, cv=5, iid=False, n_jobs=-1)\n",
    "\n",
    "start = time()\n",
    "X = train_df.drop(['Cover_Type'], axis=1)\n",
    "y = train_df['Cover_Type']\n",
    "random_search.fit(X, y)\n",
    "print(\"RandomizedSearchCV took %.2f seconds for %d candidates\"\n",
    "      \" parameter settings.\" % ((time() - start), n_iter_search))\n",
    "report(random_search.cv_results_)\n"
   ]
  },
  {
   "cell_type": "code",
   "execution_count": 9,
   "metadata": {
    "ExecuteTime": {
     "end_time": "2019-09-03T19:21:44.842820Z",
     "start_time": "2019-09-03T19:21:44.819300Z"
    }
   },
   "outputs": [
    {
     "data": {
      "text/plain": [
       "{'mean_fit_time': array([1.72555676, 1.6905839 , 0.1908814 , 0.42978954, 1.44035807,\n",
       "        0.6842382 , 0.43824568, 0.8055429 , 0.42888093, 2.87830215,\n",
       "        0.28425136, 3.44411702, 0.43288503, 1.49958563, 0.75603456,\n",
       "        1.90399652, 1.56797314, 0.32701874, 2.66304584, 0.17607832,\n",
       "        2.29604225, 4.68493156, 0.64002256, 2.000809  , 1.69564767,\n",
       "        1.45738664, 0.86702924, 0.74803438, 1.6100678 , 0.37964702,\n",
       "        1.94475527, 1.60979762, 0.31251602, 0.88510661, 3.63661146,\n",
       "        3.15717421, 0.80380917, 0.78505068, 0.41866765, 3.64625239,\n",
       "        0.37678142, 0.19523802, 1.51241369, 3.46337352, 0.19343591,\n",
       "        0.94702735, 0.94732966, 4.00528879, 0.30708857, 1.63619213]),\n",
       " 'mean_score_time': array([0.05588579, 0.05441675, 0.01013947, 0.01959128, 0.04955139,\n",
       "        0.02549367, 0.02145381, 0.02618151, 0.0188518 , 0.08970776,\n",
       "        0.01119876, 0.10484753, 0.01910305, 0.04622817, 0.02501302,\n",
       "        0.06507339, 0.05428443, 0.0120575 , 0.10887618, 0.00921617,\n",
       "        0.08523154, 0.1100831 , 0.02858477, 0.06161551, 0.06955409,\n",
       "        0.05240645, 0.03734307, 0.02699862, 0.05287709, 0.01450024,\n",
       "        0.07800212, 0.053438  , 0.01256208, 0.03009644, 0.11387973,\n",
       "        0.1045208 , 0.0274261 , 0.0279664 , 0.01580124, 0.11635675,\n",
       "        0.01392436, 0.01023469, 0.05163651, 0.10965934, 0.01016002,\n",
       "        0.03929815, 0.04003057, 0.09107819, 0.01274714, 0.05007081]),\n",
       " 'mean_test_score': array([0.72843915, 0.72850529, 0.63373016, 0.64246032, 0.72486772,\n",
       "        0.69874339, 0.64834656, 0.71560847, 0.63478836, 0.7098545 ,\n",
       "        0.70363757, 0.72797619, 0.64166667, 0.70846561, 0.72096561,\n",
       "        0.75853175, 0.71785714, 0.71560847, 0.70416667, 0.63611111,\n",
       "        0.75337302, 0.74166667, 0.64239418, 0.75271164, 0.65033069,\n",
       "        0.72427249, 0.64828042, 0.70562169, 0.7207672 , 0.72400794,\n",
       "        0.65939153, 0.72738095, 0.69861111, 0.71613757, 0.72996032,\n",
       "        0.72374339, 0.72453704, 0.7130291 , 0.74404762, 0.73062169,\n",
       "        0.71693122, 0.63181217, 0.70436508, 0.7207672 , 0.6228836 ,\n",
       "        0.64708995, 0.64437831, 0.75588624, 0.69054233, 0.72089947]),\n",
       " 'param_max_depth': masked_array(data=[15, 15, 5, 5, 10, 10, 5, 15, 5, 10, 10, 15, 5, 10, 10,\n",
       "                    15, 15, 15, 10, 5, 15, 15, 5, 15, 5, 10, 5, 10, 10, 15,\n",
       "                    5, 10, 10, 15, 15, 10, 10, 10, 15, 15, 15, 5, 10, 15,\n",
       "                    5, 5, 5, 15, 10, 15],\n",
       "              mask=[False, False, False, False, False, False, False, False,\n",
       "                    False, False, False, False, False, False, False, False,\n",
       "                    False, False, False, False, False, False, False, False,\n",
       "                    False, False, False, False, False, False, False, False,\n",
       "                    False, False, False, False, False, False, False, False,\n",
       "                    False, False, False, False, False, False, False, False,\n",
       "                    False, False],\n",
       "        fill_value='?',\n",
       "             dtype=object),\n",
       " 'param_min_samples_leaf': masked_array(data=[8, 8, 12, 8, 1, 12, 8, 12, 1, 8, 2, 8, 2, 8, 1, 1, 12,\n",
       "                    12, 12, 1, 2, 2, 1, 2, 8, 1, 2, 8, 2, 8, 1, 2, 8, 12,\n",
       "                    8, 2, 1, 1, 2, 8, 8, 2, 8, 12, 8, 2, 2, 2, 12, 12],\n",
       "              mask=[False, False, False, False, False, False, False, False,\n",
       "                    False, False, False, False, False, False, False, False,\n",
       "                    False, False, False, False, False, False, False, False,\n",
       "                    False, False, False, False, False, False, False, False,\n",
       "                    False, False, False, False, False, False, False, False,\n",
       "                    False, False, False, False, False, False, False, False,\n",
       "                    False, False],\n",
       "        fill_value='?',\n",
       "             dtype=object),\n",
       " 'param_min_samples_split': masked_array(data=[4, 20, 2, 4, 2, 5, 2, 4, 20, 2, 20, 4, 2, 20, 2, 4, 10,\n",
       "                    5, 4, 20, 4, 20, 5, 2, 2, 4, 10, 2, 10, 10, 5, 2, 20,\n",
       "                    5, 20, 4, 5, 20, 2, 2, 5, 2, 4, 4, 4, 20, 5, 5, 10, 5],\n",
       "              mask=[False, False, False, False, False, False, False, False,\n",
       "                    False, False, False, False, False, False, False, False,\n",
       "                    False, False, False, False, False, False, False, False,\n",
       "                    False, False, False, False, False, False, False, False,\n",
       "                    False, False, False, False, False, False, False, False,\n",
       "                    False, False, False, False, False, False, False, False,\n",
       "                    False, False],\n",
       "        fill_value='?',\n",
       "             dtype=object),\n",
       " 'param_n_estimators': masked_array(data=[100, 100, 20, 50, 100, 50, 50, 50, 50, 200, 20, 200,\n",
       "                    50, 100, 50, 100, 100, 20, 200, 20, 100, 200, 50, 100,\n",
       "                    200, 100, 100, 50, 100, 20, 200, 100, 20, 50, 200, 200,\n",
       "                    50, 50, 20, 200, 20, 20, 100, 200, 20, 100, 100, 200,\n",
       "                    20, 100],\n",
       "              mask=[False, False, False, False, False, False, False, False,\n",
       "                    False, False, False, False, False, False, False, False,\n",
       "                    False, False, False, False, False, False, False, False,\n",
       "                    False, False, False, False, False, False, False, False,\n",
       "                    False, False, False, False, False, False, False, False,\n",
       "                    False, False, False, False, False, False, False, False,\n",
       "                    False, False],\n",
       "        fill_value='?',\n",
       "             dtype=object),\n",
       " 'params': [{'max_depth': 15,\n",
       "   'min_samples_leaf': 8,\n",
       "   'min_samples_split': 4,\n",
       "   'n_estimators': 100},\n",
       "  {'max_depth': 15,\n",
       "   'min_samples_leaf': 8,\n",
       "   'min_samples_split': 20,\n",
       "   'n_estimators': 100},\n",
       "  {'max_depth': 5,\n",
       "   'min_samples_leaf': 12,\n",
       "   'min_samples_split': 2,\n",
       "   'n_estimators': 20},\n",
       "  {'max_depth': 5,\n",
       "   'min_samples_leaf': 8,\n",
       "   'min_samples_split': 4,\n",
       "   'n_estimators': 50},\n",
       "  {'max_depth': 10,\n",
       "   'min_samples_leaf': 1,\n",
       "   'min_samples_split': 2,\n",
       "   'n_estimators': 100},\n",
       "  {'max_depth': 10,\n",
       "   'min_samples_leaf': 12,\n",
       "   'min_samples_split': 5,\n",
       "   'n_estimators': 50},\n",
       "  {'max_depth': 5,\n",
       "   'min_samples_leaf': 8,\n",
       "   'min_samples_split': 2,\n",
       "   'n_estimators': 50},\n",
       "  {'max_depth': 15,\n",
       "   'min_samples_leaf': 12,\n",
       "   'min_samples_split': 4,\n",
       "   'n_estimators': 50},\n",
       "  {'max_depth': 5,\n",
       "   'min_samples_leaf': 1,\n",
       "   'min_samples_split': 20,\n",
       "   'n_estimators': 50},\n",
       "  {'max_depth': 10,\n",
       "   'min_samples_leaf': 8,\n",
       "   'min_samples_split': 2,\n",
       "   'n_estimators': 200},\n",
       "  {'max_depth': 10,\n",
       "   'min_samples_leaf': 2,\n",
       "   'min_samples_split': 20,\n",
       "   'n_estimators': 20},\n",
       "  {'max_depth': 15,\n",
       "   'min_samples_leaf': 8,\n",
       "   'min_samples_split': 4,\n",
       "   'n_estimators': 200},\n",
       "  {'max_depth': 5,\n",
       "   'min_samples_leaf': 2,\n",
       "   'min_samples_split': 2,\n",
       "   'n_estimators': 50},\n",
       "  {'max_depth': 10,\n",
       "   'min_samples_leaf': 8,\n",
       "   'min_samples_split': 20,\n",
       "   'n_estimators': 100},\n",
       "  {'max_depth': 10,\n",
       "   'min_samples_leaf': 1,\n",
       "   'min_samples_split': 2,\n",
       "   'n_estimators': 50},\n",
       "  {'max_depth': 15,\n",
       "   'min_samples_leaf': 1,\n",
       "   'min_samples_split': 4,\n",
       "   'n_estimators': 100},\n",
       "  {'max_depth': 15,\n",
       "   'min_samples_leaf': 12,\n",
       "   'min_samples_split': 10,\n",
       "   'n_estimators': 100},\n",
       "  {'max_depth': 15,\n",
       "   'min_samples_leaf': 12,\n",
       "   'min_samples_split': 5,\n",
       "   'n_estimators': 20},\n",
       "  {'max_depth': 10,\n",
       "   'min_samples_leaf': 12,\n",
       "   'min_samples_split': 4,\n",
       "   'n_estimators': 200},\n",
       "  {'max_depth': 5,\n",
       "   'min_samples_leaf': 1,\n",
       "   'min_samples_split': 20,\n",
       "   'n_estimators': 20},\n",
       "  {'max_depth': 15,\n",
       "   'min_samples_leaf': 2,\n",
       "   'min_samples_split': 4,\n",
       "   'n_estimators': 100},\n",
       "  {'max_depth': 15,\n",
       "   'min_samples_leaf': 2,\n",
       "   'min_samples_split': 20,\n",
       "   'n_estimators': 200},\n",
       "  {'max_depth': 5,\n",
       "   'min_samples_leaf': 1,\n",
       "   'min_samples_split': 5,\n",
       "   'n_estimators': 50},\n",
       "  {'max_depth': 15,\n",
       "   'min_samples_leaf': 2,\n",
       "   'min_samples_split': 2,\n",
       "   'n_estimators': 100},\n",
       "  {'max_depth': 5,\n",
       "   'min_samples_leaf': 8,\n",
       "   'min_samples_split': 2,\n",
       "   'n_estimators': 200},\n",
       "  {'max_depth': 10,\n",
       "   'min_samples_leaf': 1,\n",
       "   'min_samples_split': 4,\n",
       "   'n_estimators': 100},\n",
       "  {'max_depth': 5,\n",
       "   'min_samples_leaf': 2,\n",
       "   'min_samples_split': 10,\n",
       "   'n_estimators': 100},\n",
       "  {'max_depth': 10,\n",
       "   'min_samples_leaf': 8,\n",
       "   'min_samples_split': 2,\n",
       "   'n_estimators': 50},\n",
       "  {'max_depth': 10,\n",
       "   'min_samples_leaf': 2,\n",
       "   'min_samples_split': 10,\n",
       "   'n_estimators': 100},\n",
       "  {'max_depth': 15,\n",
       "   'min_samples_leaf': 8,\n",
       "   'min_samples_split': 10,\n",
       "   'n_estimators': 20},\n",
       "  {'max_depth': 5,\n",
       "   'min_samples_leaf': 1,\n",
       "   'min_samples_split': 5,\n",
       "   'n_estimators': 200},\n",
       "  {'max_depth': 10,\n",
       "   'min_samples_leaf': 2,\n",
       "   'min_samples_split': 2,\n",
       "   'n_estimators': 100},\n",
       "  {'max_depth': 10,\n",
       "   'min_samples_leaf': 8,\n",
       "   'min_samples_split': 20,\n",
       "   'n_estimators': 20},\n",
       "  {'max_depth': 15,\n",
       "   'min_samples_leaf': 12,\n",
       "   'min_samples_split': 5,\n",
       "   'n_estimators': 50},\n",
       "  {'max_depth': 15,\n",
       "   'min_samples_leaf': 8,\n",
       "   'min_samples_split': 20,\n",
       "   'n_estimators': 200},\n",
       "  {'max_depth': 10,\n",
       "   'min_samples_leaf': 2,\n",
       "   'min_samples_split': 4,\n",
       "   'n_estimators': 200},\n",
       "  {'max_depth': 10,\n",
       "   'min_samples_leaf': 1,\n",
       "   'min_samples_split': 5,\n",
       "   'n_estimators': 50},\n",
       "  {'max_depth': 10,\n",
       "   'min_samples_leaf': 1,\n",
       "   'min_samples_split': 20,\n",
       "   'n_estimators': 50},\n",
       "  {'max_depth': 15,\n",
       "   'min_samples_leaf': 2,\n",
       "   'min_samples_split': 2,\n",
       "   'n_estimators': 20},\n",
       "  {'max_depth': 15,\n",
       "   'min_samples_leaf': 8,\n",
       "   'min_samples_split': 2,\n",
       "   'n_estimators': 200},\n",
       "  {'max_depth': 15,\n",
       "   'min_samples_leaf': 8,\n",
       "   'min_samples_split': 5,\n",
       "   'n_estimators': 20},\n",
       "  {'max_depth': 5,\n",
       "   'min_samples_leaf': 2,\n",
       "   'min_samples_split': 2,\n",
       "   'n_estimators': 20},\n",
       "  {'max_depth': 10,\n",
       "   'min_samples_leaf': 8,\n",
       "   'min_samples_split': 4,\n",
       "   'n_estimators': 100},\n",
       "  {'max_depth': 15,\n",
       "   'min_samples_leaf': 12,\n",
       "   'min_samples_split': 4,\n",
       "   'n_estimators': 200},\n",
       "  {'max_depth': 5,\n",
       "   'min_samples_leaf': 8,\n",
       "   'min_samples_split': 4,\n",
       "   'n_estimators': 20},\n",
       "  {'max_depth': 5,\n",
       "   'min_samples_leaf': 2,\n",
       "   'min_samples_split': 20,\n",
       "   'n_estimators': 100},\n",
       "  {'max_depth': 5,\n",
       "   'min_samples_leaf': 2,\n",
       "   'min_samples_split': 5,\n",
       "   'n_estimators': 100},\n",
       "  {'max_depth': 15,\n",
       "   'min_samples_leaf': 2,\n",
       "   'min_samples_split': 5,\n",
       "   'n_estimators': 200},\n",
       "  {'max_depth': 10,\n",
       "   'min_samples_leaf': 12,\n",
       "   'min_samples_split': 10,\n",
       "   'n_estimators': 20},\n",
       "  {'max_depth': 15,\n",
       "   'min_samples_leaf': 12,\n",
       "   'min_samples_split': 5,\n",
       "   'n_estimators': 100}],\n",
       " 'rank_test_score': array([10,  9, 48, 43, 13, 34, 39, 25, 47, 28, 33, 11, 45, 29, 18,  1, 22,\n",
       "        26, 32, 46,  3,  6, 44,  4, 38, 15, 40, 30, 20, 16, 37, 12, 35, 24,\n",
       "         8, 17, 14, 27,  5,  7, 23, 49, 31, 21, 50, 41, 42,  2, 36, 19],\n",
       "       dtype=int32),\n",
       " 'split0_test_score': array([0.66699735, 0.67493386, 0.5625    , 0.57208995, 0.67096561,\n",
       "        0.62863757, 0.57936508, 0.65906085, 0.57308201, 0.64649471,\n",
       "        0.65410053, 0.67195767, 0.5651455 , 0.64583333, 0.66071429,\n",
       "        0.71924603, 0.65740741, 0.65376984, 0.64153439, 0.5598545 ,\n",
       "        0.70965608, 0.68981481, 0.5869709 , 0.71395503, 0.58234127,\n",
       "        0.66699735, 0.57440476, 0.64153439, 0.66600529, 0.66865079,\n",
       "        0.57837302, 0.68353175, 0.6276455 , 0.64914021, 0.67526455,\n",
       "        0.67328042, 0.68353175, 0.65873016, 0.70535714, 0.67956349,\n",
       "        0.6385582 , 0.53339947, 0.64517196, 0.66170635, 0.52513228,\n",
       "        0.57275132, 0.5542328 , 0.71329365, 0.62466931, 0.6630291 ]),\n",
       " 'split1_test_score': array([0.69510582, 0.69047619, 0.63227513, 0.62665344, 0.70502646,\n",
       "        0.68716931, 0.64748677, 0.67956349, 0.62433862, 0.68948413,\n",
       "        0.67493386, 0.68849206, 0.6276455 , 0.68783069, 0.69080688,\n",
       "        0.71660053, 0.68121693, 0.67824074, 0.68353175, 0.63029101,\n",
       "        0.71296296, 0.70601852, 0.60780423, 0.71329365, 0.62665344,\n",
       "        0.70238095, 0.6385582 , 0.67956349, 0.69543651, 0.6848545 ,\n",
       "        0.65443122, 0.70039683, 0.6603836 , 0.6848545 , 0.69642857,\n",
       "        0.6984127 , 0.67956349, 0.69047619, 0.71130952, 0.69444444,\n",
       "        0.6901455 , 0.5978836 , 0.67890212, 0.68683862, 0.58829365,\n",
       "        0.63988095, 0.64021164, 0.71593915, 0.66269841, 0.6848545 ]),\n",
       " 'split2_test_score': array([0.71825397, 0.71593915, 0.61838624, 0.63128307, 0.70271164,\n",
       "        0.67890212, 0.6359127 , 0.70469577, 0.63392857, 0.69708995,\n",
       "        0.69345238, 0.72387566, 0.63921958, 0.6984127 , 0.71263228,\n",
       "        0.74239418, 0.70866402, 0.72222222, 0.69543651, 0.61276455,\n",
       "        0.73677249, 0.73048942, 0.64087302, 0.73578042, 0.65343915,\n",
       "        0.70535714, 0.63789683, 0.70072751, 0.71263228, 0.7172619 ,\n",
       "        0.6547619 , 0.70734127, 0.69775132, 0.71296296, 0.7202381 ,\n",
       "        0.70734127, 0.71064815, 0.69378307, 0.73082011, 0.72321429,\n",
       "        0.72056878, 0.64186508, 0.68882275, 0.71263228, 0.65839947,\n",
       "        0.64087302, 0.64054233, 0.74603175, 0.68816138, 0.71296296]),\n",
       " 'split3_test_score': array([0.76521164, 0.75925926, 0.66600529, 0.68518519, 0.75496032,\n",
       "        0.73478836, 0.67890212, 0.75363757, 0.63756614, 0.74371693,\n",
       "        0.73015873, 0.75793651, 0.67691799, 0.73842593, 0.75198413,\n",
       "        0.78935185, 0.74933862, 0.74404762, 0.73578042, 0.68287037,\n",
       "        0.78439153, 0.77116402, 0.66137566, 0.78174603, 0.68551587,\n",
       "        0.75462963, 0.67625661, 0.73544974, 0.75132275, 0.75396825,\n",
       "        0.69345238, 0.75363757, 0.73776455, 0.74437831, 0.76124339,\n",
       "        0.75496032, 0.7582672 , 0.74933862, 0.76421958, 0.75892857,\n",
       "        0.75165344, 0.67592593, 0.74107143, 0.75562169, 0.64351852,\n",
       "        0.67526455, 0.68121693, 0.78108466, 0.71891534, 0.75529101]),\n",
       " 'split4_test_score': array([0.79662698, 0.80191799, 0.68948413, 0.69708995, 0.7906746 ,\n",
       "        0.76421958, 0.70006614, 0.78108466, 0.70502646, 0.77248677,\n",
       "        0.76554233, 0.79761905, 0.69940476, 0.7718254 , 0.78869048,\n",
       "        0.82506614, 0.79265873, 0.7797619 , 0.76455026, 0.69477513,\n",
       "        0.82308201, 0.81084656, 0.71494709, 0.81878307, 0.7037037 ,\n",
       "        0.79199735, 0.71428571, 0.77083333, 0.77843915, 0.79530423,\n",
       "        0.71593915, 0.79199735, 0.76951058, 0.78935185, 0.79662698,\n",
       "        0.78472222, 0.7906746 , 0.77281746, 0.80853175, 0.79695767,\n",
       "        0.78373016, 0.70998677, 0.76785714, 0.78703704, 0.69907407,\n",
       "        0.70667989, 0.70568783, 0.82308201, 0.7582672 , 0.78835979]),\n",
       " 'std_fit_time': array([0.02142896, 0.04747949, 0.01307743, 0.00867396, 0.03217687,\n",
       "        0.03300008, 0.00434933, 0.01026596, 0.00967167, 0.01810314,\n",
       "        0.00882429, 0.03545428, 0.01268614, 0.01191922, 0.04003799,\n",
       "        0.00977216, 0.01049905, 0.00794156, 0.02782359, 0.00395476,\n",
       "        0.36382496, 0.05256484, 0.00766865, 0.11919451, 0.01136433,\n",
       "        0.01609141, 0.03209613, 0.02534567, 0.01796099, 0.00578552,\n",
       "        0.04353099, 0.0171695 , 0.00471634, 0.01468997, 0.02250854,\n",
       "        0.01683243, 0.011627  , 0.00157617, 0.00505316, 0.01887935,\n",
       "        0.00439065, 0.00466427, 0.01659623, 0.03399869, 0.00451088,\n",
       "        0.01177497, 0.00964648, 0.0975372 , 0.00365732, 0.19022536]),\n",
       " 'std_score_time': array([1.73304364e-03, 3.44184775e-03, 6.23847623e-04, 4.42442535e-04,\n",
       "        1.85070352e-03, 2.55771869e-03, 3.23663104e-03, 9.86390161e-04,\n",
       "        4.75682085e-04, 2.01634528e-03, 3.27632448e-04, 6.84176991e-03,\n",
       "        3.37164403e-04, 2.37101654e-03, 3.13607733e-04, 5.52851500e-03,\n",
       "        5.65341649e-03, 1.64535728e-04, 2.24341665e-02, 8.74842986e-05,\n",
       "        2.39333218e-03, 6.12293365e-03, 2.47117903e-04, 5.19278106e-03,\n",
       "        1.56874845e-03, 3.33570502e-03, 2.49655777e-03, 8.87901450e-04,\n",
       "        1.02377512e-03, 2.52874824e-04, 1.59403222e-03, 1.10609582e-03,\n",
       "        5.15494323e-04, 1.30638204e-03, 5.06120237e-03, 3.80319321e-03,\n",
       "        5.88048560e-04, 1.24802514e-03, 1.26601642e-03, 4.18254121e-03,\n",
       "        5.36938416e-04, 2.53157001e-04, 1.81171130e-03, 2.14969522e-03,\n",
       "        3.28664569e-04, 5.01191867e-04, 1.12902790e-03, 1.27913493e-02,\n",
       "        7.59553468e-04, 1.50349219e-02]),\n",
       " 'std_test_score': array([0.04688654, 0.0464957 , 0.04350052, 0.04502574, 0.04248792,\n",
       "        0.04696559, 0.04128521, 0.04549572, 0.04209208, 0.04395865,\n",
       "        0.03979229, 0.04574196, 0.04611814, 0.04327065, 0.04507332,\n",
       "        0.04228172, 0.04830642, 0.04514101, 0.04259208, 0.04903448,\n",
       "        0.04391176, 0.0441368 , 0.04448537, 0.04135444, 0.04308019,\n",
       "        0.04387638, 0.04647434, 0.04461487, 0.03991587, 0.04609489,\n",
       "        0.04683548, 0.0397924 , 0.05110367, 0.04823945, 0.04389442,\n",
       "        0.0403735 , 0.04337939, 0.0417623 , 0.03823301, 0.0428307 ,\n",
       "        0.05008147, 0.06163531, 0.04420939, 0.04541373, 0.06040522,\n",
       "        0.04463546, 0.0515252 , 0.04161067, 0.0458517 , 0.04570532])}"
      ]
     },
     "execution_count": 9,
     "metadata": {},
     "output_type": "execute_result"
    }
   ],
   "source": [
    "random_search.cv_results_"
   ]
  },
  {
   "cell_type": "code",
   "execution_count": 17,
   "metadata": {
    "ExecuteTime": {
     "end_time": "2019-09-03T19:24:17.724281Z",
     "start_time": "2019-09-03T19:24:16.468184Z"
    }
   },
   "outputs": [
    {
     "name": "stdout",
     "output_type": "stream",
     "text": [
      "0.9518849206349206\n",
      "0.8386243386243386\n"
     ]
    }
   ],
   "source": [
    "clf = RandomForestClassifier(\n",
    "    **{'min_samples_leaf': 1, 'n_estimators': 100,\n",
    "     'max_depth': 15, 'min_samples_split': 4}\n",
    ")\n",
    "clf.fit(X_train, y_train)\n",
    "print(clf.score(X_train, y_train))\n",
    "print(clf.score(X_val, y_val))"
   ]
  },
  {
   "cell_type": "code",
   "execution_count": 18,
   "metadata": {
    "ExecuteTime": {
     "end_time": "2019-09-03T19:24:21.616939Z",
     "start_time": "2019-09-03T19:24:19.180613Z"
    }
   },
   "outputs": [
    {
     "name": "stdout",
     "output_type": "stream",
     "text": [
      "0.9446097883597884\n",
      "0.8369708994708994\n"
     ]
    }
   ],
   "source": [
    "clf2 = RandomForestClassifier( \n",
    "    **{'min_samples_leaf': 1, 'n_estimators': 200,\n",
    "       'max_depth': 15, 'min_samples_split': 5}\n",
    ")\n",
    "clf2.fit(X_train, y_train)\n",
    "print(clf2.score(X_train, y_train))\n",
    "print(clf2.score(X_val, y_val))"
   ]
  },
  {
   "cell_type": "code",
   "execution_count": 19,
   "metadata": {
    "ExecuteTime": {
     "end_time": "2019-09-03T19:24:24.119384Z",
     "start_time": "2019-09-03T19:24:23.411761Z"
    }
   },
   "outputs": [
    {
     "name": "stdout",
     "output_type": "stream",
     "text": [
      "0.986276455026455\n",
      "0.8521825396825397\n"
     ]
    }
   ],
   "source": [
    "clf3 = RandomForestClassifier( \n",
    "    **{'min_samples_leaf': 1, 'n_estimators': 50,\n",
    "       'max_depth': 20, 'min_samples_split': 4}\n",
    ")\n",
    "clf3.fit(X_train, y_train)\n",
    "print(clf3.score(X_train, y_train))\n",
    "print(clf3.score(X_val, y_val))"
   ]
  },
  {
   "cell_type": "code",
   "execution_count": 13,
   "metadata": {
    "ExecuteTime": {
     "end_time": "2019-09-03T19:21:48.640996Z",
     "start_time": "2019-09-03T19:21:48.353796Z"
    }
   },
   "outputs": [
    {
     "data": {
      "text/plain": [
       "[('Elevation', 0.22314167935032403),\n",
       " ('Horizontal_Distance_To_Roadways', 0.09068754899445769),\n",
       " ('Horizontal_Distance_To_Fire_Points', 0.07125150960291289),\n",
       " ('Horizontal_Distance_To_Hydrology', 0.05962509990906601),\n",
       " ('Wilderness_Area4', 0.05422376513042041),\n",
       " ('Vertical_Distance_To_Hydrology', 0.051708937715740234),\n",
       " ('Hillshade_9am', 0.05121416829745952),\n",
       " ('Hillshade_3pm', 0.04569945389541346),\n",
       " ('Aspect', 0.04525196530554043),\n",
       " ('Hillshade_Noon', 0.044179011111912546),\n",
       " ('Slope', 0.034492901916539344),\n",
       " ('Soil_Type10', 0.0234833693893333),\n",
       " ('Soil_Type38', 0.02329923493726738),\n",
       " ('Soil_Type39', 0.02084158537906254),\n",
       " ('Wilderness_Area3', 0.01925427195278042)]"
      ]
     },
     "execution_count": 13,
     "metadata": {},
     "output_type": "execute_result"
    }
   ],
   "source": [
    "sorted([ (X_train.columns[i], importance) for i, importance in enumerate(clf.feature_importances_)],\n",
    "       key=lambda x: x[1], reverse=True)[:15]"
   ]
  },
  {
   "cell_type": "code",
   "execution_count": 14,
   "metadata": {
    "ExecuteTime": {
     "end_time": "2019-09-03T19:21:48.670446Z",
     "start_time": "2019-09-03T19:21:48.646378Z"
    }
   },
   "outputs": [
    {
     "data": {
      "text/plain": [
       "[('Elevation', 0.2519943672972272),\n",
       " ('Horizontal_Distance_To_Roadways', 0.08979504313208746),\n",
       " ('Horizontal_Distance_To_Fire_Points', 0.05821370440938506),\n",
       " ('Horizontal_Distance_To_Hydrology', 0.056034059683657454),\n",
       " ('Wilderness_Area4', 0.0543076761858151),\n",
       " ('Vertical_Distance_To_Hydrology', 0.044928966883990985),\n",
       " ('Hillshade_9am', 0.04481570616286216),\n",
       " ('Aspect', 0.038264038488216655),\n",
       " ('Hillshade_3pm', 0.03524069999133791),\n",
       " ('Hillshade_Noon', 0.0342725303795335),\n",
       " ('Soil_Type10', 0.029273998670529225),\n",
       " ('Slope', 0.02644249186019339),\n",
       " ('Soil_Type39', 0.026402940311175935),\n",
       " ('Wilderness_Area3', 0.024301981047279122),\n",
       " ('Soil_Type38', 0.023743785560694834)]"
      ]
     },
     "execution_count": 14,
     "metadata": {},
     "output_type": "execute_result"
    }
   ],
   "source": [
    "sorted([ (X_train.columns[i], importance) for i, importance in enumerate(clf2.feature_importances_)],\n",
    "       key=lambda x: x[1], reverse=True)[:15]"
   ]
  },
  {
   "cell_type": "markdown",
   "metadata": {},
   "source": []
  },
  {
   "cell_type": "code",
   "execution_count": 20,
   "metadata": {
    "ExecuteTime": {
     "end_time": "2019-09-03T19:24:43.957866Z",
     "start_time": "2019-09-03T19:24:40.937192Z"
    }
   },
   "outputs": [],
   "source": [
    "test_pred = clf3.predict(test_df)"
   ]
  },
  {
   "cell_type": "code",
   "execution_count": 21,
   "metadata": {
    "ExecuteTime": {
     "end_time": "2019-09-03T19:24:45.106444Z",
     "start_time": "2019-09-03T19:24:43.959111Z"
    }
   },
   "outputs": [],
   "source": [
    "# Save test predictions to file\n",
    "output = pd.DataFrame({'ID': test_ids,\n",
    "                       'Cover_Type': test_pred})\n",
    "output.to_csv('submission.csv', index=False)"
   ]
  },
  {
   "cell_type": "code",
   "execution_count": null,
   "metadata": {},
   "outputs": [],
   "source": []
  }
 ],
 "metadata": {
  "kernelspec": {
   "display_name": "forestypes-venv",
   "language": "python",
   "name": "forestypes-venv"
  },
  "language_info": {
   "codemirror_mode": {
    "name": "ipython",
    "version": 3
   },
   "file_extension": ".py",
   "mimetype": "text/x-python",
   "name": "python",
   "nbconvert_exporter": "python",
   "pygments_lexer": "ipython3",
   "version": "3.5.2"
  }
 },
 "nbformat": 4,
 "nbformat_minor": 2
}
