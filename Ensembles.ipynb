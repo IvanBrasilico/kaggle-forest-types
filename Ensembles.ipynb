{
 "cells": [
  {
   "cell_type": "code",
   "execution_count": 1,
   "metadata": {
    "ExecuteTime": {
     "end_time": "2019-09-05T00:19:29.509671Z",
     "start_time": "2019-09-05T00:19:29.474437Z"
    }
   },
   "outputs": [],
   "source": [
    "DATA_DIR = '/kaggle/input/learn-together'\n",
    "DATA_DIR = 'data'"
   ]
  },
  {
   "cell_type": "code",
   "execution_count": 16,
   "metadata": {
    "ExecuteTime": {
     "end_time": "2019-09-05T00:37:58.809902Z",
     "start_time": "2019-09-05T00:37:58.805900Z"
    }
   },
   "outputs": [],
   "source": [
    "from sklearn.ensemble import RandomForestClassifier\n",
    "from sklearn.tree import DecisionTreeClassifier\n",
    "from sklearn.model_selection import train_test_split\n",
    "import pandas as pd\n",
    "import os\n",
    "from sklearn.pipeline import Pipeline\n",
    "from sklearn.preprocessing import StandardScaler, MinMaxScaler, KBinsDiscretizer\n",
    "from sklearn.neighbors import KNeighborsClassifier\n",
    "from sklearn.naive_bayes import GaussianNB\n",
    "from sklearn.decomposition import PCA\n",
    "from sklearn.metrics import accuracy_score, classification_report, confusion_matrix\n"
   ]
  },
  {
   "cell_type": "code",
   "execution_count": 17,
   "metadata": {
    "ExecuteTime": {
     "end_time": "2019-09-05T00:38:01.009993Z",
     "start_time": "2019-09-05T00:37:59.652803Z"
    }
   },
   "outputs": [],
   "source": [
    "train_df = pd.read_csv(os.path.join(DATA_DIR, 'train.csv'))\n",
    "test_df = pd.read_csv(os.path.join(DATA_DIR, 'test.csv'))\n",
    "\n",
    "train_df = train_df.set_index('Id')\n",
    "X_train = train_df.drop(['Cover_Type'], axis=1)\n",
    "y_train = train_df[['Cover_Type']]\n",
    "\n",
    "X_test = test_df.set_index('Id')"
   ]
  },
  {
   "cell_type": "code",
   "execution_count": 18,
   "metadata": {
    "ExecuteTime": {
     "end_time": "2019-09-05T00:38:02.376367Z",
     "start_time": "2019-09-05T00:38:02.369278Z"
    }
   },
   "outputs": [],
   "source": [
    "X_train, X_val, y_train, y_val = train_test_split(X_train, y_train, test_size=0.2)"
   ]
  },
  {
   "cell_type": "code",
   "execution_count": 19,
   "metadata": {
    "ExecuteTime": {
     "end_time": "2019-09-05T00:38:05.103286Z",
     "start_time": "2019-09-05T00:38:04.399111Z"
    }
   },
   "outputs": [
    {
     "name": "stderr",
     "output_type": "stream",
     "text": [
      "/home/ivan/pybr/kaggle-forest-types/venv/lib/python3.5/site-packages/sklearn/pipeline.py:356: DataConversionWarning: A column-vector y was passed when a 1d array was expected. Please change the shape of y to (n_samples, ), for example using ravel().\n",
      "  self._final_estimator.fit(Xt, y, **fit_params)\n"
     ]
    },
    {
     "data": {
      "text/plain": [
       "Pipeline(memory=None,\n",
       "         steps=[('scale', MinMaxScaler(copy=True, feature_range=(0, 1))),\n",
       "                ('pca',\n",
       "                 PCA(copy=True, iterated_power='auto', n_components=47,\n",
       "                     random_state=60, svd_solver='auto', tol=0.0,\n",
       "                     whiten=False)),\n",
       "                ('disc',\n",
       "                 KBinsDiscretizer(encode='ordinal', n_bins=20,\n",
       "                                  strategy='quantile')),\n",
       "                ('pred',\n",
       "                 KNeighborsClassifier(algorithm='ball_tree', leaf_size=30,\n",
       "                                      metric='minkowski', metric_params=None,\n",
       "                                      n_jobs=-1, n_neighbors=1, p=2,\n",
       "                                      weights='uniform'))],\n",
       "         verbose=False)"
      ]
     },
     "execution_count": 19,
     "metadata": {},
     "output_type": "execute_result"
    }
   ],
   "source": [
    "mm = MinMaxScaler((0,1))\n",
    "kb = KBinsDiscretizer(encode='ordinal', n_bins=20, strategy='quantile')\n",
    "pca = PCA(random_state=60, n_components=47)\n",
    "knn = KNeighborsClassifier(algorithm='ball_tree', n_jobs=-1, n_neighbors=1)\n",
    "\n",
    "pipe = Pipeline(steps=[\n",
    "        ('scale', mm),\n",
    "        ('pca', pca),\n",
    "        ('disc', kb),\n",
    "        ('pred', knn)\n",
    "])\n",
    "\n",
    "pipe.fit(X_train, y_train)"
   ]
  },
  {
   "cell_type": "code",
   "execution_count": 28,
   "metadata": {
    "ExecuteTime": {
     "end_time": "2019-09-05T00:42:36.337593Z",
     "start_time": "2019-09-05T00:42:33.601228Z"
    }
   },
   "outputs": [
    {
     "name": "stdout",
     "output_type": "stream",
     "text": [
      "1.0\n"
     ]
    },
    {
     "data": {
      "text/plain": [
       "0.8412698412698413"
      ]
     },
     "execution_count": 28,
     "metadata": {},
     "output_type": "execute_result"
    }
   ],
   "source": [
    "print(pipe.score(X_train, y_train))\n",
    "y_pred1 = pipe.predict(X_val)\n",
    "accuracy_score(y_val, y_pred1)\n"
   ]
  },
  {
   "cell_type": "code",
   "execution_count": 30,
   "metadata": {
    "ExecuteTime": {
     "end_time": "2019-09-05T00:44:23.181072Z",
     "start_time": "2019-09-05T00:44:20.226543Z"
    }
   },
   "outputs": [
    {
     "name": "stderr",
     "output_type": "stream",
     "text": [
      "/home/ivan/pybr/kaggle-forest-types/venv/lib/python3.5/site-packages/ipykernel_launcher.py:4: DataConversionWarning: A column-vector y was passed when a 1d array was expected. Please change the shape of y to (n_samples,), for example using ravel().\n",
      "  after removing the cwd from sys.path.\n"
     ]
    },
    {
     "name": "stdout",
     "output_type": "stream",
     "text": [
      "1.0\n"
     ]
    },
    {
     "data": {
      "text/plain": [
       "0.857473544973545"
      ]
     },
     "execution_count": 30,
     "metadata": {},
     "output_type": "execute_result"
    }
   ],
   "source": [
    "rf = RandomForestClassifier(\n",
    "    **{'n_estimators': 200, 'max_depth': 30, 'min_samples_split': 2, 'min_samples_leaf': 1}\n",
    ")\n",
    "rf.fit(X_train, y_train)\n",
    "print(rf.score(X_train, y_train))\n",
    "y_pred2 = rf.predict(X_val)\n",
    "accuracy_score(y_val, y_pred2)\n"
   ]
  },
  {
   "cell_type": "code",
   "execution_count": 85,
   "metadata": {
    "ExecuteTime": {
     "end_time": "2019-09-05T01:02:19.327336Z",
     "start_time": "2019-09-05T01:02:09.124164Z"
    }
   },
   "outputs": [
    {
     "name": "stderr",
     "output_type": "stream",
     "text": [
      "/home/ivan/pybr/kaggle-forest-types/venv/lib/python3.5/site-packages/sklearn/ensemble/gradient_boosting.py:1450: DataConversionWarning: A column-vector y was passed when a 1d array was expected. Please change the shape of y to (n_samples, ), for example using ravel().\n",
      "  y = column_or_1d(y, warn=True)\n"
     ]
    },
    {
     "data": {
      "text/plain": [
       "GradientBoostingClassifier(criterion='friedman_mse', init=None,\n",
       "                           learning_rate=0.1, loss='deviance', max_depth=3,\n",
       "                           max_features=None, max_leaf_nodes=None,\n",
       "                           min_impurity_decrease=0.0, min_impurity_split=None,\n",
       "                           min_samples_leaf=1, min_samples_split=2,\n",
       "                           min_weight_fraction_leaf=0.0, n_estimators=100,\n",
       "                           n_iter_no_change=None, presort='auto',\n",
       "                           random_state=None, subsample=1.0, tol=0.0001,\n",
       "                           validation_fraction=0.1, verbose=0,\n",
       "                           warm_start=False)"
      ]
     },
     "execution_count": 85,
     "metadata": {},
     "output_type": "execute_result"
    }
   ],
   "source": [
    "gbc = GradientBoostingClassifier()\n",
    "\n",
    "gbc.fit(X_train, y_train)"
   ]
  },
  {
   "cell_type": "code",
   "execution_count": 86,
   "metadata": {
    "ExecuteTime": {
     "end_time": "2019-09-05T01:02:19.451308Z",
     "start_time": "2019-09-05T01:02:19.328798Z"
    }
   },
   "outputs": [
    {
     "name": "stdout",
     "output_type": "stream",
     "text": [
      "0.8416005291005291\n"
     ]
    },
    {
     "data": {
      "text/plain": [
       "0.7979497354497355"
      ]
     },
     "execution_count": 86,
     "metadata": {},
     "output_type": "execute_result"
    }
   ],
   "source": [
    "print(gbc.score(X_train, y_train))\n",
    "y_pred3 = gbc.predict(X_val)\n",
    "accuracy_score(y_val, y_pred3)\n"
   ]
  },
  {
   "cell_type": "code",
   "execution_count": 72,
   "metadata": {
    "ExecuteTime": {
     "end_time": "2019-09-05T00:56:43.522251Z",
     "start_time": "2019-09-05T00:56:43.519667Z"
    }
   },
   "outputs": [],
   "source": [
    "def report(y_true, y_pred):\n",
    "    print('Accuracy: %s' % accuracy_score(y_true, y_pred))\n",
    "    print(classification_report(y_true, y_pred))\n",
    "    print(confusion_matrix(y_true, y_pred))"
   ]
  },
  {
   "cell_type": "code",
   "execution_count": null,
   "metadata": {},
   "outputs": [],
   "source": []
  },
  {
   "cell_type": "code",
   "execution_count": 73,
   "metadata": {
    "ExecuteTime": {
     "end_time": "2019-09-05T00:56:44.660504Z",
     "start_time": "2019-09-05T00:56:44.645743Z"
    }
   },
   "outputs": [
    {
     "name": "stdout",
     "output_type": "stream",
     "text": [
      "Accuracy: 0.8412698412698413\n",
      "              precision    recall  f1-score   support\n",
      "\n",
      "           1       0.77      0.70      0.73       423\n",
      "           2       0.75      0.70      0.72       447\n",
      "           3       0.86      0.80      0.83       438\n",
      "           4       0.92      0.96      0.94       427\n",
      "           5       0.85      0.93      0.89       420\n",
      "           6       0.81      0.85      0.83       434\n",
      "           7       0.92      0.95      0.93       435\n",
      "\n",
      "    accuracy                           0.84      3024\n",
      "   macro avg       0.84      0.84      0.84      3024\n",
      "weighted avg       0.84      0.84      0.84      3024\n",
      "\n",
      "[[294  76   0   0  19   3  31]\n",
      " [ 70 312   7   0  40  12   6]\n",
      " [  0   8 352  20   4  54   0]\n",
      " [  0   0   8 412   0   7   0]\n",
      " [  2  13   5   0 392   8   0]\n",
      " [  0   4  39  17   6 368   0]\n",
      " [ 17   4   0   0   0   0 414]]\n"
     ]
    }
   ],
   "source": [
    "report(y_val, y_pred1)"
   ]
  },
  {
   "cell_type": "code",
   "execution_count": 74,
   "metadata": {
    "ExecuteTime": {
     "end_time": "2019-09-05T00:56:45.248304Z",
     "start_time": "2019-09-05T00:56:45.234868Z"
    }
   },
   "outputs": [
    {
     "name": "stdout",
     "output_type": "stream",
     "text": [
      "Accuracy: 0.857473544973545\n",
      "              precision    recall  f1-score   support\n",
      "\n",
      "           1       0.76      0.74      0.75       423\n",
      "           2       0.79      0.70      0.74       447\n",
      "           3       0.85      0.82      0.84       438\n",
      "           4       0.93      0.98      0.95       427\n",
      "           5       0.89      0.94      0.91       420\n",
      "           6       0.83      0.86      0.85       434\n",
      "           7       0.93      0.96      0.94       435\n",
      "\n",
      "    accuracy                           0.86      3024\n",
      "   macro avg       0.86      0.86      0.86      3024\n",
      "weighted avg       0.85      0.86      0.86      3024\n",
      "\n",
      "[[315  64   1   0  15   2  26]\n",
      " [ 81 311  10   0  32   8   5]\n",
      " [  0   1 361  20   3  53   0]\n",
      " [  0   0   3 419   0   5   0]\n",
      " [  0  11   6   0 396   7   0]\n",
      " [  0   5  42  12   1 374   0]\n",
      " [ 18   0   0   0   0   0 417]]\n"
     ]
    }
   ],
   "source": [
    "report(y_val, y_pred2)"
   ]
  },
  {
   "cell_type": "code",
   "execution_count": 87,
   "metadata": {
    "ExecuteTime": {
     "end_time": "2019-09-05T01:02:43.626932Z",
     "start_time": "2019-09-05T01:02:43.612597Z"
    }
   },
   "outputs": [
    {
     "name": "stdout",
     "output_type": "stream",
     "text": [
      "Accuracy: 0.7979497354497355\n",
      "              precision    recall  f1-score   support\n",
      "\n",
      "           1       0.71      0.68      0.69       423\n",
      "           2       0.76      0.60      0.67       447\n",
      "           3       0.75      0.75      0.75       438\n",
      "           4       0.91      0.97      0.94       427\n",
      "           5       0.80      0.91      0.85       420\n",
      "           6       0.74      0.74      0.74       434\n",
      "           7       0.90      0.94      0.92       435\n",
      "\n",
      "    accuracy                           0.80      3024\n",
      "   macro avg       0.79      0.80      0.79      3024\n",
      "weighted avg       0.79      0.80      0.79      3024\n",
      "\n",
      "[[289  71   1   0  16   5  41]\n",
      " [ 96 266   9   0  59  13   4]\n",
      " [  0   1 330  23   6  78   0]\n",
      " [  0   0   7 416   0   4   0]\n",
      " [  1  13  12   0 381  13   0]\n",
      " [  0   1  80  18  14 321   0]\n",
      " [ 23   0   0   0   2   0 410]]\n"
     ]
    }
   ],
   "source": [
    "report(y_val, y_pred3)"
   ]
  },
  {
   "cell_type": "code",
   "execution_count": null,
   "metadata": {},
   "outputs": [],
   "source": []
  }
 ],
 "metadata": {
  "kernelspec": {
   "display_name": "forestypes-venv",
   "language": "python",
   "name": "forestypes-venv"
  },
  "language_info": {
   "codemirror_mode": {
    "name": "ipython",
    "version": 3
   },
   "file_extension": ".py",
   "mimetype": "text/x-python",
   "name": "python",
   "nbconvert_exporter": "python",
   "pygments_lexer": "ipython3",
   "version": "3.5.2"
  }
 },
 "nbformat": 4,
 "nbformat_minor": 2
}
