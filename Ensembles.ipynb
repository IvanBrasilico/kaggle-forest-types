{
 "cells": [
  {
   "cell_type": "code",
   "execution_count": 1,
   "metadata": {
    "ExecuteTime": {
     "end_time": "2019-09-05T20:54:04.790526Z",
     "start_time": "2019-09-05T20:54:04.786358Z"
    }
   },
   "outputs": [],
   "source": [
    "DATA_DIR = '/kaggle/input/learn-together'\n",
    "DATA_DIR = 'data'"
   ]
  },
  {
   "cell_type": "markdown",
   "metadata": {},
   "source": [
    "## Import libs and data"
   ]
  },
  {
   "cell_type": "code",
   "execution_count": 2,
   "metadata": {
    "ExecuteTime": {
     "end_time": "2019-09-05T20:54:06.054508Z",
     "start_time": "2019-09-05T20:54:04.797182Z"
    }
   },
   "outputs": [],
   "source": [
    "from sklearn.ensemble import RandomForestClassifier\n",
    "from sklearn.tree import DecisionTreeClassifier\n",
    "from sklearn.model_selection import train_test_split\n",
    "import pandas as pd\n",
    "import os\n",
    "from sklearn.pipeline import Pipeline\n",
    "from sklearn.preprocessing import StandardScaler, MinMaxScaler, KBinsDiscretizer\n",
    "from sklearn.neighbors import KNeighborsClassifier\n",
    "from sklearn.naive_bayes import GaussianNB\n",
    "from sklearn.decomposition import PCA\n",
    "from sklearn.metrics import accuracy_score, classification_report, confusion_matrix\n"
   ]
  },
  {
   "cell_type": "code",
   "execution_count": 3,
   "metadata": {
    "ExecuteTime": {
     "end_time": "2019-09-05T20:54:07.784057Z",
     "start_time": "2019-09-05T20:54:06.055758Z"
    }
   },
   "outputs": [],
   "source": [
    "train_df = pd.read_csv(os.path.join(DATA_DIR, 'train.csv'))\n",
    "test_df = pd.read_csv(os.path.join(DATA_DIR, 'test.csv'))\n",
    "\n",
    "train_df = train_df.set_index('Id')\n",
    "X_train = train_df.drop(['Cover_Type'], axis=1)\n",
    "y_train = train_df[['Cover_Type']]\n",
    "\n",
    "X_test = test_df.set_index('Id')"
   ]
  },
  {
   "cell_type": "code",
   "execution_count": 4,
   "metadata": {
    "ExecuteTime": {
     "end_time": "2019-09-05T20:54:07.816864Z",
     "start_time": "2019-09-05T20:54:07.785620Z"
    }
   },
   "outputs": [],
   "source": [
    "X_train, X_val, y_train, y_val = train_test_split(X_train, y_train, test_size=0.2)"
   ]
  },
  {
   "cell_type": "markdown",
   "metadata": {
    "heading_collapsed": true
   },
   "source": [
    "## Train three diferent models"
   ]
  },
  {
   "cell_type": "code",
   "execution_count": 5,
   "metadata": {
    "ExecuteTime": {
     "end_time": "2019-09-05T20:54:08.085358Z",
     "start_time": "2019-09-05T20:54:07.820475Z"
    },
    "hidden": true
   },
   "outputs": [
    {
     "name": "stderr",
     "output_type": "stream",
     "text": [
      "/home/ivan/pybr/kaggle-forest-types/venv/lib/python3.5/site-packages/sklearn/pipeline.py:356: DataConversionWarning: A column-vector y was passed when a 1d array was expected. Please change the shape of y to (n_samples, ), for example using ravel().\n",
      "  self._final_estimator.fit(Xt, y, **fit_params)\n"
     ]
    },
    {
     "data": {
      "text/plain": [
       "Pipeline(memory=None,\n",
       "         steps=[('scale', MinMaxScaler(copy=True, feature_range=(0, 1))),\n",
       "                ('pca',\n",
       "                 PCA(copy=True, iterated_power='auto', n_components=47,\n",
       "                     random_state=60, svd_solver='auto', tol=0.0,\n",
       "                     whiten=False)),\n",
       "                ('disc',\n",
       "                 KBinsDiscretizer(encode='ordinal', n_bins=20,\n",
       "                                  strategy='quantile')),\n",
       "                ('pred',\n",
       "                 KNeighborsClassifier(algorithm='ball_tree', leaf_size=30,\n",
       "                                      metric='minkowski', metric_params=None,\n",
       "                                      n_jobs=-1, n_neighbors=1, p=2,\n",
       "                                      weights='uniform'))],\n",
       "         verbose=False)"
      ]
     },
     "execution_count": 5,
     "metadata": {},
     "output_type": "execute_result"
    }
   ],
   "source": [
    "mm = MinMaxScaler((0,1))\n",
    "kb = KBinsDiscretizer(encode='ordinal', n_bins=20, strategy='quantile')\n",
    "pca = PCA(random_state=60, n_components=47)\n",
    "knn = KNeighborsClassifier(algorithm='ball_tree', n_jobs=-1, n_neighbors=1)\n",
    "\n",
    "pipe = Pipeline(steps=[\n",
    "        ('scale', mm),\n",
    "        ('pca', pca),\n",
    "        ('disc', kb),\n",
    "        ('pred', knn)\n",
    "])\n",
    "\n",
    "pipe.fit(X_train, y_train)"
   ]
  },
  {
   "cell_type": "code",
   "execution_count": 6,
   "metadata": {
    "ExecuteTime": {
     "end_time": "2019-09-05T20:54:10.754529Z",
     "start_time": "2019-09-05T20:54:08.087215Z"
    },
    "hidden": true
   },
   "outputs": [
    {
     "name": "stdout",
     "output_type": "stream",
     "text": [
      "1.0\n"
     ]
    },
    {
     "data": {
      "text/plain": [
       "0.841931216931217"
      ]
     },
     "execution_count": 6,
     "metadata": {},
     "output_type": "execute_result"
    }
   ],
   "source": [
    "print(pipe.score(X_train, y_train))\n",
    "y_pred1 = pipe.predict(X_val)\n",
    "accuracy_score(y_val, y_pred1)\n"
   ]
  },
  {
   "cell_type": "code",
   "execution_count": 7,
   "metadata": {
    "ExecuteTime": {
     "end_time": "2019-09-05T20:54:13.761642Z",
     "start_time": "2019-09-05T20:54:10.756222Z"
    },
    "hidden": true
   },
   "outputs": [
    {
     "name": "stderr",
     "output_type": "stream",
     "text": [
      "/home/ivan/pybr/kaggle-forest-types/venv/lib/python3.5/site-packages/ipykernel_launcher.py:4: DataConversionWarning: A column-vector y was passed when a 1d array was expected. Please change the shape of y to (n_samples,), for example using ravel().\n",
      "  after removing the cwd from sys.path.\n"
     ]
    },
    {
     "name": "stdout",
     "output_type": "stream",
     "text": [
      "1.0\n"
     ]
    },
    {
     "data": {
      "text/plain": [
       "0.8640873015873016"
      ]
     },
     "execution_count": 7,
     "metadata": {},
     "output_type": "execute_result"
    }
   ],
   "source": [
    "rf = RandomForestClassifier(\n",
    "    **{'n_estimators': 200, 'max_depth': 30, 'min_samples_split': 2, 'min_samples_leaf': 1}\n",
    ")\n",
    "rf.fit(X_train, y_train)\n",
    "print(rf.score(X_train, y_train))\n",
    "y_pred2 = rf.predict(X_val)\n",
    "accuracy_score(y_val, y_pred2)\n"
   ]
  },
  {
   "cell_type": "code",
   "execution_count": 8,
   "metadata": {
    "ExecuteTime": {
     "end_time": "2019-09-05T20:54:23.728119Z",
     "start_time": "2019-09-05T20:54:13.763056Z"
    },
    "hidden": true
   },
   "outputs": [
    {
     "name": "stderr",
     "output_type": "stream",
     "text": [
      "/home/ivan/pybr/kaggle-forest-types/venv/lib/python3.5/site-packages/sklearn/ensemble/gradient_boosting.py:1450: DataConversionWarning: A column-vector y was passed when a 1d array was expected. Please change the shape of y to (n_samples, ), for example using ravel().\n",
      "  y = column_or_1d(y, warn=True)\n"
     ]
    },
    {
     "data": {
      "text/plain": [
       "GradientBoostingClassifier(criterion='friedman_mse', init=None,\n",
       "                           learning_rate=0.1, loss='deviance', max_depth=3,\n",
       "                           max_features=None, max_leaf_nodes=None,\n",
       "                           min_impurity_decrease=0.0, min_impurity_split=None,\n",
       "                           min_samples_leaf=1, min_samples_split=2,\n",
       "                           min_weight_fraction_leaf=0.0, n_estimators=100,\n",
       "                           n_iter_no_change=None, presort='auto',\n",
       "                           random_state=None, subsample=1.0, tol=0.0001,\n",
       "                           validation_fraction=0.1, verbose=0,\n",
       "                           warm_start=False)"
      ]
     },
     "execution_count": 8,
     "metadata": {},
     "output_type": "execute_result"
    }
   ],
   "source": [
    "from sklearn.ensemble import GradientBoostingClassifier\n",
    "\n",
    "gbc = GradientBoostingClassifier()\n",
    "\n",
    "\n",
    "gbc.fit(X_train, y_train)"
   ]
  },
  {
   "cell_type": "code",
   "execution_count": 9,
   "metadata": {
    "ExecuteTime": {
     "end_time": "2019-09-05T20:54:23.855292Z",
     "start_time": "2019-09-05T20:54:23.730353Z"
    },
    "hidden": true
   },
   "outputs": [
    {
     "name": "stdout",
     "output_type": "stream",
     "text": [
      "0.8439980158730159\n"
     ]
    },
    {
     "data": {
      "text/plain": [
       "0.8032407407407407"
      ]
     },
     "execution_count": 9,
     "metadata": {},
     "output_type": "execute_result"
    }
   ],
   "source": [
    "print(gbc.score(X_train, y_train))\n",
    "y_pred3 = gbc.predict(X_val)\n",
    "accuracy_score(y_val, y_pred3)\n"
   ]
  },
  {
   "cell_type": "markdown",
   "metadata": {},
   "source": [
    "## Compare errors"
   ]
  },
  {
   "cell_type": "code",
   "execution_count": 10,
   "metadata": {
    "ExecuteTime": {
     "end_time": "2019-09-05T20:54:23.861787Z",
     "start_time": "2019-09-05T20:54:23.857828Z"
    }
   },
   "outputs": [],
   "source": [
    "def report(y_true, y_pred):\n",
    "    print('Accuracy: %s' % accuracy_score(y_true, y_pred))\n",
    "    print(classification_report(y_true, y_pred))\n",
    "    print(confusion_matrix(y_true, y_pred))"
   ]
  },
  {
   "cell_type": "code",
   "execution_count": 11,
   "metadata": {
    "ExecuteTime": {
     "end_time": "2019-09-05T20:54:23.887004Z",
     "start_time": "2019-09-05T20:54:23.863066Z"
    }
   },
   "outputs": [
    {
     "name": "stdout",
     "output_type": "stream",
     "text": [
      "Accuracy: 0.841931216931217\n",
      "              precision    recall  f1-score   support\n",
      "\n",
      "           1       0.79      0.71      0.75       444\n",
      "           2       0.74      0.71      0.73       433\n",
      "           3       0.83      0.79      0.81       451\n",
      "           4       0.93      0.94      0.93       424\n",
      "           5       0.87      0.94      0.90       423\n",
      "           6       0.80      0.84      0.82       424\n",
      "           7       0.93      0.97      0.95       425\n",
      "\n",
      "    accuracy                           0.84      3024\n",
      "   macro avg       0.84      0.84      0.84      3024\n",
      "weighted avg       0.84      0.84      0.84      3024\n",
      "\n",
      "[[317  86   0   0  15   0  26]\n",
      " [ 71 309   5   0  33  11   4]\n",
      " [  0   7 355  23   8  58   0]\n",
      " [  0   0  10 399   0  15   0]\n",
      " [  2  12   5   0 398   6   0]\n",
      " [  0   4  51   8   5 356   0]\n",
      " [ 13   0   0   0   0   0 412]]\n"
     ]
    }
   ],
   "source": [
    "report(y_val, y_pred1)"
   ]
  },
  {
   "cell_type": "code",
   "execution_count": 12,
   "metadata": {
    "ExecuteTime": {
     "end_time": "2019-09-05T20:54:23.910419Z",
     "start_time": "2019-09-05T20:54:23.889826Z"
    }
   },
   "outputs": [
    {
     "name": "stdout",
     "output_type": "stream",
     "text": [
      "Accuracy: 0.8640873015873016\n",
      "              precision    recall  f1-score   support\n",
      "\n",
      "           1       0.80      0.77      0.78       444\n",
      "           2       0.79      0.72      0.75       433\n",
      "           3       0.87      0.80      0.83       451\n",
      "           4       0.94      0.97      0.96       424\n",
      "           5       0.90      0.95      0.92       423\n",
      "           6       0.82      0.88      0.85       424\n",
      "           7       0.93      0.97      0.95       425\n",
      "\n",
      "    accuracy                           0.86      3024\n",
      "   macro avg       0.86      0.87      0.86      3024\n",
      "weighted avg       0.86      0.86      0.86      3024\n",
      "\n",
      "[[340  65   0   0  13   0  26]\n",
      " [ 69 313   7   0  28  10   6]\n",
      " [  0   2 362  17   5  65   0]\n",
      " [  0   0   7 413   0   4   0]\n",
      " [  1  11   5   0 401   5   0]\n",
      " [  0   5  37   8   1 373   0]\n",
      " [ 13   1   0   0   0   0 411]]\n"
     ]
    }
   ],
   "source": [
    "report(y_val, y_pred2)"
   ]
  },
  {
   "cell_type": "code",
   "execution_count": 13,
   "metadata": {
    "ExecuteTime": {
     "end_time": "2019-09-05T20:54:23.929256Z",
     "start_time": "2019-09-05T20:54:23.912301Z"
    }
   },
   "outputs": [
    {
     "name": "stdout",
     "output_type": "stream",
     "text": [
      "Accuracy: 0.8032407407407407\n",
      "              precision    recall  f1-score   support\n",
      "\n",
      "           1       0.72      0.70      0.71       444\n",
      "           2       0.73      0.56      0.63       433\n",
      "           3       0.79      0.76      0.77       451\n",
      "           4       0.93      0.96      0.94       424\n",
      "           5       0.78      0.91      0.84       423\n",
      "           6       0.76      0.79      0.77       424\n",
      "           7       0.91      0.96      0.93       425\n",
      "\n",
      "    accuracy                           0.80      3024\n",
      "   macro avg       0.80      0.81      0.80      3024\n",
      "weighted avg       0.80      0.80      0.80      3024\n",
      "\n",
      "[[312  69   0   0  27   2  34]\n",
      " [105 242   9   0  60  12   5]\n",
      " [  0   0 342  19  13  77   0]\n",
      " [  0   0  10 407   0   7   0]\n",
      " [  0  20   7   0 386  10   0]\n",
      " [  0   1  66  14   9 334   0]\n",
      " [ 18   0   0   0   1   0 406]]\n"
     ]
    }
   ],
   "source": [
    "report(y_val, y_pred3)"
   ]
  },
  {
   "cell_type": "code",
   "execution_count": 14,
   "metadata": {
    "ExecuteTime": {
     "end_time": "2019-09-05T20:54:23.934459Z",
     "start_time": "2019-09-05T20:54:23.930481Z"
    }
   },
   "outputs": [
    {
     "data": {
      "text/plain": [
       "0.8647486772486772"
      ]
     },
     "execution_count": 14,
     "metadata": {},
     "output_type": "execute_result"
    }
   ],
   "source": [
    "(y_pred1 == y_pred2).sum() / len(y_pred2)"
   ]
  },
  {
   "cell_type": "code",
   "execution_count": 15,
   "metadata": {
    "ExecuteTime": {
     "end_time": "2019-09-05T20:54:23.952980Z",
     "start_time": "2019-09-05T20:54:23.935691Z"
    }
   },
   "outputs": [
    {
     "data": {
      "text/plain": [
       "0.8776455026455027"
      ]
     },
     "execution_count": 15,
     "metadata": {},
     "output_type": "execute_result"
    }
   ],
   "source": [
    "(y_pred2 == y_pred3).sum() / len(y_pred3)"
   ]
  },
  {
   "cell_type": "code",
   "execution_count": 16,
   "metadata": {
    "ExecuteTime": {
     "end_time": "2019-09-05T20:54:23.966484Z",
     "start_time": "2019-09-05T20:54:23.956876Z"
    }
   },
   "outputs": [
    {
     "data": {
      "text/plain": [
       "0.7982804232804233"
      ]
     },
     "execution_count": 16,
     "metadata": {},
     "output_type": "execute_result"
    }
   ],
   "source": [
    "(y_pred1 == y_pred3).sum() / len(y_pred3)"
   ]
  },
  {
   "cell_type": "markdown",
   "metadata": {},
   "source": [
    "## Train model just for 1 x 2 class "
   ]
  },
  {
   "cell_type": "code",
   "execution_count": 17,
   "metadata": {
    "ExecuteTime": {
     "end_time": "2019-09-05T20:54:23.990926Z",
     "start_time": "2019-09-05T20:54:23.972449Z"
    }
   },
   "outputs": [],
   "source": [
    "y_train_1_2 = y_train[y_train['Cover_Type'] < 3 ]\n",
    "X_train_1_2 = X_train[y_train['Cover_Type'] < 3 ]\n",
    "y_val_1_2 = y_val[y_val['Cover_Type'] < 3 ]\n",
    "X_val_1_2 = X_val[y_val['Cover_Type'] < 3 ]\n",
    "\n"
   ]
  },
  {
   "cell_type": "code",
   "execution_count": 18,
   "metadata": {
    "ExecuteTime": {
     "end_time": "2019-09-05T20:54:23.999213Z",
     "start_time": "2019-09-05T20:54:23.994095Z"
    }
   },
   "outputs": [
    {
     "data": {
      "text/plain": [
       "(3443, 54)"
      ]
     },
     "execution_count": 18,
     "metadata": {},
     "output_type": "execute_result"
    }
   ],
   "source": [
    "X_train_1_2.shape"
   ]
  },
  {
   "cell_type": "code",
   "execution_count": 19,
   "metadata": {
    "ExecuteTime": {
     "end_time": "2019-09-05T20:54:24.015047Z",
     "start_time": "2019-09-05T20:54:24.001032Z"
    }
   },
   "outputs": [
    {
     "data": {
      "text/plain": [
       "5    1737\n",
       "6    1736\n",
       "4    1736\n",
       "7    1735\n",
       "2    1727\n",
       "1    1716\n",
       "3    1709\n",
       "Name: Cover_Type, dtype: int64"
      ]
     },
     "execution_count": 19,
     "metadata": {},
     "output_type": "execute_result"
    }
   ],
   "source": [
    "y_train['Cover_Type'].value_counts()"
   ]
  },
  {
   "cell_type": "code",
   "execution_count": 20,
   "metadata": {
    "ExecuteTime": {
     "end_time": "2019-09-05T20:54:24.024312Z",
     "start_time": "2019-09-05T20:54:24.016835Z"
    }
   },
   "outputs": [
    {
     "data": {
      "text/plain": [
       "3484"
      ]
     },
     "execution_count": 20,
     "metadata": {},
     "output_type": "execute_result"
    }
   ],
   "source": [
    "1736+1748"
   ]
  },
  {
   "cell_type": "code",
   "execution_count": 21,
   "metadata": {
    "ExecuteTime": {
     "end_time": "2019-09-05T20:54:24.593420Z",
     "start_time": "2019-09-05T20:54:24.025588Z"
    }
   },
   "outputs": [
    {
     "name": "stderr",
     "output_type": "stream",
     "text": [
      "/home/ivan/pybr/kaggle-forest-types/venv/lib/python3.5/site-packages/sklearn/preprocessing/_discretization.py:193: UserWarning: Bins whose width are too small (i.e., <= 1e-8) in feature 46 are removed. Consider decreasing the number of bins.\n",
      "  'decreasing the number of bins.' % jj)\n",
      "/home/ivan/pybr/kaggle-forest-types/venv/lib/python3.5/site-packages/sklearn/pipeline.py:356: DataConversionWarning: A column-vector y was passed when a 1d array was expected. Please change the shape of y to (n_samples, ), for example using ravel().\n",
      "  self._final_estimator.fit(Xt, y, **fit_params)\n"
     ]
    },
    {
     "data": {
      "text/plain": [
       "1.0"
      ]
     },
     "execution_count": 21,
     "metadata": {},
     "output_type": "execute_result"
    }
   ],
   "source": [
    "pipe_1_2 = Pipeline(steps=[\n",
    "        ('scale', mm),\n",
    "        ('pca', pca),\n",
    "        ('disc', kb),\n",
    "        ('pred', knn)\n",
    "])\n",
    "\n",
    "pipe_1_2.fit(X_train_1_2, y_train_1_2)\n",
    "pipe_1_2.score(X_train_1_2, y_train_1_2)\n"
   ]
  },
  {
   "cell_type": "code",
   "execution_count": 22,
   "metadata": {
    "ExecuteTime": {
     "end_time": "2019-09-05T20:54:24.900125Z",
     "start_time": "2019-09-05T20:54:24.594822Z"
    }
   },
   "outputs": [
    {
     "name": "stdout",
     "output_type": "stream",
     "text": [
      "Accuracy: 0.7913340935005702\n",
      "              precision    recall  f1-score   support\n",
      "\n",
      "           1       0.82      0.76      0.79       444\n",
      "           2       0.77      0.83      0.80       433\n",
      "\n",
      "    accuracy                           0.79       877\n",
      "   macro avg       0.79      0.79      0.79       877\n",
      "weighted avg       0.79      0.79      0.79       877\n",
      "\n",
      "[[336 108]\n",
      " [ 75 358]]\n"
     ]
    }
   ],
   "source": [
    "y_pred1_1_2 = pipe_1_2.predict(X_val_1_2)\n",
    "report(y_val_1_2, y_pred1_1_2)"
   ]
  },
  {
   "cell_type": "code",
   "execution_count": 23,
   "metadata": {
    "ExecuteTime": {
     "end_time": "2019-09-05T20:54:25.124146Z",
     "start_time": "2019-09-05T20:54:24.902252Z"
    }
   },
   "outputs": [
    {
     "name": "stderr",
     "output_type": "stream",
     "text": [
      "/home/ivan/pybr/kaggle-forest-types/venv/lib/python3.5/site-packages/ipykernel_launcher.py:4: DataConversionWarning: A column-vector y was passed when a 1d array was expected. Please change the shape of y to (n_samples,), for example using ravel().\n",
      "  after removing the cwd from sys.path.\n"
     ]
    },
    {
     "name": "stdout",
     "output_type": "stream",
     "text": [
      "0.9747313389485913\n"
     ]
    },
    {
     "data": {
      "text/plain": [
       "0.7833523375142531"
      ]
     },
     "execution_count": 23,
     "metadata": {},
     "output_type": "execute_result"
    }
   ],
   "source": [
    "rf_1_2 = RandomForestClassifier(\n",
    "    **{'n_estimators': 50, 'max_depth': 24, 'min_samples_split': 4, 'min_samples_leaf': 2}\n",
    ")\n",
    "rf_1_2.fit(X_train_1_2, y_train_1_2)\n",
    "print(rf_1_2.score(X_train_1_2, y_train_1_2))\n",
    "y_pred2_1_2 = rf_1_2.predict(X_val_1_2)\n",
    "accuracy_score(y_val_1_2, y_pred2_1_2)"
   ]
  },
  {
   "cell_type": "code",
   "execution_count": 24,
   "metadata": {
    "ExecuteTime": {
     "end_time": "2019-09-05T20:54:25.135317Z",
     "start_time": "2019-09-05T20:54:25.127331Z"
    }
   },
   "outputs": [
    {
     "name": "stdout",
     "output_type": "stream",
     "text": [
      "Accuracy: 0.7833523375142531\n",
      "              precision    recall  f1-score   support\n",
      "\n",
      "           1       0.78      0.79      0.79       444\n",
      "           2       0.78      0.77      0.78       433\n",
      "\n",
      "    accuracy                           0.78       877\n",
      "   macro avg       0.78      0.78      0.78       877\n",
      "weighted avg       0.78      0.78      0.78       877\n",
      "\n",
      "[[352  92]\n",
      " [ 98 335]]\n"
     ]
    }
   ],
   "source": [
    "report(y_val_1_2, y_pred2_1_2)"
   ]
  },
  {
   "cell_type": "code",
   "execution_count": 25,
   "metadata": {
    "ExecuteTime": {
     "end_time": "2019-09-05T20:54:36.686240Z",
     "start_time": "2019-09-05T20:54:25.136664Z"
    }
   },
   "outputs": [
    {
     "name": "stderr",
     "output_type": "stream",
     "text": [
      "/home/ivan/pybr/kaggle-forest-types/venv/lib/python3.5/site-packages/sklearn/preprocessing/label.py:219: DataConversionWarning: A column-vector y was passed when a 1d array was expected. Please change the shape of y to (n_samples, ), for example using ravel().\n",
      "  y = column_or_1d(y, warn=True)\n",
      "/home/ivan/pybr/kaggle-forest-types/venv/lib/python3.5/site-packages/sklearn/preprocessing/label.py:252: DataConversionWarning: A column-vector y was passed when a 1d array was expected. Please change the shape of y to (n_samples, ), for example using ravel().\n",
      "  y = column_or_1d(y, warn=True)\n",
      "/home/ivan/pybr/kaggle-forest-types/venv/lib/python3.5/site-packages/sklearn/preprocessing/label.py:252: DataConversionWarning: A column-vector y was passed when a 1d array was expected. Please change the shape of y to (n_samples, ), for example using ravel().\n",
      "  y = column_or_1d(y, warn=True)\n",
      "/home/ivan/pybr/kaggle-forest-types/venv/lib/python3.5/site-packages/sklearn/preprocessing/label.py:252: DataConversionWarning: A column-vector y was passed when a 1d array was expected. Please change the shape of y to (n_samples, ), for example using ravel().\n",
      "  y = column_or_1d(y, warn=True)\n",
      "/home/ivan/pybr/kaggle-forest-types/venv/lib/python3.5/site-packages/sklearn/preprocessing/label.py:252: DataConversionWarning: A column-vector y was passed when a 1d array was expected. Please change the shape of y to (n_samples, ), for example using ravel().\n",
      "  y = column_or_1d(y, warn=True)\n",
      "/home/ivan/pybr/kaggle-forest-types/venv/lib/python3.5/site-packages/sklearn/preprocessing/label.py:252: DataConversionWarning: A column-vector y was passed when a 1d array was expected. Please change the shape of y to (n_samples, ), for example using ravel().\n",
      "  y = column_or_1d(y, warn=True)\n"
     ]
    },
    {
     "data": {
      "text/plain": [
       "1.0"
      ]
     },
     "execution_count": 25,
     "metadata": {},
     "output_type": "execute_result"
    }
   ],
   "source": [
    "from sklearn.ensemble import VotingClassifier\n",
    "\n",
    "from mlxtend.classifier import EnsembleVoteClassifier\n",
    "\n",
    "eclf = EnsembleVoteClassifier(\n",
    "    clfs=[pipe, rf, \n",
    "          RandomForestClassifier(\n",
    "              n_estimators=50,\n",
    "              max_depth=30,\n",
    "              min_samples_split=4,\n",
    "              min_samples_leaf=2,\n",
    "              class_weight= {0:100, 1: 100, 2: 1, 3: 1, 4: 1, 5: 1, 6: 1}\n",
    "          ),\n",
    "          RandomForestClassifier(\n",
    "              n_estimators=200,\n",
    "              max_depth=50,\n",
    "              min_samples_split=2,\n",
    "              min_samples_leaf=1,\n",
    "              class_weight= {0:2, 1: 2, 2: 1, 3: 1, 4: 2, 5: 1, 6: 1}\n",
    "          ),\n",
    "          RandomForestClassifier(\n",
    "              n_estimators=200,\n",
    "              max_depth=30,\n",
    "              min_samples_split=10,\n",
    "              min_samples_leaf=5,\n",
    "              class_weight= {0:10, 1: 10, 2: 100, 3: 1, 4: 100, 5: 1, 6: 1}\n",
    "          )\n",
    "\n",
    "        ],\n",
    "    voting='hard',\n",
    "    # refit=False\n",
    ")\n",
    "\n",
    "eclf = eclf.fit(X_train, y_train)\n",
    "# eclf = eclf.fit(None, [1, 2, 3, 4, 5, 6, 7])\n",
    "y_pred_train = eclf.predict(X_train)\n",
    "accuracy_score(y_train, y_pred_train)"
   ]
  },
  {
   "cell_type": "code",
   "execution_count": 26,
   "metadata": {
    "ExecuteTime": {
     "end_time": "2019-09-05T20:54:37.905476Z",
     "start_time": "2019-09-05T20:54:36.688066Z"
    }
   },
   "outputs": [
    {
     "name": "stdout",
     "output_type": "stream",
     "text": [
      "Accuracy: 0.8660714285714286\n",
      "              precision    recall  f1-score   support\n",
      "\n",
      "           1       0.78      0.78      0.78       444\n",
      "           2       0.79      0.71      0.75       433\n",
      "           3       0.85      0.84      0.84       451\n",
      "           4       0.94      0.97      0.96       424\n",
      "           5       0.90      0.95      0.92       423\n",
      "           6       0.85      0.86      0.85       424\n",
      "           7       0.95      0.96      0.95       425\n",
      "\n",
      "    accuracy                           0.87      3024\n",
      "   macro avg       0.87      0.87      0.87      3024\n",
      "weighted avg       0.86      0.87      0.86      3024\n",
      "\n",
      "[[347  63   0   0  14   0  20]\n",
      " [ 81 309   8   0  26   7   2]\n",
      " [  0   3 377  16   5  50   0]\n",
      " [  0   0   8 413   0   3   0]\n",
      " [  1  10   4   0 403   5   0]\n",
      " [  0   4  47   9   1 363   0]\n",
      " [ 18   0   0   0   0   0 407]]\n"
     ]
    }
   ],
   "source": [
    "y_pred_e = eclf.predict(X_val)\n",
    "report(y_val, y_pred_e)"
   ]
  },
  {
   "cell_type": "code",
   "execution_count": 27,
   "metadata": {
    "ExecuteTime": {
     "end_time": "2019-09-05T20:54:39.225631Z",
     "start_time": "2019-09-05T20:54:37.906711Z"
    }
   },
   "outputs": [
    {
     "name": "stdout",
     "output_type": "stream",
     "text": [
      "Requirement already satisfied: mlxtend in ./venv/lib/python3.5/site-packages (0.17.0)\n",
      "Requirement already satisfied: scikit-learn>=0.20.3 in ./venv/lib/python3.5/site-packages (from mlxtend) (0.21.3)\n",
      "Requirement already satisfied: setuptools in ./venv/lib/python3.5/site-packages (from mlxtend) (41.2.0)\n",
      "Requirement already satisfied: numpy>=1.16.2 in ./venv/lib/python3.5/site-packages (from mlxtend) (1.17.1)\n",
      "Requirement already satisfied: scipy>=1.2.1 in ./venv/lib/python3.5/site-packages (from mlxtend) (1.3.1)\n",
      "Requirement already satisfied: matplotlib>=3.0.0 in ./venv/lib/python3.5/site-packages (from mlxtend) (3.0.3)\n",
      "Requirement already satisfied: joblib>=0.13.2 in ./venv/lib/python3.5/site-packages (from mlxtend) (0.13.2)\n",
      "Requirement already satisfied: pandas>=0.24.2 in ./venv/lib/python3.5/site-packages (from mlxtend) (0.24.2)\n",
      "Requirement already satisfied: cycler>=0.10 in ./venv/lib/python3.5/site-packages (from matplotlib>=3.0.0->mlxtend) (0.10.0)\n",
      "Requirement already satisfied: pyparsing!=2.0.4,!=2.1.2,!=2.1.6,>=2.0.1 in ./venv/lib/python3.5/site-packages (from matplotlib>=3.0.0->mlxtend) (2.4.2)\n",
      "Requirement already satisfied: kiwisolver>=1.0.1 in ./venv/lib/python3.5/site-packages (from matplotlib>=3.0.0->mlxtend) (1.1.0)\n",
      "Requirement already satisfied: python-dateutil>=2.1 in ./venv/lib/python3.5/site-packages (from matplotlib>=3.0.0->mlxtend) (2.8.0)\n",
      "Requirement already satisfied: pytz>=2011k in ./venv/lib/python3.5/site-packages (from pandas>=0.24.2->mlxtend) (2019.2)\n",
      "Requirement already satisfied: six in ./venv/lib/python3.5/site-packages (from cycler>=0.10->matplotlib>=3.0.0->mlxtend) (1.12.0)\n"
     ]
    }
   ],
   "source": [
    "!pip install mlxtend"
   ]
  },
  {
   "cell_type": "code",
   "execution_count": 28,
   "metadata": {
    "ExecuteTime": {
     "end_time": "2019-09-05T20:54:39.241982Z",
     "start_time": "2019-09-05T20:54:39.229851Z"
    }
   },
   "outputs": [
    {
     "data": {
      "text/plain": [
       "array([5, 5, 3, ..., 4, 1, 4])"
      ]
     },
     "execution_count": 28,
     "metadata": {},
     "output_type": "execute_result"
    }
   ],
   "source": [
    "y_train['Cover_Type'].values"
   ]
  },
  {
   "cell_type": "code",
   "execution_count": null,
   "metadata": {
    "ExecuteTime": {
     "start_time": "2019-09-05T20:54:04.835Z"
    }
   },
   "outputs": [],
   "source": [
    "test_pred = eclf.predict(X_test)"
   ]
  },
  {
   "cell_type": "code",
   "execution_count": null,
   "metadata": {
    "ExecuteTime": {
     "start_time": "2019-09-05T20:54:04.837Z"
    }
   },
   "outputs": [],
   "source": [
    "# Save test predictions to file\n",
    "output = pd.DataFrame({'ID': X_test.index,\n",
    "                       'Cover_Type': test_pred})\n",
    "output.to_csv('submission.csv', index=False)"
   ]
  },
  {
   "cell_type": "code",
   "execution_count": null,
   "metadata": {},
   "outputs": [],
   "source": []
  }
 ],
 "metadata": {
  "kernelspec": {
   "display_name": "forestypes-venv",
   "language": "python",
   "name": "forestypes-venv"
  },
  "language_info": {
   "codemirror_mode": {
    "name": "ipython",
    "version": 3
   },
   "file_extension": ".py",
   "mimetype": "text/x-python",
   "name": "python",
   "nbconvert_exporter": "python",
   "pygments_lexer": "ipython3",
   "version": "3.5.2"
  }
 },
 "nbformat": 4,
 "nbformat_minor": 2
}
