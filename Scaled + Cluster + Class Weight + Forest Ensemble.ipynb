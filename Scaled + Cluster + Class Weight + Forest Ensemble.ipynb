{
 "cells": [
  {
   "cell_type": "code",
   "execution_count": 1,
   "metadata": {
    "ExecuteTime": {
     "end_time": "2019-09-08T12:51:29.041852Z",
     "start_time": "2019-09-08T12:51:29.037631Z"
    }
   },
   "outputs": [],
   "source": [
    "DATA_DIR = '/kaggle/input/learn-together'\n",
    "DATA_DIR = 'data'"
   ]
  },
  {
   "cell_type": "markdown",
   "metadata": {},
   "source": [
    "# Import libs and data"
   ]
  },
  {
   "cell_type": "code",
   "execution_count": 47,
   "metadata": {
    "ExecuteTime": {
     "end_time": "2019-09-08T13:11:57.124264Z",
     "start_time": "2019-09-08T13:11:57.116930Z"
    }
   },
   "outputs": [],
   "source": [
    "import pandas as pd\n",
    "import numpy as np\n",
    "import os\n",
    "from sklearn.pipeline import Pipeline\n",
    "from sklearn.preprocessing import RobustScaler, StandardScaler\n",
    "from sklearn.neighbors import KNeighborsClassifier\n",
    "from sklearn.metrics import accuracy_score, classification_report, confusion_matrix\n",
    "from sklearn.ensemble import RandomForestClassifier\n",
    "from sklearn.cluster import MiniBatchKMeans\n",
    "from sklearn.model_selection import train_test_split\n"
   ]
  },
  {
   "cell_type": "code",
   "execution_count": 65,
   "metadata": {
    "ExecuteTime": {
     "end_time": "2019-09-08T13:25:53.893859Z",
     "start_time": "2019-09-08T13:25:51.800441Z"
    }
   },
   "outputs": [],
   "source": [
    "train_df = pd.read_csv(os.path.join(DATA_DIR, 'train.csv'))\n",
    "test_df = pd.read_csv(os.path.join(DATA_DIR, 'test.csv'))\n",
    "\n",
    "train_df = train_df.set_index('Id')\n",
    "X_train = train_df.drop(['Cover_Type'], axis=1)\n",
    "y_train = train_df['Cover_Type']\n",
    "\n",
    "X_test = test_df.set_index('Id')"
   ]
  },
  {
   "cell_type": "code",
   "execution_count": 66,
   "metadata": {
    "ExecuteTime": {
     "end_time": "2019-09-08T13:25:53.901554Z",
     "start_time": "2019-09-08T13:25:53.896304Z"
    }
   },
   "outputs": [
    {
     "name": "stdout",
     "output_type": "stream",
     "text": [
      "(15120, 54)\n",
      "(565892, 54)\n"
     ]
    }
   ],
   "source": [
    "print(X_train.shape)\n",
    "print(X_test.shape)"
   ]
  },
  {
   "cell_type": "code",
   "execution_count": 67,
   "metadata": {
    "ExecuteTime": {
     "end_time": "2019-09-08T13:25:56.010136Z",
     "start_time": "2019-09-08T13:25:56.004862Z"
    }
   },
   "outputs": [],
   "source": [
    "def report(y_true, y_pred):\n",
    "    print('Accuracy: %s' % accuracy_score(y_true, y_pred))\n",
    "    print(classification_report(y_true, y_pred))\n",
    "    print(confusion_matrix(y_true, y_pred))"
   ]
  },
  {
   "cell_type": "markdown",
   "metadata": {},
   "source": [
    "# Apply Scaler and KMeans Cluster"
   ]
  },
  {
   "cell_type": "code",
   "execution_count": 68,
   "metadata": {
    "ExecuteTime": {
     "end_time": "2019-09-08T13:25:57.401547Z",
     "start_time": "2019-09-08T13:25:57.322890Z"
    }
   },
   "outputs": [],
   "source": [
    "X = np.vstack([X_train, X_test])"
   ]
  },
  {
   "cell_type": "code",
   "execution_count": 69,
   "metadata": {
    "ExecuteTime": {
     "end_time": "2019-09-08T13:26:07.051702Z",
     "start_time": "2019-09-08T13:26:06.120862Z"
    }
   },
   "outputs": [],
   "source": [
    "ss = StandardScaler()\n",
    "X_scaled = ss.fit_transform(X)"
   ]
  },
  {
   "cell_type": "code",
   "execution_count": 70,
   "metadata": {
    "ExecuteTime": {
     "end_time": "2019-09-08T13:26:20.030082Z",
     "start_time": "2019-09-08T13:26:16.423798Z"
    }
   },
   "outputs": [
    {
     "data": {
      "text/plain": [
       "MiniBatchKMeans(batch_size=100, compute_labels=True, init='k-means++',\n",
       "                init_size=None, max_iter=100, max_no_improvement=10,\n",
       "                n_clusters=7, n_init=3, random_state=None,\n",
       "                reassignment_ratio=0.01, tol=0.0, verbose=0)"
      ]
     },
     "execution_count": 70,
     "metadata": {},
     "output_type": "execute_result"
    }
   ],
   "source": [
    "kms = MiniBatchKMeans(n_clusters=7)\n",
    "kms.fit(X_scaled)"
   ]
  },
  {
   "cell_type": "code",
   "execution_count": 71,
   "metadata": {
    "ExecuteTime": {
     "end_time": "2019-09-08T13:26:25.784306Z",
     "start_time": "2019-09-08T13:26:25.635132Z"
    }
   },
   "outputs": [],
   "source": [
    "X_scaled = np.hstack((X_scaled, np.expand_dims(kms.labels_, axis=1)))"
   ]
  },
  {
   "cell_type": "code",
   "execution_count": 72,
   "metadata": {
    "ExecuteTime": {
     "end_time": "2019-09-08T13:27:28.543704Z",
     "start_time": "2019-09-08T13:27:28.533804Z"
    }
   },
   "outputs": [
    {
     "name": "stdout",
     "output_type": "stream",
     "text": [
      "(15120, 55)\n",
      "(565892, 55)\n"
     ]
    }
   ],
   "source": [
    "X_train = X_scaled[:15120]\n",
    "X_test = X_scaled[15120:]\n",
    "print(X_train.shape)\n",
    "print(X_test.shape)"
   ]
  },
  {
   "cell_type": "code",
   "execution_count": 73,
   "metadata": {
    "ExecuteTime": {
     "end_time": "2019-09-08T13:27:39.568421Z",
     "start_time": "2019-09-08T13:27:39.553561Z"
    }
   },
   "outputs": [],
   "source": [
    "X_train, X_val, y_train, y_val = train_test_split(X_train, y_train, test_size=0.2)"
   ]
  },
  {
   "cell_type": "markdown",
   "metadata": {
    "ExecuteTime": {
     "end_time": "2019-09-05T20:54:23.861787Z",
     "start_time": "2019-09-05T20:54:23.857828Z"
    }
   },
   "source": [
    "# Train an ensemble"
   ]
  },
  {
   "cell_type": "code",
   "execution_count": 74,
   "metadata": {
    "ExecuteTime": {
     "end_time": "2019-09-08T13:28:18.080884Z",
     "start_time": "2019-09-08T13:27:42.182912Z"
    }
   },
   "outputs": [
    {
     "data": {
      "text/plain": [
       "1.0"
      ]
     },
     "execution_count": 74,
     "metadata": {},
     "output_type": "execute_result"
    }
   ],
   "source": [
    "from sklearn.ensemble import VotingClassifier\n",
    "\n",
    "from mlxtend.classifier import EnsembleVoteClassifier\n",
    "\n",
    "eclf = EnsembleVoteClassifier(\n",
    "    clfs=[\n",
    "          RandomForestClassifier(\n",
    "              n_estimators=200,\n",
    "              max_depth=50\n",
    "          ),\n",
    "          RandomForestClassifier(\n",
    "              n_estimators=500,\n",
    "              max_depth=60,\n",
    "              min_samples_split=2,\n",
    "              min_samples_leaf=1\n",
    "          ),\n",
    "          RandomForestClassifier(\n",
    "              n_estimators=200,\n",
    "              max_depth=30,\n",
    "              min_samples_split=4,\n",
    "              min_samples_leaf=2,\n",
    "              class_weight= {0:100, 1: 100, 2: 10, 3: 1, 4: 1, 5: 10, 6: 1}\n",
    "          ),\n",
    "          RandomForestClassifier(\n",
    "              n_estimators=400,\n",
    "              max_depth=50,\n",
    "              class_weight= {0:100, 1: 100, 2: 100, 3: 1, 4: 1, 5: 1, 6: 1}\n",
    "          ),\n",
    "\n",
    "        ],\n",
    "    voting='soft',\n",
    "    # refit=False\n",
    ")\n",
    "\n",
    "eclf = eclf.fit(X_train, y_train)\n",
    "y_pred_train = eclf.predict(X_train)\n",
    "accuracy_score(y_train, y_pred_train)"
   ]
  },
  {
   "cell_type": "code",
   "execution_count": 75,
   "metadata": {
    "ExecuteTime": {
     "end_time": "2019-09-08T13:28:19.318680Z",
     "start_time": "2019-09-08T13:28:18.087640Z"
    }
   },
   "outputs": [
    {
     "name": "stdout",
     "output_type": "stream",
     "text": [
      "Accuracy: 0.857473544973545\n",
      "              precision    recall  f1-score   support\n",
      "\n",
      "           1       0.78      0.76      0.77       423\n",
      "           2       0.77      0.69      0.72       416\n",
      "           3       0.86      0.82      0.84       456\n",
      "           4       0.93      0.96      0.95       447\n",
      "           5       0.88      0.93      0.91       442\n",
      "           6       0.81      0.87      0.84       409\n",
      "           7       0.94      0.95      0.95       431\n",
      "\n",
      "    accuracy                           0.86      3024\n",
      "   macro avg       0.85      0.86      0.85      3024\n",
      "weighted avg       0.86      0.86      0.86      3024\n",
      "\n",
      "[[322  68   0   0   9   0  24]\n",
      " [ 72 285   8   0  39  12   0]\n",
      " [  0   0 374  21   2  59   0]\n",
      " [  0   0   9 431   0   7   0]\n",
      " [  1  16   7   0 413   5   0]\n",
      " [  0   1  38   9   4 357   0]\n",
      " [ 19   1   0   0   0   0 411]]\n"
     ]
    }
   ],
   "source": [
    "y_pred = eclf.predict(X_val)\n",
    "report(y_val, y_pred)"
   ]
  },
  {
   "cell_type": "markdown",
   "metadata": {
    "ExecuteTime": {
     "end_time": "2019-09-05T20:54:39.241982Z",
     "start_time": "2019-09-05T20:54:39.229851Z"
    }
   },
   "source": [
    "# Run on test"
   ]
  },
  {
   "cell_type": "code",
   "execution_count": 76,
   "metadata": {
    "ExecuteTime": {
     "end_time": "2019-09-08T13:30:08.788297Z",
     "start_time": "2019-09-08T13:28:19.322711Z"
    }
   },
   "outputs": [],
   "source": [
    "test_pred = eclf.predict(X_test)"
   ]
  },
  {
   "cell_type": "code",
   "execution_count": 78,
   "metadata": {
    "ExecuteTime": {
     "end_time": "2019-09-08T13:35:01.771506Z",
     "start_time": "2019-09-08T13:35:00.101847Z"
    }
   },
   "outputs": [],
   "source": [
    "# Save test predictions to file\n",
    "output = pd.DataFrame({'ID': test_df['Id'],\n",
    "                       'Cover_Type': test_pred})\n",
    "output.to_csv('submission.csv', index=False)"
   ]
  },
  {
   "cell_type": "code",
   "execution_count": null,
   "metadata": {},
   "outputs": [],
   "source": []
  }
 ],
 "metadata": {
  "kernelspec": {
   "display_name": "forestypes-venv",
   "language": "python",
   "name": "forestypes-venv"
  },
  "language_info": {
   "codemirror_mode": {
    "name": "ipython",
    "version": 3
   },
   "file_extension": ".py",
   "mimetype": "text/x-python",
   "name": "python",
   "nbconvert_exporter": "python",
   "pygments_lexer": "ipython3",
   "version": "3.5.2"
  }
 },
 "nbformat": 4,
 "nbformat_minor": 2
}
