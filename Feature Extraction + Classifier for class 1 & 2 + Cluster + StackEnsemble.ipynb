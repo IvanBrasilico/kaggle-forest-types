{
 "cells": [
  {
   "cell_type": "markdown",
   "metadata": {
    "heading_collapsed": true
   },
   "source": [
    "## The challenge:\n",
    "\n",
    "In this competition you’ll predict what types of trees there are in an area based on various geographic features.\n",
    "\n",
    "The competition datasets comes from a study conducted in four wilderness areas within the beautiful Roosevelt National Forest of northern Colorado. These areas represent forests with very little human disturbances – the existing forest cover types there are more a result of ecological processes rather than forest management practices.\n",
    "\n",
    "The data is in raw form and contains categorical data such as wilderness areas and soil type."
   ]
  },
  {
   "cell_type": "markdown",
   "metadata": {},
   "source": [
    "## Import Packages"
   ]
  },
  {
   "cell_type": "code",
   "execution_count": 31,
   "metadata": {
    "ExecuteTime": {
     "end_time": "2019-09-11T00:20:39.716185Z",
     "start_time": "2019-09-11T00:20:39.712830Z"
    }
   },
   "outputs": [],
   "source": [
    "DATA_DIR = '/kaggle/input/learn-together'\n",
    "DATA_DIR = 'data'"
   ]
  },
  {
   "cell_type": "code",
   "execution_count": 32,
   "metadata": {
    "ExecuteTime": {
     "end_time": "2019-09-11T00:20:40.136101Z",
     "start_time": "2019-09-11T00:20:40.115287Z"
    },
    "_cell_guid": "b1076dfc-b9ad-4769-8c92-a6c4dae69d19",
    "_uuid": "8f2839f25d086af736a60e9eeb907d3b93b6e0e5"
   },
   "outputs": [
    {
     "name": "stdout",
     "output_type": "stream",
     "text": [
      "data/train.csv\n",
      "data/test.csv\n",
      "data/sample_submission.csv\n",
      "data/sample_submission.csv.zip\n",
      "data/input\n",
      "data/test.csv.zip\n",
      "data/train.csv.zip\n"
     ]
    }
   ],
   "source": [
    "import numpy as np # linear algebra\n",
    "import pandas as pd # data processing, CSV file I/O (e.g. pd.read_csv)\n",
    "import matplotlib.pyplot as plt\n",
    "import os\n",
    "import seaborn as sns\n",
    "%matplotlib inline\n",
    "\n",
    "from sklearn.model_selection import train_test_split\n",
    "from sklearn.ensemble import ExtraTreesClassifier, RandomForestClassifier\n",
    "from sklearn.pipeline import Pipeline\n",
    "from sklearn.preprocessing import StandardScaler\n",
    "from sklearn.neighbors import KNeighborsClassifier\n",
    "from sklearn.decomposition import PCA\n",
    "from sklearn.metrics import accuracy_score, classification_report, confusion_matrix\n",
    "\n",
    "import warnings\n",
    "warnings.filterwarnings('ignore')\n",
    "\n",
    "import os\n",
    "for dirname, _, filenames in os.walk(DATA_DIR):\n",
    "    for filename in filenames:\n",
    "        print(os.path.join(dirname, filename))"
   ]
  },
  {
   "cell_type": "markdown",
   "metadata": {},
   "source": [
    "## Load Dataset"
   ]
  },
  {
   "cell_type": "code",
   "execution_count": 33,
   "metadata": {
    "ExecuteTime": {
     "end_time": "2019-09-11T00:20:42.481760Z",
     "start_time": "2019-09-11T00:20:41.273861Z"
    },
    "_cell_guid": "79c7e3d0-c299-4dcb-8224-4455121ee9b0",
    "_uuid": "d629ff2d2480ee46fbb7e2d37f6b5fab8052498a"
   },
   "outputs": [],
   "source": [
    "train_df=pd.read_csv(os.path.join(DATA_DIR, 'train.csv'))\n",
    "test_df=pd.read_csv(os.path.join(DATA_DIR, 'test.csv'))"
   ]
  },
  {
   "cell_type": "code",
   "execution_count": 34,
   "metadata": {
    "ExecuteTime": {
     "end_time": "2019-09-11T00:20:42.496848Z",
     "start_time": "2019-09-11T00:20:42.483060Z"
    }
   },
   "outputs": [
    {
     "data": {
      "text/html": [
       "<div>\n",
       "<style scoped>\n",
       "    .dataframe tbody tr th:only-of-type {\n",
       "        vertical-align: middle;\n",
       "    }\n",
       "\n",
       "    .dataframe tbody tr th {\n",
       "        vertical-align: top;\n",
       "    }\n",
       "\n",
       "    .dataframe thead th {\n",
       "        text-align: right;\n",
       "    }\n",
       "</style>\n",
       "<table border=\"1\" class=\"dataframe\">\n",
       "  <thead>\n",
       "    <tr style=\"text-align: right;\">\n",
       "      <th></th>\n",
       "      <th>Id</th>\n",
       "      <th>Elevation</th>\n",
       "      <th>Aspect</th>\n",
       "      <th>Slope</th>\n",
       "      <th>Horizontal_Distance_To_Hydrology</th>\n",
       "      <th>Vertical_Distance_To_Hydrology</th>\n",
       "      <th>Horizontal_Distance_To_Roadways</th>\n",
       "      <th>Hillshade_9am</th>\n",
       "      <th>Hillshade_Noon</th>\n",
       "      <th>Hillshade_3pm</th>\n",
       "      <th>...</th>\n",
       "      <th>Soil_Type32</th>\n",
       "      <th>Soil_Type33</th>\n",
       "      <th>Soil_Type34</th>\n",
       "      <th>Soil_Type35</th>\n",
       "      <th>Soil_Type36</th>\n",
       "      <th>Soil_Type37</th>\n",
       "      <th>Soil_Type38</th>\n",
       "      <th>Soil_Type39</th>\n",
       "      <th>Soil_Type40</th>\n",
       "      <th>Cover_Type</th>\n",
       "    </tr>\n",
       "  </thead>\n",
       "  <tbody>\n",
       "    <tr>\n",
       "      <th>0</th>\n",
       "      <td>1</td>\n",
       "      <td>2596</td>\n",
       "      <td>51</td>\n",
       "      <td>3</td>\n",
       "      <td>258</td>\n",
       "      <td>0</td>\n",
       "      <td>510</td>\n",
       "      <td>221</td>\n",
       "      <td>232</td>\n",
       "      <td>148</td>\n",
       "      <td>...</td>\n",
       "      <td>0</td>\n",
       "      <td>0</td>\n",
       "      <td>0</td>\n",
       "      <td>0</td>\n",
       "      <td>0</td>\n",
       "      <td>0</td>\n",
       "      <td>0</td>\n",
       "      <td>0</td>\n",
       "      <td>0</td>\n",
       "      <td>5</td>\n",
       "    </tr>\n",
       "    <tr>\n",
       "      <th>1</th>\n",
       "      <td>2</td>\n",
       "      <td>2590</td>\n",
       "      <td>56</td>\n",
       "      <td>2</td>\n",
       "      <td>212</td>\n",
       "      <td>-6</td>\n",
       "      <td>390</td>\n",
       "      <td>220</td>\n",
       "      <td>235</td>\n",
       "      <td>151</td>\n",
       "      <td>...</td>\n",
       "      <td>0</td>\n",
       "      <td>0</td>\n",
       "      <td>0</td>\n",
       "      <td>0</td>\n",
       "      <td>0</td>\n",
       "      <td>0</td>\n",
       "      <td>0</td>\n",
       "      <td>0</td>\n",
       "      <td>0</td>\n",
       "      <td>5</td>\n",
       "    </tr>\n",
       "    <tr>\n",
       "      <th>2</th>\n",
       "      <td>3</td>\n",
       "      <td>2804</td>\n",
       "      <td>139</td>\n",
       "      <td>9</td>\n",
       "      <td>268</td>\n",
       "      <td>65</td>\n",
       "      <td>3180</td>\n",
       "      <td>234</td>\n",
       "      <td>238</td>\n",
       "      <td>135</td>\n",
       "      <td>...</td>\n",
       "      <td>0</td>\n",
       "      <td>0</td>\n",
       "      <td>0</td>\n",
       "      <td>0</td>\n",
       "      <td>0</td>\n",
       "      <td>0</td>\n",
       "      <td>0</td>\n",
       "      <td>0</td>\n",
       "      <td>0</td>\n",
       "      <td>2</td>\n",
       "    </tr>\n",
       "    <tr>\n",
       "      <th>3</th>\n",
       "      <td>4</td>\n",
       "      <td>2785</td>\n",
       "      <td>155</td>\n",
       "      <td>18</td>\n",
       "      <td>242</td>\n",
       "      <td>118</td>\n",
       "      <td>3090</td>\n",
       "      <td>238</td>\n",
       "      <td>238</td>\n",
       "      <td>122</td>\n",
       "      <td>...</td>\n",
       "      <td>0</td>\n",
       "      <td>0</td>\n",
       "      <td>0</td>\n",
       "      <td>0</td>\n",
       "      <td>0</td>\n",
       "      <td>0</td>\n",
       "      <td>0</td>\n",
       "      <td>0</td>\n",
       "      <td>0</td>\n",
       "      <td>2</td>\n",
       "    </tr>\n",
       "    <tr>\n",
       "      <th>4</th>\n",
       "      <td>5</td>\n",
       "      <td>2595</td>\n",
       "      <td>45</td>\n",
       "      <td>2</td>\n",
       "      <td>153</td>\n",
       "      <td>-1</td>\n",
       "      <td>391</td>\n",
       "      <td>220</td>\n",
       "      <td>234</td>\n",
       "      <td>150</td>\n",
       "      <td>...</td>\n",
       "      <td>0</td>\n",
       "      <td>0</td>\n",
       "      <td>0</td>\n",
       "      <td>0</td>\n",
       "      <td>0</td>\n",
       "      <td>0</td>\n",
       "      <td>0</td>\n",
       "      <td>0</td>\n",
       "      <td>0</td>\n",
       "      <td>5</td>\n",
       "    </tr>\n",
       "  </tbody>\n",
       "</table>\n",
       "<p>5 rows × 56 columns</p>\n",
       "</div>"
      ],
      "text/plain": [
       "   Id  Elevation  Aspect  Slope  Horizontal_Distance_To_Hydrology  \\\n",
       "0   1       2596      51      3                               258   \n",
       "1   2       2590      56      2                               212   \n",
       "2   3       2804     139      9                               268   \n",
       "3   4       2785     155     18                               242   \n",
       "4   5       2595      45      2                               153   \n",
       "\n",
       "   Vertical_Distance_To_Hydrology  Horizontal_Distance_To_Roadways  \\\n",
       "0                               0                              510   \n",
       "1                              -6                              390   \n",
       "2                              65                             3180   \n",
       "3                             118                             3090   \n",
       "4                              -1                              391   \n",
       "\n",
       "   Hillshade_9am  Hillshade_Noon  Hillshade_3pm  ...  Soil_Type32  \\\n",
       "0            221             232            148  ...            0   \n",
       "1            220             235            151  ...            0   \n",
       "2            234             238            135  ...            0   \n",
       "3            238             238            122  ...            0   \n",
       "4            220             234            150  ...            0   \n",
       "\n",
       "   Soil_Type33  Soil_Type34  Soil_Type35  Soil_Type36  Soil_Type37  \\\n",
       "0            0            0            0            0            0   \n",
       "1            0            0            0            0            0   \n",
       "2            0            0            0            0            0   \n",
       "3            0            0            0            0            0   \n",
       "4            0            0            0            0            0   \n",
       "\n",
       "   Soil_Type38  Soil_Type39  Soil_Type40  Cover_Type  \n",
       "0            0            0            0           5  \n",
       "1            0            0            0           5  \n",
       "2            0            0            0           2  \n",
       "3            0            0            0           2  \n",
       "4            0            0            0           5  \n",
       "\n",
       "[5 rows x 56 columns]"
      ]
     },
     "execution_count": 34,
     "metadata": {},
     "output_type": "execute_result"
    }
   ],
   "source": [
    "train_df.head()"
   ]
  },
  {
   "cell_type": "code",
   "execution_count": 35,
   "metadata": {
    "ExecuteTime": {
     "end_time": "2019-09-11T00:20:42.523678Z",
     "start_time": "2019-09-11T00:20:42.498900Z"
    }
   },
   "outputs": [
    {
     "data": {
      "text/html": [
       "<div>\n",
       "<style scoped>\n",
       "    .dataframe tbody tr th:only-of-type {\n",
       "        vertical-align: middle;\n",
       "    }\n",
       "\n",
       "    .dataframe tbody tr th {\n",
       "        vertical-align: top;\n",
       "    }\n",
       "\n",
       "    .dataframe thead th {\n",
       "        text-align: right;\n",
       "    }\n",
       "</style>\n",
       "<table border=\"1\" class=\"dataframe\">\n",
       "  <thead>\n",
       "    <tr style=\"text-align: right;\">\n",
       "      <th></th>\n",
       "      <th>Id</th>\n",
       "      <th>Elevation</th>\n",
       "      <th>Aspect</th>\n",
       "      <th>Slope</th>\n",
       "      <th>Horizontal_Distance_To_Hydrology</th>\n",
       "      <th>Vertical_Distance_To_Hydrology</th>\n",
       "      <th>Horizontal_Distance_To_Roadways</th>\n",
       "      <th>Hillshade_9am</th>\n",
       "      <th>Hillshade_Noon</th>\n",
       "      <th>Hillshade_3pm</th>\n",
       "      <th>...</th>\n",
       "      <th>Soil_Type31</th>\n",
       "      <th>Soil_Type32</th>\n",
       "      <th>Soil_Type33</th>\n",
       "      <th>Soil_Type34</th>\n",
       "      <th>Soil_Type35</th>\n",
       "      <th>Soil_Type36</th>\n",
       "      <th>Soil_Type37</th>\n",
       "      <th>Soil_Type38</th>\n",
       "      <th>Soil_Type39</th>\n",
       "      <th>Soil_Type40</th>\n",
       "    </tr>\n",
       "  </thead>\n",
       "  <tbody>\n",
       "    <tr>\n",
       "      <th>0</th>\n",
       "      <td>15121</td>\n",
       "      <td>2680</td>\n",
       "      <td>354</td>\n",
       "      <td>14</td>\n",
       "      <td>0</td>\n",
       "      <td>0</td>\n",
       "      <td>2684</td>\n",
       "      <td>196</td>\n",
       "      <td>214</td>\n",
       "      <td>156</td>\n",
       "      <td>...</td>\n",
       "      <td>0</td>\n",
       "      <td>0</td>\n",
       "      <td>0</td>\n",
       "      <td>0</td>\n",
       "      <td>0</td>\n",
       "      <td>0</td>\n",
       "      <td>0</td>\n",
       "      <td>0</td>\n",
       "      <td>0</td>\n",
       "      <td>0</td>\n",
       "    </tr>\n",
       "    <tr>\n",
       "      <th>1</th>\n",
       "      <td>15122</td>\n",
       "      <td>2683</td>\n",
       "      <td>0</td>\n",
       "      <td>13</td>\n",
       "      <td>0</td>\n",
       "      <td>0</td>\n",
       "      <td>2654</td>\n",
       "      <td>201</td>\n",
       "      <td>216</td>\n",
       "      <td>152</td>\n",
       "      <td>...</td>\n",
       "      <td>0</td>\n",
       "      <td>0</td>\n",
       "      <td>0</td>\n",
       "      <td>0</td>\n",
       "      <td>0</td>\n",
       "      <td>0</td>\n",
       "      <td>0</td>\n",
       "      <td>0</td>\n",
       "      <td>0</td>\n",
       "      <td>0</td>\n",
       "    </tr>\n",
       "    <tr>\n",
       "      <th>2</th>\n",
       "      <td>15123</td>\n",
       "      <td>2713</td>\n",
       "      <td>16</td>\n",
       "      <td>15</td>\n",
       "      <td>0</td>\n",
       "      <td>0</td>\n",
       "      <td>2980</td>\n",
       "      <td>206</td>\n",
       "      <td>208</td>\n",
       "      <td>137</td>\n",
       "      <td>...</td>\n",
       "      <td>0</td>\n",
       "      <td>0</td>\n",
       "      <td>0</td>\n",
       "      <td>0</td>\n",
       "      <td>0</td>\n",
       "      <td>0</td>\n",
       "      <td>0</td>\n",
       "      <td>0</td>\n",
       "      <td>0</td>\n",
       "      <td>0</td>\n",
       "    </tr>\n",
       "    <tr>\n",
       "      <th>3</th>\n",
       "      <td>15124</td>\n",
       "      <td>2709</td>\n",
       "      <td>24</td>\n",
       "      <td>17</td>\n",
       "      <td>0</td>\n",
       "      <td>0</td>\n",
       "      <td>2950</td>\n",
       "      <td>208</td>\n",
       "      <td>201</td>\n",
       "      <td>125</td>\n",
       "      <td>...</td>\n",
       "      <td>0</td>\n",
       "      <td>0</td>\n",
       "      <td>0</td>\n",
       "      <td>0</td>\n",
       "      <td>0</td>\n",
       "      <td>0</td>\n",
       "      <td>0</td>\n",
       "      <td>0</td>\n",
       "      <td>0</td>\n",
       "      <td>0</td>\n",
       "    </tr>\n",
       "    <tr>\n",
       "      <th>4</th>\n",
       "      <td>15125</td>\n",
       "      <td>2706</td>\n",
       "      <td>29</td>\n",
       "      <td>19</td>\n",
       "      <td>0</td>\n",
       "      <td>0</td>\n",
       "      <td>2920</td>\n",
       "      <td>210</td>\n",
       "      <td>195</td>\n",
       "      <td>115</td>\n",
       "      <td>...</td>\n",
       "      <td>0</td>\n",
       "      <td>0</td>\n",
       "      <td>0</td>\n",
       "      <td>0</td>\n",
       "      <td>0</td>\n",
       "      <td>0</td>\n",
       "      <td>0</td>\n",
       "      <td>0</td>\n",
       "      <td>0</td>\n",
       "      <td>0</td>\n",
       "    </tr>\n",
       "  </tbody>\n",
       "</table>\n",
       "<p>5 rows × 55 columns</p>\n",
       "</div>"
      ],
      "text/plain": [
       "      Id  Elevation  Aspect  Slope  Horizontal_Distance_To_Hydrology  \\\n",
       "0  15121       2680     354     14                                 0   \n",
       "1  15122       2683       0     13                                 0   \n",
       "2  15123       2713      16     15                                 0   \n",
       "3  15124       2709      24     17                                 0   \n",
       "4  15125       2706      29     19                                 0   \n",
       "\n",
       "   Vertical_Distance_To_Hydrology  Horizontal_Distance_To_Roadways  \\\n",
       "0                               0                             2684   \n",
       "1                               0                             2654   \n",
       "2                               0                             2980   \n",
       "3                               0                             2950   \n",
       "4                               0                             2920   \n",
       "\n",
       "   Hillshade_9am  Hillshade_Noon  Hillshade_3pm  ...  Soil_Type31  \\\n",
       "0            196             214            156  ...            0   \n",
       "1            201             216            152  ...            0   \n",
       "2            206             208            137  ...            0   \n",
       "3            208             201            125  ...            0   \n",
       "4            210             195            115  ...            0   \n",
       "\n",
       "   Soil_Type32  Soil_Type33  Soil_Type34  Soil_Type35  Soil_Type36  \\\n",
       "0            0            0            0            0            0   \n",
       "1            0            0            0            0            0   \n",
       "2            0            0            0            0            0   \n",
       "3            0            0            0            0            0   \n",
       "4            0            0            0            0            0   \n",
       "\n",
       "   Soil_Type37  Soil_Type38  Soil_Type39  Soil_Type40  \n",
       "0            0            0            0            0  \n",
       "1            0            0            0            0  \n",
       "2            0            0            0            0  \n",
       "3            0            0            0            0  \n",
       "4            0            0            0            0  \n",
       "\n",
       "[5 rows x 55 columns]"
      ]
     },
     "execution_count": 35,
     "metadata": {},
     "output_type": "execute_result"
    }
   ],
   "source": [
    "test_df.head()"
   ]
  },
  {
   "cell_type": "code",
   "execution_count": 36,
   "metadata": {
    "ExecuteTime": {
     "end_time": "2019-09-11T00:20:42.553469Z",
     "start_time": "2019-09-11T00:20:42.525362Z"
    }
   },
   "outputs": [
    {
     "name": "stdout",
     "output_type": "stream",
     "text": [
      "shape training csv: (15120, 56)\n",
      "shape test csv: (565892, 55)\n"
     ]
    }
   ],
   "source": [
    "print(\"shape training csv: %s\" % str(train_df.shape)) \n",
    "print(\"shape test csv: %s\" % str(test_df.shape)) "
   ]
  },
  {
   "cell_type": "markdown",
   "metadata": {},
   "source": [
    "## Delete Ids\n",
    "**Let's delete the Id column in the training set but store it for the test set before deleting**"
   ]
  },
  {
   "cell_type": "code",
   "execution_count": 37,
   "metadata": {
    "ExecuteTime": {
     "end_time": "2019-09-11T00:20:43.538184Z",
     "start_time": "2019-09-11T00:20:43.466911Z"
    }
   },
   "outputs": [],
   "source": [
    "train_df = train_df.drop([\"Id\"], axis = 1)\n",
    "\n",
    "test_ids = test_df[\"Id\"]\n",
    "test_df = test_df.drop([\"Id\"], axis = 1)"
   ]
  },
  {
   "cell_type": "markdown",
   "metadata": {},
   "source": [
    "# Feature engineering"
   ]
  },
  {
   "cell_type": "code",
   "execution_count": 38,
   "metadata": {
    "ExecuteTime": {
     "end_time": "2019-09-11T00:20:44.427181Z",
     "start_time": "2019-09-11T00:20:44.415769Z"
    }
   },
   "outputs": [],
   "source": [
    "\n",
    "def new_features(df):\n",
    "    df = df.copy()\n",
    "    df['Hydro_Elevation_diff'] = df[['Elevation',\n",
    "                                   'Vertical_Distance_To_Hydrology']\n",
    "                                  ].diff(axis='columns').iloc[:, [1]]\n",
    "\n",
    "    df['Hydro_Euclidean'] = np.sqrt(df['Horizontal_Distance_To_Hydrology']**2 +\n",
    "                                   df['Vertical_Distance_To_Hydrology']**2)\n",
    "\n",
    "    df['Hydro_Fire_sum'] = df[['Horizontal_Distance_To_Hydrology',\n",
    "                             'Horizontal_Distance_To_Fire_Points']\n",
    "                            ].sum(axis='columns')\n",
    "\n",
    "    df['Hydro_Fire_diff'] = df[['Horizontal_Distance_To_Hydrology',\n",
    "                              'Horizontal_Distance_To_Fire_Points']\n",
    "                             ].diff(axis='columns').iloc[:, [1]].abs()\n",
    "\n",
    "    df['Hydro_Road_sum'] = df[['Horizontal_Distance_To_Hydrology',\n",
    "                             'Horizontal_Distance_To_Roadways']\n",
    "                            ].sum(axis='columns')\n",
    "\n",
    "    df['Hydro_Road_diff'] = df[['Horizontal_Distance_To_Hydrology',\n",
    "                              'Horizontal_Distance_To_Roadways']\n",
    "                             ].diff(axis='columns').iloc[:, [1]].abs()\n",
    "\n",
    "    df['Road_Fire_sum'] = df[['Horizontal_Distance_To_Roadways',\n",
    "                            'Horizontal_Distance_To_Fire_Points']\n",
    "                           ].sum(axis='columns')\n",
    "\n",
    "    df['Road_Fire_diff'] = df[['Horizontal_Distance_To_Roadways',\n",
    "                             'Horizontal_Distance_To_Fire_Points']\n",
    "                            ].diff(axis='columns').iloc[:, [1]].abs()\n",
    "    df['Stoneyness'] = sum(i * df['Soil_Type{}'.format(i)] for i in range(1, 41))\n",
    "\n",
    "    # For all 40 Soil_Types, 1=rubbly, 2=stony, 3=very stony, 4=extremely stony, 0=?\n",
    "    stoneyness = [4, 3, 1, 1, 1, 2, 0, 0, 3, 1, \n",
    "                  1, 2, 1, 0, 0, 0, 0, 3, 0, 0, \n",
    "                  0, 4, 0, 4, 4, 3, 4, 4, 4, 4, \n",
    "                  4, 4, 4, 4, 1, 4, 4, 4, 4, 4]\n",
    "\n",
    "    # Replace Soil_Type number with \"stoneyness\" value\n",
    "    df['Stoneyness'] = df['Stoneyness'].replace(range(1, 41), stoneyness)\n",
    "    return df\n",
    "    \n",
    "def drop_features(df):\n",
    "    df = df.copy()\n",
    "    columns_to_drop = []\n",
    "    size = len(df)\n",
    "    for column in df.columns:\n",
    "        frequency = df[column].sum() / size\n",
    "        if 'Soil' in column and frequency < 0.04:\n",
    "            columns_to_drop.append(column)\n",
    "    df = df.drop(columns_to_drop, axis='columns')\n",
    "    return df\n",
    "    "
   ]
  },
  {
   "cell_type": "code",
   "execution_count": 39,
   "metadata": {
    "ExecuteTime": {
     "end_time": "2019-09-11T00:20:46.094287Z",
     "start_time": "2019-09-11T00:20:44.985664Z"
    }
   },
   "outputs": [],
   "source": [
    "X = new_features(train_df)\n",
    "X = drop_features(X)\n",
    "X_test = new_features(test_df)\n",
    "X_test = X_test[X.columns.drop(['Cover_Type'])]\n"
   ]
  },
  {
   "cell_type": "code",
   "execution_count": 40,
   "metadata": {
    "ExecuteTime": {
     "end_time": "2019-09-11T00:20:46.100986Z",
     "start_time": "2019-09-11T00:20:46.095710Z"
    }
   },
   "outputs": [],
   "source": [
    "X_train, y_train = X.drop(['Cover_Type'], axis=1), train_df['Cover_Type']"
   ]
  },
  {
   "cell_type": "code",
   "execution_count": 41,
   "metadata": {
    "ExecuteTime": {
     "end_time": "2019-09-11T00:20:46.140781Z",
     "start_time": "2019-09-11T00:20:46.102524Z"
    }
   },
   "outputs": [
    {
     "data": {
      "text/html": [
       "<div>\n",
       "<style scoped>\n",
       "    .dataframe tbody tr th:only-of-type {\n",
       "        vertical-align: middle;\n",
       "    }\n",
       "\n",
       "    .dataframe tbody tr th {\n",
       "        vertical-align: top;\n",
       "    }\n",
       "\n",
       "    .dataframe thead th {\n",
       "        text-align: right;\n",
       "    }\n",
       "</style>\n",
       "<table border=\"1\" class=\"dataframe\">\n",
       "  <thead>\n",
       "    <tr style=\"text-align: right;\">\n",
       "      <th></th>\n",
       "      <th>Elevation</th>\n",
       "      <th>Aspect</th>\n",
       "      <th>Slope</th>\n",
       "      <th>Horizontal_Distance_To_Hydrology</th>\n",
       "      <th>Vertical_Distance_To_Hydrology</th>\n",
       "      <th>Horizontal_Distance_To_Roadways</th>\n",
       "      <th>Hillshade_9am</th>\n",
       "      <th>Hillshade_Noon</th>\n",
       "      <th>Hillshade_3pm</th>\n",
       "      <th>Horizontal_Distance_To_Fire_Points</th>\n",
       "      <th>...</th>\n",
       "      <th>Cover_Type</th>\n",
       "      <th>Hydro_Elevation_diff</th>\n",
       "      <th>Hydro_Euclidean</th>\n",
       "      <th>Hydro_Fire_sum</th>\n",
       "      <th>Hydro_Fire_diff</th>\n",
       "      <th>Hydro_Road_sum</th>\n",
       "      <th>Hydro_Road_diff</th>\n",
       "      <th>Road_Fire_sum</th>\n",
       "      <th>Road_Fire_diff</th>\n",
       "      <th>Stoneyness</th>\n",
       "    </tr>\n",
       "  </thead>\n",
       "  <tbody>\n",
       "    <tr>\n",
       "      <th>0</th>\n",
       "      <td>2596</td>\n",
       "      <td>51</td>\n",
       "      <td>3</td>\n",
       "      <td>258</td>\n",
       "      <td>0</td>\n",
       "      <td>510</td>\n",
       "      <td>221</td>\n",
       "      <td>232</td>\n",
       "      <td>148</td>\n",
       "      <td>6279</td>\n",
       "      <td>...</td>\n",
       "      <td>5</td>\n",
       "      <td>-2596.0</td>\n",
       "      <td>258.000000</td>\n",
       "      <td>6537</td>\n",
       "      <td>6021.0</td>\n",
       "      <td>768</td>\n",
       "      <td>252.0</td>\n",
       "      <td>6789</td>\n",
       "      <td>5769.0</td>\n",
       "      <td>4</td>\n",
       "    </tr>\n",
       "    <tr>\n",
       "      <th>1</th>\n",
       "      <td>2590</td>\n",
       "      <td>56</td>\n",
       "      <td>2</td>\n",
       "      <td>212</td>\n",
       "      <td>-6</td>\n",
       "      <td>390</td>\n",
       "      <td>220</td>\n",
       "      <td>235</td>\n",
       "      <td>151</td>\n",
       "      <td>6225</td>\n",
       "      <td>...</td>\n",
       "      <td>5</td>\n",
       "      <td>-2596.0</td>\n",
       "      <td>212.084889</td>\n",
       "      <td>6437</td>\n",
       "      <td>6013.0</td>\n",
       "      <td>602</td>\n",
       "      <td>178.0</td>\n",
       "      <td>6615</td>\n",
       "      <td>5835.0</td>\n",
       "      <td>4</td>\n",
       "    </tr>\n",
       "    <tr>\n",
       "      <th>2</th>\n",
       "      <td>2804</td>\n",
       "      <td>139</td>\n",
       "      <td>9</td>\n",
       "      <td>268</td>\n",
       "      <td>65</td>\n",
       "      <td>3180</td>\n",
       "      <td>234</td>\n",
       "      <td>238</td>\n",
       "      <td>135</td>\n",
       "      <td>6121</td>\n",
       "      <td>...</td>\n",
       "      <td>2</td>\n",
       "      <td>-2739.0</td>\n",
       "      <td>275.769832</td>\n",
       "      <td>6389</td>\n",
       "      <td>5853.0</td>\n",
       "      <td>3448</td>\n",
       "      <td>2912.0</td>\n",
       "      <td>9301</td>\n",
       "      <td>2941.0</td>\n",
       "      <td>2</td>\n",
       "    </tr>\n",
       "    <tr>\n",
       "      <th>3</th>\n",
       "      <td>2785</td>\n",
       "      <td>155</td>\n",
       "      <td>18</td>\n",
       "      <td>242</td>\n",
       "      <td>118</td>\n",
       "      <td>3090</td>\n",
       "      <td>238</td>\n",
       "      <td>238</td>\n",
       "      <td>122</td>\n",
       "      <td>6211</td>\n",
       "      <td>...</td>\n",
       "      <td>2</td>\n",
       "      <td>-2667.0</td>\n",
       "      <td>269.235956</td>\n",
       "      <td>6453</td>\n",
       "      <td>5969.0</td>\n",
       "      <td>3332</td>\n",
       "      <td>2848.0</td>\n",
       "      <td>9301</td>\n",
       "      <td>3121.0</td>\n",
       "      <td>4</td>\n",
       "    </tr>\n",
       "    <tr>\n",
       "      <th>4</th>\n",
       "      <td>2595</td>\n",
       "      <td>45</td>\n",
       "      <td>2</td>\n",
       "      <td>153</td>\n",
       "      <td>-1</td>\n",
       "      <td>391</td>\n",
       "      <td>220</td>\n",
       "      <td>234</td>\n",
       "      <td>150</td>\n",
       "      <td>6172</td>\n",
       "      <td>...</td>\n",
       "      <td>5</td>\n",
       "      <td>-2596.0</td>\n",
       "      <td>153.003268</td>\n",
       "      <td>6325</td>\n",
       "      <td>6019.0</td>\n",
       "      <td>544</td>\n",
       "      <td>238.0</td>\n",
       "      <td>6563</td>\n",
       "      <td>5781.0</td>\n",
       "      <td>4</td>\n",
       "    </tr>\n",
       "  </tbody>\n",
       "</table>\n",
       "<p>5 rows × 37 columns</p>\n",
       "</div>"
      ],
      "text/plain": [
       "   Elevation  Aspect  Slope  Horizontal_Distance_To_Hydrology  \\\n",
       "0       2596      51      3                               258   \n",
       "1       2590      56      2                               212   \n",
       "2       2804     139      9                               268   \n",
       "3       2785     155     18                               242   \n",
       "4       2595      45      2                               153   \n",
       "\n",
       "   Vertical_Distance_To_Hydrology  Horizontal_Distance_To_Roadways  \\\n",
       "0                               0                              510   \n",
       "1                              -6                              390   \n",
       "2                              65                             3180   \n",
       "3                             118                             3090   \n",
       "4                              -1                              391   \n",
       "\n",
       "   Hillshade_9am  Hillshade_Noon  Hillshade_3pm  \\\n",
       "0            221             232            148   \n",
       "1            220             235            151   \n",
       "2            234             238            135   \n",
       "3            238             238            122   \n",
       "4            220             234            150   \n",
       "\n",
       "   Horizontal_Distance_To_Fire_Points  ...  Cover_Type  Hydro_Elevation_diff  \\\n",
       "0                                6279  ...           5               -2596.0   \n",
       "1                                6225  ...           5               -2596.0   \n",
       "2                                6121  ...           2               -2739.0   \n",
       "3                                6211  ...           2               -2667.0   \n",
       "4                                6172  ...           5               -2596.0   \n",
       "\n",
       "   Hydro_Euclidean  Hydro_Fire_sum  Hydro_Fire_diff  Hydro_Road_sum  \\\n",
       "0       258.000000            6537           6021.0             768   \n",
       "1       212.084889            6437           6013.0             602   \n",
       "2       275.769832            6389           5853.0            3448   \n",
       "3       269.235956            6453           5969.0            3332   \n",
       "4       153.003268            6325           6019.0             544   \n",
       "\n",
       "   Hydro_Road_diff  Road_Fire_sum  Road_Fire_diff  Stoneyness  \n",
       "0            252.0           6789          5769.0           4  \n",
       "1            178.0           6615          5835.0           4  \n",
       "2           2912.0           9301          2941.0           2  \n",
       "3           2848.0           9301          3121.0           4  \n",
       "4            238.0           6563          5781.0           4  \n",
       "\n",
       "[5 rows x 37 columns]"
      ]
     },
     "execution_count": 41,
     "metadata": {},
     "output_type": "execute_result"
    }
   ],
   "source": [
    "X.head()"
   ]
  },
  {
   "cell_type": "code",
   "execution_count": 42,
   "metadata": {
    "ExecuteTime": {
     "end_time": "2019-09-11T00:20:47.433227Z",
     "start_time": "2019-09-11T00:20:47.329296Z"
    }
   },
   "outputs": [
    {
     "data": {
      "text/html": [
       "<div>\n",
       "<style scoped>\n",
       "    .dataframe tbody tr th:only-of-type {\n",
       "        vertical-align: middle;\n",
       "    }\n",
       "\n",
       "    .dataframe tbody tr th {\n",
       "        vertical-align: top;\n",
       "    }\n",
       "\n",
       "    .dataframe thead th {\n",
       "        text-align: right;\n",
       "    }\n",
       "</style>\n",
       "<table border=\"1\" class=\"dataframe\">\n",
       "  <thead>\n",
       "    <tr style=\"text-align: right;\">\n",
       "      <th></th>\n",
       "      <th>Elevation</th>\n",
       "      <th>Aspect</th>\n",
       "      <th>Slope</th>\n",
       "      <th>Horizontal_Distance_To_Hydrology</th>\n",
       "      <th>Vertical_Distance_To_Hydrology</th>\n",
       "      <th>Horizontal_Distance_To_Roadways</th>\n",
       "      <th>Hillshade_9am</th>\n",
       "      <th>Hillshade_Noon</th>\n",
       "      <th>Hillshade_3pm</th>\n",
       "      <th>Horizontal_Distance_To_Fire_Points</th>\n",
       "      <th>...</th>\n",
       "      <th>Cover_Type</th>\n",
       "      <th>Hydro_Elevation_diff</th>\n",
       "      <th>Hydro_Euclidean</th>\n",
       "      <th>Hydro_Fire_sum</th>\n",
       "      <th>Hydro_Fire_diff</th>\n",
       "      <th>Hydro_Road_sum</th>\n",
       "      <th>Hydro_Road_diff</th>\n",
       "      <th>Road_Fire_sum</th>\n",
       "      <th>Road_Fire_diff</th>\n",
       "      <th>Stoneyness</th>\n",
       "    </tr>\n",
       "  </thead>\n",
       "  <tbody>\n",
       "    <tr>\n",
       "      <th>count</th>\n",
       "      <td>15120.000000</td>\n",
       "      <td>15120.000000</td>\n",
       "      <td>15120.000000</td>\n",
       "      <td>15120.000000</td>\n",
       "      <td>15120.000000</td>\n",
       "      <td>15120.000000</td>\n",
       "      <td>15120.000000</td>\n",
       "      <td>15120.000000</td>\n",
       "      <td>15120.000000</td>\n",
       "      <td>15120.000000</td>\n",
       "      <td>...</td>\n",
       "      <td>15120.000000</td>\n",
       "      <td>15120.000000</td>\n",
       "      <td>15120.000000</td>\n",
       "      <td>15120.000000</td>\n",
       "      <td>15120.000000</td>\n",
       "      <td>15120.000000</td>\n",
       "      <td>15120.000000</td>\n",
       "      <td>15120.000000</td>\n",
       "      <td>15120.000000</td>\n",
       "      <td>15120.000000</td>\n",
       "    </tr>\n",
       "    <tr>\n",
       "      <th>mean</th>\n",
       "      <td>2749.322553</td>\n",
       "      <td>156.676653</td>\n",
       "      <td>16.501587</td>\n",
       "      <td>227.195701</td>\n",
       "      <td>51.076521</td>\n",
       "      <td>1714.023214</td>\n",
       "      <td>212.704299</td>\n",
       "      <td>218.965608</td>\n",
       "      <td>135.091997</td>\n",
       "      <td>1511.147288</td>\n",
       "      <td>...</td>\n",
       "      <td>4.000000</td>\n",
       "      <td>-2698.246032</td>\n",
       "      <td>235.948778</td>\n",
       "      <td>1738.342989</td>\n",
       "      <td>1291.834788</td>\n",
       "      <td>1941.218915</td>\n",
       "      <td>1492.094577</td>\n",
       "      <td>3225.170503</td>\n",
       "      <td>897.908333</td>\n",
       "      <td>2.333003</td>\n",
       "    </tr>\n",
       "    <tr>\n",
       "      <th>std</th>\n",
       "      <td>417.678187</td>\n",
       "      <td>110.085801</td>\n",
       "      <td>8.453927</td>\n",
       "      <td>210.075296</td>\n",
       "      <td>61.239406</td>\n",
       "      <td>1325.066358</td>\n",
       "      <td>30.561287</td>\n",
       "      <td>22.801966</td>\n",
       "      <td>45.895189</td>\n",
       "      <td>1099.936493</td>\n",
       "      <td>...</td>\n",
       "      <td>2.000066</td>\n",
       "      <td>414.680029</td>\n",
       "      <td>215.491695</td>\n",
       "      <td>1152.123001</td>\n",
       "      <td>1077.167415</td>\n",
       "      <td>1383.173588</td>\n",
       "      <td>1292.673425</td>\n",
       "      <td>2093.672478</td>\n",
       "      <td>884.718318</td>\n",
       "      <td>1.580487</td>\n",
       "    </tr>\n",
       "    <tr>\n",
       "      <th>min</th>\n",
       "      <td>1863.000000</td>\n",
       "      <td>0.000000</td>\n",
       "      <td>0.000000</td>\n",
       "      <td>0.000000</td>\n",
       "      <td>-146.000000</td>\n",
       "      <td>0.000000</td>\n",
       "      <td>0.000000</td>\n",
       "      <td>99.000000</td>\n",
       "      <td>0.000000</td>\n",
       "      <td>0.000000</td>\n",
       "      <td>...</td>\n",
       "      <td>1.000000</td>\n",
       "      <td>-3776.000000</td>\n",
       "      <td>0.000000</td>\n",
       "      <td>30.000000</td>\n",
       "      <td>0.000000</td>\n",
       "      <td>30.000000</td>\n",
       "      <td>0.000000</td>\n",
       "      <td>95.000000</td>\n",
       "      <td>0.000000</td>\n",
       "      <td>0.000000</td>\n",
       "    </tr>\n",
       "    <tr>\n",
       "      <th>25%</th>\n",
       "      <td>2376.000000</td>\n",
       "      <td>65.000000</td>\n",
       "      <td>10.000000</td>\n",
       "      <td>67.000000</td>\n",
       "      <td>5.000000</td>\n",
       "      <td>764.000000</td>\n",
       "      <td>196.000000</td>\n",
       "      <td>207.000000</td>\n",
       "      <td>106.000000</td>\n",
       "      <td>730.000000</td>\n",
       "      <td>...</td>\n",
       "      <td>2.000000</td>\n",
       "      <td>-3068.000000</td>\n",
       "      <td>67.186308</td>\n",
       "      <td>903.000000</td>\n",
       "      <td>532.000000</td>\n",
       "      <td>967.000000</td>\n",
       "      <td>534.000000</td>\n",
       "      <td>1806.000000</td>\n",
       "      <td>291.000000</td>\n",
       "      <td>1.000000</td>\n",
       "    </tr>\n",
       "    <tr>\n",
       "      <th>50%</th>\n",
       "      <td>2752.000000</td>\n",
       "      <td>126.000000</td>\n",
       "      <td>15.000000</td>\n",
       "      <td>180.000000</td>\n",
       "      <td>32.000000</td>\n",
       "      <td>1316.000000</td>\n",
       "      <td>220.000000</td>\n",
       "      <td>223.000000</td>\n",
       "      <td>138.000000</td>\n",
       "      <td>1256.000000</td>\n",
       "      <td>...</td>\n",
       "      <td>4.000000</td>\n",
       "      <td>-2696.000000</td>\n",
       "      <td>188.480768</td>\n",
       "      <td>1462.000000</td>\n",
       "      <td>1023.500000</td>\n",
       "      <td>1501.000000</td>\n",
       "      <td>1148.000000</td>\n",
       "      <td>2520.500000</td>\n",
       "      <td>632.000000</td>\n",
       "      <td>2.000000</td>\n",
       "    </tr>\n",
       "    <tr>\n",
       "      <th>75%</th>\n",
       "      <td>3104.000000</td>\n",
       "      <td>261.000000</td>\n",
       "      <td>22.000000</td>\n",
       "      <td>330.000000</td>\n",
       "      <td>79.000000</td>\n",
       "      <td>2270.000000</td>\n",
       "      <td>235.000000</td>\n",
       "      <td>235.000000</td>\n",
       "      <td>167.000000</td>\n",
       "      <td>1988.250000</td>\n",
       "      <td>...</td>\n",
       "      <td>6.000000</td>\n",
       "      <td>-2323.000000</td>\n",
       "      <td>342.069071</td>\n",
       "      <td>2302.000000</td>\n",
       "      <td>1726.000000</td>\n",
       "      <td>2554.000000</td>\n",
       "      <td>2042.000000</td>\n",
       "      <td>4232.250000</td>\n",
       "      <td>1220.000000</td>\n",
       "      <td>4.000000</td>\n",
       "    </tr>\n",
       "    <tr>\n",
       "      <th>max</th>\n",
       "      <td>3849.000000</td>\n",
       "      <td>360.000000</td>\n",
       "      <td>52.000000</td>\n",
       "      <td>1343.000000</td>\n",
       "      <td>554.000000</td>\n",
       "      <td>6890.000000</td>\n",
       "      <td>254.000000</td>\n",
       "      <td>254.000000</td>\n",
       "      <td>248.000000</td>\n",
       "      <td>6993.000000</td>\n",
       "      <td>...</td>\n",
       "      <td>7.000000</td>\n",
       "      <td>-1842.000000</td>\n",
       "      <td>1356.939571</td>\n",
       "      <td>7167.000000</td>\n",
       "      <td>6898.000000</td>\n",
       "      <td>7306.000000</td>\n",
       "      <td>6860.000000</td>\n",
       "      <td>12504.000000</td>\n",
       "      <td>6012.000000</td>\n",
       "      <td>4.000000</td>\n",
       "    </tr>\n",
       "  </tbody>\n",
       "</table>\n",
       "<p>8 rows × 37 columns</p>\n",
       "</div>"
      ],
      "text/plain": [
       "          Elevation        Aspect         Slope  \\\n",
       "count  15120.000000  15120.000000  15120.000000   \n",
       "mean    2749.322553    156.676653     16.501587   \n",
       "std      417.678187    110.085801      8.453927   \n",
       "min     1863.000000      0.000000      0.000000   \n",
       "25%     2376.000000     65.000000     10.000000   \n",
       "50%     2752.000000    126.000000     15.000000   \n",
       "75%     3104.000000    261.000000     22.000000   \n",
       "max     3849.000000    360.000000     52.000000   \n",
       "\n",
       "       Horizontal_Distance_To_Hydrology  Vertical_Distance_To_Hydrology  \\\n",
       "count                      15120.000000                    15120.000000   \n",
       "mean                         227.195701                       51.076521   \n",
       "std                          210.075296                       61.239406   \n",
       "min                            0.000000                     -146.000000   \n",
       "25%                           67.000000                        5.000000   \n",
       "50%                          180.000000                       32.000000   \n",
       "75%                          330.000000                       79.000000   \n",
       "max                         1343.000000                      554.000000   \n",
       "\n",
       "       Horizontal_Distance_To_Roadways  Hillshade_9am  Hillshade_Noon  \\\n",
       "count                     15120.000000   15120.000000    15120.000000   \n",
       "mean                       1714.023214     212.704299      218.965608   \n",
       "std                        1325.066358      30.561287       22.801966   \n",
       "min                           0.000000       0.000000       99.000000   \n",
       "25%                         764.000000     196.000000      207.000000   \n",
       "50%                        1316.000000     220.000000      223.000000   \n",
       "75%                        2270.000000     235.000000      235.000000   \n",
       "max                        6890.000000     254.000000      254.000000   \n",
       "\n",
       "       Hillshade_3pm  Horizontal_Distance_To_Fire_Points  ...    Cover_Type  \\\n",
       "count   15120.000000                        15120.000000  ...  15120.000000   \n",
       "mean      135.091997                         1511.147288  ...      4.000000   \n",
       "std        45.895189                         1099.936493  ...      2.000066   \n",
       "min         0.000000                            0.000000  ...      1.000000   \n",
       "25%       106.000000                          730.000000  ...      2.000000   \n",
       "50%       138.000000                         1256.000000  ...      4.000000   \n",
       "75%       167.000000                         1988.250000  ...      6.000000   \n",
       "max       248.000000                         6993.000000  ...      7.000000   \n",
       "\n",
       "       Hydro_Elevation_diff  Hydro_Euclidean  Hydro_Fire_sum  Hydro_Fire_diff  \\\n",
       "count          15120.000000     15120.000000    15120.000000     15120.000000   \n",
       "mean           -2698.246032       235.948778     1738.342989      1291.834788   \n",
       "std              414.680029       215.491695     1152.123001      1077.167415   \n",
       "min            -3776.000000         0.000000       30.000000         0.000000   \n",
       "25%            -3068.000000        67.186308      903.000000       532.000000   \n",
       "50%            -2696.000000       188.480768     1462.000000      1023.500000   \n",
       "75%            -2323.000000       342.069071     2302.000000      1726.000000   \n",
       "max            -1842.000000      1356.939571     7167.000000      6898.000000   \n",
       "\n",
       "       Hydro_Road_sum  Hydro_Road_diff  Road_Fire_sum  Road_Fire_diff  \\\n",
       "count    15120.000000     15120.000000   15120.000000    15120.000000   \n",
       "mean      1941.218915      1492.094577    3225.170503      897.908333   \n",
       "std       1383.173588      1292.673425    2093.672478      884.718318   \n",
       "min         30.000000         0.000000      95.000000        0.000000   \n",
       "25%        967.000000       534.000000    1806.000000      291.000000   \n",
       "50%       1501.000000      1148.000000    2520.500000      632.000000   \n",
       "75%       2554.000000      2042.000000    4232.250000     1220.000000   \n",
       "max       7306.000000      6860.000000   12504.000000     6012.000000   \n",
       "\n",
       "         Stoneyness  \n",
       "count  15120.000000  \n",
       "mean       2.333003  \n",
       "std        1.580487  \n",
       "min        0.000000  \n",
       "25%        1.000000  \n",
       "50%        2.000000  \n",
       "75%        4.000000  \n",
       "max        4.000000  \n",
       "\n",
       "[8 rows x 37 columns]"
      ]
     },
     "execution_count": 42,
     "metadata": {},
     "output_type": "execute_result"
    }
   ],
   "source": [
    "X.describe()"
   ]
  },
  {
   "cell_type": "markdown",
   "metadata": {},
   "source": [
    "## Cluster features"
   ]
  },
  {
   "cell_type": "code",
   "execution_count": 43,
   "metadata": {
    "ExecuteTime": {
     "end_time": "2019-09-11T00:20:48.780593Z",
     "start_time": "2019-09-11T00:20:48.778664Z"
    }
   },
   "outputs": [],
   "source": [
    "# TODO: add cluster features, do elbow method"
   ]
  },
  {
   "cell_type": "code",
   "execution_count": 44,
   "metadata": {
    "ExecuteTime": {
     "end_time": "2019-09-11T00:20:50.297491Z",
     "start_time": "2019-09-11T00:20:49.843181Z"
    }
   },
   "outputs": [],
   "source": [
    "from sklearn.mixture import GaussianMixture\n",
    "from sklearn.cluster import KMeans\n",
    "ss = StandardScaler()\n",
    "cluster_data = ss.fit_transform(X_train)\n",
    "cluster_data_test = ss.fit_transform(X_test)"
   ]
  },
  {
   "cell_type": "code",
   "execution_count": 45,
   "metadata": {
    "ExecuteTime": {
     "end_time": "2019-09-11T00:21:39.851062Z",
     "start_time": "2019-09-11T00:20:50.395536Z"
    }
   },
   "outputs": [
    {
     "data": {
      "text/plain": [
       "KMeans(algorithm='auto', copy_x=True, init='k-means++', max_iter=300,\n",
       "       n_clusters=17, n_init=10, n_jobs=None, precompute_distances='auto',\n",
       "       random_state=None, tol=0.0001, verbose=0)"
      ]
     },
     "execution_count": 45,
     "metadata": {},
     "output_type": "execute_result"
    }
   ],
   "source": [
    "km = KMeans(17)\n",
    "km.fit(np.vstack([cluster_data_test, cluster_data]))"
   ]
  },
  {
   "cell_type": "code",
   "execution_count": 46,
   "metadata": {
    "ExecuteTime": {
     "end_time": "2019-09-11T00:21:40.167686Z",
     "start_time": "2019-09-11T00:21:39.852767Z"
    }
   },
   "outputs": [],
   "source": [
    "X_train['cluster'] = km.predict(cluster_data)\n",
    "X_test['cluster'] = km.predict(cluster_data_test)"
   ]
  },
  {
   "cell_type": "code",
   "execution_count": 21,
   "metadata": {
    "ExecuteTime": {
     "end_time": "2019-09-09T13:51:50.753875Z",
     "start_time": "2019-09-09T13:50:03.579455Z"
    }
   },
   "outputs": [],
   "source": [
    "n_components = [r for r in range(6, 21)]\n",
    "models = [GaussianMixture(n, covariance_type='full', random_state=0).fit(cluster_data)\n",
    "          for n in n_components]"
   ]
  },
  {
   "cell_type": "code",
   "execution_count": 22,
   "metadata": {
    "ExecuteTime": {
     "end_time": "2019-09-09T13:51:54.730783Z",
     "start_time": "2019-09-09T13:51:50.758411Z"
    }
   },
   "outputs": [
    {
     "data": {
      "text/plain": [
       "Text(0.5, 0, 'n_components')"
      ]
     },
     "execution_count": 22,
     "metadata": {},
     "output_type": "execute_result"
    },
    {
     "data": {
      "image/png": "[encoded data removed]",
      "text/plain": [
       "<Figure size 432x288 with 1 Axes>"
      ]
     },
     "metadata": {
      "needs_background": "light"
     },
     "output_type": "display_data"
    }
   ],
   "source": [
    "import matplotlib.pyplot as plt\n",
    "%matplotlib inline\n",
    "\n",
    "plt.plot(n_components, [m.bic(X_train) for m in models], label='BIC')\n",
    "plt.plot(n_components, [m.aic(X_train) for m in models], label='AIC')\n",
    "plt.legend(loc='best')\n",
    "plt.xlabel('n_components')"
   ]
  },
  {
   "cell_type": "code",
   "execution_count": 34,
   "metadata": {
    "ExecuteTime": {
     "end_time": "2019-09-09T14:16:28.323502Z",
     "start_time": "2019-09-09T14:12:06.058088Z"
    }
   },
   "outputs": [],
   "source": [
    "from sklearn.cluster import KMeans\n",
    "from sklearn.mixture import GaussianMixture\n",
    "from sklearn.metrics import silhouette_score\n",
    "from collections import OrderedDict\n",
    "\n",
    "# TODO: Apply your clustering algorithm of choice to the reduced data\n",
    "def make_cluster(clusterer, X):\n",
    "    # clusterer.fit(reduced_data)\n",
    "    preds = clusterer.fit_predict(X)\n",
    "    score = silhouette_score(X, preds)\n",
    "    return clusterer, score\n",
    "\n",
    "kclusters = OrderedDict()\n",
    "kscores = OrderedDict()\n",
    "for n in range(2, 19):\n",
    "    kmeans = KMeans(n_clusters=n, random_state=13)\n",
    "    kclusters[n], kscores[n] = make_cluster(kmeans, X_train)\n",
    "   \n",
    "gclusters = OrderedDict()\n",
    "gscores = OrderedDict()\n",
    "for n in range(2, 19):\n",
    "    gaussian = GaussianMixture(n_components=n, \n",
    "                               covariance_type='full', \n",
    "                               random_state=13)\n",
    "    gclusters[n], gscores[n] = make_cluster(gaussian, X_train)\n",
    "\n",
    "   "
   ]
  },
  {
   "cell_type": "code",
   "execution_count": 35,
   "metadata": {
    "ExecuteTime": {
     "end_time": "2019-09-09T14:16:28.715975Z",
     "start_time": "2019-09-09T14:16:28.325955Z"
    }
   },
   "outputs": [
    {
     "data": {
      "text/plain": [
       "Text(0.5, 0, 'scores')"
      ]
     },
     "execution_count": 35,
     "metadata": {},
     "output_type": "execute_result"
    },
    {
     "data": {
      "image/png": "[encoded data removed]",
      "text/plain": [
       "<Figure size 720x432 with 1 Axes>"
      ]
     },
     "metadata": {
      "needs_background": "light"
     },
     "output_type": "display_data"
    }
   ],
   "source": [
    "plt.figure(figsize=(10, 6))\n",
    "plt.title('Silhouete scores')\n",
    "plt.plot(kscores.keys(), kscores.values(), label='kmeans')\n",
    "plt.plot(gscores.keys(), gscores.values(), label='gaussian')\n",
    "plt.legend()\n",
    "plt.xlabel('number of clusters')\n",
    "plt.xlabel('scores')"
   ]
  },
  {
   "cell_type": "markdown",
   "metadata": {
    "heading_collapsed": true
   },
   "source": [
    "# Brute Force parameters search"
   ]
  },
  {
   "cell_type": "code",
   "execution_count": 13,
   "metadata": {
    "ExecuteTime": {
     "end_time": "2019-09-09T11:59:24.694033Z",
     "start_time": "2019-09-09T11:59:20.890619Z"
    },
    "hidden": true
   },
   "outputs": [
    {
     "data": {
      "text/plain": [
       "0.8976851851851851"
      ]
     },
     "execution_count": 13,
     "metadata": {},
     "output_type": "execute_result"
    }
   ],
   "source": [
    "# A simple first test to validate features of actual df\n",
    "\n",
    "\n",
    "etc = ExtraTreesClassifier(\n",
    "    bootstrap=True, oob_score=True,\n",
    "    **{'max_depth': 60, 'n_estimators': 200, 'max_features': 0.8}\n",
    "    )\n",
    "etc.fit(X_train, y_train)\n",
    "etc.oob_score_"
   ]
  },
  {
   "cell_type": "code",
   "execution_count": 50,
   "metadata": {
    "ExecuteTime": {
     "end_time": "2019-09-09T11:43:35.168595Z",
     "start_time": "2019-09-09T11:43:35.162804Z"
    },
    "hidden": true
   },
   "outputs": [],
   "source": [
    "from time import time\n",
    "from sklearn.model_selection import RandomizedSearchCV\n",
    "\n"
   ]
  },
  {
   "cell_type": "code",
   "execution_count": 38,
   "metadata": {
    "ExecuteTime": {
     "end_time": "2019-09-09T11:39:23.125854Z",
     "start_time": "2019-09-09T11:34:09.506840Z"
    },
    "hidden": true
   },
   "outputs": [
    {
     "name": "stdout",
     "output_type": "stream",
     "text": [
      "RandomizedSearchCV took 313.60 seconds for 5 candidates parameter settings.\n",
      "Model with rank: 1\n",
      "Mean validation score: 0.801 (std: 0.037)\n",
      "Parameters: {'max_features': 0.6, 'n_estimators': 2000, 'max_depth': 25}\n",
      "\n",
      "Model with rank: 2\n",
      "Mean validation score: 0.786 (std: 0.039)\n",
      "Parameters: {'max_features': 0.2, 'n_estimators': 2400, 'max_depth': 80}\n",
      "\n",
      "Model with rank: 3\n",
      "Mean validation score: 0.783 (std: 0.039)\n",
      "Parameters: {'max_features': 0.2, 'n_estimators': 1200, 'max_depth': 25}\n",
      "\n"
     ]
    }
   ],
   "source": [
    "param_dist = {\"max_depth\": [5, 10, 15, 25, 40, 80],\n",
    "              'max_features': [0.2, 0.4, 0.6, 0.8],\n",
    "              'n_estimators': [20, 50, 100, 200, 600, 1200, 2000, 2400]\n",
    "             }\n",
    "\n",
    "\n",
    "def report(results, n_top=3):\n",
    "    for i in range(1, n_top + 1):\n",
    "        candidates = np.flatnonzero(results['rank_test_score'] == i)\n",
    "        for candidate in candidates:\n",
    "            print(\"Model with rank: {0}\".format(i))\n",
    "            print(\"Mean validation score: {0:.3f} (std: {1:.3f})\".format(\n",
    "                  results['mean_test_score'][candidate],\n",
    "                  results['std_test_score'][candidate]))\n",
    "            print(\"Parameters: {0}\".format(results['params'][candidate]))\n",
    "            print(\"\")\n",
    "            \n",
    "n_iter_search = 5\n",
    "random_search = RandomizedSearchCV(ExtraTreesClassifier(bootstrap=False), param_distributions=param_dist,\n",
    "                                   n_iter=n_iter_search, cv=5, iid=False)\n",
    "\n",
    "start = time()\n",
    "random_search.fit(X_train, y_train)\n",
    "print(\"RandomizedSearchCV took %.2f seconds for %d candidates\"\n",
    "      \" parameter settings.\" % ((time() - start), n_iter_search))\n",
    "report(random_search.cv_results_)"
   ]
  },
  {
   "cell_type": "code",
   "execution_count": 44,
   "metadata": {
    "ExecuteTime": {
     "end_time": "2019-09-09T01:54:58.406591Z",
     "start_time": "2019-09-09T01:54:58.398229Z"
    },
    "hidden": true
   },
   "outputs": [],
   "source": [
    "X_train, X_val, y_train, y_val = train_test_split(X_e, y_e, test_size=0.2)"
   ]
  },
  {
   "cell_type": "code",
   "execution_count": 46,
   "metadata": {
    "ExecuteTime": {
     "end_time": "2019-09-09T01:56:04.242227Z",
     "start_time": "2019-09-09T01:55:18.561025Z"
    },
    "hidden": true
   },
   "outputs": [
    {
     "data": {
      "text/plain": [
       "0.8716931216931217"
      ]
     },
     "execution_count": 46,
     "metadata": {},
     "output_type": "execute_result"
    }
   ],
   "source": [
    "etc = ExtraTreesClassifier(\n",
    "    bootstrap=True, oob_score=True,\n",
    "    class_weight= {1:1000, 2: 1000, 3: 1, 4: 1, 5: 1, 6: 1, 7: 1},\n",
    "    **{'max_depth': 32, 'n_estimators': 2200, 'max_features': 0.7}\n",
    "    )\n",
    "etc.fit(X_train, y_train)\n",
    "etc.oob_score_"
   ]
  },
  {
   "cell_type": "code",
   "execution_count": 47,
   "metadata": {
    "ExecuteTime": {
     "end_time": "2019-09-09T01:56:04.999689Z",
     "start_time": "2019-09-09T01:56:04.243944Z"
    },
    "hidden": true
   },
   "outputs": [
    {
     "name": "stdout",
     "output_type": "stream",
     "text": [
      "Accuracy: 0.8796296296296297\n",
      "              precision    recall  f1-score   support\n",
      "\n",
      "           1       0.84      0.75      0.79       218\n",
      "           2       0.78      0.70      0.74       193\n",
      "           3       0.87      0.83      0.85       194\n",
      "           4       0.95      0.98      0.96       236\n",
      "           5       0.90      0.97      0.93       235\n",
      "           6       0.88      0.91      0.89       220\n",
      "           7       0.91      0.98      0.95       216\n",
      "\n",
      "    accuracy                           0.88      1512\n",
      "   macro avg       0.87      0.87      0.87      1512\n",
      "weighted avg       0.88      0.88      0.88      1512\n",
      "\n",
      "[[163  32   0   0   5   0  18]\n",
      " [ 28 135   2   0  19   7   2]\n",
      " [  0   3 161  10   1  19   0]\n",
      " [  0   0   4 231   0   1   0]\n",
      " [  0   3   3   0 228   1   0]\n",
      " [  0   1  15   3   1 200   0]\n",
      " [  4   0   0   0   0   0 212]]\n"
     ]
    }
   ],
   "source": [
    "y_pred = etc.predict(X_val)\n",
    "report(y_val, y_pred)"
   ]
  },
  {
   "cell_type": "code",
   "execution_count": 48,
   "metadata": {
    "ExecuteTime": {
     "end_time": "2019-09-09T01:59:18.038771Z",
     "start_time": "2019-09-09T01:58:05.070781Z"
    },
    "hidden": true
   },
   "outputs": [
    {
     "data": {
      "text/plain": [
       "0.9986772486772487"
      ]
     },
     "execution_count": 48,
     "metadata": {},
     "output_type": "execute_result"
    }
   ],
   "source": [
    "# Train with all data, maximizing trees variety (bootstrap False)\n",
    "etc = ExtraTreesClassifier(\n",
    "    bootstrap=False,\n",
    "    class_weight= {1:10000, 2: 10000, 3: 1, 4: 1, 5: 1, 6: 1, 7: 1},\n",
    "    **{'max_depth': 32, 'n_estimators': 2200, 'max_features': 0.7}\n",
    "    )\n",
    "etc.fit(X_e, y_e)\n",
    "etc.score(X_e, y_e)"
   ]
  },
  {
   "cell_type": "code",
   "execution_count": 24,
   "metadata": {
    "ExecuteTime": {
     "end_time": "2019-09-09T01:43:07.553701Z",
     "start_time": "2019-09-09T01:43:07.550626Z"
    },
    "hidden": true
   },
   "outputs": [],
   "source": [
    "from sklearn.metrics import classification_report, confusion_matrix\n",
    "def report(y_true, y_pred):\n",
    "    print('Accuracy: %s' % accuracy_score(y_true, y_pred))\n",
    "    print(classification_report(y_true, y_pred))\n",
    "    print(confusion_matrix(y_true, y_pred))"
   ]
  },
  {
   "cell_type": "code",
   "execution_count": 39,
   "metadata": {
    "ExecuteTime": {
     "end_time": "2019-09-09T01:50:21.783257Z",
     "start_time": "2019-09-09T01:50:06.177046Z"
    },
    "hidden": true
   },
   "outputs": [],
   "source": [
    "X_1_2 = X_e[y_e < 3]\n",
    "y_1_2 = y_e[y_e < 3]\n",
    "X_train, X_val, y_train, y_val = train_test_split(X_1_2, y_1_2, test_size=0.2)\n",
    "etc = ExtraTreesClassifier(\n",
    "    bootstrap=False,\n",
    "    **{'max_depth': 20, 'n_estimators': 3000, 'max_features': 0.6}\n",
    "    )\n",
    "\n",
    "etc.fit(X_train, y_train)\n",
    "y_pred = etc.predict(X_val)"
   ]
  },
  {
   "cell_type": "code",
   "execution_count": 40,
   "metadata": {
    "ExecuteTime": {
     "end_time": "2019-09-09T01:50:23.060324Z",
     "start_time": "2019-09-09T01:50:21.784455Z"
    },
    "hidden": true
   },
   "outputs": [
    {
     "name": "stdout",
     "output_type": "stream",
     "text": [
      "0.9994212962962963\n",
      "Accuracy: 0.8171296296296297\n",
      "              precision    recall  f1-score   support\n",
      "\n",
      "           1       0.81      0.82      0.81       421\n",
      "           2       0.83      0.81      0.82       443\n",
      "\n",
      "    accuracy                           0.82       864\n",
      "   macro avg       0.82      0.82      0.82       864\n",
      "weighted avg       0.82      0.82      0.82       864\n",
      "\n",
      "[[346  75]\n",
      " [ 83 360]]\n"
     ]
    }
   ],
   "source": [
    "print(etc.score(X_train, y_train))\n",
    "report(y_val, y_pred)"
   ]
  },
  {
   "cell_type": "markdown",
   "metadata": {},
   "source": [
    "# Mount the ensemble"
   ]
  },
  {
   "cell_type": "code",
   "execution_count": 47,
   "metadata": {
    "ExecuteTime": {
     "end_time": "2019-09-11T00:21:40.176462Z",
     "start_time": "2019-09-11T00:21:40.169111Z"
    }
   },
   "outputs": [],
   "source": [
    "X_, X_val, y_, y_val = train_test_split(X_train, y_train, test_size=0.2)"
   ]
  },
  {
   "cell_type": "code",
   "execution_count": 48,
   "metadata": {
    "ExecuteTime": {
     "end_time": "2019-09-11T00:21:40.192316Z",
     "start_time": "2019-09-11T00:21:40.178080Z"
    }
   },
   "outputs": [
    {
     "data": {
      "text/plain": [
       "0    5\n",
       "1    5\n",
       "2    2\n",
       "3    2\n",
       "4    5\n",
       "Name: Cover_Type, dtype: int64"
      ]
     },
     "execution_count": 48,
     "metadata": {},
     "output_type": "execute_result"
    }
   ],
   "source": [
    "y_train.head()"
   ]
  },
  {
   "cell_type": "code",
   "execution_count": 65,
   "metadata": {
    "ExecuteTime": {
     "end_time": "2019-09-09T15:40:22.633239Z",
     "start_time": "2019-09-09T15:40:22.051661Z"
    }
   },
   "outputs": [
    {
     "name": "stdout",
     "output_type": "stream",
     "text": [
      "1.0\n",
      "0.8250661375661376\n"
     ]
    }
   ],
   "source": [
    "ss = StandardScaler()\n",
    "pca = PCA(random_state=60, n_components=12)\n",
    "knn = KNeighborsClassifier(algorithm='auto',\n",
    "                           weights='distance',\n",
    "                           n_jobs=-1,\n",
    "                           n_neighbors=3)\n",
    "\n",
    "pipe = Pipeline(steps=[\n",
    "        ('scale', ss),\n",
    "        ('pca', pca),\n",
    "        ('pred', knn)\n",
    "]).fit(X_, y_)\n",
    "print(pipe.score(X_, y_))\n",
    "print(pipe.score(X_val, y_val))"
   ]
  },
  {
   "cell_type": "code",
   "execution_count": 43,
   "metadata": {
    "ExecuteTime": {
     "end_time": "2019-09-09T14:23:50.357669Z",
     "start_time": "2019-09-09T14:23:50.320730Z"
    }
   },
   "outputs": [
    {
     "data": {
      "text/html": [
       "<div>\n",
       "<style scoped>\n",
       "    .dataframe tbody tr th:only-of-type {\n",
       "        vertical-align: middle;\n",
       "    }\n",
       "\n",
       "    .dataframe tbody tr th {\n",
       "        vertical-align: top;\n",
       "    }\n",
       "\n",
       "    .dataframe thead th {\n",
       "        text-align: right;\n",
       "    }\n",
       "</style>\n",
       "<table border=\"1\" class=\"dataframe\">\n",
       "  <thead>\n",
       "    <tr style=\"text-align: right;\">\n",
       "      <th></th>\n",
       "      <th>Elevation</th>\n",
       "      <th>Aspect</th>\n",
       "      <th>Slope</th>\n",
       "      <th>Horizontal_Distance_To_Hydrology</th>\n",
       "      <th>Vertical_Distance_To_Hydrology</th>\n",
       "      <th>Horizontal_Distance_To_Roadways</th>\n",
       "      <th>Hillshade_9am</th>\n",
       "      <th>Hillshade_Noon</th>\n",
       "      <th>Hillshade_3pm</th>\n",
       "      <th>Horizontal_Distance_To_Fire_Points</th>\n",
       "      <th>...</th>\n",
       "      <th>Hydro_Elevation_diff</th>\n",
       "      <th>Hydro_Euclidean</th>\n",
       "      <th>Hydro_Fire_sum</th>\n",
       "      <th>Hydro_Fire_diff</th>\n",
       "      <th>Hydro_Road_sum</th>\n",
       "      <th>Hydro_Road_diff</th>\n",
       "      <th>Road_Fire_sum</th>\n",
       "      <th>Road_Fire_diff</th>\n",
       "      <th>Stoneyness</th>\n",
       "      <th>cluster</th>\n",
       "    </tr>\n",
       "  </thead>\n",
       "  <tbody>\n",
       "    <tr>\n",
       "      <th>0</th>\n",
       "      <td>2596</td>\n",
       "      <td>51</td>\n",
       "      <td>3</td>\n",
       "      <td>258</td>\n",
       "      <td>0</td>\n",
       "      <td>510</td>\n",
       "      <td>221</td>\n",
       "      <td>232</td>\n",
       "      <td>148</td>\n",
       "      <td>6279</td>\n",
       "      <td>...</td>\n",
       "      <td>-2596.0</td>\n",
       "      <td>258.000000</td>\n",
       "      <td>6537</td>\n",
       "      <td>6021.0</td>\n",
       "      <td>768</td>\n",
       "      <td>252.0</td>\n",
       "      <td>6789</td>\n",
       "      <td>5769.0</td>\n",
       "      <td>4</td>\n",
       "      <td>4</td>\n",
       "    </tr>\n",
       "    <tr>\n",
       "      <th>1</th>\n",
       "      <td>2590</td>\n",
       "      <td>56</td>\n",
       "      <td>2</td>\n",
       "      <td>212</td>\n",
       "      <td>-6</td>\n",
       "      <td>390</td>\n",
       "      <td>220</td>\n",
       "      <td>235</td>\n",
       "      <td>151</td>\n",
       "      <td>6225</td>\n",
       "      <td>...</td>\n",
       "      <td>-2596.0</td>\n",
       "      <td>212.084889</td>\n",
       "      <td>6437</td>\n",
       "      <td>6013.0</td>\n",
       "      <td>602</td>\n",
       "      <td>178.0</td>\n",
       "      <td>6615</td>\n",
       "      <td>5835.0</td>\n",
       "      <td>4</td>\n",
       "      <td>4</td>\n",
       "    </tr>\n",
       "    <tr>\n",
       "      <th>2</th>\n",
       "      <td>2804</td>\n",
       "      <td>139</td>\n",
       "      <td>9</td>\n",
       "      <td>268</td>\n",
       "      <td>65</td>\n",
       "      <td>3180</td>\n",
       "      <td>234</td>\n",
       "      <td>238</td>\n",
       "      <td>135</td>\n",
       "      <td>6121</td>\n",
       "      <td>...</td>\n",
       "      <td>-2739.0</td>\n",
       "      <td>275.769832</td>\n",
       "      <td>6389</td>\n",
       "      <td>5853.0</td>\n",
       "      <td>3448</td>\n",
       "      <td>2912.0</td>\n",
       "      <td>9301</td>\n",
       "      <td>2941.0</td>\n",
       "      <td>2</td>\n",
       "      <td>6</td>\n",
       "    </tr>\n",
       "    <tr>\n",
       "      <th>3</th>\n",
       "      <td>2785</td>\n",
       "      <td>155</td>\n",
       "      <td>18</td>\n",
       "      <td>242</td>\n",
       "      <td>118</td>\n",
       "      <td>3090</td>\n",
       "      <td>238</td>\n",
       "      <td>238</td>\n",
       "      <td>122</td>\n",
       "      <td>6211</td>\n",
       "      <td>...</td>\n",
       "      <td>-2667.0</td>\n",
       "      <td>269.235956</td>\n",
       "      <td>6453</td>\n",
       "      <td>5969.0</td>\n",
       "      <td>3332</td>\n",
       "      <td>2848.0</td>\n",
       "      <td>9301</td>\n",
       "      <td>3121.0</td>\n",
       "      <td>4</td>\n",
       "      <td>2</td>\n",
       "    </tr>\n",
       "    <tr>\n",
       "      <th>4</th>\n",
       "      <td>2595</td>\n",
       "      <td>45</td>\n",
       "      <td>2</td>\n",
       "      <td>153</td>\n",
       "      <td>-1</td>\n",
       "      <td>391</td>\n",
       "      <td>220</td>\n",
       "      <td>234</td>\n",
       "      <td>150</td>\n",
       "      <td>6172</td>\n",
       "      <td>...</td>\n",
       "      <td>-2596.0</td>\n",
       "      <td>153.003268</td>\n",
       "      <td>6325</td>\n",
       "      <td>6019.0</td>\n",
       "      <td>544</td>\n",
       "      <td>238.0</td>\n",
       "      <td>6563</td>\n",
       "      <td>5781.0</td>\n",
       "      <td>4</td>\n",
       "      <td>4</td>\n",
       "    </tr>\n",
       "  </tbody>\n",
       "</table>\n",
       "<p>5 rows × 37 columns</p>\n",
       "</div>"
      ],
      "text/plain": [
       "   Elevation  Aspect  Slope  Horizontal_Distance_To_Hydrology  \\\n",
       "0       2596      51      3                               258   \n",
       "1       2590      56      2                               212   \n",
       "2       2804     139      9                               268   \n",
       "3       2785     155     18                               242   \n",
       "4       2595      45      2                               153   \n",
       "\n",
       "   Vertical_Distance_To_Hydrology  Horizontal_Distance_To_Roadways  \\\n",
       "0                               0                              510   \n",
       "1                              -6                              390   \n",
       "2                              65                             3180   \n",
       "3                             118                             3090   \n",
       "4                              -1                              391   \n",
       "\n",
       "   Hillshade_9am  Hillshade_Noon  Hillshade_3pm  \\\n",
       "0            221             232            148   \n",
       "1            220             235            151   \n",
       "2            234             238            135   \n",
       "3            238             238            122   \n",
       "4            220             234            150   \n",
       "\n",
       "   Horizontal_Distance_To_Fire_Points  ...  Hydro_Elevation_diff  \\\n",
       "0                                6279  ...               -2596.0   \n",
       "1                                6225  ...               -2596.0   \n",
       "2                                6121  ...               -2739.0   \n",
       "3                                6211  ...               -2667.0   \n",
       "4                                6172  ...               -2596.0   \n",
       "\n",
       "   Hydro_Euclidean  Hydro_Fire_sum  Hydro_Fire_diff  Hydro_Road_sum  \\\n",
       "0       258.000000            6537           6021.0             768   \n",
       "1       212.084889            6437           6013.0             602   \n",
       "2       275.769832            6389           5853.0            3448   \n",
       "3       269.235956            6453           5969.0            3332   \n",
       "4       153.003268            6325           6019.0             544   \n",
       "\n",
       "   Hydro_Road_diff  Road_Fire_sum  Road_Fire_diff  Stoneyness  cluster  \n",
       "0            252.0           6789          5769.0           4        4  \n",
       "1            178.0           6615          5835.0           4        4  \n",
       "2           2912.0           9301          2941.0           2        6  \n",
       "3           2848.0           9301          3121.0           4        2  \n",
       "4            238.0           6563          5781.0           4        4  \n",
       "\n",
       "[5 rows x 37 columns]"
      ]
     },
     "execution_count": 43,
     "metadata": {},
     "output_type": "execute_result"
    }
   ],
   "source": [
    "X_train.head()"
   ]
  },
  {
   "cell_type": "markdown",
   "metadata": {},
   "source": [
    "### Search for better classifier for class 1 x class2"
   ]
  },
  {
   "cell_type": "code",
   "execution_count": 44,
   "metadata": {
    "ExecuteTime": {
     "end_time": "2019-09-09T14:23:50.372365Z",
     "start_time": "2019-09-09T14:23:50.360672Z"
    }
   },
   "outputs": [],
   "source": [
    "X_12 = X_train[y_train < 3]\n",
    "y_12 = y_train[y_train < 3]\n",
    "X_12, X_val12, y_12, y_val12 = train_test_split(X_12, y_12, test_size=0.2)"
   ]
  },
  {
   "cell_type": "code",
   "execution_count": 45,
   "metadata": {
    "ExecuteTime": {
     "end_time": "2019-09-09T14:24:02.840448Z",
     "start_time": "2019-09-09T14:23:50.374782Z"
    }
   },
   "outputs": [
    {
     "name": "stdout",
     "output_type": "stream",
     "text": [
      "1.0\n",
      "0.8483796296296297\n"
     ]
    },
    {
     "data": {
      "text/plain": [
       "array([[350,  80],\n",
       "       [ 51, 383]])"
      ]
     },
     "execution_count": 45,
     "metadata": {},
     "output_type": "execute_result"
    }
   ],
   "source": [
    "etc = ExtraTreesClassifier(\n",
    "    bootstrap=False,\n",
    "    # class_weight= {1:10000, 2: 10000}, #, 3: 1, 4: 1, 5: 1, 6: 1, 7: 1},\n",
    "    **{'max_depth': None, 'n_estimators': 600, 'max_features': 0.8}\n",
    "    )\n",
    "etc.fit(X_12, y_12)\n",
    "print(etc.score(X_12, y_12))\n",
    "print(etc.score(X_val12, y_val12))\n",
    "y_pred = etc.predict(X_val12)\n",
    "confusion_matrix(y_val12, y_pred)"
   ]
  },
  {
   "cell_type": "code",
   "execution_count": 46,
   "metadata": {
    "ExecuteTime": {
     "end_time": "2019-09-09T14:24:13.712616Z",
     "start_time": "2019-09-09T14:24:02.845789Z"
    }
   },
   "outputs": [
    {
     "name": "stdout",
     "output_type": "stream",
     "text": [
      "1.0\n",
      "0.8402777777777778\n"
     ]
    },
    {
     "data": {
      "text/plain": [
       "array([[352,  78],\n",
       "       [ 60, 374]])"
      ]
     },
     "execution_count": 46,
     "metadata": {},
     "output_type": "execute_result"
    }
   ],
   "source": [
    "rf = RandomForestClassifier(n_estimators=800, bootstrap=False)\n",
    "rf.fit(X_12, y_12)\n",
    "print(rf.score(X_12, y_12))\n",
    "print(rf.score(X_val12, y_val12))\n",
    "y_pred = rf.predict(X_val12)\n",
    "confusion_matrix(y_val12, y_pred)"
   ]
  },
  {
   "cell_type": "markdown",
   "metadata": {},
   "source": [
    "### Trees Classifiers and ensemble"
   ]
  },
  {
   "cell_type": "code",
   "execution_count": 49,
   "metadata": {
    "ExecuteTime": {
     "end_time": "2019-09-11T00:21:40.217699Z",
     "start_time": "2019-09-11T00:21:40.196391Z"
    }
   },
   "outputs": [],
   "source": [
    "rf = RandomForestClassifier(n_estimators=800,\n",
    "                            # class_weight= {0:10, 1:4, 2: 2, 3: 1, 4: 1, 5: 4, 6: 1},\n",
    "                            bootstrap=False)\n",
    "# rf.fit(X_, y_)\n",
    "# print(rf.score(X_, y_))\n",
    "# print(rf.score(X_val, y_val))"
   ]
  },
  {
   "cell_type": "code",
   "execution_count": 50,
   "metadata": {
    "ExecuteTime": {
     "end_time": "2019-09-11T00:21:40.247782Z",
     "start_time": "2019-09-11T00:21:40.221337Z"
    }
   },
   "outputs": [],
   "source": [
    "etc = ExtraTreesClassifier(\n",
    "    bootstrap=False,\n",
    "    # class_weight= {0:10000, 1: 10000, 2: 1, 3: 1, 4: 1, 5: 1, 6: 1},\n",
    "    **{'max_depth': 40, 'n_estimators': 1200, 'max_features': 0.7}\n",
    "    )"
   ]
  },
  {
   "cell_type": "code",
   "execution_count": 51,
   "metadata": {
    "ExecuteTime": {
     "end_time": "2019-09-11T00:21:41.008548Z",
     "start_time": "2019-09-11T00:21:40.253460Z"
    }
   },
   "outputs": [
    {
     "name": "stdout",
     "output_type": "stream",
     "text": [
      "Requirement already satisfied: lightgbm in ./venv/lib/python3.5/site-packages (2.2.3)\n",
      "Requirement already satisfied: scikit-learn in ./venv/lib/python3.5/site-packages (from lightgbm) (0.21.3)\n",
      "Requirement already satisfied: scipy in ./venv/lib/python3.5/site-packages (from lightgbm) (1.3.1)\n",
      "Requirement already satisfied: numpy in ./venv/lib/python3.5/site-packages (from lightgbm) (1.17.2)\n",
      "Requirement already satisfied: joblib>=0.11 in ./venv/lib/python3.5/site-packages (from scikit-learn->lightgbm) (0.13.2)\n"
     ]
    }
   ],
   "source": [
    "!pip install lightgbm\n",
    "from lightgbm import LGBMClassifier\n",
    "\n",
    "lgb = LGBMClassifier(n_estimators=400,\n",
    "                        num_leaves=100)"
   ]
  },
  {
   "cell_type": "code",
   "execution_count": 52,
   "metadata": {
    "ExecuteTime": {
     "end_time": "2019-09-11T00:25:32.814445Z",
     "start_time": "2019-09-11T00:21:41.014980Z"
    }
   },
   "outputs": [
    {
     "name": "stdout",
     "output_type": "stream",
     "text": [
      "Fitting 3 classifiers...\n",
      "Fitting classifier1: randomforestclassifier (1/3)\n"
     ]
    },
    {
     "name": "stderr",
     "output_type": "stream",
     "text": [
      "[Parallel(n_jobs=-1)]: Using backend LokyBackend with 8 concurrent workers.\n",
      "[Parallel(n_jobs=-1)]: Done   2 out of   5 | elapsed:   25.6s remaining:   38.4s\n",
      "[Parallel(n_jobs=-1)]: Done   5 out of   5 | elapsed:   32.6s finished\n",
      "[Parallel(n_jobs=-1)]: Using backend LokyBackend with 8 concurrent workers.\n"
     ]
    },
    {
     "name": "stdout",
     "output_type": "stream",
     "text": [
      "Fitting classifier2: extratreesclassifier (2/3)\n"
     ]
    },
    {
     "name": "stderr",
     "output_type": "stream",
     "text": [
      "[Parallel(n_jobs=-1)]: Done   2 out of   5 | elapsed:   25.8s remaining:   38.7s\n",
      "[Parallel(n_jobs=-1)]: Done   5 out of   5 | elapsed:   33.1s finished\n",
      "[Parallel(n_jobs=-1)]: Using backend LokyBackend with 8 concurrent workers.\n"
     ]
    },
    {
     "name": "stdout",
     "output_type": "stream",
     "text": [
      "Fitting classifier3: lgbmclassifier (3/3)\n"
     ]
    },
    {
     "name": "stderr",
     "output_type": "stream",
     "text": [
      "[Parallel(n_jobs=-1)]: Done   2 out of   5 | elapsed:   25.2s remaining:   37.8s\n",
      "[Parallel(n_jobs=-1)]: Done   5 out of   5 | elapsed:   29.5s finished\n"
     ]
    },
    {
     "data": {
      "text/plain": [
       "StackingCVClassifier(classifiers=[RandomForestClassifier(bootstrap=False,\n",
       "                                                         class_weight=None,\n",
       "                                                         criterion='gini',\n",
       "                                                         max_depth=None,\n",
       "                                                         max_features='auto',\n",
       "                                                         max_leaf_nodes=None,\n",
       "                                                         min_impurity_decrease=0.0,\n",
       "                                                         min_impurity_split=None,\n",
       "                                                         min_samples_leaf=1,\n",
       "                                                         min_samples_split=2,\n",
       "                                                         min_weight_fraction_leaf=0.0,\n",
       "                                                         n_estimators=800,\n",
       "                                                         n_jobs=None,\n",
       "                                                         oob_score=False,\n",
       "                                                         random_state=None,\n",
       "                                                         verbos...\n",
       "                                                            min_impurity_split=None,\n",
       "                                                            min_samples_leaf=1,\n",
       "                                                            min_samples_split=2,\n",
       "                                                            min_weight_fraction_leaf=0.0,\n",
       "                                                            n_estimators=800,\n",
       "                                                            n_jobs=None,\n",
       "                                                            oob_score=False,\n",
       "                                                            random_state=None,\n",
       "                                                            verbose=0,\n",
       "                                                            warm_start=False),\n",
       "                     n_jobs=-1, pre_dispatch='2*n_jobs', random_state=0,\n",
       "                     shuffle=True, store_train_meta_features=False,\n",
       "                     stratify=True, use_clones=True,\n",
       "                     use_features_in_secondary=True, use_probas=True,\n",
       "                     verbose=1)"
      ]
     },
     "execution_count": 52,
     "metadata": {},
     "output_type": "execute_result"
    }
   ],
   "source": [
    "from mlxtend.classifier import StackingCVClassifier\n",
    "\n",
    "ensemble = [('rf', rf),\n",
    "            ('etc', etc),\n",
    "            ('lgb', lgb)]\n",
    "\n",
    "stack = StackingCVClassifier(classifiers=[clf for label, clf in ensemble],\n",
    "                             meta_classifier=rf,\n",
    "                             cv=5,\n",
    "                             use_probas=True,\n",
    "                             use_features_in_secondary=True,\n",
    "                             verbose=1,\n",
    "                             random_state=0,\n",
    "                             n_jobs=-1)\n",
    "\n",
    "\n",
    "\n",
    "stack.fit(X_, y_)"
   ]
  },
  {
   "cell_type": "code",
   "execution_count": 53,
   "metadata": {
    "ExecuteTime": {
     "end_time": "2019-09-11T00:26:11.469985Z",
     "start_time": "2019-09-11T00:25:36.382868Z"
    }
   },
   "outputs": [
    {
     "name": "stdout",
     "output_type": "stream",
     "text": [
      "0.999834656084656\n",
      "0.906084656084656\n"
     ]
    }
   ],
   "source": [
    "print(stack.score(X_, y_))\n",
    "print(stack.score(X_val, y_val))"
   ]
  },
  {
   "cell_type": "code",
   "execution_count": null,
   "metadata": {
    "ExecuteTime": {
     "end_time": "2019-09-11T00:26:16.137872Z",
     "start_time": "2019-09-11T00:26:11.496613Z"
    }
   },
   "outputs": [],
   "source": [
    "from sklearn.metrics import confusion_matrix, classification_report\n",
    "y_pred = stack.predict(X_val)"
   ]
  },
  {
   "cell_type": "code",
   "execution_count": 57,
   "metadata": {
    "ExecuteTime": {
     "end_time": "2019-09-11T00:35:45.845738Z",
     "start_time": "2019-09-11T00:35:45.104453Z"
    }
   },
   "outputs": [
    {
     "name": "stdout",
     "output_type": "stream",
     "text": [
      "[[334  71   0   0   3   0   6]\n",
      " [ 56 363  10   0  14   6   1]\n",
      " [  0   1 380  10   1  38   0]\n",
      " [  0   0   8 430   0   5   0]\n",
      " [  0   6   3   0 402   4   0]\n",
      " [  0   0  25   7   0 415   0]\n",
      " [  9   0   0   0   0   0 416]]\n",
      "              precision    recall  f1-score   support\n",
      "\n",
      "           1       0.84      0.81      0.82       414\n",
      "           2       0.82      0.81      0.81       450\n",
      "           3       0.89      0.88      0.89       430\n",
      "           4       0.96      0.97      0.97       443\n",
      "           5       0.96      0.97      0.96       415\n",
      "           6       0.89      0.93      0.91       447\n",
      "           7       0.98      0.98      0.98       425\n",
      "\n",
      "    accuracy                           0.91      3024\n",
      "   macro avg       0.91      0.91      0.91      3024\n",
      "weighted avg       0.91      0.91      0.91      3024\n",
      "\n"
     ]
    }
   ],
   "source": [
    "print(confusion_matrix(y_val, y_pred))\n",
    "print(classification_report(y_val, y_pred))"
   ]
  },
  {
   "cell_type": "code",
   "execution_count": 55,
   "metadata": {
    "ExecuteTime": {
     "end_time": "2019-09-11T00:33:10.411740Z",
     "start_time": "2019-09-11T00:26:16.142021Z"
    }
   },
   "outputs": [
    {
     "name": "stdout",
     "output_type": "stream",
     "text": [
      "Fitting 3 classifiers...\n",
      "Fitting classifier1: randomforestclassifier (1/3)\n"
     ]
    },
    {
     "name": "stderr",
     "output_type": "stream",
     "text": [
      "[Parallel(n_jobs=-1)]: Using backend LokyBackend with 8 concurrent workers.\n",
      "[Parallel(n_jobs=-1)]: Done   2 out of   5 | elapsed:   30.4s remaining:   45.5s\n",
      "[Parallel(n_jobs=-1)]: Done   5 out of   5 | elapsed:   38.8s finished\n",
      "[Parallel(n_jobs=-1)]: Using backend LokyBackend with 8 concurrent workers.\n"
     ]
    },
    {
     "name": "stdout",
     "output_type": "stream",
     "text": [
      "Fitting classifier2: extratreesclassifier (2/3)\n"
     ]
    },
    {
     "name": "stderr",
     "output_type": "stream",
     "text": [
      "[Parallel(n_jobs=-1)]: Done   2 out of   5 | elapsed:  2.5min remaining:  3.7min\n",
      "[Parallel(n_jobs=-1)]: Done   5 out of   5 | elapsed:  2.9min finished\n"
     ]
    },
    {
     "name": "stdout",
     "output_type": "stream",
     "text": [
      "Fitting classifier3: lgbmclassifier (3/3)\n"
     ]
    },
    {
     "name": "stderr",
     "output_type": "stream",
     "text": [
      "[Parallel(n_jobs=-1)]: Using backend LokyBackend with 8 concurrent workers.\n",
      "[Parallel(n_jobs=-1)]: Done   2 out of   5 | elapsed:   48.6s remaining:  1.2min\n",
      "[Parallel(n_jobs=-1)]: Done   5 out of   5 | elapsed:  1.2min finished\n"
     ]
    },
    {
     "data": {
      "text/plain": [
       "StackingCVClassifier(classifiers=[RandomForestClassifier(bootstrap=False,\n",
       "                                                         class_weight=None,\n",
       "                                                         criterion='gini',\n",
       "                                                         max_depth=None,\n",
       "                                                         max_features='auto',\n",
       "                                                         max_leaf_nodes=None,\n",
       "                                                         min_impurity_decrease=0.0,\n",
       "                                                         min_impurity_split=None,\n",
       "                                                         min_samples_leaf=1,\n",
       "                                                         min_samples_split=2,\n",
       "                                                         min_weight_fraction_leaf=0.0,\n",
       "                                                         n_estimators=800,\n",
       "                                                         n_jobs=None,\n",
       "                                                         oob_score=False,\n",
       "                                                         random_state=None,\n",
       "                                                         verbos...\n",
       "                                                            min_impurity_split=None,\n",
       "                                                            min_samples_leaf=1,\n",
       "                                                            min_samples_split=2,\n",
       "                                                            min_weight_fraction_leaf=0.0,\n",
       "                                                            n_estimators=800,\n",
       "                                                            n_jobs=None,\n",
       "                                                            oob_score=False,\n",
       "                                                            random_state=None,\n",
       "                                                            verbose=0,\n",
       "                                                            warm_start=False),\n",
       "                     n_jobs=-1, pre_dispatch='2*n_jobs', random_state=0,\n",
       "                     shuffle=True, store_train_meta_features=False,\n",
       "                     stratify=True, use_clones=True,\n",
       "                     use_features_in_secondary=True, use_probas=True,\n",
       "                     verbose=1)"
      ]
     },
     "execution_count": 55,
     "metadata": {},
     "output_type": "execute_result"
    }
   ],
   "source": [
    "## Fit with all data\n",
    "\n",
    "stack.fit(X_train, y_train)\n"
   ]
  },
  {
   "cell_type": "code",
   "execution_count": 58,
   "metadata": {
    "ExecuteTime": {
     "end_time": "2019-09-11T00:36:56.117995Z",
     "start_time": "2019-09-11T00:36:41.017906Z"
    }
   },
   "outputs": [
    {
     "name": "stdout",
     "output_type": "stream",
     "text": [
      "[[414   0   0   0   0   0   0]\n",
      " [  0 450   0   0   0   0   0]\n",
      " [  0   0 430   0   0   0   0]\n",
      " [  0   0   0 443   0   0   0]\n",
      " [  0   0   0   0 415   0   0]\n",
      " [  0   0   0   0   0 447   0]\n",
      " [  0   0   0   0   0   0 425]]\n",
      "              precision    recall  f1-score   support\n",
      "\n",
      "           1       1.00      1.00      1.00       414\n",
      "           2       1.00      1.00      1.00       450\n",
      "           3       1.00      1.00      1.00       430\n",
      "           4       1.00      1.00      1.00       443\n",
      "           5       1.00      1.00      1.00       415\n",
      "           6       1.00      1.00      1.00       447\n",
      "           7       1.00      1.00      1.00       425\n",
      "\n",
      "    accuracy                           1.00      3024\n",
      "   macro avg       1.00      1.00      1.00      3024\n",
      "weighted avg       1.00      1.00      1.00      3024\n",
      "\n"
     ]
    }
   ],
   "source": [
    "y_pred = stack.predict(X_val)\n",
    "print(confusion_matrix(y_val, y_pred))\n",
    "print(classification_report(y_val, y_pred))"
   ]
  },
  {
   "cell_type": "markdown",
   "metadata": {},
   "source": [
    "## Predictions"
   ]
  },
  {
   "cell_type": "code",
   "execution_count": 56,
   "metadata": {
    "ExecuteTime": {
     "end_time": "2019-09-11T00:34:38.962681Z",
     "start_time": "2019-09-11T00:34:38.801099Z"
    }
   },
   "outputs": [
    {
     "name": "stdout",
     "output_type": "stream",
     "text": [
      "(565892, 37)\n",
      "(15120, 37)\n"
     ]
    }
   ],
   "source": [
    "print(X_test.shape)\n",
    "print(X_train.shape)"
   ]
  },
  {
   "cell_type": "code",
   "execution_count": 59,
   "metadata": {
    "ExecuteTime": {
     "end_time": "2019-09-11T00:40:23.114899Z",
     "start_time": "2019-09-11T00:37:07.027401Z"
    }
   },
   "outputs": [],
   "source": [
    "test_pred = stack.predict(X_test)"
   ]
  },
  {
   "cell_type": "code",
   "execution_count": 60,
   "metadata": {
    "ExecuteTime": {
     "end_time": "2019-09-11T00:40:24.539319Z",
     "start_time": "2019-09-11T00:40:23.116641Z"
    }
   },
   "outputs": [],
   "source": [
    "# Save test predictions to file\n",
    "output = pd.DataFrame({'ID': test_ids,\n",
    "                       'Cover_Type': test_pred})\n",
    "output.to_csv('submission.csv', index=False)"
   ]
  },
  {
   "cell_type": "code",
   "execution_count": null,
   "metadata": {},
   "outputs": [],
   "source": []
  }
 ],
 "metadata": {
  "kernelspec": {
   "display_name": "forestypes-venv",
   "language": "python",
   "name": "forestypes-venv"
  },
  "language_info": {
   "codemirror_mode": {
    "name": "ipython",
    "version": 3
   },
   "file_extension": ".py",
   "mimetype": "text/x-python",
   "name": "python",
   "nbconvert_exporter": "python",
   "pygments_lexer": "ipython3",
   "version": "3.5.2"
  }
 },
 "nbformat": 4,
 "nbformat_minor": 1
}
