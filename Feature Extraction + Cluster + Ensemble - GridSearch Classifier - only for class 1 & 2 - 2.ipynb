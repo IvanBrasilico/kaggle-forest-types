{
 "cells": [
  {
   "cell_type": "markdown",
   "metadata": {},
   "source": [
    "## Import Packages"
   ]
  },
  {
   "cell_type": "code",
   "execution_count": 2,
   "metadata": {
    "ExecuteTime": {
     "end_time": "2019-09-12T12:13:04.376856Z",
     "start_time": "2019-09-12T12:13:04.374797Z"
    }
   },
   "outputs": [],
   "source": [
    "DATA_DIR = '/kaggle/input/learn-together'\n",
    "DATA_DIR = '/data'"
   ]
  },
  {
   "cell_type": "code",
   "execution_count": 3,
   "metadata": {
    "ExecuteTime": {
     "end_time": "2019-09-12T12:13:04.800973Z",
     "start_time": "2019-09-12T12:13:04.782275Z"
    },
    "_cell_guid": "b1076dfc-b9ad-4769-8c92-a6c4dae69d19",
    "_uuid": "8f2839f25d086af736a60e9eeb907d3b93b6e0e5"
   },
   "outputs": [
    {
     "name": "stdout",
     "output_type": "stream",
     "text": [
      "/home/maciek/Projects/Kaggle/forest/gs.tree.py\n",
      "/home/maciek/Projects/Kaggle/forest/train.csv\n",
      "/home/maciek/Projects/Kaggle/forest/sample_submission.csv.zip\n",
      "/home/maciek/Projects/Kaggle/forest/pca.valid.pipe.py\n",
      "/home/maciek/Projects/Kaggle/forest/.split.5.masks.py.swp\n",
      "/home/maciek/Projects/Kaggle/forest/gs.sgd.py\n",
      "/home/maciek/Projects/Kaggle/forest/split40.py\n",
      "/home/maciek/Projects/Kaggle/forest/.split.40.py.swp\n",
      "/home/maciek/Projects/Kaggle/forest/Feature Extraction + Cluster + Ensemble - GridSearch Classifier - only for class 1 & 2.ipynb\n",
      "/home/maciek/Projects/Kaggle/forest/ds.pack.py\n",
      "/home/maciek/Projects/Kaggle/forest/split.4.lblprop.py\n",
      "/home/maciek/Projects/Kaggle/forest/split.4.lblspread.py\n",
      "/home/maciek/Projects/Kaggle/forest/submission.split4.lblspread.csv\n",
      "/home/maciek/Projects/Kaggle/forest/submission.split4.lblprop.csv\n",
      "/home/maciek/Projects/Kaggle/forest/gs.pipe2.py\n",
      "/home/maciek/Projects/Kaggle/forest/gs.naive.py\n",
      "/home/maciek/Projects/Kaggle/forest/pca.notes.txt\n",
      "/home/maciek/Projects/Kaggle/forest/split.4.knn.py\n",
      "/home/maciek/Projects/Kaggle/forest/submission.by_soiltype.csv\n",
      "/home/maciek/Projects/Kaggle/forest/gs.lsvc.py\n",
      "/home/maciek/Projects/Kaggle/forest/submission.pipe1.csv\n",
      "/home/maciek/Projects/Kaggle/forest/value_counts.txt\n",
      "/home/maciek/Projects/Kaggle/forest/wa.vs.soil.csv\n",
      "/home/maciek/Projects/Kaggle/forest/submission.wilderness_x_soiltype.csv\n",
      "/home/maciek/Projects/Kaggle/forest/split.4.svm.py\n",
      "/home/maciek/Projects/Kaggle/forest/clust.valid.py\n",
      "/home/maciek/Projects/Kaggle/forest/submit.cmd\n",
      "/home/maciek/Projects/Kaggle/forest/notes.py\n",
      "/home/maciek/Projects/Kaggle/forest/submission.split4.knn.csv\n",
      "/home/maciek/Projects/Kaggle/forest/split.4.masks.py\n",
      "/home/maciek/Projects/Kaggle/forest/clust.valid.packed.py\n",
      "/home/maciek/Projects/Kaggle/forest/test.csv.zip\n",
      "/home/maciek/Projects/Kaggle/forest/split.5.masks.py\n",
      "/home/maciek/Projects/Kaggle/forest/split.4x40.py\n",
      "/home/maciek/Projects/Kaggle/forest/wget-log\n",
      "/home/maciek/Projects/Kaggle/forest/neighbors.progress.txt\n",
      "/home/maciek/Projects/Kaggle/forest/soil_x_wa.png\n",
      "/home/maciek/Projects/Kaggle/forest/gs.vote1.py\n",
      "/home/maciek/Projects/Kaggle/forest/pipe1.py\n",
      "/home/maciek/Projects/Kaggle/forest/split.4.logreg.py\n",
      "/home/maciek/Projects/Kaggle/forest/test.csv\n",
      "/home/maciek/Projects/Kaggle/forest/split.4.cart.py\n",
      "/home/maciek/Projects/Kaggle/forest/ds.rm_out.py\n",
      "/home/maciek/Projects/Kaggle/forest/gs.nn.py\n",
      "/home/maciek/Projects/Kaggle/forest/split.4.xtc.py\n",
      "/home/maciek/Projects/Kaggle/forest/gs.svm.py\n",
      "/home/maciek/Projects/Kaggle/forest/split.4.sgd.py\n",
      "/home/maciek/Projects/Kaggle/forest/gs.krr.py\n",
      "/home/maciek/Projects/Kaggle/forest/ds.load.py\n",
      "/home/maciek/Projects/Kaggle/forest/gs.knn.py\n",
      "/home/maciek/Projects/Kaggle/forest/train.csv.zip\n",
      "/home/maciek/Projects/Kaggle/forest/gs.lda.py\n",
      "/home/maciek/Projects/Kaggle/forest/gs.rnn.py\n",
      "/home/maciek/Projects/Kaggle/forest/pca.valid.py\n"
     ]
    }
   ],
   "source": [
    "import numpy as np # linear algebra\n",
    "import pandas as pd # data processing, CSV file I/O (e.g. pd.read_csv)\n",
    "import matplotlib.pyplot as plt\n",
    "import os\n",
    "import seaborn as sns\n",
    "%matplotlib inline\n",
    "\n",
    "from sklearn.model_selection import train_test_split\n",
    "from sklearn.ensemble import ExtraTreesClassifier, RandomForestClassifier\n",
    "from sklearn.pipeline import Pipeline\n",
    "from sklearn.preprocessing import StandardScaler\n",
    "from sklearn.neighbors import KNeighborsClassifier\n",
    "from sklearn.decomposition import PCA\n",
    "from sklearn.metrics import accuracy_score, classification_report, confusion_matrix\n",
    "\n",
    "from sklearn.mixture import GaussianMixture\n",
    "from sklearn.cluster import KMeans\n",
    "from sklearn.metrics import completeness_score, calinski_harabasz_score, silhouette_score\n",
    "\n",
    "\n",
    "\n",
    "import warnings\n",
    "warnings.filterwarnings('ignore')\n",
    "\n",
    "import os\n",
    "for dirname, _, filenames in os.walk(DATA_DIR):\n",
    "    for filename in filenames:\n",
    "        print(os.path.join(dirname, filename))"
   ]
  },
  {
   "cell_type": "markdown",
   "metadata": {},
   "source": [
    "## Load Dataset"
   ]
  },
  {
   "cell_type": "code",
   "execution_count": 4,
   "metadata": {
    "ExecuteTime": {
     "end_time": "2019-09-12T12:13:06.795338Z",
     "start_time": "2019-09-12T12:13:05.624500Z"
    },
    "_cell_guid": "79c7e3d0-c299-4dcb-8224-4455121ee9b0",
    "_uuid": "d629ff2d2480ee46fbb7e2d37f6b5fab8052498a"
   },
   "outputs": [],
   "source": [
    "train_df=pd.read_csv(os.path.join(DATA_DIR, 'train.csv'))\n",
    "\n",
    "test_df=pd.read_csv(os.path.join(DATA_DIR, 'test.csv'))"
   ]
  },
  {
   "cell_type": "markdown",
   "metadata": {},
   "source": [
    "## Delete Ids\n",
    "**Let's delete the Id column in the training set but store it for the test set before deleting**"
   ]
  },
  {
   "cell_type": "code",
   "execution_count": 5,
   "metadata": {
    "ExecuteTime": {
     "end_time": "2019-09-12T12:13:06.874978Z",
     "start_time": "2019-09-12T12:13:06.796601Z"
    }
   },
   "outputs": [],
   "source": [
    "train_df = train_df.drop([\"Id\"], axis = 1)\n",
    "\n",
    "test_ids = test_df[\"Id\"]\n",
    "test_df = test_df.drop([\"Id\"], axis = 1)"
   ]
  },
  {
   "cell_type": "code",
   "execution_count": 6,
   "metadata": {
    "ExecuteTime": {
     "end_time": "2019-09-12T12:13:07.996944Z",
     "start_time": "2019-09-12T12:13:06.877288Z"
    }
   },
   "outputs": [],
   "source": [
    "y = train_df['Cover_Type']\n",
    "X = train_df.drop(['Cover_Type'], axis=1)"
   ]
  },
  {
   "cell_type": "markdown",
   "metadata": {},
   "source": [
    "# Feature engineering"
   ]
  },
  {
   "cell_type": "code",
   "execution_count": 7,
   "metadata": {
    "ExecuteTime": {
     "end_time": "2019-09-12T12:13:08.147117Z",
     "start_time": "2019-09-12T12:13:07.998312Z"
    }
   },
   "outputs": [
    {
     "data": {
      "text/plain": [
       "Index(['Elevation', 'Aspect', 'Slope', 'Horizontal_Distance_To_Hydrology',\n",
       "       'Vertical_Distance_To_Hydrology', 'Horizontal_Distance_To_Roadways',\n",
       "       'Hillshade_9am', 'Hillshade_Noon', 'Hillshade_3pm',\n",
       "       'Horizontal_Distance_To_Fire_Points', 'Wilderness_Area1',\n",
       "       'Wilderness_Area2', 'Wilderness_Area3', 'Wilderness_Area4',\n",
       "       'Soil_Type1', 'Soil_Type2', 'Soil_Type3', 'Soil_Type4', 'Soil_Type5',\n",
       "       'Soil_Type6', 'Soil_Type7', 'Soil_Type8', 'Soil_Type9', 'Soil_Type10',\n",
       "       'Soil_Type11', 'Soil_Type12', 'Soil_Type13', 'Soil_Type14',\n",
       "       'Soil_Type15', 'Soil_Type16', 'Soil_Type17', 'Soil_Type18',\n",
       "       'Soil_Type19', 'Soil_Type20', 'Soil_Type21', 'Soil_Type22',\n",
       "       'Soil_Type23', 'Soil_Type24', 'Soil_Type25', 'Soil_Type26',\n",
       "       'Soil_Type27', 'Soil_Type28', 'Soil_Type29', 'Soil_Type30',\n",
       "       'Soil_Type31', 'Soil_Type32', 'Soil_Type33', 'Soil_Type34',\n",
       "       'Soil_Type35', 'Soil_Type36', 'Soil_Type37', 'Soil_Type38',\n",
       "       'Soil_Type39', 'Soil_Type40', 'Cover_Type'],\n",
       "      dtype='object')"
      ]
     },
     "execution_count": 7,
     "metadata": {},
     "output_type": "execute_result"
    }
   ],
   "source": [
    "train_df.columns"
   ]
  },
  {
   "cell_type": "code",
   "execution_count": 8,
   "metadata": {
    "ExecuteTime": {
     "end_time": "2019-09-12T12:13:08.402663Z",
     "start_time": "2019-09-12T12:13:08.152450Z"
    }
   },
   "outputs": [
    {
     "data": {
      "text/html": [
       "<div>\n",
       "<style scoped>\n",
       "    .dataframe tbody tr th:only-of-type {\n",
       "        vertical-align: middle;\n",
       "    }\n",
       "\n",
       "    .dataframe tbody tr th {\n",
       "        vertical-align: top;\n",
       "    }\n",
       "\n",
       "    .dataframe thead th {\n",
       "        text-align: right;\n",
       "    }\n",
       "</style>\n",
       "<table border=\"1\" class=\"dataframe\">\n",
       "  <thead>\n",
       "    <tr style=\"text-align: right;\">\n",
       "      <th></th>\n",
       "      <th>Wilderness_Area1</th>\n",
       "      <th>Wilderness_Area2</th>\n",
       "      <th>Wilderness_Area3</th>\n",
       "      <th>Wilderness_Area4</th>\n",
       "    </tr>\n",
       "  </thead>\n",
       "  <tbody>\n",
       "    <tr>\n",
       "      <th>count</th>\n",
       "      <td>15120.000000</td>\n",
       "      <td>15120.000000</td>\n",
       "      <td>15120.000000</td>\n",
       "      <td>15120.000000</td>\n",
       "    </tr>\n",
       "    <tr>\n",
       "      <th>mean</th>\n",
       "      <td>0.237897</td>\n",
       "      <td>0.033003</td>\n",
       "      <td>0.419907</td>\n",
       "      <td>0.309193</td>\n",
       "    </tr>\n",
       "    <tr>\n",
       "      <th>std</th>\n",
       "      <td>0.425810</td>\n",
       "      <td>0.178649</td>\n",
       "      <td>0.493560</td>\n",
       "      <td>0.462176</td>\n",
       "    </tr>\n",
       "    <tr>\n",
       "      <th>min</th>\n",
       "      <td>0.000000</td>\n",
       "      <td>0.000000</td>\n",
       "      <td>0.000000</td>\n",
       "      <td>0.000000</td>\n",
       "    </tr>\n",
       "    <tr>\n",
       "      <th>25%</th>\n",
       "      <td>0.000000</td>\n",
       "      <td>0.000000</td>\n",
       "      <td>0.000000</td>\n",
       "      <td>0.000000</td>\n",
       "    </tr>\n",
       "    <tr>\n",
       "      <th>50%</th>\n",
       "      <td>0.000000</td>\n",
       "      <td>0.000000</td>\n",
       "      <td>0.000000</td>\n",
       "      <td>0.000000</td>\n",
       "    </tr>\n",
       "    <tr>\n",
       "      <th>75%</th>\n",
       "      <td>0.000000</td>\n",
       "      <td>0.000000</td>\n",
       "      <td>1.000000</td>\n",
       "      <td>1.000000</td>\n",
       "    </tr>\n",
       "    <tr>\n",
       "      <th>max</th>\n",
       "      <td>1.000000</td>\n",
       "      <td>1.000000</td>\n",
       "      <td>1.000000</td>\n",
       "      <td>1.000000</td>\n",
       "    </tr>\n",
       "  </tbody>\n",
       "</table>\n",
       "</div>"
      ],
      "text/plain": [
       "       Wilderness_Area1  Wilderness_Area2  Wilderness_Area3  Wilderness_Area4\n",
       "count      15120.000000      15120.000000      15120.000000      15120.000000\n",
       "mean           0.237897          0.033003          0.419907          0.309193\n",
       "std            0.425810          0.178649          0.493560          0.462176\n",
       "min            0.000000          0.000000          0.000000          0.000000\n",
       "25%            0.000000          0.000000          0.000000          0.000000\n",
       "50%            0.000000          0.000000          0.000000          0.000000\n",
       "75%            0.000000          0.000000          1.000000          1.000000\n",
       "max            1.000000          1.000000          1.000000          1.000000"
      ]
     },
     "execution_count": 8,
     "metadata": {},
     "output_type": "execute_result"
    }
   ],
   "source": [
    "X[['Wilderness_Area1', 'Wilderness_Area2', 'Wilderness_Area3', 'Wilderness_Area4']].describe()"
   ]
  },
  {
   "cell_type": "code",
   "execution_count": 9,
   "metadata": {
    "ExecuteTime": {
     "end_time": "2019-09-12T12:13:08.866949Z",
     "start_time": "2019-09-12T12:13:08.404443Z"
    }
   },
   "outputs": [
    {
     "data": {
      "text/html": [
       "<div>\n",
       "<style scoped>\n",
       "    .dataframe tbody tr th:only-of-type {\n",
       "        vertical-align: middle;\n",
       "    }\n",
       "\n",
       "    .dataframe tbody tr th {\n",
       "        vertical-align: top;\n",
       "    }\n",
       "\n",
       "    .dataframe thead th {\n",
       "        text-align: right;\n",
       "    }\n",
       "</style>\n",
       "<table border=\"1\" class=\"dataframe\">\n",
       "  <thead>\n",
       "    <tr style=\"text-align: right;\">\n",
       "      <th></th>\n",
       "      <th>Wilderness_Area1</th>\n",
       "      <th>Wilderness_Area2</th>\n",
       "      <th>Wilderness_Area3</th>\n",
       "      <th>Wilderness_Area4</th>\n",
       "    </tr>\n",
       "  </thead>\n",
       "  <tbody>\n",
       "    <tr>\n",
       "      <th>count</th>\n",
       "      <td>565892.000000</td>\n",
       "      <td>565892.000000</td>\n",
       "      <td>565892.000000</td>\n",
       "      <td>565892.000000</td>\n",
       "    </tr>\n",
       "    <tr>\n",
       "      <th>mean</th>\n",
       "      <td>0.454502</td>\n",
       "      <td>0.051927</td>\n",
       "      <td>0.436506</td>\n",
       "      <td>0.057066</td>\n",
       "    </tr>\n",
       "    <tr>\n",
       "      <th>std</th>\n",
       "      <td>0.497926</td>\n",
       "      <td>0.221880</td>\n",
       "      <td>0.495953</td>\n",
       "      <td>0.231968</td>\n",
       "    </tr>\n",
       "    <tr>\n",
       "      <th>min</th>\n",
       "      <td>0.000000</td>\n",
       "      <td>0.000000</td>\n",
       "      <td>0.000000</td>\n",
       "      <td>0.000000</td>\n",
       "    </tr>\n",
       "    <tr>\n",
       "      <th>25%</th>\n",
       "      <td>0.000000</td>\n",
       "      <td>0.000000</td>\n",
       "      <td>0.000000</td>\n",
       "      <td>0.000000</td>\n",
       "    </tr>\n",
       "    <tr>\n",
       "      <th>50%</th>\n",
       "      <td>0.000000</td>\n",
       "      <td>0.000000</td>\n",
       "      <td>0.000000</td>\n",
       "      <td>0.000000</td>\n",
       "    </tr>\n",
       "    <tr>\n",
       "      <th>75%</th>\n",
       "      <td>1.000000</td>\n",
       "      <td>0.000000</td>\n",
       "      <td>1.000000</td>\n",
       "      <td>0.000000</td>\n",
       "    </tr>\n",
       "    <tr>\n",
       "      <th>max</th>\n",
       "      <td>1.000000</td>\n",
       "      <td>1.000000</td>\n",
       "      <td>1.000000</td>\n",
       "      <td>1.000000</td>\n",
       "    </tr>\n",
       "  </tbody>\n",
       "</table>\n",
       "</div>"
      ],
      "text/plain": [
       "       Wilderness_Area1  Wilderness_Area2  Wilderness_Area3  Wilderness_Area4\n",
       "count     565892.000000     565892.000000     565892.000000     565892.000000\n",
       "mean           0.454502          0.051927          0.436506          0.057066\n",
       "std            0.497926          0.221880          0.495953          0.231968\n",
       "min            0.000000          0.000000          0.000000          0.000000\n",
       "25%            0.000000          0.000000          0.000000          0.000000\n",
       "50%            0.000000          0.000000          0.000000          0.000000\n",
       "75%            1.000000          0.000000          1.000000          0.000000\n",
       "max            1.000000          1.000000          1.000000          1.000000"
      ]
     },
     "execution_count": 9,
     "metadata": {},
     "output_type": "execute_result"
    }
   ],
   "source": [
    "test_df[['Wilderness_Area1', 'Wilderness_Area2', 'Wilderness_Area3', 'Wilderness_Area4']].describe()"
   ]
  },
  {
   "cell_type": "code",
   "execution_count": 10,
   "metadata": {
    "ExecuteTime": {
     "end_time": "2019-09-12T12:13:09.084691Z",
     "start_time": "2019-09-12T12:13:08.869018Z"
    }
   },
   "outputs": [],
   "source": [
    "\n",
    "def new_features(df):\n",
    "    df = df.copy()\n",
    "    df['Hydro_Elevation_diff'] = df[['Elevation',\n",
    "                                   'Vertical_Distance_To_Hydrology']\n",
    "                                  ].diff(axis='columns').iloc[:, [1]]\n",
    "\n",
    "    df['Hydro_Euclidean'] = np.sqrt(df['Horizontal_Distance_To_Hydrology']**2 +\n",
    "                                   df['Vertical_Distance_To_Hydrology']**2)\n",
    "\n",
    "    df['Hydro_Fire_sum'] = df[['Horizontal_Distance_To_Hydrology',\n",
    "                             'Horizontal_Distance_To_Fire_Points']\n",
    "                            ].sum(axis='columns')\n",
    "\n",
    "    df['Hydro_Fire_diff'] = df[['Horizontal_Distance_To_Hydrology',\n",
    "                              'Horizontal_Distance_To_Fire_Points']\n",
    "                             ].diff(axis='columns').iloc[:, [1]].abs()\n",
    "\n",
    "    df['Hydro_Road_sum'] = df[['Horizontal_Distance_To_Hydrology',\n",
    "                             'Horizontal_Distance_To_Roadways']\n",
    "                            ].sum(axis='columns')\n",
    "\n",
    "    df['Hydro_Road_diff'] = df[['Horizontal_Distance_To_Hydrology',\n",
    "                              'Horizontal_Distance_To_Roadways']\n",
    "                             ].diff(axis='columns').iloc[:, [1]].abs()\n",
    "\n",
    "    df['Road_Fire_sum'] = df[['Horizontal_Distance_To_Roadways',\n",
    "                            'Horizontal_Distance_To_Fire_Points']\n",
    "                           ].sum(axis='columns')\n",
    "\n",
    "    df['Road_Fire_diff'] = df[['Horizontal_Distance_To_Roadways',\n",
    "                             'Horizontal_Distance_To_Fire_Points']\n",
    "                            ].diff(axis='columns').iloc[:, [1]].abs()\n",
    "    df['Stoneyness'] = sum(i * df['Soil_Type{}'.format(i)] for i in range(1, 41))\n",
    "\n",
    "    # For all 40 Soil_Types, 1=rubbly, 2=stony, 3=very stony, 4=extremely stony, 0=?\n",
    "    stoneyness = [4, 3, 1, 1, 1, 2, 0, 0, 3, 1, \n",
    "                  1, 2, 1, 0, 0, 0, 0, 3, 0, 0, \n",
    "                  0, 4, 0, 4, 4, 3, 4, 4, 4, 4, \n",
    "                  4, 4, 4, 4, 1, 4, 4, 4, 4, 4]\n",
    "\n",
    "    # Replace Soil_Type number with \"stoneyness\" value\n",
    "    df['Stoneyness'] = df['Stoneyness'].replace(range(1, 41), stoneyness)\n",
    "    return df\n",
    "    \n",
    "def drop_features(df):\n",
    "    df = df.copy()\n",
    "    columns_to_drop = []\n",
    "    size = len(df)\n",
    "    for column in df.columns:\n",
    "        frequency = df[column].sum() / size\n",
    "        if 'Soil' in column and frequency < 0.04:\n",
    "            columns_to_drop.append(column)\n",
    "        columns_to_drop.append('Wilderness_Area4')  # Frequency between test and train too diferent\n",
    "    df = df.drop(columns_to_drop, axis='columns')\n",
    "    return df\n",
    "    "
   ]
  },
  {
   "cell_type": "code",
   "execution_count": 11,
   "metadata": {
    "ExecuteTime": {
     "end_time": "2019-09-12T12:13:10.477170Z",
     "start_time": "2019-09-12T12:13:09.588447Z"
    }
   },
   "outputs": [],
   "source": [
    "X = new_features(X)\n",
    "X = drop_features(X)\n",
    "X_test = new_features(test_df)\n",
    "X_test = X_test[X.columns]"
   ]
  },
  {
   "cell_type": "code",
   "execution_count": 12,
   "metadata": {
    "ExecuteTime": {
     "end_time": "2019-09-12T12:13:11.731974Z",
     "start_time": "2019-09-12T12:13:11.721345Z"
    }
   },
   "outputs": [
    {
     "data": {
      "text/plain": [
       "Index(['Elevation', 'Aspect', 'Slope', 'Horizontal_Distance_To_Hydrology',\n",
       "       'Vertical_Distance_To_Hydrology', 'Horizontal_Distance_To_Roadways',\n",
       "       'Hillshade_9am', 'Hillshade_Noon', 'Hillshade_3pm',\n",
       "       'Horizontal_Distance_To_Fire_Points', 'Wilderness_Area1',\n",
       "       'Wilderness_Area2', 'Wilderness_Area3', 'Soil_Type2', 'Soil_Type3',\n",
       "       'Soil_Type4', 'Soil_Type6', 'Soil_Type10', 'Soil_Type17', 'Soil_Type23',\n",
       "       'Soil_Type29', 'Soil_Type30', 'Soil_Type32', 'Soil_Type33',\n",
       "       'Soil_Type38', 'Soil_Type39', 'Hydro_Elevation_diff', 'Hydro_Euclidean',\n",
       "       'Hydro_Fire_sum', 'Hydro_Fire_diff', 'Hydro_Road_sum',\n",
       "       'Hydro_Road_diff', 'Road_Fire_sum', 'Road_Fire_diff', 'Stoneyness'],\n",
       "      dtype='object')"
      ]
     },
     "execution_count": 12,
     "metadata": {},
     "output_type": "execute_result"
    }
   ],
   "source": [
    "X.columns"
   ]
  },
  {
   "cell_type": "code",
   "execution_count": 13,
   "metadata": {
    "ExecuteTime": {
     "end_time": "2019-09-12T12:13:13.307971Z",
     "start_time": "2019-09-12T12:13:13.267228Z"
    }
   },
   "outputs": [
    {
     "data": {
      "text/html": [
       "<div>\n",
       "<style scoped>\n",
       "    .dataframe tbody tr th:only-of-type {\n",
       "        vertical-align: middle;\n",
       "    }\n",
       "\n",
       "    .dataframe tbody tr th {\n",
       "        vertical-align: top;\n",
       "    }\n",
       "\n",
       "    .dataframe thead th {\n",
       "        text-align: right;\n",
       "    }\n",
       "</style>\n",
       "<table border=\"1\" class=\"dataframe\">\n",
       "  <thead>\n",
       "    <tr style=\"text-align: right;\">\n",
       "      <th></th>\n",
       "      <th>Elevation</th>\n",
       "      <th>Aspect</th>\n",
       "      <th>Slope</th>\n",
       "      <th>Horizontal_Distance_To_Hydrology</th>\n",
       "      <th>Vertical_Distance_To_Hydrology</th>\n",
       "      <th>Horizontal_Distance_To_Roadways</th>\n",
       "      <th>Hillshade_9am</th>\n",
       "      <th>Hillshade_Noon</th>\n",
       "      <th>Hillshade_3pm</th>\n",
       "      <th>Horizontal_Distance_To_Fire_Points</th>\n",
       "    </tr>\n",
       "  </thead>\n",
       "  <tbody>\n",
       "    <tr>\n",
       "      <th>count</th>\n",
       "      <td>15120.000000</td>\n",
       "      <td>15120.000000</td>\n",
       "      <td>15120.000000</td>\n",
       "      <td>15120.000000</td>\n",
       "      <td>15120.000000</td>\n",
       "      <td>15120.000000</td>\n",
       "      <td>15120.000000</td>\n",
       "      <td>15120.000000</td>\n",
       "      <td>15120.000000</td>\n",
       "      <td>15120.000000</td>\n",
       "    </tr>\n",
       "    <tr>\n",
       "      <th>mean</th>\n",
       "      <td>2749.322553</td>\n",
       "      <td>156.676653</td>\n",
       "      <td>16.501587</td>\n",
       "      <td>227.195701</td>\n",
       "      <td>51.076521</td>\n",
       "      <td>1714.023214</td>\n",
       "      <td>212.704299</td>\n",
       "      <td>218.965608</td>\n",
       "      <td>135.091997</td>\n",
       "      <td>1511.147288</td>\n",
       "    </tr>\n",
       "    <tr>\n",
       "      <th>std</th>\n",
       "      <td>417.678187</td>\n",
       "      <td>110.085801</td>\n",
       "      <td>8.453927</td>\n",
       "      <td>210.075296</td>\n",
       "      <td>61.239406</td>\n",
       "      <td>1325.066358</td>\n",
       "      <td>30.561287</td>\n",
       "      <td>22.801966</td>\n",
       "      <td>45.895189</td>\n",
       "      <td>1099.936493</td>\n",
       "    </tr>\n",
       "    <tr>\n",
       "      <th>min</th>\n",
       "      <td>1863.000000</td>\n",
       "      <td>0.000000</td>\n",
       "      <td>0.000000</td>\n",
       "      <td>0.000000</td>\n",
       "      <td>-146.000000</td>\n",
       "      <td>0.000000</td>\n",
       "      <td>0.000000</td>\n",
       "      <td>99.000000</td>\n",
       "      <td>0.000000</td>\n",
       "      <td>0.000000</td>\n",
       "    </tr>\n",
       "    <tr>\n",
       "      <th>25%</th>\n",
       "      <td>2376.000000</td>\n",
       "      <td>65.000000</td>\n",
       "      <td>10.000000</td>\n",
       "      <td>67.000000</td>\n",
       "      <td>5.000000</td>\n",
       "      <td>764.000000</td>\n",
       "      <td>196.000000</td>\n",
       "      <td>207.000000</td>\n",
       "      <td>106.000000</td>\n",
       "      <td>730.000000</td>\n",
       "    </tr>\n",
       "    <tr>\n",
       "      <th>50%</th>\n",
       "      <td>2752.000000</td>\n",
       "      <td>126.000000</td>\n",
       "      <td>15.000000</td>\n",
       "      <td>180.000000</td>\n",
       "      <td>32.000000</td>\n",
       "      <td>1316.000000</td>\n",
       "      <td>220.000000</td>\n",
       "      <td>223.000000</td>\n",
       "      <td>138.000000</td>\n",
       "      <td>1256.000000</td>\n",
       "    </tr>\n",
       "    <tr>\n",
       "      <th>75%</th>\n",
       "      <td>3104.000000</td>\n",
       "      <td>261.000000</td>\n",
       "      <td>22.000000</td>\n",
       "      <td>330.000000</td>\n",
       "      <td>79.000000</td>\n",
       "      <td>2270.000000</td>\n",
       "      <td>235.000000</td>\n",
       "      <td>235.000000</td>\n",
       "      <td>167.000000</td>\n",
       "      <td>1988.250000</td>\n",
       "    </tr>\n",
       "    <tr>\n",
       "      <th>max</th>\n",
       "      <td>3849.000000</td>\n",
       "      <td>360.000000</td>\n",
       "      <td>52.000000</td>\n",
       "      <td>1343.000000</td>\n",
       "      <td>554.000000</td>\n",
       "      <td>6890.000000</td>\n",
       "      <td>254.000000</td>\n",
       "      <td>254.000000</td>\n",
       "      <td>248.000000</td>\n",
       "      <td>6993.000000</td>\n",
       "    </tr>\n",
       "  </tbody>\n",
       "</table>\n",
       "</div>"
      ],
      "text/plain": [
       "          Elevation        Aspect         Slope  \\\n",
       "count  15120.000000  15120.000000  15120.000000   \n",
       "mean    2749.322553    156.676653     16.501587   \n",
       "std      417.678187    110.085801      8.453927   \n",
       "min     1863.000000      0.000000      0.000000   \n",
       "25%     2376.000000     65.000000     10.000000   \n",
       "50%     2752.000000    126.000000     15.000000   \n",
       "75%     3104.000000    261.000000     22.000000   \n",
       "max     3849.000000    360.000000     52.000000   \n",
       "\n",
       "       Horizontal_Distance_To_Hydrology  Vertical_Distance_To_Hydrology  \\\n",
       "count                      15120.000000                    15120.000000   \n",
       "mean                         227.195701                       51.076521   \n",
       "std                          210.075296                       61.239406   \n",
       "min                            0.000000                     -146.000000   \n",
       "25%                           67.000000                        5.000000   \n",
       "50%                          180.000000                       32.000000   \n",
       "75%                          330.000000                       79.000000   \n",
       "max                         1343.000000                      554.000000   \n",
       "\n",
       "       Horizontal_Distance_To_Roadways  Hillshade_9am  Hillshade_Noon  \\\n",
       "count                     15120.000000   15120.000000    15120.000000   \n",
       "mean                       1714.023214     212.704299      218.965608   \n",
       "std                        1325.066358      30.561287       22.801966   \n",
       "min                           0.000000       0.000000       99.000000   \n",
       "25%                         764.000000     196.000000      207.000000   \n",
       "50%                        1316.000000     220.000000      223.000000   \n",
       "75%                        2270.000000     235.000000      235.000000   \n",
       "max                        6890.000000     254.000000      254.000000   \n",
       "\n",
       "       Hillshade_3pm  Horizontal_Distance_To_Fire_Points  \n",
       "count   15120.000000                        15120.000000  \n",
       "mean      135.091997                         1511.147288  \n",
       "std        45.895189                         1099.936493  \n",
       "min         0.000000                            0.000000  \n",
       "25%       106.000000                          730.000000  \n",
       "50%       138.000000                         1256.000000  \n",
       "75%       167.000000                         1988.250000  \n",
       "max       248.000000                         6993.000000  "
      ]
     },
     "execution_count": 13,
     "metadata": {},
     "output_type": "execute_result"
    }
   ],
   "source": [
    "X[['Elevation', 'Aspect', 'Slope', 'Horizontal_Distance_To_Hydrology',\n",
    "       'Vertical_Distance_To_Hydrology', 'Horizontal_Distance_To_Roadways',\n",
    "       'Hillshade_9am', 'Hillshade_Noon', 'Hillshade_3pm',\n",
    "       'Horizontal_Distance_To_Fire_Points']].describe()"
   ]
  },
  {
   "cell_type": "code",
   "execution_count": 14,
   "metadata": {
    "ExecuteTime": {
     "end_time": "2019-09-12T12:13:14.146301Z",
     "start_time": "2019-09-12T12:13:14.111248Z"
    }
   },
   "outputs": [
    {
     "data": {
      "text/html": [
       "<div>\n",
       "<style scoped>\n",
       "    .dataframe tbody tr th:only-of-type {\n",
       "        vertical-align: middle;\n",
       "    }\n",
       "\n",
       "    .dataframe tbody tr th {\n",
       "        vertical-align: top;\n",
       "    }\n",
       "\n",
       "    .dataframe thead th {\n",
       "        text-align: right;\n",
       "    }\n",
       "</style>\n",
       "<table border=\"1\" class=\"dataframe\">\n",
       "  <thead>\n",
       "    <tr style=\"text-align: right;\">\n",
       "      <th></th>\n",
       "      <th>Hydro_Elevation_diff</th>\n",
       "      <th>Hydro_Euclidean</th>\n",
       "      <th>Hydro_Fire_sum</th>\n",
       "      <th>Hydro_Fire_diff</th>\n",
       "      <th>Hydro_Road_sum</th>\n",
       "      <th>Hydro_Road_diff</th>\n",
       "      <th>Road_Fire_sum</th>\n",
       "      <th>Road_Fire_diff</th>\n",
       "      <th>Stoneyness</th>\n",
       "    </tr>\n",
       "  </thead>\n",
       "  <tbody>\n",
       "    <tr>\n",
       "      <th>count</th>\n",
       "      <td>15120.000000</td>\n",
       "      <td>15120.000000</td>\n",
       "      <td>15120.000000</td>\n",
       "      <td>15120.000000</td>\n",
       "      <td>15120.000000</td>\n",
       "      <td>15120.000000</td>\n",
       "      <td>15120.000000</td>\n",
       "      <td>15120.000000</td>\n",
       "      <td>15120.000000</td>\n",
       "    </tr>\n",
       "    <tr>\n",
       "      <th>mean</th>\n",
       "      <td>-2698.246032</td>\n",
       "      <td>235.948778</td>\n",
       "      <td>1738.342989</td>\n",
       "      <td>1291.834788</td>\n",
       "      <td>1941.218915</td>\n",
       "      <td>1492.094577</td>\n",
       "      <td>3225.170503</td>\n",
       "      <td>897.908333</td>\n",
       "      <td>2.333003</td>\n",
       "    </tr>\n",
       "    <tr>\n",
       "      <th>std</th>\n",
       "      <td>414.680029</td>\n",
       "      <td>215.491695</td>\n",
       "      <td>1152.123001</td>\n",
       "      <td>1077.167415</td>\n",
       "      <td>1383.173588</td>\n",
       "      <td>1292.673425</td>\n",
       "      <td>2093.672478</td>\n",
       "      <td>884.718318</td>\n",
       "      <td>1.580487</td>\n",
       "    </tr>\n",
       "    <tr>\n",
       "      <th>min</th>\n",
       "      <td>-3776.000000</td>\n",
       "      <td>0.000000</td>\n",
       "      <td>30.000000</td>\n",
       "      <td>0.000000</td>\n",
       "      <td>30.000000</td>\n",
       "      <td>0.000000</td>\n",
       "      <td>95.000000</td>\n",
       "      <td>0.000000</td>\n",
       "      <td>0.000000</td>\n",
       "    </tr>\n",
       "    <tr>\n",
       "      <th>25%</th>\n",
       "      <td>-3068.000000</td>\n",
       "      <td>67.186308</td>\n",
       "      <td>903.000000</td>\n",
       "      <td>532.000000</td>\n",
       "      <td>967.000000</td>\n",
       "      <td>534.000000</td>\n",
       "      <td>1806.000000</td>\n",
       "      <td>291.000000</td>\n",
       "      <td>1.000000</td>\n",
       "    </tr>\n",
       "    <tr>\n",
       "      <th>50%</th>\n",
       "      <td>-2696.000000</td>\n",
       "      <td>188.480768</td>\n",
       "      <td>1462.000000</td>\n",
       "      <td>1023.500000</td>\n",
       "      <td>1501.000000</td>\n",
       "      <td>1148.000000</td>\n",
       "      <td>2520.500000</td>\n",
       "      <td>632.000000</td>\n",
       "      <td>2.000000</td>\n",
       "    </tr>\n",
       "    <tr>\n",
       "      <th>75%</th>\n",
       "      <td>-2323.000000</td>\n",
       "      <td>342.069071</td>\n",
       "      <td>2302.000000</td>\n",
       "      <td>1726.000000</td>\n",
       "      <td>2554.000000</td>\n",
       "      <td>2042.000000</td>\n",
       "      <td>4232.250000</td>\n",
       "      <td>1220.000000</td>\n",
       "      <td>4.000000</td>\n",
       "    </tr>\n",
       "    <tr>\n",
       "      <th>max</th>\n",
       "      <td>-1842.000000</td>\n",
       "      <td>1356.939571</td>\n",
       "      <td>7167.000000</td>\n",
       "      <td>6898.000000</td>\n",
       "      <td>7306.000000</td>\n",
       "      <td>6860.000000</td>\n",
       "      <td>12504.000000</td>\n",
       "      <td>6012.000000</td>\n",
       "      <td>4.000000</td>\n",
       "    </tr>\n",
       "  </tbody>\n",
       "</table>\n",
       "</div>"
      ],
      "text/plain": [
       "       Hydro_Elevation_diff  Hydro_Euclidean  Hydro_Fire_sum  Hydro_Fire_diff  \\\n",
       "count          15120.000000     15120.000000    15120.000000     15120.000000   \n",
       "mean           -2698.246032       235.948778     1738.342989      1291.834788   \n",
       "std              414.680029       215.491695     1152.123001      1077.167415   \n",
       "min            -3776.000000         0.000000       30.000000         0.000000   \n",
       "25%            -3068.000000        67.186308      903.000000       532.000000   \n",
       "50%            -2696.000000       188.480768     1462.000000      1023.500000   \n",
       "75%            -2323.000000       342.069071     2302.000000      1726.000000   \n",
       "max            -1842.000000      1356.939571     7167.000000      6898.000000   \n",
       "\n",
       "       Hydro_Road_sum  Hydro_Road_diff  Road_Fire_sum  Road_Fire_diff  \\\n",
       "count    15120.000000     15120.000000   15120.000000    15120.000000   \n",
       "mean      1941.218915      1492.094577    3225.170503      897.908333   \n",
       "std       1383.173588      1292.673425    2093.672478      884.718318   \n",
       "min         30.000000         0.000000      95.000000        0.000000   \n",
       "25%        967.000000       534.000000    1806.000000      291.000000   \n",
       "50%       1501.000000      1148.000000    2520.500000      632.000000   \n",
       "75%       2554.000000      2042.000000    4232.250000     1220.000000   \n",
       "max       7306.000000      6860.000000   12504.000000     6012.000000   \n",
       "\n",
       "         Stoneyness  \n",
       "count  15120.000000  \n",
       "mean       2.333003  \n",
       "std        1.580487  \n",
       "min        0.000000  \n",
       "25%        1.000000  \n",
       "50%        2.000000  \n",
       "75%        4.000000  \n",
       "max        4.000000  "
      ]
     },
     "execution_count": 14,
     "metadata": {},
     "output_type": "execute_result"
    }
   ],
   "source": [
    "X[['Hydro_Elevation_diff', 'Hydro_Euclidean', 'Hydro_Fire_sum',\n",
    "       'Hydro_Fire_diff', 'Hydro_Road_sum', 'Hydro_Road_diff', 'Road_Fire_sum',\n",
    "       'Road_Fire_diff', 'Stoneyness']].describe()"
   ]
  },
  {
   "cell_type": "code",
   "execution_count": 15,
   "metadata": {
    "ExecuteTime": {
     "end_time": "2019-09-12T12:13:15.446171Z",
     "start_time": "2019-09-12T12:13:15.396636Z"
    }
   },
   "outputs": [
    {
     "data": {
      "text/html": [
       "<div>\n",
       "<style scoped>\n",
       "    .dataframe tbody tr th:only-of-type {\n",
       "        vertical-align: middle;\n",
       "    }\n",
       "\n",
       "    .dataframe tbody tr th {\n",
       "        vertical-align: top;\n",
       "    }\n",
       "\n",
       "    .dataframe thead th {\n",
       "        text-align: right;\n",
       "    }\n",
       "</style>\n",
       "<table border=\"1\" class=\"dataframe\">\n",
       "  <thead>\n",
       "    <tr style=\"text-align: right;\">\n",
       "      <th></th>\n",
       "      <th>Soil_Type2</th>\n",
       "      <th>Soil_Type3</th>\n",
       "      <th>Soil_Type4</th>\n",
       "      <th>Soil_Type6</th>\n",
       "      <th>Soil_Type10</th>\n",
       "      <th>Soil_Type17</th>\n",
       "      <th>Soil_Type23</th>\n",
       "      <th>Soil_Type29</th>\n",
       "      <th>Soil_Type30</th>\n",
       "      <th>Soil_Type32</th>\n",
       "      <th>Soil_Type33</th>\n",
       "      <th>Soil_Type38</th>\n",
       "      <th>Soil_Type39</th>\n",
       "    </tr>\n",
       "  </thead>\n",
       "  <tbody>\n",
       "    <tr>\n",
       "      <th>count</th>\n",
       "      <td>15120.000000</td>\n",
       "      <td>15120.000000</td>\n",
       "      <td>15120.000000</td>\n",
       "      <td>15120.000000</td>\n",
       "      <td>15120.000000</td>\n",
       "      <td>15120.000000</td>\n",
       "      <td>15120.000000</td>\n",
       "      <td>15120.000000</td>\n",
       "      <td>15120.000000</td>\n",
       "      <td>15120.000000</td>\n",
       "      <td>15120.000000</td>\n",
       "      <td>15120.000000</td>\n",
       "      <td>15120.000000</td>\n",
       "    </tr>\n",
       "    <tr>\n",
       "      <th>mean</th>\n",
       "      <td>0.041204</td>\n",
       "      <td>0.063624</td>\n",
       "      <td>0.055754</td>\n",
       "      <td>0.042989</td>\n",
       "      <td>0.141667</td>\n",
       "      <td>0.040476</td>\n",
       "      <td>0.050066</td>\n",
       "      <td>0.085384</td>\n",
       "      <td>0.047950</td>\n",
       "      <td>0.045635</td>\n",
       "      <td>0.040741</td>\n",
       "      <td>0.048148</td>\n",
       "      <td>0.043452</td>\n",
       "    </tr>\n",
       "    <tr>\n",
       "      <th>std</th>\n",
       "      <td>0.198768</td>\n",
       "      <td>0.244091</td>\n",
       "      <td>0.229454</td>\n",
       "      <td>0.202840</td>\n",
       "      <td>0.348719</td>\n",
       "      <td>0.197080</td>\n",
       "      <td>0.218089</td>\n",
       "      <td>0.279461</td>\n",
       "      <td>0.213667</td>\n",
       "      <td>0.208699</td>\n",
       "      <td>0.197696</td>\n",
       "      <td>0.214086</td>\n",
       "      <td>0.203880</td>\n",
       "    </tr>\n",
       "    <tr>\n",
       "      <th>min</th>\n",
       "      <td>0.000000</td>\n",
       "      <td>0.000000</td>\n",
       "      <td>0.000000</td>\n",
       "      <td>0.000000</td>\n",
       "      <td>0.000000</td>\n",
       "      <td>0.000000</td>\n",
       "      <td>0.000000</td>\n",
       "      <td>0.000000</td>\n",
       "      <td>0.000000</td>\n",
       "      <td>0.000000</td>\n",
       "      <td>0.000000</td>\n",
       "      <td>0.000000</td>\n",
       "      <td>0.000000</td>\n",
       "    </tr>\n",
       "    <tr>\n",
       "      <th>25%</th>\n",
       "      <td>0.000000</td>\n",
       "      <td>0.000000</td>\n",
       "      <td>0.000000</td>\n",
       "      <td>0.000000</td>\n",
       "      <td>0.000000</td>\n",
       "      <td>0.000000</td>\n",
       "      <td>0.000000</td>\n",
       "      <td>0.000000</td>\n",
       "      <td>0.000000</td>\n",
       "      <td>0.000000</td>\n",
       "      <td>0.000000</td>\n",
       "      <td>0.000000</td>\n",
       "      <td>0.000000</td>\n",
       "    </tr>\n",
       "    <tr>\n",
       "      <th>50%</th>\n",
       "      <td>0.000000</td>\n",
       "      <td>0.000000</td>\n",
       "      <td>0.000000</td>\n",
       "      <td>0.000000</td>\n",
       "      <td>0.000000</td>\n",
       "      <td>0.000000</td>\n",
       "      <td>0.000000</td>\n",
       "      <td>0.000000</td>\n",
       "      <td>0.000000</td>\n",
       "      <td>0.000000</td>\n",
       "      <td>0.000000</td>\n",
       "      <td>0.000000</td>\n",
       "      <td>0.000000</td>\n",
       "    </tr>\n",
       "    <tr>\n",
       "      <th>75%</th>\n",
       "      <td>0.000000</td>\n",
       "      <td>0.000000</td>\n",
       "      <td>0.000000</td>\n",
       "      <td>0.000000</td>\n",
       "      <td>0.000000</td>\n",
       "      <td>0.000000</td>\n",
       "      <td>0.000000</td>\n",
       "      <td>0.000000</td>\n",
       "      <td>0.000000</td>\n",
       "      <td>0.000000</td>\n",
       "      <td>0.000000</td>\n",
       "      <td>0.000000</td>\n",
       "      <td>0.000000</td>\n",
       "    </tr>\n",
       "    <tr>\n",
       "      <th>max</th>\n",
       "      <td>1.000000</td>\n",
       "      <td>1.000000</td>\n",
       "      <td>1.000000</td>\n",
       "      <td>1.000000</td>\n",
       "      <td>1.000000</td>\n",
       "      <td>1.000000</td>\n",
       "      <td>1.000000</td>\n",
       "      <td>1.000000</td>\n",
       "      <td>1.000000</td>\n",
       "      <td>1.000000</td>\n",
       "      <td>1.000000</td>\n",
       "      <td>1.000000</td>\n",
       "      <td>1.000000</td>\n",
       "    </tr>\n",
       "  </tbody>\n",
       "</table>\n",
       "</div>"
      ],
      "text/plain": [
       "         Soil_Type2    Soil_Type3    Soil_Type4    Soil_Type6   Soil_Type10  \\\n",
       "count  15120.000000  15120.000000  15120.000000  15120.000000  15120.000000   \n",
       "mean       0.041204      0.063624      0.055754      0.042989      0.141667   \n",
       "std        0.198768      0.244091      0.229454      0.202840      0.348719   \n",
       "min        0.000000      0.000000      0.000000      0.000000      0.000000   \n",
       "25%        0.000000      0.000000      0.000000      0.000000      0.000000   \n",
       "50%        0.000000      0.000000      0.000000      0.000000      0.000000   \n",
       "75%        0.000000      0.000000      0.000000      0.000000      0.000000   \n",
       "max        1.000000      1.000000      1.000000      1.000000      1.000000   \n",
       "\n",
       "        Soil_Type17   Soil_Type23   Soil_Type29   Soil_Type30   Soil_Type32  \\\n",
       "count  15120.000000  15120.000000  15120.000000  15120.000000  15120.000000   \n",
       "mean       0.040476      0.050066      0.085384      0.047950      0.045635   \n",
       "std        0.197080      0.218089      0.279461      0.213667      0.208699   \n",
       "min        0.000000      0.000000      0.000000      0.000000      0.000000   \n",
       "25%        0.000000      0.000000      0.000000      0.000000      0.000000   \n",
       "50%        0.000000      0.000000      0.000000      0.000000      0.000000   \n",
       "75%        0.000000      0.000000      0.000000      0.000000      0.000000   \n",
       "max        1.000000      1.000000      1.000000      1.000000      1.000000   \n",
       "\n",
       "        Soil_Type33   Soil_Type38   Soil_Type39  \n",
       "count  15120.000000  15120.000000  15120.000000  \n",
       "mean       0.040741      0.048148      0.043452  \n",
       "std        0.197696      0.214086      0.203880  \n",
       "min        0.000000      0.000000      0.000000  \n",
       "25%        0.000000      0.000000      0.000000  \n",
       "50%        0.000000      0.000000      0.000000  \n",
       "75%        0.000000      0.000000      0.000000  \n",
       "max        1.000000      1.000000      1.000000  "
      ]
     },
     "execution_count": 15,
     "metadata": {},
     "output_type": "execute_result"
    }
   ],
   "source": [
    "X[['Soil_Type2', 'Soil_Type3', 'Soil_Type4', 'Soil_Type6', 'Soil_Type10',\n",
    "       'Soil_Type17', 'Soil_Type23', 'Soil_Type29', 'Soil_Type30',\n",
    "       'Soil_Type32', 'Soil_Type33', 'Soil_Type38', 'Soil_Type39']].describe()"
   ]
  },
  {
   "cell_type": "code",
   "execution_count": 16,
   "metadata": {
    "ExecuteTime": {
     "end_time": "2019-09-12T12:13:17.413256Z",
     "start_time": "2019-09-12T12:13:17.407781Z"
    }
   },
   "outputs": [
    {
     "data": {
      "text/plain": [
       "4    6546\n",
       "1    5096\n",
       "0    1854\n",
       "2     877\n",
       "3     747\n",
       "Name: Stoneyness, dtype: int64"
      ]
     },
     "execution_count": 16,
     "metadata": {},
     "output_type": "execute_result"
    }
   ],
   "source": [
    "X['Stoneyness'].value_counts()"
   ]
  },
  {
   "cell_type": "markdown",
   "metadata": {},
   "source": [
    "# Cluster features"
   ]
  },
  {
   "cell_type": "code",
   "execution_count": 17,
   "metadata": {
    "ExecuteTime": {
     "end_time": "2019-09-12T12:13:22.564705Z",
     "start_time": "2019-09-12T12:13:22.194896Z"
    }
   },
   "outputs": [
    {
     "data": {
      "text/plain": [
       "StandardScaler(copy=True, with_mean=True, with_std=True)"
      ]
     },
     "execution_count": 17,
     "metadata": {},
     "output_type": "execute_result"
    }
   ],
   "source": [
    "ss = StandardScaler()\n",
    "X_all = np.vstack([X, X_test])\n",
    "ss.fit(X_all)"
   ]
  },
  {
   "cell_type": "code",
   "execution_count": 18,
   "metadata": {
    "ExecuteTime": {
     "end_time": "2019-09-12T12:13:37.645030Z",
     "start_time": "2019-09-12T12:13:37.470291Z"
    }
   },
   "outputs": [],
   "source": [
    "cluster_data = ss.transform(X)\n",
    "cluster_data_test = ss.transform(X_test)\n",
    "cluster_data_all = np.vstack([cluster_data, cluster_data_test])"
   ]
  },
  {
   "cell_type": "code",
   "execution_count": 19,
   "metadata": {
    "ExecuteTime": {
     "end_time": "2019-09-11T16:44:34.155923Z",
     "start_time": "2019-09-11T16:44:10.631404Z"
    }
   },
   "outputs": [],
   "source": [
    "n_components = [r for r in range(5, 16)]\n",
    "models = [GaussianMixture(n, covariance_type='full', random_state=0).fit(cluster_data)\n",
    "          for n in n_components]"
   ]
  },
  {
   "cell_type": "code",
   "execution_count": 20,
   "metadata": {
    "ExecuteTime": {
     "end_time": "2019-09-11T18:03:20.436567Z",
     "start_time": "2019-09-11T18:02:49.505Z"
    }
   },
   "outputs": [
    {
     "ename": "TypeError",
     "evalue": "silhouette_score() missing 1 required positional argument: 'labels'",
     "output_type": "error",
     "traceback": [
      "\u001b[0;31m---------------------------------------------------------------------------\u001b[0m",
      "\u001b[0;31mTypeError\u001b[0m                                 Traceback (most recent call last)",
      "\u001b[0;32m<ipython-input-20-44ad9d8044fc>\u001b[0m in \u001b[0;36m<module>\u001b[0;34m\u001b[0m\n\u001b[1;32m      4\u001b[0m \u001b[0mplt\u001b[0m\u001b[0;34m.\u001b[0m\u001b[0mplot\u001b[0m\u001b[0;34m(\u001b[0m\u001b[0mn_components\u001b[0m\u001b[0;34m,\u001b[0m \u001b[0;34m[\u001b[0m\u001b[0mm\u001b[0m\u001b[0;34m.\u001b[0m\u001b[0mbic\u001b[0m\u001b[0;34m(\u001b[0m\u001b[0mX\u001b[0m\u001b[0;34m)\u001b[0m \u001b[0;32mfor\u001b[0m \u001b[0mm\u001b[0m \u001b[0;32min\u001b[0m \u001b[0mmodels\u001b[0m\u001b[0;34m]\u001b[0m\u001b[0;34m,\u001b[0m \u001b[0mlabel\u001b[0m\u001b[0;34m=\u001b[0m\u001b[0;34m'BIC'\u001b[0m\u001b[0;34m)\u001b[0m\u001b[0;34m\u001b[0m\u001b[0;34m\u001b[0m\u001b[0m\n\u001b[1;32m      5\u001b[0m \u001b[0mplt\u001b[0m\u001b[0;34m.\u001b[0m\u001b[0mplot\u001b[0m\u001b[0;34m(\u001b[0m\u001b[0mn_components\u001b[0m\u001b[0;34m,\u001b[0m \u001b[0;34m[\u001b[0m\u001b[0mm\u001b[0m\u001b[0;34m.\u001b[0m\u001b[0maic\u001b[0m\u001b[0;34m(\u001b[0m\u001b[0mX\u001b[0m\u001b[0;34m)\u001b[0m \u001b[0;32mfor\u001b[0m \u001b[0mm\u001b[0m \u001b[0;32min\u001b[0m \u001b[0mmodels\u001b[0m\u001b[0;34m]\u001b[0m\u001b[0;34m,\u001b[0m \u001b[0mlabel\u001b[0m\u001b[0;34m=\u001b[0m\u001b[0;34m'AIC'\u001b[0m\u001b[0;34m)\u001b[0m\u001b[0;34m\u001b[0m\u001b[0;34m\u001b[0m\u001b[0m\n\u001b[0;32m----> 6\u001b[0;31m \u001b[0mplt\u001b[0m\u001b[0;34m.\u001b[0m\u001b[0mplot\u001b[0m\u001b[0;34m(\u001b[0m\u001b[0mn_components\u001b[0m\u001b[0;34m,\u001b[0m \u001b[0;34m[\u001b[0m\u001b[0msilhouette_score\u001b[0m\u001b[0;34m(\u001b[0m\u001b[0mm\u001b[0m\u001b[0;34m.\u001b[0m\u001b[0mpredict\u001b[0m\u001b[0;34m(\u001b[0m\u001b[0mX\u001b[0m\u001b[0;34m)\u001b[0m\u001b[0;34m)\u001b[0m \u001b[0;32mfor\u001b[0m \u001b[0mm\u001b[0m \u001b[0;32min\u001b[0m \u001b[0mmodels\u001b[0m\u001b[0;34m]\u001b[0m\u001b[0;34m,\u001b[0m \u001b[0mlabel\u001b[0m\u001b[0;34m=\u001b[0m\u001b[0;34m'Silhouette'\u001b[0m\u001b[0;34m)\u001b[0m\u001b[0;34m\u001b[0m\u001b[0;34m\u001b[0m\u001b[0m\n\u001b[0m\u001b[1;32m      7\u001b[0m \u001b[0mplt\u001b[0m\u001b[0;34m.\u001b[0m\u001b[0mlegend\u001b[0m\u001b[0;34m(\u001b[0m\u001b[0mloc\u001b[0m\u001b[0;34m=\u001b[0m\u001b[0;34m'best'\u001b[0m\u001b[0;34m)\u001b[0m\u001b[0;34m\u001b[0m\u001b[0;34m\u001b[0m\u001b[0m\n\u001b[1;32m      8\u001b[0m \u001b[0mplt\u001b[0m\u001b[0;34m.\u001b[0m\u001b[0mxlabel\u001b[0m\u001b[0;34m(\u001b[0m\u001b[0;34m'n_components'\u001b[0m\u001b[0;34m)\u001b[0m\u001b[0;34m\u001b[0m\u001b[0;34m\u001b[0m\u001b[0m\n",
      "\u001b[0;32m<ipython-input-20-44ad9d8044fc>\u001b[0m in \u001b[0;36m<listcomp>\u001b[0;34m(.0)\u001b[0m\n\u001b[1;32m      4\u001b[0m \u001b[0mplt\u001b[0m\u001b[0;34m.\u001b[0m\u001b[0mplot\u001b[0m\u001b[0;34m(\u001b[0m\u001b[0mn_components\u001b[0m\u001b[0;34m,\u001b[0m \u001b[0;34m[\u001b[0m\u001b[0mm\u001b[0m\u001b[0;34m.\u001b[0m\u001b[0mbic\u001b[0m\u001b[0;34m(\u001b[0m\u001b[0mX\u001b[0m\u001b[0;34m)\u001b[0m \u001b[0;32mfor\u001b[0m \u001b[0mm\u001b[0m \u001b[0;32min\u001b[0m \u001b[0mmodels\u001b[0m\u001b[0;34m]\u001b[0m\u001b[0;34m,\u001b[0m \u001b[0mlabel\u001b[0m\u001b[0;34m=\u001b[0m\u001b[0;34m'BIC'\u001b[0m\u001b[0;34m)\u001b[0m\u001b[0;34m\u001b[0m\u001b[0;34m\u001b[0m\u001b[0m\n\u001b[1;32m      5\u001b[0m \u001b[0mplt\u001b[0m\u001b[0;34m.\u001b[0m\u001b[0mplot\u001b[0m\u001b[0;34m(\u001b[0m\u001b[0mn_components\u001b[0m\u001b[0;34m,\u001b[0m \u001b[0;34m[\u001b[0m\u001b[0mm\u001b[0m\u001b[0;34m.\u001b[0m\u001b[0maic\u001b[0m\u001b[0;34m(\u001b[0m\u001b[0mX\u001b[0m\u001b[0;34m)\u001b[0m \u001b[0;32mfor\u001b[0m \u001b[0mm\u001b[0m \u001b[0;32min\u001b[0m \u001b[0mmodels\u001b[0m\u001b[0;34m]\u001b[0m\u001b[0;34m,\u001b[0m \u001b[0mlabel\u001b[0m\u001b[0;34m=\u001b[0m\u001b[0;34m'AIC'\u001b[0m\u001b[0;34m)\u001b[0m\u001b[0;34m\u001b[0m\u001b[0;34m\u001b[0m\u001b[0m\n\u001b[0;32m----> 6\u001b[0;31m \u001b[0mplt\u001b[0m\u001b[0;34m.\u001b[0m\u001b[0mplot\u001b[0m\u001b[0;34m(\u001b[0m\u001b[0mn_components\u001b[0m\u001b[0;34m,\u001b[0m \u001b[0;34m[\u001b[0m\u001b[0msilhouette_score\u001b[0m\u001b[0;34m(\u001b[0m\u001b[0mm\u001b[0m\u001b[0;34m.\u001b[0m\u001b[0mpredict\u001b[0m\u001b[0;34m(\u001b[0m\u001b[0mX\u001b[0m\u001b[0;34m)\u001b[0m\u001b[0;34m)\u001b[0m \u001b[0;32mfor\u001b[0m \u001b[0mm\u001b[0m \u001b[0;32min\u001b[0m \u001b[0mmodels\u001b[0m\u001b[0;34m]\u001b[0m\u001b[0;34m,\u001b[0m \u001b[0mlabel\u001b[0m\u001b[0;34m=\u001b[0m\u001b[0;34m'Silhouette'\u001b[0m\u001b[0;34m)\u001b[0m\u001b[0;34m\u001b[0m\u001b[0;34m\u001b[0m\u001b[0m\n\u001b[0m\u001b[1;32m      7\u001b[0m \u001b[0mplt\u001b[0m\u001b[0;34m.\u001b[0m\u001b[0mlegend\u001b[0m\u001b[0;34m(\u001b[0m\u001b[0mloc\u001b[0m\u001b[0;34m=\u001b[0m\u001b[0;34m'best'\u001b[0m\u001b[0;34m)\u001b[0m\u001b[0;34m\u001b[0m\u001b[0;34m\u001b[0m\u001b[0m\n\u001b[1;32m      8\u001b[0m \u001b[0mplt\u001b[0m\u001b[0;34m.\u001b[0m\u001b[0mxlabel\u001b[0m\u001b[0;34m(\u001b[0m\u001b[0;34m'n_components'\u001b[0m\u001b[0;34m)\u001b[0m\u001b[0;34m\u001b[0m\u001b[0;34m\u001b[0m\u001b[0m\n",
      "\u001b[0;31mTypeError\u001b[0m: silhouette_score() missing 1 required positional argument: 'labels'"
     ]
    },
    {
     "data": {
      "image/png": "[encoded data removed]",
      "text/plain": [
       "<Figure size 432x288 with 1 Axes>"
      ]
     },
     "metadata": {
      "needs_background": "light"
     },
     "output_type": "display_data"
    }
   ],
   "source": [
    "import matplotlib.pyplot as plt\n",
    "%matplotlib inline\n",
    "\n",
    "plt.plot(n_components, [m.bic(X) for m in models], label='BIC')\n",
    "plt.plot(n_components, [m.aic(X) for m in models], label='AIC')\n",
    "plt.plot(n_components, [silhouette_score(m.predict(X)) for m in models], label='Silhouette')\n",
    "plt.legend(loc='best')\n",
    "plt.xlabel('n_components')"
   ]
  },
  {
   "cell_type": "code",
   "execution_count": null,
   "metadata": {},
   "outputs": [],
   "source": [
    "from collections import OrderedDict\n",
    "\n",
    "# TODO: Apply your clustering algorithm of choice to the reduced data\n",
    "def make_cluster(clusterer, X):\n",
    "    # clusterer.fit(reduced_data)\n",
    "    preds = clusterer.fit_predict(X)\n",
    "    score = silhouette_score(X, preds)\n",
    "    return clusterer, score"
   ]
  },
  {
   "cell_type": "code",
   "execution_count": null,
   "metadata": {
    "ExecuteTime": {
     "end_time": "2019-09-11T18:03:19.644987Z",
     "start_time": "2019-09-11T18:02:36.601991Z"
    }
   },
   "outputs": [],
   "source": [
    "kclusters = []\n",
    "kscores = {}\n",
    "for n in range(5, 16):\n",
    "    kmeans = KMeans(n_clusters=n, random_state=13)\n",
    "    kmeans.fit(cluster_data)\n",
    "    kscores[n] = (silhouette_score(cluster_data, kmeans.labels_),\n",
    "                  completeness_score(y, kmeans.labels_))\n"
   ]
  },
  {
   "cell_type": "code",
   "execution_count": null,
   "metadata": {
    "ExecuteTime": {
     "end_time": "2019-09-11T18:00:51.914998Z",
     "start_time": "2019-09-11T18:00:07.211232Z"
    }
   },
   "outputs": [],
   "source": [
    "gscores = {}\n",
    "for n, gmm in enumerate(models, 5):\n",
    "    labels = gmm.predict(cluster_data)\n",
    "    gscores[n] = (silhouette_score(cluster_data, labels),\n",
    "                  completeness_score(y, labels))"
   ]
  },
  {
   "cell_type": "code",
   "execution_count": null,
   "metadata": {
    "ExecuteTime": {
     "end_time": "2019-09-11T18:25:51.519208Z",
     "start_time": "2019-09-11T18:25:51.512161Z"
    }
   },
   "outputs": [],
   "source": [
    "ksil = [score[0] for score in kscores.values()]\n",
    "gsil = [score[0] for score in gscores.values()]\n",
    "kcom = [score[1] for score in kscores.values()]\n",
    "gcom = [score[1] for score in gscores.values()]"
   ]
  },
  {
   "cell_type": "code",
   "execution_count": null,
   "metadata": {
    "ExecuteTime": {
     "end_time": "2019-09-11T18:25:53.234542Z",
     "start_time": "2019-09-11T18:25:52.788269Z"
    }
   },
   "outputs": [],
   "source": [
    "plt.figure(figsize=(15, 8))\n",
    "plt.title('Silhouete scores')\n",
    "plt.plot(kscores.keys(), ksil, label='kmeans')\n",
    "plt.plot(gscores.keys(), gsil, label='gaussian')\n",
    "plt.legend()\n",
    "plt.xlabel('number of clusters')\n",
    "plt.xlabel('scores')"
   ]
  },
  {
   "cell_type": "code",
   "execution_count": null,
   "metadata": {
    "ExecuteTime": {
     "end_time": "2019-09-11T18:26:07.044798Z",
     "start_time": "2019-09-11T18:26:06.600702Z"
    }
   },
   "outputs": [],
   "source": [
    "plt.figure(figsize=(15, 8))\n",
    "plt.title('Completeness scores')\n",
    "plt.plot(kscores.keys(), kcom, label='kmeans')\n",
    "plt.plot(gscores.keys(), gcom, label='gaussian')\n",
    "plt.legend()\n",
    "plt.xlabel('number of clusters')\n",
    "plt.xlabel('scores')"
   ]
  },
  {
   "cell_type": "code",
   "execution_count": null,
   "metadata": {
    "ExecuteTime": {
     "end_time": "2019-09-12T12:14:24.095643Z",
     "start_time": "2019-09-12T12:14:22.842162Z"
    }
   },
   "outputs": [],
   "source": [
    "km = KMeans(10)\n",
    "km.fit(cluster_data)"
   ]
  },
  {
   "cell_type": "code",
   "execution_count": null,
   "metadata": {
    "ExecuteTime": {
     "end_time": "2019-09-12T12:14:29.481968Z",
     "start_time": "2019-09-12T12:14:26.650044Z"
    }
   },
   "outputs": [],
   "source": [
    "print(completeness_score(y, km.labels_))\n",
    "print(silhouette_score(cluster_data, km.labels_))\n",
    "print(calinski_harabasz_score(cluster_data, km.labels_))"
   ]
  },
  {
   "cell_type": "code",
   "execution_count": null,
   "metadata": {
    "ExecuteTime": {
     "end_time": "2019-09-12T12:14:30.343021Z",
     "start_time": "2019-09-12T12:14:30.065268Z"
    }
   },
   "outputs": [],
   "source": [
    "X['cluster'] = km.predict(cluster_data)\n",
    "X_test['cluster'] = km.predict(cluster_data_test)"
   ]
  },
  {
   "cell_type": "code",
   "execution_count": null,
   "metadata": {
    "ExecuteTime": {
     "end_time": "2019-09-12T12:15:06.517457Z",
     "start_time": "2019-09-12T12:15:03.584727Z"
    }
   },
   "outputs": [],
   "source": [
    "gmm = GaussianMixture(11)\n",
    "gmm.fit(cluster_data)"
   ]
  },
  {
   "cell_type": "code",
   "execution_count": null,
   "metadata": {
    "ExecuteTime": {
     "end_time": "2019-09-12T12:16:23.785925Z",
     "start_time": "2019-09-12T12:16:21.210826Z"
    }
   },
   "outputs": [],
   "source": [
    "labels = gmm.predict(cluster_data)\n",
    "print(completeness_score(y, labels))\n",
    "print(silhouette_score(cluster_data, labels))\n",
    "print(calinski_harabasz_score(cluster_data, labels))"
   ]
  },
  {
   "cell_type": "code",
   "execution_count": null,
   "metadata": {
    "ExecuteTime": {
     "end_time": "2019-09-12T12:16:45.451591Z",
     "start_time": "2019-09-12T12:16:43.226352Z"
    }
   },
   "outputs": [],
   "source": [
    "X['cluster2'] = labels\n",
    "X_test['cluster2'] = gmm.predict(cluster_data_test)"
   ]
  },
  {
   "cell_type": "markdown",
   "metadata": {},
   "source": [
    "## Brute Force parameter searchs"
   ]
  },
  {
   "cell_type": "code",
   "execution_count": null,
   "metadata": {
    "ExecuteTime": {
     "end_time": "2019-09-12T11:22:55.106017Z",
     "start_time": "2019-09-12T11:22:55.100565Z"
    }
   },
   "outputs": [],
   "source": [
    "X_filtered = X[y < 3]\n",
    "y_filtered = y[y < 3]"
   ]
  },
  {
   "cell_type": "code",
   "execution_count": null,
   "metadata": {
    "ExecuteTime": {
     "end_time": "2019-09-12T11:23:11.776365Z",
     "start_time": "2019-09-12T11:23:05.934835Z"
    }
   },
   "outputs": [],
   "source": [
    "# A simple first test to validate features of actual df\n",
    "etc = ExtraTreesClassifier(\n",
    "    bootstrap=True, oob_score=True,\n",
    "    **{'max_depth': 30, 'n_estimators': 1000, 'max_features': 0.7}\n",
    "    )\n",
    "etc.fit(X_filtered, y_filtered)\n",
    "etc.oob_score_"
   ]
  },
  {
   "cell_type": "code",
   "execution_count": null,
   "metadata": {},
   "outputs": [],
   "source": []
  },
  {
   "cell_type": "code",
   "execution_count": null,
   "metadata": {
    "ExecuteTime": {
     "end_time": "2019-09-11T14:45:19.282020Z",
     "start_time": "2019-09-11T14:43:41.142578Z"
    }
   },
   "outputs": [],
   "source": [
    "from sklearn.svm import SVC\n",
    "from sklearn.model_selection import validation_curve\n",
    "\n",
    "param_range = [200, 400, 600, 800, 1000, 1200, 1400]\n",
    "train_scores, test_scores = validation_curve(\n",
    "    ExtraTreesClassifier(),\n",
    "    X_filtered, y_filtered,\n",
    "    param_name=\"n_estimators\",\n",
    "    param_range=param_range,\n",
    "    cv=5, scoring=\"accuracy\")\n",
    "train_scores_mean = np.mean(train_scores, axis=1)\n",
    "train_scores_std = np.std(train_scores, axis=1)\n",
    "test_scores_mean = np.mean(test_scores, axis=1)\n",
    "test_scores_std = np.std(test_scores, axis=1)"
   ]
  },
  {
   "cell_type": "code",
   "execution_count": null,
   "metadata": {
    "ExecuteTime": {
     "end_time": "2019-09-11T14:49:12.024149Z",
     "start_time": "2019-09-11T14:49:11.756266Z"
    }
   },
   "outputs": [],
   "source": [
    "plt.title(\"Validation Curve with Extreme Random Trees\")\n",
    "plt.xlabel(r\"$\\gamma$\")\n",
    "plt.ylabel(\"Score\")\n",
    "plt.ylim(0.72, 1.01)\n",
    "lw = 2\n",
    "plt.semilogx(param_range, train_scores_mean, label=\"Training score\",\n",
    "             color=\"darkorange\", lw=lw)\n",
    "plt.fill_between(param_range, train_scores_mean - train_scores_std,\n",
    "                 train_scores_mean + train_scores_std, alpha=0.2,\n",
    "                 color=\"darkorange\", lw=lw)\n",
    "plt.semilogx(param_range, test_scores_mean, label=\"Cross-validation score\",\n",
    "             color=\"navy\", lw=lw)\n",
    "plt.fill_between(param_range, test_scores_mean - test_scores_std,\n",
    "                 test_scores_mean + test_scores_std, alpha=0.2,\n",
    "                 color=\"navy\", lw=lw)\n",
    "plt.legend(loc=\"best\")\n",
    "plt.show()"
   ]
  },
  {
   "cell_type": "code",
   "execution_count": null,
   "metadata": {
    "ExecuteTime": {
     "end_time": "2019-09-11T14:46:15.404856Z",
     "start_time": "2019-09-11T14:46:15.402440Z"
    }
   },
   "outputs": [],
   "source": [
    "from time import time\n",
    "from sklearn.model_selection import RandomizedSearchCV\n",
    "\n"
   ]
  },
  {
   "cell_type": "code",
   "execution_count": null,
   "metadata": {
    "ExecuteTime": {
     "end_time": "2019-09-11T18:53:40.252034Z",
     "start_time": "2019-09-11T18:52:32.368712Z"
    }
   },
   "outputs": [],
   "source": [
    "param_dist = {\"max_depth\": [10, 20, 32, 50, None],\n",
    "              'max_features': [0.4, 0.6, 0.7, 0.8, 0.9],\n",
    "              'n_estimators': [50, 100, 200, 600, 900, 1200]\n",
    "             }\n",
    "\n",
    "\n",
    "def report(results, n_top=10):\n",
    "    for i in range(1, n_top + 1):\n",
    "        candidates = np.flatnonzero(results['rank_test_score'] == i)\n",
    "        for candidate in candidates:\n",
    "            print(\"Model with rank: {0}\".format(i))\n",
    "            print(\"Mean validation score: {0:.3f} (std: {1:.3f})\".format(\n",
    "                  results['mean_test_score'][candidate],\n",
    "                  results['std_test_score'][candidate]))\n",
    "            print(\"Parameters: {0}\".format(results['params'][candidate]))\n",
    "            print(\"\")\n",
    "            \n",
    "n_iter_search = 10\n",
    "random_search = RandomizedSearchCV(LGBMClassifier(bootstrap=False),\n",
    "                                   param_distributions=param_dist,\n",
    "                                   n_iter=n_iter_search, cv=5, iid=False)\n",
    "\n",
    "start = time()\n",
    "random_search.fit(X_filtered, y_filtered)\n",
    "print(\"RandomizedSearchCV took %.2f seconds for %d candidates\"\n",
    "      \" parameter settings.\" % ((time() - start), n_iter_search))\n",
    "report(random_search.cv_results_)"
   ]
  },
  {
   "cell_type": "code",
   "execution_count": null,
   "metadata": {
    "ExecuteTime": {
     "end_time": "2019-09-11T18:35:15.531688Z",
     "start_time": "2019-09-11T18:35:15.517747Z"
    }
   },
   "outputs": [],
   "source": [
    "X_train, X_val, y_train, y_val = train_test_split(X_filtered, y_filtered, test_size=0.2)"
   ]
  },
  {
   "cell_type": "code",
   "execution_count": null,
   "metadata": {
    "ExecuteTime": {
     "end_time": "2019-09-11T17:56:12.647981Z",
     "start_time": "2019-09-11T16:56:10.166925Z"
    }
   },
   "outputs": [],
   "source": [
    "import autosklearn.classification\n",
    "cls = autosklearn.classification.AutoSklearnClassifier()\n",
    "cls.fit(X_train, y_train)\n",
    "predictions = cls.predict(X_val)\n",
    "accuracy_score(y_val, predictions)"
   ]
  },
  {
   "cell_type": "code",
   "execution_count": null,
   "metadata": {
    "ExecuteTime": {
     "end_time": "2019-09-11T18:51:44.301910Z",
     "start_time": "2019-09-11T18:51:42.401855Z"
    }
   },
   "outputs": [],
   "source": [
    "etc = ExtraTreesClassifier(\n",
    "    **{'max_depth': None, 'n_estimators': 200, 'max_features': 0.8}\n",
    "    )\n",
    "etc.fit(X_train, y_train)"
   ]
  },
  {
   "cell_type": "code",
   "execution_count": null,
   "metadata": {
    "ExecuteTime": {
     "end_time": "2019-09-11T18:51:46.739110Z",
     "start_time": "2019-09-11T18:51:46.654426Z"
    }
   },
   "outputs": [],
   "source": [
    "y_pred = etc.predict(X_val)\n",
    "print(accuracy_score(y_val, y_pred))\n",
    "print(classification_report(y_val, y_pred))\n",
    "print(confusion_matrix(y_val, y_pred))"
   ]
  },
  {
   "cell_type": "code",
   "execution_count": null,
   "metadata": {
    "ExecuteTime": {
     "end_time": "2019-09-11T18:47:47.440575Z",
     "start_time": "2019-09-11T18:47:34.096093Z"
    }
   },
   "outputs": [],
   "source": [
    "from sklearn.ensemble import RandomForestClassifier\n",
    "rf = RandomForestClassifier(\n",
    "    **{'max_depth': None, 'n_estimators': 200, 'max_features': 0.8}\n",
    "    )\n",
    "rf.fit(X_train, y_train)"
   ]
  },
  {
   "cell_type": "code",
   "execution_count": null,
   "metadata": {
    "ExecuteTime": {
     "end_time": "2019-09-11T18:47:47.527296Z",
     "start_time": "2019-09-11T18:47:47.443194Z"
    }
   },
   "outputs": [],
   "source": [
    "y_pred = etc.predict(X_val)\n",
    "print(accuracy_score(y_val, y_pred))\n",
    "print(classification_report(y_val, y_pred))\n",
    "print(confusion_matrix(y_val, y_pred))"
   ]
  },
  {
   "cell_type": "code",
   "execution_count": null,
   "metadata": {
    "ExecuteTime": {
     "end_time": "2019-09-11T19:06:41.392497Z",
     "start_time": "2019-09-11T19:06:37.023672Z"
    }
   },
   "outputs": [],
   "source": [
    "from lightgbm import LGBMClassifier\n",
    "lgb = LGBMClassifier(bootstrap=False,\n",
    "    **{'n_estimators': 900, 'max_depth': 20, 'max_features': 0.4}\n",
    "\n",
    "    )\n",
    "lgb.fit(X_train, y_train)"
   ]
  },
  {
   "cell_type": "code",
   "execution_count": null,
   "metadata": {
    "ExecuteTime": {
     "end_time": "2019-09-11T19:06:42.066446Z",
     "start_time": "2019-09-11T19:06:41.398764Z"
    }
   },
   "outputs": [],
   "source": [
    "y_pred_train = lgb.predict(X_train)\n",
    "print(accuracy_score(y_train, y_pred_train))\n",
    "\n",
    "y_pred = lgb.predict(X_val)\n",
    "print(accuracy_score(y_val, y_pred))\n",
    "print(classification_report(y_val, y_pred))\n",
    "print(confusion_matrix(y_val, y_pred))"
   ]
  },
  {
   "cell_type": "code",
   "execution_count": null,
   "metadata": {
    "ExecuteTime": {
     "end_time": "2019-09-11T19:01:48.052520Z",
     "start_time": "2019-09-11T19:01:48.024994Z"
    }
   },
   "outputs": [],
   "source": [
    "from sklearn.neighbors import KNeighborsClassifier\n",
    "knn = KNeighborsClassifier()\n",
    "knn.fit(X_train, y_train)"
   ]
  },
  {
   "cell_type": "code",
   "execution_count": null,
   "metadata": {
    "ExecuteTime": {
     "end_time": "2019-09-11T19:01:50.001066Z",
     "start_time": "2019-09-11T19:01:49.734962Z"
    }
   },
   "outputs": [],
   "source": [
    "y_pred_train = knn.predict(X_train)\n",
    "print(accuracy_score(y_train, y_pred_train))\n",
    "\n",
    "y_pred = knn.predict(X_val)\n",
    "print(accuracy_score(y_val, y_pred))\n",
    "print(classification_report(y_val, y_pred))\n",
    "print(confusion_matrix(y_val, y_pred))"
   ]
  },
  {
   "cell_type": "code",
   "execution_count": null,
   "metadata": {},
   "outputs": [],
   "source": []
  },
  {
   "cell_type": "code",
   "execution_count": null,
   "metadata": {
    "ExecuteTime": {
     "end_time": "2019-09-11T18:50:27.235876Z",
     "start_time": "2019-09-11T18:50:26.710296Z"
    }
   },
   "outputs": [],
   "source": [
    "from xgboost import XGBClassifier\n",
    "xgb = XGBClassifier(\n",
    "    \n",
    "    )\n",
    "xgb.fit(X_train, y_train)\n"
   ]
  },
  {
   "cell_type": "code",
   "execution_count": null,
   "metadata": {
    "ExecuteTime": {
     "end_time": "2019-09-11T18:50:43.987488Z",
     "start_time": "2019-09-11T18:50:43.927381Z"
    }
   },
   "outputs": [],
   "source": [
    "y_pred = xgb.predict(X_val)\n",
    "print(accuracy_score(y_val, y_pred))\n",
    "print(classification_report(y_val, y_pred))\n",
    "print(confusion_matrix(y_val, y_pred))"
   ]
  },
  {
   "cell_type": "markdown",
   "metadata": {},
   "source": [
    "## TRAIN FINAL MODEL"
   ]
  },
  {
   "cell_type": "code",
   "execution_count": 36,
   "metadata": {},
   "outputs": [],
   "source": [
    "X.Aspect = X.Aspect.apply(lambda x: np.cos(2*np.pi*x/360.0))\n",
    "X_test.Aspect = X_test.Aspect.apply(lambda x: np.cos(2*np.pi*x/360.0))"
   ]
  },
  {
   "cell_type": "code",
   "execution_count": 37,
   "metadata": {
    "ExecuteTime": {
     "end_time": "2019-09-12T11:24:48.614983Z",
     "start_time": "2019-09-12T11:24:48.591242Z"
    }
   },
   "outputs": [],
   "source": [
    "X_, X_val, y_, y_val = train_test_split(X, y, test_size=0.1)\n",
    "X_filtered = X_[y < 3]\n",
    "y_filtered = y_[y < 3]"
   ]
  },
  {
   "cell_type": "code",
   "execution_count": 38,
   "metadata": {
    "ExecuteTime": {
     "end_time": "2019-09-12T12:17:53.808254Z",
     "start_time": "2019-09-12T12:17:53.083640Z"
    }
   },
   "outputs": [],
   "source": [
    "## Model for classs 1 x class 2\n",
    "from lightgbm import LGBMClassifier\n",
    "lgb = LGBMClassifier(bootstrap=False,\n",
    "    **{'n_estimators': 900, 'max_depth': 20, 'max_features': 0.4}\n",
    "\n",
    "    )"
   ]
  },
  {
   "cell_type": "code",
   "execution_count": 39,
   "metadata": {
    "ExecuteTime": {
     "end_time": "2019-09-12T11:45:21.057571Z",
     "start_time": "2019-09-12T11:45:20.180781Z"
    }
   },
   "outputs": [
    {
     "data": {
      "text/plain": [
       "LGBMClassifier(boosting_type='gbdt', bootstrap=False, class_weight=None,\n",
       "               colsample_bytree=1.0, importance_type='split', learning_rate=0.1,\n",
       "               max_depth=20, max_features=0.4, min_child_samples=20,\n",
       "               min_child_weight=0.001, min_split_gain=0.0, n_estimators=900,\n",
       "               n_jobs=-1, num_leaves=31, objective=None, random_state=None,\n",
       "               reg_alpha=0.0, reg_lambda=0.0, silent=True, subsample=1.0,\n",
       "               subsample_for_bin=200000, subsample_freq=0)"
      ]
     },
     "execution_count": 39,
     "metadata": {},
     "output_type": "execute_result"
    }
   ],
   "source": [
    "lgb.fit(X_filtered, y_filtered)"
   ]
  },
  {
   "cell_type": "code",
   "execution_count": 40,
   "metadata": {
    "ExecuteTime": {
     "end_time": "2019-09-12T11:24:53.760305Z",
     "start_time": "2019-09-12T11:24:53.704548Z"
    }
   },
   "outputs": [
    {
     "name": "stdout",
     "output_type": "stream",
     "text": [
      "0.25462962962962965\n",
      "              precision    recall  f1-score   support\n",
      "\n",
      "           1       0.45      0.85      0.58       241\n",
      "           2       0.17      0.90      0.29       202\n",
      "           3       0.00      0.00      0.00       209\n",
      "           4       0.00      0.00      0.00       209\n",
      "           5       0.00      0.00      0.00       224\n",
      "           6       0.00      0.00      0.00       209\n",
      "           7       0.00      0.00      0.00       218\n",
      "\n",
      "    accuracy                           0.25      1512\n",
      "   macro avg       0.09      0.25      0.12      1512\n",
      "weighted avg       0.09      0.25      0.13      1512\n",
      "\n",
      "[[204  37   0   0   0   0   0]\n",
      " [ 21 181   0   0   0   0   0]\n",
      " [  0 209   0   0   0   0   0]\n",
      " [  0 209   0   0   0   0   0]\n",
      " [ 15 209   0   0   0   0   0]\n",
      " [  1 208   0   0   0   0   0]\n",
      " [216   2   0   0   0   0   0]]\n"
     ]
    }
   ],
   "source": [
    "y_pred = lgb.predict(X_val)\n",
    "print(accuracy_score(y_val, y_pred))\n",
    "print(classification_report(y_val, y_pred))\n",
    "print(confusion_matrix(y_val, y_pred))"
   ]
  },
  {
   "cell_type": "code",
   "execution_count": 41,
   "metadata": {
    "ExecuteTime": {
     "end_time": "2019-09-12T11:26:05.737872Z",
     "start_time": "2019-09-12T11:26:05.640288Z"
    }
   },
   "outputs": [
    {
     "name": "stdout",
     "output_type": "stream",
     "text": [
      "1.0\n",
      "              precision    recall  f1-score   support\n",
      "\n",
      "           1       1.00      1.00      1.00      1919\n",
      "           2       1.00      1.00      1.00      1958\n",
      "\n",
      "    accuracy                           1.00      3877\n",
      "   macro avg       1.00      1.00      1.00      3877\n",
      "weighted avg       1.00      1.00      1.00      3877\n",
      "\n",
      "[[1919    0]\n",
      " [   0 1958]]\n"
     ]
    }
   ],
   "source": [
    "y_pred = lgb.predict(X_filtered)\n",
    "print(accuracy_score(y_filtered, y_pred))\n",
    "print(classification_report(y_filtered, y_pred))\n",
    "print(confusion_matrix(y_filtered, y_pred))"
   ]
  },
  {
   "cell_type": "markdown",
   "metadata": {},
   "source": [
    "# Mount the ensemble"
   ]
  },
  {
   "cell_type": "code",
   "execution_count": 42,
   "metadata": {
    "ExecuteTime": {
     "end_time": "2019-09-12T11:26:22.049464Z",
     "start_time": "2019-09-12T11:26:22.042426Z"
    }
   },
   "outputs": [],
   "source": [
    "X_, X_val, y_, y_val = train_test_split(X, y, test_size=0.2)"
   ]
  },
  {
   "cell_type": "markdown",
   "metadata": {},
   "source": [
    "### Trees Classifiers and ensemble"
   ]
  },
  {
   "cell_type": "code",
   "execution_count": 43,
   "metadata": {
    "ExecuteTime": {
     "end_time": "2019-09-12T12:18:01.004769Z",
     "start_time": "2019-09-12T12:18:01.002645Z"
    }
   },
   "outputs": [],
   "source": [
    "rf = RandomForestClassifier(n_estimators=200,\n",
    "                            bootstrap=False)\n",
    "# rf.fit(X_, y_)"
   ]
  },
  {
   "cell_type": "code",
   "execution_count": 44,
   "metadata": {
    "ExecuteTime": {
     "end_time": "2019-09-12T12:18:01.364124Z",
     "start_time": "2019-09-12T12:18:01.360869Z"
    }
   },
   "outputs": [],
   "source": [
    "etc = ExtraTreesClassifier(\n",
    "    bootstrap=False,\n",
    "    **{'max_depth': 32, 'n_estimators': 500, 'max_features': 0.4}\n",
    "    )\n",
    "# etc.fit(X_, y_)"
   ]
  },
  {
   "cell_type": "code",
   "execution_count": 45,
   "metadata": {
    "ExecuteTime": {
     "end_time": "2019-09-12T12:18:02.404781Z",
     "start_time": "2019-09-12T12:18:02.402551Z"
    }
   },
   "outputs": [],
   "source": [
    "lgb2 = LGBMClassifier(n_estimators=400,\n",
    "                      num_leaves=100)\n",
    "# lgb2.fit(X_, y_)"
   ]
  },
  {
   "cell_type": "code",
   "execution_count": 46,
   "metadata": {
    "ExecuteTime": {
     "end_time": "2019-09-12T12:18:04.724482Z",
     "start_time": "2019-09-12T12:18:03.715619Z"
    }
   },
   "outputs": [],
   "source": [
    "from mlxtend.classifier import StackingCVClassifier\n",
    "\n",
    "ensemble = [('etc', etc),\n",
    "            ('rf', rf),\n",
    "            ('lgb', lgb2)]\n",
    "\n",
    "stack = StackingCVClassifier(classifiers=[clf for label, clf in ensemble],\n",
    "                             meta_classifier=etc,\n",
    "                             cv=5,\n",
    "                             use_probas=True,\n",
    "                             use_features_in_secondary=True,\n",
    "                             verbose=1,\n",
    "                             random_state=0)"
   ]
  },
  {
   "cell_type": "code",
   "execution_count": 47,
   "metadata": {
    "ExecuteTime": {
     "end_time": "2019-09-12T11:29:17.843918Z",
     "start_time": "2019-09-12T11:26:57.193556Z"
    }
   },
   "outputs": [
    {
     "name": "stdout",
     "output_type": "stream",
     "text": [
      "Fitting 3 classifiers...\n",
      "Fitting classifier1: extratreesclassifier (1/3)\n"
     ]
    },
    {
     "name": "stderr",
     "output_type": "stream",
     "text": [
      "[Parallel(n_jobs=1)]: Using backend SequentialBackend with 1 concurrent workers.\n",
      "[Parallel(n_jobs=1)]: Done   5 out of   5 | elapsed:   36.7s finished\n",
      "[Parallel(n_jobs=1)]: Using backend SequentialBackend with 1 concurrent workers.\n"
     ]
    },
    {
     "name": "stdout",
     "output_type": "stream",
     "text": [
      "Fitting classifier2: randomforestclassifier (2/3)\n"
     ]
    },
    {
     "name": "stderr",
     "output_type": "stream",
     "text": [
      "[Parallel(n_jobs=1)]: Done   5 out of   5 | elapsed:   27.6s finished\n",
      "[Parallel(n_jobs=1)]: Using backend SequentialBackend with 1 concurrent workers.\n"
     ]
    },
    {
     "name": "stdout",
     "output_type": "stream",
     "text": [
      "Fitting classifier3: lgbmclassifier (3/3)\n"
     ]
    },
    {
     "name": "stderr",
     "output_type": "stream",
     "text": [
      "[Parallel(n_jobs=1)]: Done   5 out of   5 | elapsed:  1.2min finished\n"
     ]
    },
    {
     "data": {
      "text/plain": [
       "StackingCVClassifier(classifiers=[ExtraTreesClassifier(bootstrap=False,\n",
       "                                                       class_weight=None,\n",
       "                                                       criterion='gini',\n",
       "                                                       max_depth=32,\n",
       "                                                       max_features=0.4,\n",
       "                                                       max_leaf_nodes=None,\n",
       "                                                       min_impurity_decrease=0.0,\n",
       "                                                       min_impurity_split=None,\n",
       "                                                       min_samples_leaf=1,\n",
       "                                                       min_samples_split=2,\n",
       "                                                       min_weight_fraction_leaf=0.0,\n",
       "                                                       n_estimators=500,\n",
       "                                                       n_jobs=None,\n",
       "                                                       oob_score=False,\n",
       "                                                       random_state=None,\n",
       "                                                       verbose=0,\n",
       "                                                       war...\n",
       "                                                          min_impurity_split=None,\n",
       "                                                          min_samples_leaf=1,\n",
       "                                                          min_samples_split=2,\n",
       "                                                          min_weight_fraction_leaf=0.0,\n",
       "                                                          n_estimators=500,\n",
       "                                                          n_jobs=None,\n",
       "                                                          oob_score=False,\n",
       "                                                          random_state=None,\n",
       "                                                          verbose=0,\n",
       "                                                          warm_start=False),\n",
       "                     n_jobs=None, pre_dispatch='2*n_jobs', random_state=0,\n",
       "                     shuffle=True, store_train_meta_features=False,\n",
       "                     stratify=True, use_clones=True,\n",
       "                     use_features_in_secondary=True, use_probas=True,\n",
       "                     verbose=1)"
      ]
     },
     "execution_count": 47,
     "metadata": {},
     "output_type": "execute_result"
    }
   ],
   "source": [
    "stack.fit(X_, y_)"
   ]
  },
  {
   "cell_type": "code",
   "execution_count": 48,
   "metadata": {
    "ExecuteTime": {
     "end_time": "2019-09-12T11:29:21.093735Z",
     "start_time": "2019-09-12T11:29:17.845318Z"
    }
   },
   "outputs": [
    {
     "name": "stdout",
     "output_type": "stream",
     "text": [
      "0.9992559523809523\n",
      "0.9027777777777778\n"
     ]
    }
   ],
   "source": [
    "print(stack.score(X_, y_))\n",
    "print(stack.score(X_val, y_val))"
   ]
  },
  {
   "cell_type": "code",
   "execution_count": 49,
   "metadata": {
    "ExecuteTime": {
     "end_time": "2019-09-12T11:29:21.999202Z",
     "start_time": "2019-09-12T11:29:21.096021Z"
    }
   },
   "outputs": [
    {
     "name": "stdout",
     "output_type": "stream",
     "text": [
      "[[319  67   0   0   6   2  16]\n",
      " [ 41 334  12   0  22   7   1]\n",
      " [  0   3 366  11   3  28   0]\n",
      " [  0   0   6 459   0   5   0]\n",
      " [  2   6   2   0 445   4   0]\n",
      " [  0   5  22   8   2 391   0]\n",
      " [ 11   2   0   0   0   0 416]]\n",
      "              precision    recall  f1-score   support\n",
      "\n",
      "           1       0.86      0.78      0.81       410\n",
      "           2       0.80      0.80      0.80       417\n",
      "           3       0.90      0.89      0.89       411\n",
      "           4       0.96      0.98      0.97       470\n",
      "           5       0.93      0.97      0.95       459\n",
      "           6       0.89      0.91      0.90       428\n",
      "           7       0.96      0.97      0.97       429\n",
      "\n",
      "    accuracy                           0.90      3024\n",
      "   macro avg       0.90      0.90      0.90      3024\n",
      "weighted avg       0.90      0.90      0.90      3024\n",
      "\n"
     ]
    }
   ],
   "source": [
    "y_pred = stack.predict(X_val)\n",
    "print(confusion_matrix(y_val, y_pred))\n",
    "print(classification_report(y_val, y_pred))"
   ]
  },
  {
   "cell_type": "markdown",
   "metadata": {
    "ExecuteTime": {
     "end_time": "2019-09-11T20:05:11.964752Z",
     "start_time": "2019-09-11T20:05:11.960457Z"
    }
   },
   "source": [
    "### Combinar com classificador da classe 1 x 2"
   ]
  },
  {
   "cell_type": "code",
   "execution_count": 50,
   "metadata": {
    "ExecuteTime": {
     "end_time": "2019-09-12T11:32:50.892874Z",
     "start_time": "2019-09-12T11:32:50.829066Z"
    }
   },
   "outputs": [],
   "source": [
    "y_pred_proba_1x2 = lgb.predict_proba(X_val)"
   ]
  },
  {
   "cell_type": "code",
   "execution_count": 51,
   "metadata": {
    "ExecuteTime": {
     "end_time": "2019-09-12T11:32:52.415653Z",
     "start_time": "2019-09-12T11:32:51.676264Z"
    }
   },
   "outputs": [],
   "source": [
    "y_pred_proba = stack.predict_proba(X_val)"
   ]
  },
  {
   "cell_type": "code",
   "execution_count": 52,
   "metadata": {
    "ExecuteTime": {
     "end_time": "2019-09-12T12:28:13.722499Z",
     "start_time": "2019-09-12T12:28:13.719195Z"
    }
   },
   "outputs": [],
   "source": [
    "def combine_predictions(pred_proba_12, pred_proba):\n",
    "    pred_proba_ensembled = pred_proba.copy()\n",
    "    pred_proba_ensembled[:, :2] = np.clip(pred_proba[:, :2] * (1 + 1.9 * np.log(pred_proba_12 + 0.85)), 0., 1.)\n",
    "    return np.argmax(pred_proba_ensembled, axis = 1) + 1\n",
    "    "
   ]
  },
  {
   "cell_type": "code",
   "execution_count": 53,
   "metadata": {
    "ExecuteTime": {
     "end_time": "2019-09-12T11:38:53.226678Z",
     "start_time": "2019-09-12T11:38:53.218678Z"
    }
   },
   "outputs": [],
   "source": [
    "y_pred_ensembled = combine_predictions(y_pred_proba_1x2, y_pred_proba)"
   ]
  },
  {
   "cell_type": "code",
   "execution_count": 54,
   "metadata": {
    "ExecuteTime": {
     "end_time": "2019-09-12T11:38:53.665558Z",
     "start_time": "2019-09-12T11:38:53.659010Z"
    }
   },
   "outputs": [
    {
     "data": {
      "text/plain": [
       "0.037698412698412696"
      ]
     },
     "execution_count": 54,
     "metadata": {},
     "output_type": "execute_result"
    }
   ],
   "source": [
    "(y_pred_ensembled != y_pred).sum() / len(y_pred)"
   ]
  },
  {
   "cell_type": "code",
   "execution_count": 55,
   "metadata": {
    "ExecuteTime": {
     "end_time": "2019-09-12T11:38:55.579237Z",
     "start_time": "2019-09-12T11:38:55.566308Z"
    }
   },
   "outputs": [
    {
     "name": "stdout",
     "output_type": "stream",
     "text": [
      "0.9292328042328042\n",
      "              precision    recall  f1-score   support\n",
      "\n",
      "           1       0.93      0.91      0.92       410\n",
      "           2       0.89      0.90      0.89       417\n",
      "           3       0.91      0.89      0.90       411\n",
      "           4       0.96      0.98      0.97       470\n",
      "           5       0.94      0.96      0.95       459\n",
      "           6       0.90      0.91      0.90       428\n",
      "           7       0.98      0.96      0.97       429\n",
      "\n",
      "    accuracy                           0.93      3024\n",
      "   macro avg       0.93      0.93      0.93      3024\n",
      "weighted avg       0.93      0.93      0.93      3024\n",
      "\n",
      "[[374  20   0   0   5   2   9]\n",
      " [ 11 374   8   0  17   6   1]\n",
      " [  0   5 364  11   3  28   0]\n",
      " [  0   0   6 459   0   5   0]\n",
      " [  1  13   2   0 439   4   0]\n",
      " [  0   6  22   8   2 390   0]\n",
      " [ 17   2   0   0   0   0 410]]\n"
     ]
    }
   ],
   "source": [
    "print(accuracy_score(y_val, y_pred_ensembled))\n",
    "print(classification_report(y_val, y_pred_ensembled))\n",
    "print(confusion_matrix(y_val, y_pred_ensembled))\n"
   ]
  },
  {
   "cell_type": "markdown",
   "metadata": {
    "ExecuteTime": {
     "end_time": "2019-09-11T20:12:04.643484Z",
     "start_time": "2019-09-11T20:09:03.302352Z"
    }
   },
   "source": [
    "### Fit with all data"
   ]
  },
  {
   "cell_type": "code",
   "execution_count": 56,
   "metadata": {
    "ExecuteTime": {
     "end_time": "2019-09-12T12:18:14.344356Z",
     "start_time": "2019-09-12T12:18:13.245829Z"
    }
   },
   "outputs": [
    {
     "data": {
      "text/plain": [
       "LGBMClassifier(boosting_type='gbdt', bootstrap=False, class_weight=None,\n",
       "               colsample_bytree=1.0, importance_type='split', learning_rate=0.1,\n",
       "               max_depth=20, max_features=0.4, min_child_samples=20,\n",
       "               min_child_weight=0.001, min_split_gain=0.0, n_estimators=900,\n",
       "               n_jobs=-1, num_leaves=31, objective=None, random_state=None,\n",
       "               reg_alpha=0.0, reg_lambda=0.0, silent=True, subsample=1.0,\n",
       "               subsample_for_bin=200000, subsample_freq=0)"
      ]
     },
     "execution_count": 56,
     "metadata": {},
     "output_type": "execute_result"
    }
   ],
   "source": [
    "X_filtered2 = X[y < 3]\n",
    "y_filtered2 = y[y < 3]\n",
    "lgb.fit(X_filtered2, y_filtered2)"
   ]
  },
  {
   "cell_type": "code",
   "execution_count": 57,
   "metadata": {
    "ExecuteTime": {
     "end_time": "2019-09-12T12:20:59.123117Z",
     "start_time": "2019-09-12T12:18:15.233859Z"
    }
   },
   "outputs": [
    {
     "name": "stdout",
     "output_type": "stream",
     "text": [
      "Fitting 3 classifiers...\n",
      "Fitting classifier1: extratreesclassifier (1/3)\n"
     ]
    },
    {
     "name": "stderr",
     "output_type": "stream",
     "text": [
      "[Parallel(n_jobs=1)]: Using backend SequentialBackend with 1 concurrent workers.\n",
      "[Parallel(n_jobs=1)]: Done   5 out of   5 | elapsed:   45.1s finished\n",
      "[Parallel(n_jobs=1)]: Using backend SequentialBackend with 1 concurrent workers.\n"
     ]
    },
    {
     "name": "stdout",
     "output_type": "stream",
     "text": [
      "Fitting classifier2: randomforestclassifier (2/3)\n"
     ]
    },
    {
     "name": "stderr",
     "output_type": "stream",
     "text": [
      "[Parallel(n_jobs=1)]: Done   5 out of   5 | elapsed:   35.7s finished\n",
      "[Parallel(n_jobs=1)]: Using backend SequentialBackend with 1 concurrent workers.\n"
     ]
    },
    {
     "name": "stdout",
     "output_type": "stream",
     "text": [
      "Fitting classifier3: lgbmclassifier (3/3)\n"
     ]
    },
    {
     "name": "stderr",
     "output_type": "stream",
     "text": [
      "[Parallel(n_jobs=1)]: Done   5 out of   5 | elapsed:  1.3min finished\n"
     ]
    },
    {
     "data": {
      "text/plain": [
       "StackingCVClassifier(classifiers=[ExtraTreesClassifier(bootstrap=False,\n",
       "                                                       class_weight=None,\n",
       "                                                       criterion='gini',\n",
       "                                                       max_depth=32,\n",
       "                                                       max_features=0.4,\n",
       "                                                       max_leaf_nodes=None,\n",
       "                                                       min_impurity_decrease=0.0,\n",
       "                                                       min_impurity_split=None,\n",
       "                                                       min_samples_leaf=1,\n",
       "                                                       min_samples_split=2,\n",
       "                                                       min_weight_fraction_leaf=0.0,\n",
       "                                                       n_estimators=500,\n",
       "                                                       n_jobs=None,\n",
       "                                                       oob_score=False,\n",
       "                                                       random_state=None,\n",
       "                                                       verbose=0,\n",
       "                                                       war...\n",
       "                                                          min_impurity_split=None,\n",
       "                                                          min_samples_leaf=1,\n",
       "                                                          min_samples_split=2,\n",
       "                                                          min_weight_fraction_leaf=0.0,\n",
       "                                                          n_estimators=500,\n",
       "                                                          n_jobs=None,\n",
       "                                                          oob_score=False,\n",
       "                                                          random_state=None,\n",
       "                                                          verbose=0,\n",
       "                                                          warm_start=False),\n",
       "                     n_jobs=None, pre_dispatch='2*n_jobs', random_state=0,\n",
       "                     shuffle=True, store_train_meta_features=False,\n",
       "                     stratify=True, use_clones=True,\n",
       "                     use_features_in_secondary=True, use_probas=True,\n",
       "                     verbose=1)"
      ]
     },
     "execution_count": 57,
     "metadata": {},
     "output_type": "execute_result"
    }
   ],
   "source": [
    "stack.fit(X, y)"
   ]
  },
  {
   "cell_type": "code",
   "execution_count": 58,
   "metadata": {
    "ExecuteTime": {
     "end_time": "2019-09-12T11:46:25.867817Z",
     "start_time": "2019-09-12T11:46:25.078454Z"
    }
   },
   "outputs": [
    {
     "name": "stdout",
     "output_type": "stream",
     "text": [
      "[[410   0   0   0   0   0   0]\n",
      " [  0 417   0   0   0   0   0]\n",
      " [  0   0 411   0   0   0   0]\n",
      " [  0   0   0 470   0   0   0]\n",
      " [  0   1   0   0 458   0   0]\n",
      " [  0   0   0   0   0 428   0]\n",
      " [  0   0   0   0   0   0 429]]\n",
      "              precision    recall  f1-score   support\n",
      "\n",
      "           1       1.00      1.00      1.00       410\n",
      "           2       1.00      1.00      1.00       417\n",
      "           3       1.00      1.00      1.00       411\n",
      "           4       1.00      1.00      1.00       470\n",
      "           5       1.00      1.00      1.00       459\n",
      "           6       1.00      1.00      1.00       428\n",
      "           7       1.00      1.00      1.00       429\n",
      "\n",
      "    accuracy                           1.00      3024\n",
      "   macro avg       1.00      1.00      1.00      3024\n",
      "weighted avg       1.00      1.00      1.00      3024\n",
      "\n"
     ]
    }
   ],
   "source": [
    "y_pred_proba = stack.predict_proba(X_val)\n",
    "y_pred_proba_12 = lgb.predict_proba(X_val)\n",
    "y_ensembled = combine_predictions(y_pred_proba_12, y_pred_proba)\n",
    "print(confusion_matrix(y_val, y_ensembled))\n",
    "print(classification_report(y_val, y_ensembled))"
   ]
  },
  {
   "cell_type": "markdown",
   "metadata": {},
   "source": [
    "## Predictions"
   ]
  },
  {
   "cell_type": "code",
   "execution_count": 59,
   "metadata": {
    "ExecuteTime": {
     "end_time": "2019-09-12T11:46:55.401276Z",
     "start_time": "2019-09-12T11:46:55.398313Z"
    }
   },
   "outputs": [
    {
     "name": "stdout",
     "output_type": "stream",
     "text": [
      "(565892, 35)\n"
     ]
    }
   ],
   "source": [
    "print(X_test.shape)"
   ]
  },
  {
   "cell_type": "code",
   "execution_count": 60,
   "metadata": {
    "ExecuteTime": {
     "end_time": "2019-09-12T12:21:06.096447Z",
     "start_time": "2019-09-12T12:20:59.124921Z"
    }
   },
   "outputs": [],
   "source": [
    "test_pred_proba_12 = lgb.predict_proba(X_test)"
   ]
  },
  {
   "cell_type": "code",
   "execution_count": 61,
   "metadata": {
    "ExecuteTime": {
     "end_time": "2019-09-12T12:22:51.351404Z",
     "start_time": "2019-09-12T12:21:06.097927Z"
    }
   },
   "outputs": [],
   "source": [
    "test_pred_proba = stack.predict_proba(X_test)"
   ]
  },
  {
   "cell_type": "code",
   "execution_count": 62,
   "metadata": {
    "ExecuteTime": {
     "end_time": "2019-09-12T12:29:43.655213Z",
     "start_time": "2019-09-12T12:29:43.594968Z"
    }
   },
   "outputs": [],
   "source": [
    "test_pred = combine_predictions(test_pred_proba_12, test_pred_proba)"
   ]
  },
  {
   "cell_type": "code",
   "execution_count": 63,
   "metadata": {
    "ExecuteTime": {
     "end_time": "2019-09-12T12:29:47.841357Z",
     "start_time": "2019-09-12T12:29:46.708004Z"
    }
   },
   "outputs": [],
   "source": [
    "# Save test predictions to file\n",
    "output = pd.DataFrame({'ID': test_ids,\n",
    "                       'Cover_Type': test_pred})\n",
    "output.to_csv('submission.csv', index=False)"
   ]
  },
  {
   "cell_type": "code",
   "execution_count": null,
   "metadata": {
    "ExecuteTime": {
     "end_time": "2019-09-12T12:25:27.791429Z",
     "start_time": "2019-09-12T12:23:37.421905Z"
    }
   },
   "outputs": [],
   "source": [
    "# Submit only stack\n",
    "test_pred_stack = stack.predict(X_test)\n",
    "# Save test predictions to file\n",
    "output = pd.DataFrame({'ID': test_ids,\n",
    "                       'Cover_Type': test_pred_stack})\n",
    "output.to_csv('submission_stack.csv', index=False)"
   ]
  },
  {
   "cell_type": "code",
   "execution_count": null,
   "metadata": {},
   "outputs": [],
   "source": []
  }
 ],
 "metadata": {
  "kernelspec": {
   "display_name": "Python 3",
   "language": "python",
   "name": "python3"
  },
  "language_info": {
   "codemirror_mode": {
    "name": "ipython",
    "version": 3
   },
   "file_extension": ".py",
   "mimetype": "text/x-python",
   "name": "python",
   "nbconvert_exporter": "python",
   "pygments_lexer": "ipython3",
   "version": "3.5.2"
  }
 },
 "nbformat": 4,
 "nbformat_minor": 1
}
